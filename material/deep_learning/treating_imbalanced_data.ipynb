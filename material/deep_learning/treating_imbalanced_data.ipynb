{
  "nbformat": 4,
  "nbformat_minor": 0,
  "metadata": {
    "colab": {
      "name": "treating_imbalanced_data.ipynb",
      "provenance": [],
      "collapsed_sections": [],
      "toc_visible": true
    },
    "kernelspec": {
      "name": "python3",
      "display_name": "Python 3"
    },
    "accelerator": "GPU"
  },
  "cells": [
    {
      "cell_type": "code",
      "source": [
        "import numpy as np\n",
        "import pandas as pd\n",
        "import matplotlib.pyplot as plt\n",
        "import seaborn as sns\n",
        "from pandas import DataFrame\n",
        "\n",
        "import tensorflow as tf\n",
        "from tensorflow import keras\n",
        "\n",
        "from tensorflow.keras import optimizers\n",
        "from tensorflow.keras.layers import Dense, Input\n",
        "from tensorflow.keras import Sequential"
      ],
      "metadata": {
        "id": "BXZSqC0Od0bY"
      },
      "execution_count": null,
      "outputs": []
    },
    {
      "cell_type": "markdown",
      "source": [
        "# 데이터 준비"
      ],
      "metadata": {
        "id": "JBDsVPeXjutv"
      }
    },
    {
      "cell_type": "code",
      "source": [
        "from sklearn.datasets import make_moons\n",
        "\n",
        "\n",
        "# 데이터 생성\n",
        "base_x, base_y = make_moons(n_samples=(1000,50), noise=0.2, random_state=32)\n",
        "\n",
        "\n",
        "# 데이터 그림 그리기\n",
        "df = DataFrame(dict(x=base_x[:,0], y=base_x[:,1], label=base_y))\n",
        "colors = {0:'red', 1:'blue'}\n",
        "fig, ax = plt.subplots()\n",
        "grouped = df.groupby('label')\n",
        "for key, group in grouped:\n",
        "    group.plot(ax=ax, kind='scatter', x='x', y='y', label=key, color=colors[key])\n",
        "plt.show()\n"
      ],
      "metadata": {
        "colab": {
          "base_uri": "https://localhost:8080/",
          "height": 279
        },
        "id": "BcFKzVpadvAR",
        "outputId": "116c4134-2fba-439a-856b-b877e793e1f5"
      },
      "execution_count": null,
      "outputs": [
        {
          "output_type": "display_data",
          "data": {
            "image/png": "[encoded data removed]",
            "text/plain": [
              "<Figure size 432x288 with 1 Axes>"
            ]
          },
          "metadata": {
            "needs_background": "light"
          }
        }
      ]
    },
    {
      "cell_type": "markdown",
      "source": [
        "# 공통 실행 함수"
      ],
      "metadata": {
        "id": "psWnHrlxq3gV"
      }
    },
    {
      "cell_type": "code",
      "source": [
        "from sklearn.model_selection import train_test_split\n",
        "from sklearn.metrics import classification_report\n",
        "from sklearn.metrics import confusion_matrix\n",
        "from sklearn.metrics import classification_report\n",
        "\n",
        "CLASS_0_LABEL = 0\n",
        "CLASS_1_LABEL = 1\n",
        "DEFAULT_CLASS_WEIGHT = {CLASS_0_LABEL:1.0, CLASS_1_LABEL:1.0}\n",
        "\n",
        "def do_classify(x, y, class_weight=DEFAULT_CLASS_WEIGHT):\n",
        "\n",
        "    train_x, test_x, train_y, test_y = train_test_split(x, y, test_size=0.3)\n",
        "\n",
        "    model = Sequential()\n",
        "    model.add(Input(2))\n",
        "    model.add(Dense(20, activation='relu'))\n",
        "    model.add(Dense(20, activation='relu'))\n",
        "    model.add(Dense(2, activation=\"softmax\"))\n",
        "    model.compile(optimizer='Adam', loss='sparse_categorical_crossentropy', metrics=[\"acc\"])\n",
        "\n",
        "    base_history = model.fit(\n",
        "        train_x, train_y, epochs=100, batch_size=128, verbose=0, validation_split=0.2,\n",
        "        class_weight=class_weight\n",
        "    )\n",
        "\n",
        "\n",
        "    plt.plot(base_history.history['loss'], label='train_loss')\n",
        "    plt.plot(base_history.history['val_loss'], label='val_loss')\n",
        "    plt.legend()\n",
        "    plt.show()\n",
        "\n",
        "    loss, acc = model.evaluate(test_x, test_y)\n",
        "    print(\"loss=\", loss)\n",
        "    print(\"acc=\", acc)\n",
        "\n",
        "\n",
        "    y_ = model.predict(test_x)\n",
        "    predicted = np.argmax(y_, axis=-1)\n",
        "\n",
        "\n",
        "    cm = confusion_matrix(test_y, predicted)\n",
        "    print(cm)\n",
        "    sns.heatmap(cm, annot=True, fmt=\"d\")\n",
        "\n",
        "    print(classification_report(test_y, predicted))\n",
        "    "
      ],
      "metadata": {
        "id": "y2_lg1lsmvyh"
      },
      "execution_count": null,
      "outputs": []
    },
    {
      "cell_type": "markdown",
      "source": [
        "# 처리 하지 않았을 때"
      ],
      "metadata": {
        "id": "_js1lcQFjsoB"
      }
    },
    {
      "cell_type": "code",
      "source": [
        "x = base_x.copy()\n",
        "y = base_y.copy()\n",
        "\n",
        "do_classify(x, y)"
      ],
      "metadata": {
        "colab": {
          "base_uri": "https://localhost:8080/",
          "height": 760
        },
        "id": "yy7sk-GEms2R",
        "outputId": "35d62854-b2a6-4a8c-b940-51d96546372c"
      },
      "execution_count": null,
      "outputs": [
        {
          "output_type": "display_data",
          "data": {
            "image/png": "[encoded data removed]",
            "text/plain": [
              "<Figure size 432x288 with 1 Axes>"
            ]
          },
          "metadata": {
            "needs_background": "light"
          }
        },
        {
          "output_type": "stream",
          "name": "stdout",
          "text": [
            "10/10 [==============================] - 0s 2ms/step - loss: 0.0837 - acc: 0.9683\n",
            "loss= 0.08371222764253616\n",
            "acc= 0.9682539701461792\n",
            "[[300   4]\n",
            " [  6   5]]\n",
            "              precision    recall  f1-score   support\n",
            "\n",
            "           0       0.98      0.99      0.98       304\n",
            "           1       0.56      0.45      0.50        11\n",
            "\n",
            "    accuracy                           0.97       315\n",
            "   macro avg       0.77      0.72      0.74       315\n",
            "weighted avg       0.97      0.97      0.97       315\n",
            "\n"
          ]
        },
        {
          "output_type": "display_data",
          "data": {
            "image/png": "[encoded data removed]",
            "text/plain": [
              "<Figure size 432x288 with 2 Axes>"
            ]
          },
          "metadata": {
            "needs_background": "light"
          }
        }
      ]
    },
    {
      "cell_type": "markdown",
      "source": [
        "# 오버샘플링"
      ],
      "metadata": {
        "id": "zvSo0M4CjxsU"
      }
    },
    {
      "cell_type": "code",
      "source": [
        "x = base_x.copy()\n",
        "y = base_y.copy()"
      ],
      "metadata": {
        "id": "-3j5qyVYkfVX"
      },
      "execution_count": null,
      "outputs": []
    },
    {
      "cell_type": "code",
      "source": [
        "class0_x = x[y==0]\n",
        "class0_y = y[y==0]\n",
        "class1_x = x[y==1]\n",
        "class1_y = y[y==1]\n",
        "\n",
        "print(len(class0_x), len(class1_x))\n",
        "imbalance_ratio = int(len(class0_x)/len(class1_x))\n",
        "print(imbalance_ratio)"
      ],
      "metadata": {
        "colab": {
          "base_uri": "https://localhost:8080/"
        },
        "id": "ZeGsUTTAdutu",
        "outputId": "4a239f8b-e330-4f7f-c287-c45e1d7e2c99"
      },
      "execution_count": null,
      "outputs": [
        {
          "output_type": "stream",
          "name": "stdout",
          "text": [
            "1000 50\n",
            "20\n"
          ]
        }
      ]
    },
    {
      "cell_type": "code",
      "source": [
        "class1_x = np.repeat(class1_x, imbalance_ratio, axis=0)\n",
        "class1_y = np.repeat(class1_y, imbalance_ratio, axis=0)\n",
        "print(len(class1_x))"
      ],
      "metadata": {
        "colab": {
          "base_uri": "https://localhost:8080/"
        },
        "id": "2fJVv7x1durK",
        "outputId": "e53d13c0-5c05-4f08-b36f-127eda126137"
      },
      "execution_count": null,
      "outputs": [
        {
          "output_type": "stream",
          "name": "stdout",
          "text": [
            "1000\n"
          ]
        }
      ]
    },
    {
      "cell_type": "code",
      "source": [
        "print(x.shape)\n",
        "print(class1_x.shape)\n",
        "print(y.shape)\n",
        "print(class1_y.shape)"
      ],
      "metadata": {
        "colab": {
          "base_uri": "https://localhost:8080/"
        },
        "id": "02OqivCmduk9",
        "outputId": "234a7e0c-09eb-4498-8b1e-1c4568f286dd"
      },
      "execution_count": null,
      "outputs": [
        {
          "output_type": "stream",
          "name": "stdout",
          "text": [
            "(1050, 2)\n",
            "(1000, 2)\n",
            "(1050,)\n",
            "(1000,)\n"
          ]
        }
      ]
    },
    {
      "cell_type": "code",
      "source": [
        "x = np.vstack([class0_x, class1_x])\n",
        "y = np.hstack([class0_y, class1_y])\n",
        "print(x.shape)\n",
        "print(y.shape)"
      ],
      "metadata": {
        "colab": {
          "base_uri": "https://localhost:8080/"
        },
        "id": "Bz64kcBil2_s",
        "outputId": "12132c59-24b9-4613-c143-647df46147c7"
      },
      "execution_count": null,
      "outputs": [
        {
          "output_type": "stream",
          "name": "stdout",
          "text": [
            "(2000, 2)\n",
            "(2000,)\n"
          ]
        }
      ]
    },
    {
      "cell_type": "code",
      "source": [
        "do_classify(x, y)"
      ],
      "metadata": {
        "colab": {
          "base_uri": "https://localhost:8080/",
          "height": 756
        },
        "id": "vebV5awImqRv",
        "outputId": "3d708654-038b-4480-cb2d-1bb4b7009553"
      },
      "execution_count": null,
      "outputs": [
        {
          "output_type": "display_data",
          "data": {
            "image/png": "[encoded data removed]",
            "text/plain": [
              "<Figure size 432x288 with 1 Axes>"
            ]
          },
          "metadata": {
            "needs_background": "light"
          }
        },
        {
          "output_type": "stream",
          "name": "stdout",
          "text": [
            "19/19 [==============================] - 0s 2ms/step - loss: 0.1778 - acc: 0.9367\n",
            "loss= 0.17778272926807404\n",
            "acc= 0.9366666674613953\n",
            "[[280  14]\n",
            " [ 24 282]]\n",
            "              precision    recall  f1-score   support\n",
            "\n",
            "           0       0.92      0.95      0.94       294\n",
            "           1       0.95      0.92      0.94       306\n",
            "\n",
            "    accuracy                           0.94       600\n",
            "   macro avg       0.94      0.94      0.94       600\n",
            "weighted avg       0.94      0.94      0.94       600\n",
            "\n"
          ]
        },
        {
          "output_type": "display_data",
          "data": {
            "image/png": "[encoded data removed]",
            "text/plain": [
              "<Figure size 432x288 with 2 Axes>"
            ]
          },
          "metadata": {
            "needs_background": "light"
          }
        }
      ]
    },
    {
      "cell_type": "code",
      "source": [
        ""
      ],
      "metadata": {
        "id": "hKerD0sYmqO9"
      },
      "execution_count": null,
      "outputs": []
    },
    {
      "cell_type": "markdown",
      "source": [
        "# 언더샘플링"
      ],
      "metadata": {
        "id": "z_gObmFtne9z"
      }
    },
    {
      "cell_type": "code",
      "source": [
        "x = base_x.copy()\n",
        "y = base_y.copy()"
      ],
      "metadata": {
        "id": "7RyEjX1une96"
      },
      "execution_count": null,
      "outputs": []
    },
    {
      "cell_type": "code",
      "source": [
        "class0_x = x[y==0]\n",
        "class0_y = y[y==0]\n",
        "class1_x = x[y==1]\n",
        "class1_y = y[y==1]\n",
        "\n",
        "print(len(class0_x), len(class1_x))\n",
        "class1_count = len(class1_x)\n",
        "print(class1_count)"
      ],
      "metadata": {
        "colab": {
          "base_uri": "https://localhost:8080/"
        },
        "outputId": "aa0739b7-ea83-4767-dffb-c4850e851ffe",
        "id": "gpQHxVFUne97"
      },
      "execution_count": null,
      "outputs": [
        {
          "output_type": "stream",
          "name": "stdout",
          "text": [
            "1000 50\n",
            "50\n"
          ]
        }
      ]
    },
    {
      "cell_type": "code",
      "source": [
        "class0_x = class0_x[:class1_count]\n",
        "class0_y = class0_y[:class1_count]\n",
        "\n",
        "print(len(class0_x), len(class1_x))"
      ],
      "metadata": {
        "colab": {
          "base_uri": "https://localhost:8080/"
        },
        "outputId": "b1db8b6a-c45f-450a-e20e-144a331d4f5a",
        "id": "M3DrIAeDne97"
      },
      "execution_count": null,
      "outputs": [
        {
          "output_type": "stream",
          "name": "stdout",
          "text": [
            "50 50\n"
          ]
        }
      ]
    },
    {
      "cell_type": "code",
      "source": [
        "x = np.vstack([class0_x, class1_x])\n",
        "y = np.hstack([class0_y, class1_y])\n",
        "print(x.shape)\n",
        "print(y.shape)"
      ],
      "metadata": {
        "colab": {
          "base_uri": "https://localhost:8080/"
        },
        "outputId": "b83c7586-1804-4d6b-f695-56ff211cfcca",
        "id": "oRrLGTzyne98"
      },
      "execution_count": null,
      "outputs": [
        {
          "output_type": "stream",
          "name": "stdout",
          "text": [
            "(100, 2)\n",
            "(100,)\n"
          ]
        }
      ]
    },
    {
      "cell_type": "code",
      "source": [
        "do_classify(x, y)"
      ],
      "metadata": {
        "colab": {
          "base_uri": "https://localhost:8080/",
          "height": 760
        },
        "outputId": "1c486c6d-69cd-4d8f-fa94-27755c5fed2a",
        "id": "9NLJHIunne98"
      },
      "execution_count": null,
      "outputs": [
        {
          "output_type": "display_data",
          "data": {
            "image/png": "[encoded data removed]",
            "text/plain": [
              "<Figure size 432x288 with 1 Axes>"
            ]
          },
          "metadata": {
            "needs_background": "light"
          }
        },
        {
          "output_type": "stream",
          "name": "stdout",
          "text": [
            "1/1 [==============================] - 0s 18ms/step - loss: 0.5036 - acc: 0.7333\n",
            "loss= 0.5035920739173889\n",
            "acc= 0.7333333492279053\n",
            "[[10  3]\n",
            " [ 5 12]]\n",
            "              precision    recall  f1-score   support\n",
            "\n",
            "           0       0.67      0.77      0.71        13\n",
            "           1       0.80      0.71      0.75        17\n",
            "\n",
            "    accuracy                           0.73        30\n",
            "   macro avg       0.73      0.74      0.73        30\n",
            "weighted avg       0.74      0.73      0.73        30\n",
            "\n"
          ]
        },
        {
          "output_type": "display_data",
          "data": {
            "image/png": "[encoded data removed]",
            "text/plain": [
              "<Figure size 432x288 with 2 Axes>"
            ]
          },
          "metadata": {
            "needs_background": "light"
          }
        }
      ]
    },
    {
      "cell_type": "markdown",
      "source": [
        "# class weight"
      ],
      "metadata": {
        "id": "a-YXDLeCobl4"
      }
    },
    {
      "cell_type": "code",
      "source": [
        "x = base_x.copy()\n",
        "y = base_y.copy()"
      ],
      "metadata": {
        "id": "r7Y8jKlQpA5I"
      },
      "execution_count": null,
      "outputs": []
    },
    {
      "cell_type": "code",
      "source": [
        "from sklearn.utils.class_weight import compute_class_weight\n",
        "classes = np.unique(y)\n",
        "print(classes)\n",
        "\n",
        "class_weight_ratio = compute_class_weight(\n",
        "    class_weight=\"balanced\", classes=classes, y=y.squeeze())\n",
        "print(class_weight_ratio)\n",
        "\n",
        "class_weight = { k:v for k, v in zip(classes, class_weight_ratio) }\n",
        "print(class_weight)"
      ],
      "metadata": {
        "colab": {
          "base_uri": "https://localhost:8080/"
        },
        "id": "Fehe02nJobY8",
        "outputId": "a392052c-5e83-4cc0-ae2e-20e0708e6d9f"
      },
      "execution_count": null,
      "outputs": [
        {
          "output_type": "stream",
          "name": "stdout",
          "text": [
            "[0 1]\n",
            "[ 0.525 10.5  ]\n",
            "{0: 0.525, 1: 10.5}\n"
          ]
        }
      ]
    },
    {
      "cell_type": "code",
      "source": [
        "do_classify(x, y, class_weight)"
      ],
      "metadata": {
        "colab": {
          "base_uri": "https://localhost:8080/",
          "height": 756
        },
        "id": "P4Dfa_00pqvY",
        "outputId": "241ef949-5443-4bcb-97dc-9ce11445e96d"
      },
      "execution_count": null,
      "outputs": [
        {
          "output_type": "display_data",
          "data": {
            "image/png": "[encoded data removed]",
            "text/plain": [
              "<Figure size 432x288 with 1 Axes>"
            ]
          },
          "metadata": {
            "needs_background": "light"
          }
        },
        {
          "output_type": "stream",
          "name": "stdout",
          "text": [
            "10/10 [==============================] - 0s 2ms/step - loss: 0.3229 - acc: 0.8952\n",
            "loss= 0.32285207509994507\n",
            "acc= 0.8952381014823914\n",
            "[[275  31]\n",
            " [  2   7]]\n",
            "              precision    recall  f1-score   support\n",
            "\n",
            "           0       0.99      0.90      0.94       306\n",
            "           1       0.18      0.78      0.30         9\n",
            "\n",
            "    accuracy                           0.90       315\n",
            "   macro avg       0.59      0.84      0.62       315\n",
            "weighted avg       0.97      0.90      0.92       315\n",
            "\n"
          ]
        },
        {
          "output_type": "display_data",
          "data": {
            "image/png": "[encoded data removed]",
            "text/plain": [
              "<Figure size 432x288 with 2 Axes>"
            ]
          },
          "metadata": {
            "needs_background": "light"
          }
        }
      ]
    }
  ]
}