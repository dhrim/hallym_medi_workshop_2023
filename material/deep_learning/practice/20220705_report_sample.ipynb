{
  "cells": [
    {
      "cell_type": "code",
      "execution_count": null,
      "metadata": {
        "id": "VFYQpI5esuGi"
      },
      "outputs": [],
      "source": [
        ""
      ]
    },
    {
      "cell_type": "markdown",
      "metadata": {
        "id": "i78Vp3vgtPMf"
      },
      "source": [
        "# 데이터 준비"
      ]
    },
    {
      "cell_type": "markdown",
      "metadata": {
        "id": "z1tLSwAXs1IF"
      },
      "source": [
        "28577_36420_compressed_fer2013.csv.zip 파일을 https://www.kaggle.com/deadskull7/fer2013 에서 다운 받은 후에 google drive의 tmp(미리 생성한)폴더에 올린다.\n",
        "\n",
        "\n",
        "데이터 로딩하고 준비하는 코드는 https://github.com/SagarPatel98/Human-Facial-Emotion-Recognition---Keras/blob/master/Facial%20Recognition.ipynb 에서 가져왔다."
      ]
    },
    {
      "cell_type": "markdown",
      "metadata": {
        "id": "BtA-JjLKuY-v"
      },
      "source": [
        "## 다운로드"
      ]
    },
    {
      "cell_type": "code",
      "execution_count": null,
      "metadata": {
        "colab": {
          "base_uri": "https://localhost:8080/"
        },
        "id": "R2olB3mCsxzz",
        "outputId": "acc52dfe-db54-42f1-bef6-a0e8a9928781"
      },
      "outputs": [
        {
          "output_type": "stream",
          "name": "stdout",
          "text": [
            "Mounted at /content/drive\n"
          ]
        }
      ],
      "source": [
        "from google.colab import drive\n",
        "drive.mount('/content/drive')"
      ]
    },
    {
      "cell_type": "code",
      "execution_count": null,
      "metadata": {
        "id": "m_RcWHfOtJYR"
      },
      "outputs": [],
      "source": [
        "!cp '/content/drive/MyDrive/tmp/fer2013.csv.zip' ./"
      ]
    },
    {
      "cell_type": "code",
      "execution_count": null,
      "metadata": {
        "colab": {
          "base_uri": "https://localhost:8080/"
        },
        "id": "7ooLLevbs9db",
        "outputId": "26a89c53-0cab-48e7-a6ce-d1883e9ca835"
      },
      "outputs": [
        {
          "output_type": "stream",
          "name": "stdout",
          "text": [
            "Archive:  fer2013.csv.zip\n",
            "  inflating: fer2013.csv             \n"
          ]
        }
      ],
      "source": [
        "!unzip fer2013.csv.zip"
      ]
    },
    {
      "cell_type": "markdown",
      "metadata": {
        "id": "uUoFw3QGubby"
      },
      "source": [
        "## 살펴보기"
      ]
    },
    {
      "cell_type": "code",
      "execution_count": null,
      "metadata": {
        "id": "ibXH_sbQtmPY"
      },
      "outputs": [],
      "source": [
        "import numpy as np\n",
        "import pandas as pd\n",
        "from matplotlib import pyplot as plt\n",
        "\n",
        "from matplotlib.colors import ListedColormap\n",
        "import seaborn as sns\n",
        "\n",
        "import cv2"
      ]
    },
    {
      "cell_type": "code",
      "execution_count": null,
      "metadata": {
        "colab": {
          "base_uri": "https://localhost:8080/",
          "height": 206
        },
        "id": "HmNTyQZYtsh0",
        "outputId": "9ef96405-9670-47a7-ae68-17c3ced0d274"
      },
      "outputs": [
        {
          "output_type": "execute_result",
          "data": {
            "text/plain": [
              "   emotion                                             pixels     Usage\n",
              "0        0  70 80 82 72 58 58 60 63 54 58 60 48 89 115 121...  Training\n",
              "1        0  151 150 147 155 148 133 111 140 170 174 182 15...  Training\n",
              "2        2  231 212 156 164 174 138 161 173 182 200 106 38...  Training\n",
              "3        4  24 32 36 30 32 23 19 20 30 41 21 22 32 34 21 1...  Training\n",
              "4        6  4 0 0 0 0 0 0 0 0 0 0 0 3 15 23 28 48 50 58 84...  Training"
            ],
            "text/html": [
              "\n",
              "  <div id=\"df-90f673d0-6796-4b0d-9cc1-ebde27c4101b\">\n",
              "    <div class=\"colab-df-container\">\n",
              "      <div>\n",
              "<style scoped>\n",
              "    .dataframe tbody tr th:only-of-type {\n",
              "        vertical-align: middle;\n",
              "    }\n",
              "\n",
              "    .dataframe tbody tr th {\n",
              "        vertical-align: top;\n",
              "    }\n",
              "\n",
              "    .dataframe thead th {\n",
              "        text-align: right;\n",
              "    }\n",
              "</style>\n",
              "<table border=\"1\" class=\"dataframe\">\n",
              "  <thead>\n",
              "    <tr style=\"text-align: right;\">\n",
              "      <th></th>\n",
              "      <th>emotion</th>\n",
              "      <th>pixels</th>\n",
              "      <th>Usage</th>\n",
              "    </tr>\n",
              "  </thead>\n",
              "  <tbody>\n",
              "    <tr>\n",
              "      <th>0</th>\n",
              "      <td>0</td>\n",
              "      <td>70 80 82 72 58 58 60 63 54 58 60 48 89 115 121...</td>\n",
              "      <td>Training</td>\n",
              "    </tr>\n",
              "    <tr>\n",
              "      <th>1</th>\n",
              "      <td>0</td>\n",
              "      <td>151 150 147 155 148 133 111 140 170 174 182 15...</td>\n",
              "      <td>Training</td>\n",
              "    </tr>\n",
              "    <tr>\n",
              "      <th>2</th>\n",
              "      <td>2</td>\n",
              "      <td>231 212 156 164 174 138 161 173 182 200 106 38...</td>\n",
              "      <td>Training</td>\n",
              "    </tr>\n",
              "    <tr>\n",
              "      <th>3</th>\n",
              "      <td>4</td>\n",
              "      <td>24 32 36 30 32 23 19 20 30 41 21 22 32 34 21 1...</td>\n",
              "      <td>Training</td>\n",
              "    </tr>\n",
              "    <tr>\n",
              "      <th>4</th>\n",
              "      <td>6</td>\n",
              "      <td>4 0 0 0 0 0 0 0 0 0 0 0 3 15 23 28 48 50 58 84...</td>\n",
              "      <td>Training</td>\n",
              "    </tr>\n",
              "  </tbody>\n",
              "</table>\n",
              "</div>\n",
              "      <button class=\"colab-df-convert\" onclick=\"convertToInteractive('df-90f673d0-6796-4b0d-9cc1-ebde27c4101b')\"\n",
              "              title=\"Convert this dataframe to an interactive table.\"\n",
              "              style=\"display:none;\">\n",
              "        \n",
              "  <svg xmlns=\"http://www.w3.org/2000/svg\" height=\"24px\"viewBox=\"0 0 24 24\"\n",
              "       width=\"24px\">\n",
              "    <path d=\"M0 0h24v24H0V0z\" fill=\"none\"/>\n",
              "    <path d=\"M18.56 5.44l.94 2.06.94-2.06 2.06-.94-2.06-.94-.94-2.06-.94 2.06-2.06.94zm-11 1L8.5 8.5l.94-2.06 2.06-.94-2.06-.94L8.5 2.5l-.94 2.06-2.06.94zm10 10l.94 2.06.94-2.06 2.06-.94-2.06-.94-.94-2.06-.94 2.06-2.06.94z\"/><path d=\"M17.41 7.96l-1.37-1.37c-.4-.4-.92-.59-1.43-.59-.52 0-1.04.2-1.43.59L10.3 9.45l-7.72 7.72c-.78.78-.78 2.05 0 2.83L4 21.41c.39.39.9.59 1.41.59.51 0 1.02-.2 1.41-.59l7.78-7.78 2.81-2.81c.8-.78.8-2.07 0-2.86zM5.41 20L4 18.59l7.72-7.72 1.47 1.35L5.41 20z\"/>\n",
              "  </svg>\n",
              "      </button>\n",
              "      \n",
              "  <style>\n",
              "    .colab-df-container {\n",
              "      display:flex;\n",
              "      flex-wrap:wrap;\n",
              "      gap: 12px;\n",
              "    }\n",
              "\n",
              "    .colab-df-convert {\n",
              "      background-color: #E8F0FE;\n",
              "      border: none;\n",
              "      border-radius: 50%;\n",
              "      cursor: pointer;\n",
              "      display: none;\n",
              "      fill: #1967D2;\n",
              "      height: 32px;\n",
              "      padding: 0 0 0 0;\n",
              "      width: 32px;\n",
              "    }\n",
              "\n",
              "    .colab-df-convert:hover {\n",
              "      background-color: #E2EBFA;\n",
              "      box-shadow: 0px 1px 2px rgba(60, 64, 67, 0.3), 0px 1px 3px 1px rgba(60, 64, 67, 0.15);\n",
              "      fill: #174EA6;\n",
              "    }\n",
              "\n",
              "    [theme=dark] .colab-df-convert {\n",
              "      background-color: #3B4455;\n",
              "      fill: #D2E3FC;\n",
              "    }\n",
              "\n",
              "    [theme=dark] .colab-df-convert:hover {\n",
              "      background-color: #434B5C;\n",
              "      box-shadow: 0px 1px 3px 1px rgba(0, 0, 0, 0.15);\n",
              "      filter: drop-shadow(0px 1px 2px rgba(0, 0, 0, 0.3));\n",
              "      fill: #FFFFFF;\n",
              "    }\n",
              "  </style>\n",
              "\n",
              "      <script>\n",
              "        const buttonEl =\n",
              "          document.querySelector('#df-90f673d0-6796-4b0d-9cc1-ebde27c4101b button.colab-df-convert');\n",
              "        buttonEl.style.display =\n",
              "          google.colab.kernel.accessAllowed ? 'block' : 'none';\n",
              "\n",
              "        async function convertToInteractive(key) {\n",
              "          const element = document.querySelector('#df-90f673d0-6796-4b0d-9cc1-ebde27c4101b');\n",
              "          const dataTable =\n",
              "            await google.colab.kernel.invokeFunction('convertToInteractive',\n",
              "                                                     [key], {});\n",
              "          if (!dataTable) return;\n",
              "\n",
              "          const docLinkHtml = 'Like what you see? Visit the ' +\n",
              "            '<a target=\"_blank\" href=https://colab.research.google.com/notebooks/data_table.ipynb>data table notebook</a>'\n",
              "            + ' to learn more about interactive tables.';\n",
              "          element.innerHTML = '';\n",
              "          dataTable['output_type'] = 'display_data';\n",
              "          await google.colab.output.renderOutput(dataTable, element);\n",
              "          const docLink = document.createElement('div');\n",
              "          docLink.innerHTML = docLinkHtml;\n",
              "          element.appendChild(docLink);\n",
              "        }\n",
              "      </script>\n",
              "    </div>\n",
              "  </div>\n",
              "  "
            ]
          },
          "metadata": {},
          "execution_count": 5
        }
      ],
      "source": [
        "df = pd.read_csv(\"fer2013.csv\")\n",
        "df.head()"
      ]
    },
    {
      "cell_type": "code",
      "execution_count": null,
      "metadata": {
        "colab": {
          "base_uri": "https://localhost:8080/"
        },
        "id": "nUNOJEDOtslo",
        "outputId": "57eff876-244c-4ac9-c064-26c93d107bc8"
      },
      "outputs": [
        {
          "output_type": "stream",
          "name": "stdout",
          "text": [
            "(35887, 3)\n"
          ]
        }
      ],
      "source": [
        "print(df.shape)"
      ]
    },
    {
      "cell_type": "code",
      "execution_count": null,
      "metadata": {
        "colab": {
          "base_uri": "https://localhost:8080/",
          "height": 297
        },
        "id": "78HE6_dptse0",
        "outputId": "b3e9cb3d-d869-4ff4-ce48-c8b23f03f6a2"
      },
      "outputs": [
        {
          "output_type": "execute_result",
          "data": {
            "text/plain": [
              "<matplotlib.axes._subplots.AxesSubplot at 0x7fdcc906b710>"
            ]
          },
          "metadata": {},
          "execution_count": 7
        },
        {
          "output_type": "display_data",
          "data": {
            "text/plain": [
              "<Figure size 648x288 with 1 Axes>"
            ],
            "image/png": "[encoded data removed]"
          },
          "metadata": {
            "needs_background": "light"
          }
        }
      ],
      "source": [
        "plt.figure(figsize=(9,4))\n",
        "sns.countplot(x='emotion', data=df)"
      ]
    },
    {
      "cell_type": "code",
      "execution_count": null,
      "metadata": {
        "colab": {
          "base_uri": "https://localhost:8080/",
          "height": 151
        },
        "id": "svLaBF1-uGKG",
        "outputId": "70235649-f829-41b3-9523-9d81864d7ab2"
      },
      "outputs": [
        {
          "data": {
            "text/plain": [
              "3    8989\n",
              "6    6198\n",
              "4    6077\n",
              "2    5121\n",
              "0    4953\n",
              "5    4002\n",
              "1     547\n",
              "Name: emotion, dtype: int64"
            ]
          },
          "execution_count": 9,
          "metadata": {
            "tags": []
          },
          "output_type": "execute_result"
        }
      ],
      "source": [
        "df['emotion'].value_counts()"
      ]
    },
    {
      "cell_type": "markdown",
      "metadata": {
        "id": "FTtu4vUnuMT1"
      },
      "source": [
        "emotion 컬럼의 값은 다음을 의미.\n",
        "\n",
        "0=Angry, 1=Disgust, 2=Fear, 3=Happy, 4=Sad, 5=Surprise, 6=Neutral"
      ]
    },
    {
      "cell_type": "markdown",
      "metadata": {
        "id": "jylgGtWC1NNL"
      },
      "source": [
        "1(disgust)의 수가 너무 적다.\n",
        "\n",
        "0(angry)와 1(disgust)를 합친다."
      ]
    },
    {
      "cell_type": "code",
      "execution_count": null,
      "metadata": {
        "colab": {
          "base_uri": "https://localhost:8080/",
          "height": 297
        },
        "id": "rUHxzWU_1fcz",
        "outputId": "f48eea63-e1d9-4fea-ae2d-79b3fecc4b09"
      },
      "outputs": [
        {
          "output_type": "execute_result",
          "data": {
            "text/plain": [
              "<matplotlib.axes._subplots.AxesSubplot at 0x7fdcbf592950>"
            ]
          },
          "metadata": {},
          "execution_count": 8
        },
        {
          "output_type": "display_data",
          "data": {
            "text/plain": [
              "<Figure size 648x288 with 1 Axes>"
            ],
            "image/png": "[encoded data removed]"
          },
          "metadata": {
            "needs_background": "light"
          }
        }
      ],
      "source": [
        "df['emotion'] = df['emotion'].map( {0:0, 1:0, 2:1, 3:2, 4:3, 5:4, 6:5} ).astype(int)\n",
        "plt.figure(figsize=(9,4))\n",
        "sns.countplot(x='emotion', data=df)"
      ]
    },
    {
      "cell_type": "code",
      "execution_count": null,
      "metadata": {
        "id": "ZlhUzYuQ-qtP"
      },
      "outputs": [],
      "source": [
        "category_names = [ \"angry\", \"fear\", \"happy\", \"sad\", \"suprise\", \"neutral\" ]"
      ]
    },
    {
      "cell_type": "code",
      "execution_count": null,
      "metadata": {
        "colab": {
          "base_uri": "https://localhost:8080/",
          "height": 300
        },
        "id": "a1An1SoLuGQT",
        "outputId": "3cbbc699-e687-410a-9817-a45f63597c88"
      },
      "outputs": [
        {
          "output_type": "execute_result",
          "data": {
            "text/plain": [
              "<matplotlib.axes._subplots.AxesSubplot at 0x7fdcbee725d0>"
            ]
          },
          "metadata": {},
          "execution_count": 10
        },
        {
          "output_type": "display_data",
          "data": {
            "text/plain": [
              "<Figure size 648x288 with 1 Axes>"
            ],
            "image/png": "[encoded data removed]"
          },
          "metadata": {
            "needs_background": "light"
          }
        }
      ],
      "source": [
        "plt.figure(figsize=(9,4))\n",
        "sns.countplot(x='Usage', data=df)"
      ]
    },
    {
      "cell_type": "code",
      "execution_count": null,
      "metadata": {
        "colab": {
          "base_uri": "https://localhost:8080/"
        },
        "id": "zermRdAxuGaf",
        "outputId": "f7f6fcbf-0f20-4290-cc82-e45dbf2d822a"
      },
      "outputs": [
        {
          "output_type": "execute_result",
          "data": {
            "text/plain": [
              "Training       28709\n",
              "PublicTest      3589\n",
              "PrivateTest     3589\n",
              "Name: Usage, dtype: int64"
            ]
          },
          "metadata": {},
          "execution_count": 11
        }
      ],
      "source": [
        "df['Usage'].value_counts()"
      ]
    },
    {
      "cell_type": "markdown",
      "metadata": {
        "id": "jETonuYWuhw1"
      },
      "source": [
        "## 얼굴 데이터 구하기\n",
        "\n",
        "받은 csv파일에 얼굴 영상의 pixel 값이 숫자로 그냥 들어 있다.\n",
        "이를 읽어서 데이터를 준비하자."
      ]
    },
    {
      "cell_type": "code",
      "execution_count": null,
      "metadata": {
        "id": "VbSfWTqOuGNh"
      },
      "outputs": [],
      "source": [
        "image_size=(48,48)"
      ]
    },
    {
      "cell_type": "code",
      "execution_count": null,
      "metadata": {
        "colab": {
          "base_uri": "https://localhost:8080/"
        },
        "id": "MjCs_oKvuGHP",
        "outputId": "00185ff8-3f7f-4b40-ce7f-a6472217402a"
      },
      "outputs": [
        {
          "output_type": "stream",
          "name": "stdout",
          "text": [
            "(35887, 48, 48, 1)\n"
          ]
        }
      ],
      "source": [
        "pixels = df['pixels'].tolist()\n",
        "width, height = 48, 48\n",
        "faces = []\n",
        "\n",
        "for pixel_sequence in pixels:\n",
        "  face = [int(pixel) for pixel in pixel_sequence.split(' ')]\n",
        "  face = np.asarray(face).reshape(width, height)\n",
        "  face = cv2.resize(face.astype('uint8'),image_size)\n",
        "  faces.append(face.astype('float32'))\n",
        "  \n",
        "faces = np.asarray(faces)\n",
        "faces = np.expand_dims(faces, -1)\n",
        "print(faces.shape)"
      ]
    },
    {
      "cell_type": "code",
      "execution_count": null,
      "metadata": {
        "colab": {
          "base_uri": "https://localhost:8080/",
          "height": 1000
        },
        "id": "YUjsb8_WvYBN",
        "outputId": "3e436e28-08f0-4e7a-d036-e13257d8648b"
      },
      "outputs": [
        {
          "output_type": "display_data",
          "data": {
            "text/plain": [
              "<Figure size 432x288 with 1 Axes>"
            ],
            "image/png": "[encoded data removed]"
          },
          "metadata": {
            "needs_background": "light"
          }
        },
        {
          "output_type": "display_data",
          "data": {
            "text/plain": [
              "<Figure size 432x288 with 1 Axes>"
            ],
            "image/png": "[encoded data removed]"
          },
          "metadata": {
            "needs_background": "light"
          }
        },
        {
          "output_type": "display_data",
          "data": {
            "text/plain": [
              "<Figure size 432x288 with 1 Axes>"
            ],
            "image/png": "[encoded data removed]"
          },
          "metadata": {
            "needs_background": "light"
          }
        },
        {
          "output_type": "display_data",
          "data": {
            "text/plain": [
              "<Figure size 432x288 with 1 Axes>"
            ],
            "image/png": "[encoded data removed]"
          },
          "metadata": {
            "needs_background": "light"
          }
        },
        {
          "output_type": "display_data",
          "data": {
            "text/plain": [
              "<Figure size 432x288 with 1 Axes>"
            ],
            "image/png": "[encoded data removed]"
          },
          "metadata": {
            "needs_background": "light"
          }
        }
      ],
      "source": [
        "for i in range(5):\n",
        "    plt.imshow(faces[i].squeeze(), cmap=\"gray\")\n",
        "    plt.show()"
      ]
    },
    {
      "cell_type": "markdown",
      "metadata": {
        "id": "mornch0Jx2ks"
      },
      "source": [
        "## Normalization"
      ]
    },
    {
      "cell_type": "code",
      "execution_count": null,
      "metadata": {
        "colab": {
          "base_uri": "https://localhost:8080/"
        },
        "id": "xzKaPmfYwL_V",
        "outputId": "d87a3250-6faf-42ab-c251-e7c2f7583f3a"
      },
      "outputs": [
        {
          "output_type": "stream",
          "name": "stdout",
          "text": [
            "0.0 255.0\n",
            "0.0 1.0\n"
          ]
        }
      ],
      "source": [
        "print(np.min(faces), np.max(faces))\n",
        "faces = faces / 255.0\n",
        "print(np.min(faces), np.max(faces))"
      ]
    },
    {
      "cell_type": "markdown",
      "metadata": {
        "id": "Om_9WXlFxuSQ"
      },
      "source": [
        "## emotion 데이터 구하기"
      ]
    },
    {
      "cell_type": "code",
      "execution_count": null,
      "metadata": {
        "colab": {
          "base_uri": "https://localhost:8080/"
        },
        "id": "KUDNG8pLvmhy",
        "outputId": "07896c2f-1c09-4899-c6e7-84a6e243dc18"
      },
      "outputs": [
        {
          "output_type": "stream",
          "name": "stdout",
          "text": [
            "(35887,)\n",
            "[0 0 1 ... 0 2 1]\n"
          ]
        }
      ],
      "source": [
        "emotions = df['emotion'].values\n",
        "print(emotions.shape)\n",
        "print(emotions)"
      ]
    },
    {
      "cell_type": "markdown",
      "metadata": {
        "id": "YiWYAZpvxqmh"
      },
      "source": [
        "## 데이터 나누기"
      ]
    },
    {
      "cell_type": "code",
      "execution_count": null,
      "metadata": {
        "id": "czDYOIchwmBI"
      },
      "outputs": [],
      "source": [
        "from sklearn.model_selection import train_test_split\n",
        "train_x, test_x, train_y, test_y = train_test_split(faces, emotions, test_size=0.2)"
      ]
    },
    {
      "cell_type": "code",
      "execution_count": null,
      "metadata": {
        "colab": {
          "base_uri": "https://localhost:8080/"
        },
        "id": "sD3LUarcxA3d",
        "outputId": "d35ea6bb-4327-4400-a196-60f4ba0d24dc"
      },
      "outputs": [
        {
          "output_type": "stream",
          "name": "stdout",
          "text": [
            "(28709, 48, 48, 1)\n",
            "(28709,)\n",
            "(7178, 48, 48, 1)\n",
            "(7178,)\n"
          ]
        }
      ],
      "source": [
        "print(train_x.shape)\n",
        "print(train_y.shape)\n",
        "print(test_x.shape)\n",
        "print(test_y.shape)"
      ]
    },
    {
      "cell_type": "markdown",
      "metadata": {
        "id": "TRj8rvbyM2fj"
      },
      "source": [
        "# 모델 정의"
      ]
    },
    {
      "cell_type": "code",
      "execution_count": null,
      "metadata": {
        "id": "3dmuSDuCSBEC"
      },
      "outputs": [],
      "source": [
        "from tensorflow import keras\n",
        "from tensorflow.keras import optimizers\n",
        "from tensorflow.keras import models\n",
        "from tensorflow.keras import layers\n",
        "from tensorflow.keras import optimizers\n",
        "from tensorflow.keras import Sequential\n",
        "from tensorflow.keras.layers import Dropout, Flatten, Dense, Conv2D, MaxPool2D, Input\n",
        "from tensorflow.keras import Model\n",
        "from tensorflow.keras.preprocessing.image import ImageDataGenerator\n",
        "from tensorflow.keras.preprocessing.image import load_img\n",
        "from tensorflow.keras.preprocessing.image import img_to_array\n",
        "\n",
        "\n",
        "model = keras.Sequential()\n",
        "\n",
        "model.add(Input(train_x.shape[1:]))\n",
        "model.add(Conv2D(32, (3,3), padding=\"same\"))\n",
        "model.add(MaxPool2D())\n",
        "model.add(Conv2D(64, (3,3), padding=\"same\"))\n",
        "model.add(MaxPool2D())\n",
        "model.add(layers.Flatten())\n",
        "model.add(layers.Dense(1024, activation='relu'))\n",
        "model.add(layers.Dropout(0.5))\n",
        "model.add(layers.Dense(6, activation='softmax'))\n",
        "\n",
        "model.compile(loss='sparse_categorical_crossentropy', optimizer=\"RMSprop\", metrics=['acc'])\n",
        "\n"
      ]
    },
    {
      "cell_type": "markdown",
      "metadata": {
        "id": "unB58zRPz03t"
      },
      "source": [
        "# 데이터 증강"
      ]
    },
    {
      "cell_type": "code",
      "execution_count": null,
      "metadata": {
        "id": "cQb2N20qzzUi"
      },
      "outputs": [],
      "source": [
        "train_data_generator = ImageDataGenerator(\n",
        "      rotation_range=10,\n",
        "      width_shift_range=0.1,\n",
        "      height_shift_range=0.1,\n",
        "      horizontal_flip=True,\n",
        "      vertical_flip=False,\n",
        ")\n",
        "\n",
        "test_data_generator = ImageDataGenerator()"
      ]
    },
    {
      "cell_type": "markdown",
      "metadata": {
        "id": "UkbqMKsKz62v"
      },
      "source": [
        "# 학습"
      ]
    },
    {
      "cell_type": "code",
      "execution_count": null,
      "metadata": {
        "colab": {
          "base_uri": "https://localhost:8080/"
        },
        "id": "i7ssJSf2zvcV",
        "outputId": "63e4efee-b41f-40c0-9503-1dc180c6f4aa"
      },
      "outputs": [
        {
          "output_type": "stream",
          "name": "stdout",
          "text": [
            "Epoch 1/10\n",
            "897/897 [==============================] - 23s 13ms/step - loss: 1.6885 - acc: 0.3214 - val_loss: 1.4407 - val_acc: 0.4238\n",
            "Epoch 2/10\n",
            "897/897 [==============================] - 12s 13ms/step - loss: 1.5103 - acc: 0.3975 - val_loss: 1.4250 - val_acc: 0.4487\n",
            "Epoch 3/10\n",
            "897/897 [==============================] - 11s 13ms/step - loss: 1.4627 - acc: 0.4245 - val_loss: 1.3239 - val_acc: 0.4897\n",
            "Epoch 4/10\n",
            "897/897 [==============================] - 11s 12ms/step - loss: 1.4322 - acc: 0.4370 - val_loss: 1.3059 - val_acc: 0.4933\n",
            "Epoch 5/10\n",
            "897/897 [==============================] - 11s 13ms/step - loss: 1.4174 - acc: 0.4456 - val_loss: 1.2861 - val_acc: 0.5050\n",
            "Epoch 6/10\n",
            "897/897 [==============================] - 11s 13ms/step - loss: 1.4131 - acc: 0.4497 - val_loss: 1.3249 - val_acc: 0.4993\n",
            "Epoch 7/10\n",
            "897/897 [==============================] - 11s 12ms/step - loss: 1.4060 - acc: 0.4494 - val_loss: 1.4206 - val_acc: 0.4689\n",
            "Epoch 8/10\n",
            "897/897 [==============================] - 11s 13ms/step - loss: 1.3980 - acc: 0.4573 - val_loss: 1.3001 - val_acc: 0.5096\n",
            "Epoch 9/10\n",
            "897/897 [==============================] - 11s 13ms/step - loss: 1.3965 - acc: 0.4562 - val_loss: 1.2992 - val_acc: 0.5138\n",
            "Epoch 10/10\n",
            "897/897 [==============================] - 12s 14ms/step - loss: 1.4075 - acc: 0.4539 - val_loss: 1.2504 - val_acc: 0.5300\n"
          ]
        },
        {
          "output_type": "execute_result",
          "data": {
            "text/plain": [
              "<keras.callbacks.History at 0x7fdcbc16c1d0>"
            ]
          },
          "metadata": {},
          "execution_count": 25
        }
      ],
      "source": [
        "model.fit(\n",
        "      train_data_generator.flow(train_x, train_y, 32),\n",
        "      validation_data=test_data_generator.flow(test_x, test_y, 32),\n",
        "      steps_per_epoch=len(train_x)/32,  \n",
        "      validation_steps=len(test_x)/32,      \n",
        "      epochs=10\n",
        ")"
      ]
    },
    {
      "cell_type": "code",
      "source": [
        "model.fit(\n",
        "      train_data_generator.flow(train_x, train_y, 32),\n",
        "      validation_data=test_data_generator.flow(test_x, test_y, 32),\n",
        "      steps_per_epoch=len(train_x)/32,  \n",
        "      validation_steps=len(test_x)/32,      \n",
        "      epochs=40\n",
        ")"
      ],
      "metadata": {
        "id": "HIVg0TOoJlJY",
        "outputId": "637865cf-eac8-4005-fe25-831f9260289b",
        "colab": {
          "base_uri": "https://localhost:8080/"
        }
      },
      "execution_count": null,
      "outputs": [
        {
          "output_type": "stream",
          "name": "stdout",
          "text": [
            "Epoch 1/40\n",
            "897/897 [==============================] - 11s 13ms/step - loss: 1.4027 - acc: 0.4566 - val_loss: 1.2882 - val_acc: 0.5169\n",
            "Epoch 2/40\n",
            "897/897 [==============================] - 11s 12ms/step - loss: 1.4120 - acc: 0.4535 - val_loss: 1.2854 - val_acc: 0.5109\n",
            "Epoch 3/40\n",
            "897/897 [==============================] - 11s 13ms/step - loss: 1.4195 - acc: 0.4481 - val_loss: 1.3690 - val_acc: 0.4836\n",
            "Epoch 4/40\n",
            "897/897 [==============================] - 11s 13ms/step - loss: 1.4070 - acc: 0.4568 - val_loss: 1.2933 - val_acc: 0.5270\n",
            "Epoch 5/40\n",
            "897/897 [==============================] - 11s 13ms/step - loss: 1.4250 - acc: 0.4496 - val_loss: 1.2785 - val_acc: 0.5084\n",
            "Epoch 6/40\n",
            "897/897 [==============================] - 11s 12ms/step - loss: 1.4357 - acc: 0.4463 - val_loss: 1.3031 - val_acc: 0.5116\n",
            "Epoch 7/40\n",
            "897/897 [==============================] - 11s 13ms/step - loss: 1.4386 - acc: 0.4460 - val_loss: 1.3837 - val_acc: 0.4992\n",
            "Epoch 8/40\n",
            "897/897 [==============================] - 11s 12ms/step - loss: 1.4380 - acc: 0.4445 - val_loss: 1.4114 - val_acc: 0.5137\n",
            "Epoch 9/40\n",
            "897/897 [==============================] - 11s 13ms/step - loss: 1.4426 - acc: 0.4447 - val_loss: 1.2703 - val_acc: 0.5156\n",
            "Epoch 10/40\n",
            "897/897 [==============================] - 11s 13ms/step - loss: 1.4524 - acc: 0.4414 - val_loss: 1.3340 - val_acc: 0.4983\n",
            "Epoch 11/40\n",
            "897/897 [==============================] - 11s 12ms/step - loss: 1.4580 - acc: 0.4421 - val_loss: 1.3515 - val_acc: 0.5153\n",
            "Epoch 12/40\n",
            "897/897 [==============================] - 11s 12ms/step - loss: 1.4587 - acc: 0.4408 - val_loss: 1.2898 - val_acc: 0.5206\n",
            "Epoch 13/40\n",
            "897/897 [==============================] - 12s 13ms/step - loss: 1.4563 - acc: 0.4403 - val_loss: 1.3939 - val_acc: 0.4847\n",
            "Epoch 14/40\n",
            "897/897 [==============================] - 11s 12ms/step - loss: 1.4640 - acc: 0.4395 - val_loss: 1.3004 - val_acc: 0.5106\n",
            "Epoch 15/40\n",
            "897/897 [==============================] - 11s 12ms/step - loss: 1.4604 - acc: 0.4398 - val_loss: 1.4195 - val_acc: 0.5103\n",
            "Epoch 16/40\n",
            "897/897 [==============================] - 11s 12ms/step - loss: 1.4624 - acc: 0.4403 - val_loss: 1.5691 - val_acc: 0.4748\n",
            "Epoch 17/40\n",
            "897/897 [==============================] - 11s 12ms/step - loss: 1.4695 - acc: 0.4376 - val_loss: 1.3029 - val_acc: 0.5162\n",
            "Epoch 18/40\n",
            "897/897 [==============================] - 11s 13ms/step - loss: 1.4728 - acc: 0.4322 - val_loss: 1.4496 - val_acc: 0.4833\n",
            "Epoch 19/40\n",
            "897/897 [==============================] - 11s 13ms/step - loss: 1.4822 - acc: 0.4316 - val_loss: 1.2548 - val_acc: 0.5230\n",
            "Epoch 20/40\n",
            "897/897 [==============================] - 11s 12ms/step - loss: 1.4803 - acc: 0.4339 - val_loss: 1.2922 - val_acc: 0.5127\n",
            "Epoch 21/40\n",
            "897/897 [==============================] - 11s 12ms/step - loss: 1.4894 - acc: 0.4304 - val_loss: 1.3949 - val_acc: 0.5007\n",
            "Epoch 22/40\n",
            "897/897 [==============================] - 11s 12ms/step - loss: 1.4883 - acc: 0.4245 - val_loss: 1.2826 - val_acc: 0.5120\n",
            "Epoch 23/40\n",
            "897/897 [==============================] - 11s 12ms/step - loss: 1.4821 - acc: 0.4278 - val_loss: 1.3102 - val_acc: 0.5000\n",
            "Epoch 24/40\n",
            "897/897 [==============================] - 11s 12ms/step - loss: 1.4943 - acc: 0.4251 - val_loss: 1.3724 - val_acc: 0.5156\n",
            "Epoch 25/40\n",
            "897/897 [==============================] - 11s 13ms/step - loss: 1.4899 - acc: 0.4274 - val_loss: 1.3520 - val_acc: 0.5020\n",
            "Epoch 26/40\n",
            "897/897 [==============================] - 11s 12ms/step - loss: 1.4954 - acc: 0.4263 - val_loss: 1.4039 - val_acc: 0.4845\n",
            "Epoch 27/40\n",
            "897/897 [==============================] - 11s 12ms/step - loss: 1.4894 - acc: 0.4283 - val_loss: 2.0305 - val_acc: 0.4093\n",
            "Epoch 28/40\n",
            "897/897 [==============================] - 11s 13ms/step - loss: 1.4972 - acc: 0.4255 - val_loss: 1.3168 - val_acc: 0.5054\n",
            "Epoch 29/40\n",
            "897/897 [==============================] - 11s 12ms/step - loss: 1.5046 - acc: 0.4248 - val_loss: 1.4036 - val_acc: 0.4908\n",
            "Epoch 30/40\n",
            "897/897 [==============================] - 11s 12ms/step - loss: 1.4982 - acc: 0.4264 - val_loss: 1.3876 - val_acc: 0.4936\n",
            "Epoch 31/40\n",
            "897/897 [==============================] - 11s 12ms/step - loss: 1.5041 - acc: 0.4253 - val_loss: 1.3239 - val_acc: 0.4929\n",
            "Epoch 32/40\n",
            "897/897 [==============================] - 11s 12ms/step - loss: 1.5009 - acc: 0.4274 - val_loss: 1.6710 - val_acc: 0.4443\n",
            "Epoch 33/40\n",
            "897/897 [==============================] - 11s 12ms/step - loss: 1.5083 - acc: 0.4225 - val_loss: 1.4358 - val_acc: 0.4916\n",
            "Epoch 34/40\n",
            "897/897 [==============================] - 11s 13ms/step - loss: 1.5085 - acc: 0.4222 - val_loss: 1.3672 - val_acc: 0.4844\n",
            "Epoch 35/40\n",
            "897/897 [==============================] - 11s 13ms/step - loss: 1.5157 - acc: 0.4191 - val_loss: 1.3077 - val_acc: 0.5082\n",
            "Epoch 36/40\n",
            "897/897 [==============================] - 11s 12ms/step - loss: 1.5053 - acc: 0.4241 - val_loss: 1.3669 - val_acc: 0.5028\n",
            "Epoch 37/40\n",
            "897/897 [==============================] - 11s 13ms/step - loss: 1.5185 - acc: 0.4218 - val_loss: 1.5021 - val_acc: 0.4531\n",
            "Epoch 38/40\n",
            "897/897 [==============================] - 11s 12ms/step - loss: 1.5159 - acc: 0.4171 - val_loss: 1.4309 - val_acc: 0.4671\n",
            "Epoch 39/40\n",
            "897/897 [==============================] - 11s 12ms/step - loss: 1.5210 - acc: 0.4200 - val_loss: 1.3407 - val_acc: 0.4983\n",
            "Epoch 40/40\n",
            "897/897 [==============================] - 11s 12ms/step - loss: 1.5265 - acc: 0.4201 - val_loss: 1.2988 - val_acc: 0.4989\n"
          ]
        },
        {
          "output_type": "execute_result",
          "data": {
            "text/plain": [
              "<keras.callbacks.History at 0x7fdc403986d0>"
            ]
          },
          "metadata": {},
          "execution_count": 26
        }
      ]
    },
    {
      "cell_type": "markdown",
      "metadata": {
        "id": "UGqIgb2rz9Cj"
      },
      "source": [
        "# 평가"
      ]
    },
    {
      "cell_type": "code",
      "execution_count": null,
      "metadata": {
        "colab": {
          "base_uri": "https://localhost:8080/"
        },
        "id": "DmLoqWrDz-9z",
        "outputId": "d6526215-a6a0-4ede-906d-77583cf31cb9"
      },
      "outputs": [
        {
          "output_type": "stream",
          "name": "stdout",
          "text": [
            "224/224 [==============================] - 1s 2ms/step - loss: 1.2988 - acc: 0.4989\n",
            "1.2987947463989258 0.49888548254966736\n"
          ]
        }
      ],
      "source": [
        "loss, acc = model.evaluate(\n",
        "      test_data_generator.flow(test_x, test_y, 32),\n",
        "      steps=len(test_x)/32\n",
        ")\n",
        "print(loss, acc)"
      ]
    },
    {
      "cell_type": "markdown",
      "metadata": {
        "id": "PvCLMFRtz77G"
      },
      "source": [
        "# 결과 보기"
      ]
    },
    {
      "cell_type": "code",
      "execution_count": null,
      "metadata": {
        "colab": {
          "base_uri": "https://localhost:8080/",
          "height": 1000
        },
        "id": "wmOBsKtcy98O",
        "outputId": "2e0f13d2-f1b2-497d-a07d-19fb4c738709"
      },
      "outputs": [
        {
          "output_type": "display_data",
          "data": {
            "text/plain": [
              "<Figure size 432x288 with 1 Axes>"
            ],
            "image/png": "[encoded data removed]"
          },
          "metadata": {
            "needs_background": "light"
          }
        },
        {
          "output_type": "stream",
          "name": "stdout",
          "text": [
            "predicted category index = 1\n",
            "fear\n"
          ]
        },
        {
          "output_type": "display_data",
          "data": {
            "text/plain": [
              "<Figure size 432x288 with 1 Axes>"
            ],
            "image/png": "[encoded data removed]"
          },
          "metadata": {
            "needs_background": "light"
          }
        },
        {
          "output_type": "stream",
          "name": "stdout",
          "text": [
            "predicted category index = 5\n",
            "neutral\n"
          ]
        },
        {
          "output_type": "display_data",
          "data": {
            "text/plain": [
              "<Figure size 432x288 with 1 Axes>"
            ],
            "image/png": "[encoded data removed]"
          },
          "metadata": {
            "needs_background": "light"
          }
        },
        {
          "output_type": "stream",
          "name": "stdout",
          "text": [
            "predicted category index = 2\n",
            "happy\n"
          ]
        },
        {
          "output_type": "display_data",
          "data": {
            "text/plain": [
              "<Figure size 432x288 with 1 Axes>"
            ],
            "image/png": "[encoded data removed]"
          },
          "metadata": {
            "needs_background": "light"
          }
        },
        {
          "output_type": "stream",
          "name": "stdout",
          "text": [
            "predicted category index = 3\n",
            "sad\n"
          ]
        },
        {
          "output_type": "display_data",
          "data": {
            "text/plain": [
              "<Figure size 432x288 with 1 Axes>"
            ],
            "image/png": "[encoded data removed]"
          },
          "metadata": {
            "needs_background": "light"
          }
        },
        {
          "output_type": "stream",
          "name": "stdout",
          "text": [
            "predicted category index = 0\n",
            "angry\n"
          ]
        }
      ],
      "source": [
        "y_ = model.predict(test_x)\n",
        "\n",
        "predicted = np.argmax(y_, axis=1)\n",
        "\n",
        "for i in range(5):\n",
        "  plt.imshow(test_x[i].squeeze(), cmap=\"gray\")\n",
        "  plt.show()\n",
        "  print(\"predicted category index =\", predicted[i])\n",
        "  print(category_names[predicted[i]])\n"
      ]
    },
    {
      "cell_type": "code",
      "source": [
        "from sklearn.metrics import classification_report\n",
        "from sklearn.metrics import confusion_matrix\n",
        "\n",
        "cm = confusion_matrix(test_y, predicted)\n",
        "print(cm)"
      ],
      "metadata": {
        "id": "PYwakxYOMp2n",
        "outputId": "3ddf23dc-5073-44c1-c0b4-d19630166957",
        "colab": {
          "base_uri": "https://localhost:8080/"
        }
      },
      "execution_count": null,
      "outputs": [
        {
          "output_type": "stream",
          "name": "stdout",
          "text": [
            "[[ 412   54  169  189    9  262]\n",
            " [ 190  221  142  187   74  190]\n",
            " [  92   37 1372  138    7  156]\n",
            " [ 161   50  204  497   11  315]\n",
            " [  59  152  101   36  369   83]\n",
            " [ 103   36  172  212    6  710]]\n"
          ]
        }
      ]
    },
    {
      "cell_type": "code",
      "execution_count": null,
      "metadata": {
        "id": "BMds1wXf0cIW",
        "outputId": "9b76aff0-77ed-41fa-aa40-0fc353970227",
        "colab": {
          "base_uri": "https://localhost:8080/",
          "height": 455
        }
      },
      "outputs": [
        {
          "output_type": "display_data",
          "data": {
            "text/plain": [
              "<Figure size 432x432 with 2 Axes>"
            ],
            "image/png": "[encoded data removed]"
          },
          "metadata": {
            "needs_background": "light"
          }
        }
      ],
      "source": [
        "import seaborn as sns\n",
        "\n",
        "figure = plt.figure(figsize=(6, 6))\n",
        "sns.heatmap(cm, annot=True, cmap=plt.cm.Blues)\n",
        "plt.tight_layout()\n",
        "plt.ylabel('True label')\n",
        "plt.xlabel('Predicted label')\n",
        "plt.show()"
      ]
    },
    {
      "cell_type": "code",
      "source": [
        "# category_names = [ \"angry\", \"fear\", \"happy\", \"sad\", \"suprise\", \"neutral\" ]"
      ],
      "metadata": {
        "id": "5aYTL2AFMyeB"
      },
      "execution_count": null,
      "outputs": []
    },
    {
      "cell_type": "code",
      "source": [
        "!nvidia-smi"
      ],
      "metadata": {
        "id": "QtYIAdgoPiPV",
        "outputId": "3edbee17-3c16-48b5-8552-2cdba82de844",
        "colab": {
          "base_uri": "https://localhost:8080/"
        }
      },
      "execution_count": null,
      "outputs": [
        {
          "output_type": "stream",
          "name": "stdout",
          "text": [
            "Tue Jul  5 02:44:02 2022       \n",
            "+-----------------------------------------------------------------------------+\n",
            "| NVIDIA-SMI 460.32.03    Driver Version: 460.32.03    CUDA Version: 11.2     |\n",
            "|-------------------------------+----------------------+----------------------+\n",
            "| GPU  Name        Persistence-M| Bus-Id        Disp.A | Volatile Uncorr. ECC |\n",
            "| Fan  Temp  Perf  Pwr:Usage/Cap|         Memory-Usage | GPU-Util  Compute M. |\n",
            "|                               |                      |               MIG M. |\n",
            "|===============================+======================+======================|\n",
            "|   0  Tesla V100-SXM2...  Off  | 00000000:00:04.0 Off |                    0 |\n",
            "| N/A   38C    P0    39W / 300W |   1377MiB / 16160MiB |      0%      Default |\n",
            "|                               |                      |                  N/A |\n",
            "+-------------------------------+----------------------+----------------------+\n",
            "                                                                               \n",
            "+-----------------------------------------------------------------------------+\n",
            "| Processes:                                                                  |\n",
            "|  GPU   GI   CI        PID   Type   Process name                  GPU Memory |\n",
            "|        ID   ID                                                   Usage      |\n",
            "|=============================================================================|\n",
            "+-----------------------------------------------------------------------------+\n"
          ]
        }
      ]
    },
    {
      "cell_type": "code",
      "source": [
        ""
      ],
      "metadata": {
        "id": "3Xar80RfPjn2"
      },
      "execution_count": null,
      "outputs": []
    },
    {
      "cell_type": "markdown",
      "source": [
        "# 보고서 작성 예\n",
        "```\n",
        "보고서\n",
        "\n",
        "\t개요\n",
        "\t\t어떤 데이터, 어떤 모델, 어떤 작업, 결과\n",
        "\t\t흑백 얼굴 영상을 CNN으로 학습하여 6가지 감정을 분류하는 작업을 진행하였다.\n",
        "\t\t정확도는 49%였다.\n",
        "\n",
        "\t데이터 전처리\n",
        "\t\tkaggle xxx에서 데이터를 다운로드 받았다.\n",
        "\t\t0~1 의 값으로 normalization하였다.\n",
        "\t\t48x48의 크기로 리사이즈.\n",
        "\n",
        "\t\t데이터는 총 35,887개 였으며, train 데이터화 test 데이터를 8:2로 나누었다.\n",
        "\t\tvalid 데이터는 따로 두지 않고 test 데이터로 사용하였다.\n",
        "\n",
        "\t모델 구조\n",
        "\t\tCNN을 사용. 필터 크기는 3x3, \n",
        "\t\tconv(필터 32개) - max pooling - conv(필터 64개) - max pooling \n",
        "\t\t- flatten - FC(노드 1024개) - dropout - output의 구조.\n",
        "\n",
        "\t학습 상세\n",
        "\t\tKeras를 사용. Colab에서 GPU Tesla V100-SXM2 사용.\n",
        "\t\t손실함수는 crossentropy, optimizer는 Adam, batch size는 32.\n",
        "\t\t50 에폭 학습. 총 10분 소요.\n",
        "\n",
        "\t결과\n",
        "\t\t로스 그래프, 정확도 그래프\n",
        "\t\t테스트 데이터에 대한 정확도는 49.9%\n",
        "\t\tROC 그래프\n",
        "\t\t혼돈 그래프\n",
        "\t\tAUC는 xxx\n",
        "\n",
        "\t결론\n",
        "\t\t49%의 정확도로 높지 않았다.\n",
        "\t\t특정 카테고리로 편중되는 것 같지는 않다.\n",
        "\t\t모델 구조를 개선하여 성능을 높일 수 있을 것 같다.\n",
        "```"
      ],
      "metadata": {
        "id": "sgRUnCfcRu7N"
      }
    },
    {
      "cell_type": "code",
      "source": [
        ""
      ],
      "metadata": {
        "id": "5QO5XLzlRyVq"
      },
      "execution_count": null,
      "outputs": []
    }
  ],
  "metadata": {
    "accelerator": "GPU",
    "colab": {
      "collapsed_sections": [],
      "machine_shape": "hm",
      "name": "20220705_report_sample.ipynb",
      "provenance": []
    },
    "kernelspec": {
      "display_name": "Python 3",
      "name": "python3"
    }
  },
  "nbformat": 4,
  "nbformat_minor": 0
}