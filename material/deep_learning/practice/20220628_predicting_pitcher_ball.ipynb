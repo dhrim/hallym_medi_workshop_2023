{
  "nbformat": 4,
  "nbformat_minor": 0,
  "metadata": {
    "colab": {
      "name": "20220628_predicting_pitcher_ball.ipynb",
      "provenance": []
    },
    "kernelspec": {
      "name": "python3",
      "display_name": "Python 3"
    },
    "language_info": {
      "name": "python"
    },
    "accelerator": "GPU",
    "gpuClass": "standard"
  },
  "cells": [
    {
      "cell_type": "markdown",
      "source": [
        "of data https://www.kaggle.com/competitions/tabular-playground-series-apr-2022"
      ],
      "metadata": {
        "id": "NnbqayX7Vz-Y"
      }
    },
    {
      "cell_type": "markdown",
      "source": [
        "# 데이터 가져오기"
      ],
      "metadata": {
        "id": "11NObF-zCdVt"
      }
    },
    {
      "cell_type": "code",
      "execution_count": 1,
      "metadata": {
        "colab": {
          "base_uri": "https://localhost:8080/"
        },
        "id": "Ekoi7DRx4VUq",
        "outputId": "0d34ed93-4669-4371-9de9-f17f5c6b1e80"
      },
      "outputs": [
        {
          "output_type": "stream",
          "name": "stdout",
          "text": [
            "Drive already mounted at /gdrive; to attempt to forcibly remount, call drive.mount(\"/gdrive\", force_remount=True).\n"
          ]
        }
      ],
      "source": [
        "from google.colab import drive\n",
        "drive.mount('/gdrive')"
      ]
    },
    {
      "cell_type": "code",
      "source": [
        "!cp /gdrive/MyDrive/tmp/tabular-playground-series-apr-2022.zip ./"
      ],
      "metadata": {
        "id": "loUhg3o55oWB"
      },
      "execution_count": 2,
      "outputs": []
    },
    {
      "cell_type": "code",
      "source": [
        "!unzip -f tabular-playground-series-apr-2022.zip"
      ],
      "metadata": {
        "colab": {
          "base_uri": "https://localhost:8080/"
        },
        "id": "Tx4vmIc76L5B",
        "outputId": "86b5c80d-7980-48fa-b12a-486e67ef56c4"
      },
      "execution_count": 3,
      "outputs": [
        {
          "output_type": "stream",
          "name": "stdout",
          "text": [
            "Archive:  tabular-playground-series-apr-2022.zip\n"
          ]
        }
      ]
    },
    {
      "cell_type": "code",
      "source": [
        "!ls -al"
      ],
      "metadata": {
        "colab": {
          "base_uri": "https://localhost:8080/"
        },
        "id": "WyMWBEFg6QWI",
        "outputId": "694e1446-b035-4112-ef2c-2f95988d77e5"
      },
      "execution_count": 4,
      "outputs": [
        {
          "output_type": "stream",
          "name": "stdout",
          "text": [
            "total 753072\n",
            "drwxr-xr-x 1 root root      4096 Jun 28 07:39 .\n",
            "drwxr-xr-x 1 root root      4096 Jun 28 06:02 ..\n",
            "drwxr-xr-x 4 root root      4096 Jun 15 13:41 .config\n",
            "drwxr-xr-x 1 root root      4096 Jun 15 13:42 sample_data\n",
            "-rw-r--r-- 1 root root     97759 Mar  9 14:07 sample_submission.csv\n",
            "-rw-r--r-- 1 root root     97759 Jun 28 07:40 submission.csv\n",
            "-rw------- 1 root root 179626323 Jun 28 07:53 tabular-playground-series-apr-2022.zip\n",
            "-rw-r--r-- 1 root root 189323249 Mar  9 14:07 test.csv\n",
            "-rw-r--r-- 1 root root 401767146 Mar  9 14:07 train.csv\n",
            "-rw-r--r-- 1 root root    196649 Mar  9 14:08 train_labels.csv\n"
          ]
        }
      ]
    },
    {
      "cell_type": "markdown",
      "source": [
        "# 데이터 로딩"
      ],
      "metadata": {
        "id": "o2PrKNAe61yX"
      }
    },
    {
      "cell_type": "code",
      "source": [
        "import pandas as pd\n",
        "import numpy as np\n",
        "import matplotlib.pyplot as plt"
      ],
      "metadata": {
        "id": "HJpQuDIF6Th0"
      },
      "execution_count": 5,
      "outputs": []
    },
    {
      "cell_type": "code",
      "source": [
        "train_x_df = pd.read_csv(\"train.csv\")\n",
        "print(train_x_df)"
      ],
      "metadata": {
        "colab": {
          "base_uri": "https://localhost:8080/"
        },
        "id": "zh0XiGwS6zhb",
        "outputId": "6fe7de74-3332-4021-a15e-ca7fd0c1998a"
      },
      "execution_count": 6,
      "outputs": [
        {
          "output_type": "stream",
          "name": "stdout",
          "text": [
            "         sequence  subject  step  sensor_00  sensor_01  sensor_02  sensor_03  \\\n",
            "0               0       47     0  -0.196291   0.112395   1.000000   0.329204   \n",
            "1               0       47     1  -0.447450   0.134454   1.000000  -0.658407   \n",
            "2               0       47     2   0.326893  -0.694328   1.000000   0.330088   \n",
            "3               0       47     3   0.523184   0.751050   1.000000   0.976991   \n",
            "4               0       47     4   0.272025   1.074580   1.000000  -0.136283   \n",
            "...           ...      ...   ...        ...        ...        ...        ...   \n",
            "1558075     25967      327    55  -0.282844  -1.217437  -1.666153   0.586726   \n",
            "1558076     25967      327    56   0.130603   0.349790  -1.666153  -0.324779   \n",
            "1558077     25967      327    57  -0.579598   0.429622  -1.666153   0.319469   \n",
            "1558078     25967      327    58   1.278980   1.711134  -1.522820   0.802655   \n",
            "1558079     25967      327    59  -1.136012  -3.702731  -1.332820  -0.766372   \n",
            "\n",
            "         sensor_04  sensor_05  sensor_06  sensor_07  sensor_08  sensor_09  \\\n",
            "0        -1.004660  -0.131638  -0.127505   0.368702       -0.1  -0.963873   \n",
            "1         0.162495   0.340314  -0.209472  -0.867176        0.2  -0.301301   \n",
            "2         0.473678   1.280479  -0.094718   0.535878        1.4   1.002168   \n",
            "3        -0.563287  -0.720269   0.793260   0.951145       -0.3  -0.995665   \n",
            "4         0.398579   0.044877   0.560109  -0.541985       -0.9   1.055636   \n",
            "...            ...        ...        ...        ...        ...        ...   \n",
            "1558075  -0.930698  -0.451010  -0.651184   0.368702        0.4   0.008671   \n",
            "1558076   0.775324  -0.332835   0.099271   0.122137       -0.2   0.644509   \n",
            "1558077   0.308861   0.282723  -0.512750   0.012214       -1.6  -0.424133   \n",
            "1558078  -0.460541  -0.055348   2.405282   0.043511        1.9   0.283960   \n",
            "1558079  -0.430027  -0.091997  -2.512750  -0.022901       -1.1  -0.653902   \n",
            "\n",
            "         sensor_10  sensor_11  sensor_12  \n",
            "0        -0.985069   0.531893   4.751492  \n",
            "1         0.082733  -0.231481   0.454390  \n",
            "2         0.449221  -0.586420  -4.736147  \n",
            "3        -0.434290   1.344650   0.429241  \n",
            "4         0.812631   0.123457  -0.223359  \n",
            "...            ...        ...        ...  \n",
            "1558075  -0.723536  -0.353909  -0.914749  \n",
            "1558076   0.691407  -0.613169  -0.515772  \n",
            "1558077   0.716855   1.628601   0.928389  \n",
            "1558078  -0.914914   0.364198   0.211424  \n",
            "1558079  -0.418516  -1.453704  -1.561381  \n",
            "\n",
            "[1558080 rows x 16 columns]\n"
          ]
        }
      ]
    },
    {
      "cell_type": "code",
      "source": [
        "train_y_df = pd.read_csv(\"train_labels.csv\")"
      ],
      "metadata": {
        "id": "PAw8yjZL68HP"
      },
      "execution_count": 7,
      "outputs": []
    },
    {
      "cell_type": "code",
      "source": [
        "print(train_y_df)"
      ],
      "metadata": {
        "colab": {
          "base_uri": "https://localhost:8080/"
        },
        "id": "iueqLHQm71in",
        "outputId": "f5b3ad38-2133-4d01-c3d3-dec66abe6979"
      },
      "execution_count": 8,
      "outputs": [
        {
          "output_type": "stream",
          "name": "stdout",
          "text": [
            "       sequence  state\n",
            "0             0      0\n",
            "1             1      1\n",
            "2             2      1\n",
            "3             3      1\n",
            "4             4      1\n",
            "...         ...    ...\n",
            "25963     25963      1\n",
            "25964     25964      0\n",
            "25965     25965      1\n",
            "25966     25966      1\n",
            "25967     25967      0\n",
            "\n",
            "[25968 rows x 2 columns]\n"
          ]
        }
      ]
    },
    {
      "cell_type": "code",
      "source": [
        ""
      ],
      "metadata": {
        "id": "Xk2bNvmJSPNA"
      },
      "execution_count": 8,
      "outputs": []
    },
    {
      "cell_type": "code",
      "source": [
        "test_x_df = pd.read_csv(\"test.csv\")\n",
        "print(test_x_df)"
      ],
      "metadata": {
        "colab": {
          "base_uri": "https://localhost:8080/"
        },
        "id": "-ildGQEM-Mrj",
        "outputId": "42b04fbf-8b91-4223-9feb-782f721becbe"
      },
      "execution_count": 9,
      "outputs": [
        {
          "output_type": "stream",
          "name": "stdout",
          "text": [
            "        sequence  subject  step  sensor_00  sensor_01  sensor_02  sensor_03  \\\n",
            "0          25968      684     0   2.427357  19.639706    1.00000  -1.466372   \n",
            "1          25968      684     1  -4.950541 -21.747899    1.00000   0.983186   \n",
            "2          25968      684     2   1.136012 -10.756303    1.00000   1.016814   \n",
            "3          25968      684     3   0.806028   6.504202    1.00000  -0.179646   \n",
            "4          25968      684     4   1.288253   5.552521    1.00000  -0.493805   \n",
            "...          ...      ...   ...        ...        ...        ...        ...   \n",
            "733075     38185      773    55   0.211747   2.005252   -1.33282   0.695575   \n",
            "733076     38185      773    56  -0.826121  -2.468487   -1.33282   0.381416   \n",
            "733077     38185      773    57   0.755023   1.469538   -1.33282  -1.253097   \n",
            "733078     38185      773    58  -0.187017   0.714286   -1.33282   0.077876   \n",
            "733079     38185      773    59  -0.414992  -2.858193   -1.33282   1.061062   \n",
            "\n",
            "        sensor_04  sensor_05  sensor_06  sensor_07  sensor_08  sensor_09  \\\n",
            "0       -1.289973  -4.207928   2.486339  -2.493893        8.0  -1.123555   \n",
            "1       -0.569053   1.845924  -3.887978   1.727481       -2.9   0.395231   \n",
            "2        0.964157   2.454749   0.312386   1.154198       -5.6   1.114162   \n",
            "3        0.969221  -1.035153  -0.457195   0.254962       -2.7  -0.588873   \n",
            "4       -1.036124  -1.126402   2.008197  -0.730534        0.0   0.899566   \n",
            "...           ...        ...        ...        ...        ...        ...   \n",
            "733075  -0.161327  -1.193717   0.421676   0.869466        0.0  -1.536850   \n",
            "733076   0.144745   1.060583  -0.765938   0.288550        0.2  -1.956647   \n",
            "733077  -0.414802   0.007479   0.907104  -1.556489        0.4   4.341763   \n",
            "733078   1.323245   0.159312  -0.397996   0.306870        0.1  -1.013728   \n",
            "733079  -0.264150  -0.449514  -0.601093   1.621374       -1.0  -3.650289   \n",
            "\n",
            "        sensor_10  sensor_11  sensor_12  \n",
            "0       -1.673048  10.980453   0.419011  \n",
            "1       -0.882233  -1.871399  -0.008525  \n",
            "2        1.525273 -11.584362   0.139812  \n",
            "3        0.608761  -4.241770  -0.462916  \n",
            "4       -1.259615  -0.472222  -0.121483  \n",
            "...           ...        ...        ...  \n",
            "733075   0.388101   2.205761 -91.610827  \n",
            "733076  -0.032158  -1.794239  72.414749  \n",
            "733077   0.150273   0.641975 -34.065644  \n",
            "733078  -0.608616   0.317901  65.659420  \n",
            "733079  -0.147107  -1.559671  57.189685  \n",
            "\n",
            "[733080 rows x 16 columns]\n"
          ]
        }
      ]
    },
    {
      "cell_type": "code",
      "source": [
        "test_y_df = pd.read_csv(\"sample_submission.csv\")\n",
        "print(test_y_df)"
      ],
      "metadata": {
        "colab": {
          "base_uri": "https://localhost:8080/"
        },
        "id": "s7bfELi4BlrF",
        "outputId": "e228b1c0-bd10-4f09-e73b-d7ee5053f1af"
      },
      "execution_count": 10,
      "outputs": [
        {
          "output_type": "stream",
          "name": "stdout",
          "text": [
            "       sequence  state\n",
            "0         25968      0\n",
            "1         25969      0\n",
            "2         25970      0\n",
            "3         25971      0\n",
            "4         25972      0\n",
            "...         ...    ...\n",
            "12213     38181      0\n",
            "12214     38182      0\n",
            "12215     38183      0\n",
            "12216     38184      0\n",
            "12217     38185      0\n",
            "\n",
            "[12218 rows x 2 columns]\n"
          ]
        }
      ]
    },
    {
      "cell_type": "code",
      "source": [
        ""
      ],
      "metadata": {
        "id": "TH66jwxjSrgn"
      },
      "execution_count": 10,
      "outputs": []
    },
    {
      "cell_type": "code",
      "source": [
        ""
      ],
      "metadata": {
        "id": "SbbZYVSgH1LS"
      },
      "execution_count": 10,
      "outputs": []
    },
    {
      "cell_type": "markdown",
      "source": [
        "# 이상치 처리"
      ],
      "metadata": {
        "id": "u6SwHaWzFpYd"
      }
    },
    {
      "cell_type": "code",
      "source": [
        "print(train_x_df.quantile(0.01))\n",
        "print(train_x_df.quantile(0.99))"
      ],
      "metadata": {
        "colab": {
          "base_uri": "https://localhost:8080/"
        },
        "id": "ajUIyO9wFEl-",
        "outputId": "36ceba63-f52b-4e61-e756-f80e30fe8420"
      },
      "execution_count": 11,
      "outputs": [
        {
          "output_type": "stream",
          "name": "stdout",
          "text": [
            "sequence     259.000000\n",
            "subject        3.000000\n",
            "step           0.000000\n",
            "sensor_00     -4.148377\n",
            "sensor_01     -4.853992\n",
            "sensor_02     -2.665639\n",
            "sensor_03     -4.347973\n",
            "sensor_04     -5.265930\n",
            "sensor_05     -4.792977\n",
            "sensor_06     -4.151184\n",
            "sensor_07     -4.352672\n",
            "sensor_08     -6.100000\n",
            "sensor_09     -4.906069\n",
            "sensor_10     -5.566257\n",
            "sensor_11     -5.070175\n",
            "sensor_12   -128.345222\n",
            "Name: 0.01, dtype: float64\n",
            "sequence     25708.000000\n",
            "subject        665.000000\n",
            "step            59.000000\n",
            "sensor_00        4.400309\n",
            "sensor_01        5.200630\n",
            "sensor_02        1.333333\n",
            "sensor_03        4.460177\n",
            "sensor_04        5.297758\n",
            "sensor_05        4.424084\n",
            "sensor_06        4.311475\n",
            "sensor_07        4.605344\n",
            "sensor_08        6.100000\n",
            "sensor_09        4.961705\n",
            "sensor_10        5.550236\n",
            "sensor_11        5.228395\n",
            "sensor_12      129.839591\n",
            "Name: 0.99, dtype: float64\n"
          ]
        }
      ]
    },
    {
      "cell_type": "code",
      "source": [
        "percentile_min = {}\n",
        "percentile_max = {}\n",
        "\n",
        "for column_name in train_x_df.columns:\n",
        "    if column_name[:7] != \"sensor_\":continue\n",
        "    percentile_min[column_name] = train_x_df[column_name].quantile(0.01)\n",
        "    percentile_max[column_name] = train_x_df[column_name].quantile(0.99)\n",
        "print(percentile_min)\n",
        "print(percentile_max)"
      ],
      "metadata": {
        "colab": {
          "base_uri": "https://localhost:8080/"
        },
        "id": "iEYWTgVHFEjk",
        "outputId": "b2a22423-fcb0-490f-a8a9-7acc8e02190a"
      },
      "execution_count": 12,
      "outputs": [
        {
          "output_type": "stream",
          "name": "stdout",
          "text": [
            "{'sensor_00': -4.1483771251932, 'sensor_01': -4.853991596638656, 'sensor_02': -2.6656394453004624, 'sensor_03': -4.347973451327432, 'sensor_04': -5.265930214437102, 'sensor_05': -4.792976813762152, 'sensor_06': -4.151183970856102, 'sensor_07': -4.352671755725191, 'sensor_08': -6.1, 'sensor_09': -4.9060693641618505, 'sensor_10': -5.566257262375087, 'sensor_11': -5.070174897119342, 'sensor_12': -128.34522165387895}\n",
            "{'sensor_00': 4.400309119010819, 'sensor_01': 5.20063025210084, 'sensor_02': 1.3333333333333333, 'sensor_03': 4.460176991150442, 'sensor_04': 5.297757760877689, 'sensor_05': 4.424083769633508, 'sensor_06': 4.311475409836066, 'sensor_07': 4.605343511450381, 'sensor_08': 6.1, 'sensor_09': 4.961705202312139, 'sensor_10': 5.550235591447815, 'sensor_11': 5.228395061728396, 'sensor_12': 129.83959079283875}\n"
          ]
        }
      ]
    },
    {
      "cell_type": "code",
      "source": [
        "for column_name in train_x_df.columns:\n",
        "    if column_name[:7] != \"sensor_\":continue\n",
        "\n",
        "    print(column_name)\n",
        "\n",
        "    plt.hist(train_x_df[column_name], bins=100)\n",
        "    plt.show()\n",
        "\n",
        "    train_x_df.loc[train_x_df[column_name]<percentile_min[column_name], column_name] = percentile_min[column_name]\n",
        "    train_x_df.loc[train_x_df[column_name]>percentile_max[column_name], column_name] = percentile_max[column_name]\n",
        "\n",
        "    plt.hist(train_x_df[column_name], bins=100)\n",
        "    plt.show()\n"
      ],
      "metadata": {
        "colab": {
          "base_uri": "https://localhost:8080/",
          "height": 1000
        },
        "id": "4nueQvPaFEgb",
        "outputId": "e132c154-16ef-47bc-9f09-78539bc50e5a"
      },
      "execution_count": 13,
      "outputs": [
        {
          "output_type": "stream",
          "name": "stdout",
          "text": [
            "sensor_00\n"
          ]
        },
        {
          "output_type": "display_data",
          "data": {
            "text/plain": [
              "<Figure size 432x288 with 1 Axes>"
            ],
            "image/png": "[encoded data removed]"
          },
          "metadata": {
            "needs_background": "light"
          }
        },
        {
          "output_type": "display_data",
          "data": {
            "text/plain": [
              "<Figure size 432x288 with 1 Axes>"
            ],
            "image/png": "[encoded data removed]"
          },
          "metadata": {
            "needs_background": "light"
          }
        },
        {
          "output_type": "stream",
          "name": "stdout",
          "text": [
            "sensor_01\n"
          ]
        },
        {
          "output_type": "display_data",
          "data": {
            "text/plain": [
              "<Figure size 432x288 with 1 Axes>"
            ],
            "image/png": "[encoded data removed]"
          },
          "metadata": {
            "needs_background": "light"
          }
        },
        {
          "output_type": "display_data",
          "data": {
            "text/plain": [
              "<Figure size 432x288 with 1 Axes>"
            ],
            "image/png": "[encoded data removed]"
          },
          "metadata": {
            "needs_background": "light"
          }
        },
        {
          "output_type": "stream",
          "name": "stdout",
          "text": [
            "sensor_02\n"
          ]
        },
        {
          "output_type": "display_data",
          "data": {
            "text/plain": [
              "<Figure size 432x288 with 1 Axes>"
            ],
            "image/png": "[encoded data removed]"
          },
          "metadata": {
            "needs_background": "light"
          }
        },
        {
          "output_type": "display_data",
          "data": {
            "text/plain": [
              "<Figure size 432x288 with 1 Axes>"
            ],
            "image/png": "[encoded data removed]"
          },
          "metadata": {
            "needs_background": "light"
          }
        },
        {
          "output_type": "stream",
          "name": "stdout",
          "text": [
            "sensor_03\n"
          ]
        },
        {
          "output_type": "display_data",
          "data": {
            "text/plain": [
              "<Figure size 432x288 with 1 Axes>"
            ],
            "image/png": "[encoded data removed]"
          },
          "metadata": {
            "needs_background": "light"
          }
        },
        {
          "output_type": "display_data",
          "data": {
            "text/plain": [
              "<Figure size 432x288 with 1 Axes>"
            ],
            "image/png": "[encoded data removed]"
          },
          "metadata": {
            "needs_background": "light"
          }
        },
        {
          "output_type": "stream",
          "name": "stdout",
          "text": [
            "sensor_04\n"
          ]
        },
        {
          "output_type": "display_data",
          "data": {
            "text/plain": [
              "<Figure size 432x288 with 1 Axes>"
            ],
            "image/png": "[encoded data removed]"
          },
          "metadata": {
            "needs_background": "light"
          }
        },
        {
          "output_type": "display_data",
          "data": {
            "text/plain": [
              "<Figure size 432x288 with 1 Axes>"
            ],
            "image/png": "[encoded data removed]"
          },
          "metadata": {
            "needs_background": "light"
          }
        },
        {
          "output_type": "stream",
          "name": "stdout",
          "text": [
            "sensor_05\n"
          ]
        },
        {
          "output_type": "display_data",
          "data": {
            "text/plain": [
              "<Figure size 432x288 with 1 Axes>"
            ],
            "image/png": "[encoded data removed]"
          },
          "metadata": {
            "needs_background": "light"
          }
        },
        {
          "output_type": "display_data",
          "data": {
            "text/plain": [
              "<Figure size 432x288 with 1 Axes>"
            ],
            "image/png": "[encoded data removed]"
          },
          "metadata": {
            "needs_background": "light"
          }
        },
        {
          "output_type": "stream",
          "name": "stdout",
          "text": [
            "sensor_06\n"
          ]
        },
        {
          "output_type": "display_data",
          "data": {
            "text/plain": [
              "<Figure size 432x288 with 1 Axes>"
            ],
            "image/png": "[encoded data removed]"
          },
          "metadata": {
            "needs_background": "light"
          }
        },
        {
          "output_type": "display_data",
          "data": {
            "text/plain": [
              "<Figure size 432x288 with 1 Axes>"
            ],
            "image/png": "[encoded data removed]"
          },
          "metadata": {
            "needs_background": "light"
          }
        },
        {
          "output_type": "stream",
          "name": "stdout",
          "text": [
            "sensor_07\n"
          ]
        },
        {
          "output_type": "display_data",
          "data": {
            "text/plain": [
              "<Figure size 432x288 with 1 Axes>"
            ],
            "image/png": "[encoded data removed]"
          },
          "metadata": {
            "needs_background": "light"
          }
        },
        {
          "output_type": "display_data",
          "data": {
            "text/plain": [
              "<Figure size 432x288 with 1 Axes>"
            ],
            "image/png": "[encoded data removed]"
          },
          "metadata": {
            "needs_background": "light"
          }
        },
        {
          "output_type": "stream",
          "name": "stdout",
          "text": [
            "sensor_08\n"
          ]
        },
        {
          "output_type": "display_data",
          "data": {
            "text/plain": [
              "<Figure size 432x288 with 1 Axes>"
            ],
            "image/png": "[encoded data removed]"
          },
          "metadata": {
            "needs_background": "light"
          }
        },
        {
          "output_type": "display_data",
          "data": {
            "text/plain": [
              "<Figure size 432x288 with 1 Axes>"
            ],
            "image/png": "[encoded data removed]"
          },
          "metadata": {
            "needs_background": "light"
          }
        },
        {
          "output_type": "stream",
          "name": "stdout",
          "text": [
            "sensor_09\n"
          ]
        },
        {
          "output_type": "display_data",
          "data": {
            "text/plain": [
              "<Figure size 432x288 with 1 Axes>"
            ],
            "image/png": "[encoded data removed]"
          },
          "metadata": {
            "needs_background": "light"
          }
        },
        {
          "output_type": "display_data",
          "data": {
            "text/plain": [
              "<Figure size 432x288 with 1 Axes>"
            ],
            "image/png": "[encoded data removed]"
          },
          "metadata": {
            "needs_background": "light"
          }
        },
        {
          "output_type": "stream",
          "name": "stdout",
          "text": [
            "sensor_10\n"
          ]
        },
        {
          "output_type": "display_data",
          "data": {
            "text/plain": [
              "<Figure size 432x288 with 1 Axes>"
            ],
            "image/png": "[encoded data removed]"
          },
          "metadata": {
            "needs_background": "light"
          }
        },
        {
          "output_type": "display_data",
          "data": {
            "text/plain": [
              "<Figure size 432x288 with 1 Axes>"
            ],
            "image/png": "[encoded data removed]"
          },
          "metadata": {
            "needs_background": "light"
          }
        },
        {
          "output_type": "stream",
          "name": "stdout",
          "text": [
            "sensor_11\n"
          ]
        },
        {
          "output_type": "display_data",
          "data": {
            "text/plain": [
              "<Figure size 432x288 with 1 Axes>"
            ],
            "image/png": "[encoded data removed]"
          },
          "metadata": {
            "needs_background": "light"
          }
        },
        {
          "output_type": "display_data",
          "data": {
            "text/plain": [
              "<Figure size 432x288 with 1 Axes>"
            ],
            "image/png": "[encoded data removed]"
          },
          "metadata": {
            "needs_background": "light"
          }
        },
        {
          "output_type": "stream",
          "name": "stdout",
          "text": [
            "sensor_12\n"
          ]
        },
        {
          "output_type": "display_data",
          "data": {
            "text/plain": [
              "<Figure size 432x288 with 1 Axes>"
            ],
            "image/png": "[encoded data removed]"
          },
          "metadata": {
            "needs_background": "light"
          }
        },
        {
          "output_type": "display_data",
          "data": {
            "text/plain": [
              "<Figure size 432x288 with 1 Axes>"
            ],
            "image/png": "[encoded data removed]"
          },
          "metadata": {
            "needs_background": "light"
          }
        }
      ]
    },
    {
      "cell_type": "code",
      "source": [
        "for column_name in test_x_df.columns:\n",
        "    if column_name[:7] != \"sensor_\":continue\n",
        "    test_x_df.loc[test_x_df[column_name]<percentile_min[column_name], column_name] = percentile_min[column_name]\n",
        "    test_x_df.loc[test_x_df[column_name]>percentile_max[column_name], column_name] = percentile_max[column_name]\n"
      ],
      "metadata": {
        "id": "Pm0YVOSTFEdb"
      },
      "execution_count": 14,
      "outputs": []
    },
    {
      "cell_type": "code",
      "source": [
        ""
      ],
      "metadata": {
        "id": "5F8KdN69FEV9"
      },
      "execution_count": 14,
      "outputs": []
    },
    {
      "cell_type": "markdown",
      "source": [
        "# numpy로 받기"
      ],
      "metadata": {
        "id": "7MO5U6zxS-0G"
      }
    },
    {
      "cell_type": "code",
      "source": [
        "train_x = np.empty((len(train_y_df), 60, 13))\n",
        "train_y = np.empty((len(train_y_df),1))"
      ],
      "metadata": {
        "id": "WYOx-tJD7312"
      },
      "execution_count": 24,
      "outputs": []
    },
    {
      "cell_type": "code",
      "source": [
        "test_x = np.empty((len(test_y_df), 60, 13))\n",
        "test_y = np.empty((len(test_y_df),1))"
      ],
      "metadata": {
        "id": "JxjOjCmNBkq9"
      },
      "execution_count": 25,
      "outputs": []
    },
    {
      "cell_type": "code",
      "source": [
        "raw_train_x = train_x_df.to_numpy()\n",
        "raw_train_y = train_y_df.to_numpy()"
      ],
      "metadata": {
        "id": "J5v5MWGn8jLP"
      },
      "execution_count": 26,
      "outputs": []
    },
    {
      "cell_type": "code",
      "source": [
        "raw_test_x = test_x_df.to_numpy()\n",
        "raw_test_y = test_y_df.to_numpy()"
      ],
      "metadata": {
        "id": "JaO7M7mvBgv2"
      },
      "execution_count": 18,
      "outputs": []
    },
    {
      "cell_type": "code",
      "source": [
        "for i in range(len(train_x)):\n",
        "    train_x[i,:,:] = raw_train_x[i*60:(i+1)*60,3:]"
      ],
      "metadata": {
        "id": "iKjzLm3q8Q1s"
      },
      "execution_count": 28,
      "outputs": []
    },
    {
      "cell_type": "code",
      "source": [
        "train_y = raw_train_y[:,1]"
      ],
      "metadata": {
        "id": "eNSdTE6H84m_"
      },
      "execution_count": 29,
      "outputs": []
    },
    {
      "cell_type": "code",
      "source": [
        "for i in range(len(test_x)):\n",
        "    test_x[i,:,:] = raw_test_x[i*60:(i+1)*60,3:]"
      ],
      "metadata": {
        "id": "ryNJBImpCDXU"
      },
      "execution_count": 30,
      "outputs": []
    },
    {
      "cell_type": "code",
      "source": [
        "test_y = raw_test_y[:,1]"
      ],
      "metadata": {
        "id": "9jODpFSnCDXV"
      },
      "execution_count": 31,
      "outputs": []
    },
    {
      "cell_type": "code",
      "source": [
        ""
      ],
      "metadata": {
        "id": "pXoic7f-H1Rr"
      },
      "execution_count": 31,
      "outputs": []
    },
    {
      "cell_type": "code",
      "source": [
        ""
      ],
      "metadata": {
        "id": "P37NNbd8H1OR"
      },
      "execution_count": 31,
      "outputs": []
    },
    {
      "cell_type": "markdown",
      "source": [
        "# 모델 학습"
      ],
      "metadata": {
        "id": "v_Mqz7tyC0ol"
      }
    },
    {
      "cell_type": "code",
      "source": [
        "from tensorflow import keras\n",
        "from tensorflow.keras.layers import Dense, RepeatVector, Flatten, Input\n",
        "from tensorflow.keras.layers import Bidirectional, LSTM, GRU\n",
        "\n",
        "from tensorflow.keras.layers import Dropout\n",
        "from tensorflow.keras.layers import BatchNormalization\n",
        "from tensorflow.keras.regularizers import l1, l2, L1L2\n",
        "\n",
        "input_shape = train_x.shape[1:]\n",
        "# input_shape = (5,2)\n",
        "\n",
        "model = keras.Sequential()\n",
        "model.add(Input(input_shape))\n",
        "model.add(Bidirectional(LSTM(128)))\n",
        "model.add(BatchNormalization())\n",
        "model.add(Dropout(0.2))\n",
        "model.add(Flatten())\n",
        "model.add(Dense(10, activation=\"relu\", kernel_regularizer=l1()))\n",
        "model.add(BatchNormalization())\n",
        "model.add(Dropout(0.2))\n",
        "model.add(Dense(2, activation=\"softmax\"))\n",
        "model.compile(loss=\"sparse_categorical_crossentropy\", optimizer=\"adam\", metrics=[\"acc\"])\n",
        "model.summary()\n",
        "\n",
        "history = model.fit(train_x, train_y, epochs=30, verbose=1, validation_split=0.1, batch_size=128)\n",
        "\n",
        "\n",
        "plt.plot(history.history['loss'])\n",
        "plt.plot(history.history['val_loss'])\n",
        "plt.show()\n",
        "\n",
        "\n",
        "\n",
        "loss, acc = model.evaluate(test_x, test_y)\n",
        "print(\"loss=\", loss)\n",
        "print(\"acc=\", acc)\n",
        "\n",
        "\n",
        "y_ = model.predict(test_x)\n",
        "predicted = np.argmax(y_, axis=-1)\n",
        "plt.plot(test_y[:30], 'o')\n",
        "plt.plot(predicted[:30], '.')\n",
        "plt.show()"
      ],
      "metadata": {
        "colab": {
          "base_uri": "https://localhost:8080/",
          "height": 1000
        },
        "id": "gijIY-TaOjH5",
        "outputId": "d1b5a4ce-1a85-4307-8c9d-d6ec6373ac7d"
      },
      "execution_count": 34,
      "outputs": [
        {
          "output_type": "stream",
          "name": "stdout",
          "text": [
            "Model: \"sequential_2\"\n",
            "_________________________________________________________________\n",
            " Layer (type)                Output Shape              Param #   \n",
            "=================================================================\n",
            " bidirectional_2 (Bidirectio  (None, 256)              145408    \n",
            " nal)                                                            \n",
            "                                                                 \n",
            " batch_normalization (BatchN  (None, 256)              1024      \n",
            " ormalization)                                                   \n",
            "                                                                 \n",
            " dropout (Dropout)           (None, 256)               0         \n",
            "                                                                 \n",
            " flatten_2 (Flatten)         (None, 256)               0         \n",
            "                                                                 \n",
            " dense_4 (Dense)             (None, 10)                2570      \n",
            "                                                                 \n",
            " batch_normalization_1 (Batc  (None, 10)               40        \n",
            " hNormalization)                                                 \n",
            "                                                                 \n",
            " dropout_1 (Dropout)         (None, 10)                0         \n",
            "                                                                 \n",
            " dense_5 (Dense)             (None, 2)                 22        \n",
            "                                                                 \n",
            "=================================================================\n",
            "Total params: 149,064\n",
            "Trainable params: 148,532\n",
            "Non-trainable params: 532\n",
            "_________________________________________________________________\n",
            "Epoch 1/30\n",
            "183/183 [==============================] - 7s 19ms/step - loss: 1.5774 - acc: 0.5450 - val_loss: 0.8706 - val_acc: 0.5029\n",
            "Epoch 2/30\n",
            "183/183 [==============================] - 3s 15ms/step - loss: 0.7655 - acc: 0.5892 - val_loss: 0.7296 - val_acc: 0.5630\n",
            "Epoch 3/30\n",
            "183/183 [==============================] - 3s 14ms/step - loss: 0.6956 - acc: 0.6105 - val_loss: 0.6843 - val_acc: 0.6434\n",
            "Epoch 4/30\n",
            "183/183 [==============================] - 3s 15ms/step - loss: 0.6633 - acc: 0.6554 - val_loss: 0.7217 - val_acc: 0.5888\n",
            "Epoch 5/30\n",
            "183/183 [==============================] - 3s 14ms/step - loss: 0.6455 - acc: 0.6743 - val_loss: 0.6744 - val_acc: 0.6361\n",
            "Epoch 6/30\n",
            "183/183 [==============================] - 3s 15ms/step - loss: 0.6167 - acc: 0.7038 - val_loss: 0.6031 - val_acc: 0.7181\n",
            "Epoch 7/30\n",
            "183/183 [==============================] - 3s 14ms/step - loss: 0.5781 - acc: 0.7376 - val_loss: 0.5943 - val_acc: 0.7262\n",
            "Epoch 8/30\n",
            "183/183 [==============================] - 3s 14ms/step - loss: 0.5376 - acc: 0.7688 - val_loss: 0.5278 - val_acc: 0.7740\n",
            "Epoch 9/30\n",
            "183/183 [==============================] - 3s 15ms/step - loss: 0.5013 - acc: 0.7919 - val_loss: 0.5100 - val_acc: 0.7894\n",
            "Epoch 10/30\n",
            "183/183 [==============================] - 3s 14ms/step - loss: 0.4729 - acc: 0.8088 - val_loss: 0.4709 - val_acc: 0.8175\n",
            "Epoch 11/30\n",
            "183/183 [==============================] - 3s 14ms/step - loss: 0.4478 - acc: 0.8251 - val_loss: 0.4527 - val_acc: 0.8136\n",
            "Epoch 12/30\n",
            "183/183 [==============================] - 3s 15ms/step - loss: 0.4189 - acc: 0.8396 - val_loss: 0.4305 - val_acc: 0.8337\n",
            "Epoch 13/30\n",
            "183/183 [==============================] - 3s 14ms/step - loss: 0.4315 - acc: 0.8289 - val_loss: 0.4633 - val_acc: 0.8082\n",
            "Epoch 14/30\n",
            "183/183 [==============================] - 3s 14ms/step - loss: 0.3892 - acc: 0.8540 - val_loss: 0.5059 - val_acc: 0.8109\n",
            "Epoch 15/30\n",
            "183/183 [==============================] - 3s 14ms/step - loss: 0.3690 - acc: 0.8646 - val_loss: 0.4384 - val_acc: 0.8306\n",
            "Epoch 16/30\n",
            "183/183 [==============================] - 3s 15ms/step - loss: 0.3515 - acc: 0.8745 - val_loss: 0.4158 - val_acc: 0.8402\n",
            "Epoch 17/30\n",
            "183/183 [==============================] - 3s 15ms/step - loss: 0.3277 - acc: 0.8844 - val_loss: 0.4120 - val_acc: 0.8444\n",
            "Epoch 18/30\n",
            "183/183 [==============================] - 3s 14ms/step - loss: 0.3144 - acc: 0.8910 - val_loss: 0.4258 - val_acc: 0.8390\n",
            "Epoch 19/30\n",
            "183/183 [==============================] - 3s 15ms/step - loss: 0.2988 - acc: 0.8991 - val_loss: 0.4271 - val_acc: 0.8371\n",
            "Epoch 20/30\n",
            "183/183 [==============================] - 3s 15ms/step - loss: 0.2850 - acc: 0.9037 - val_loss: 0.4363 - val_acc: 0.8394\n",
            "Epoch 21/30\n",
            "183/183 [==============================] - 3s 15ms/step - loss: 0.2689 - acc: 0.9130 - val_loss: 0.4385 - val_acc: 0.8471\n",
            "Epoch 22/30\n",
            "183/183 [==============================] - 3s 14ms/step - loss: 0.2609 - acc: 0.9161 - val_loss: 0.4325 - val_acc: 0.8387\n",
            "Epoch 23/30\n",
            "183/183 [==============================] - 3s 16ms/step - loss: 0.2490 - acc: 0.9218 - val_loss: 0.4298 - val_acc: 0.8429\n",
            "Epoch 24/30\n",
            "183/183 [==============================] - 3s 15ms/step - loss: 0.2306 - acc: 0.9289 - val_loss: 0.5200 - val_acc: 0.8390\n",
            "Epoch 25/30\n",
            "183/183 [==============================] - 3s 14ms/step - loss: 0.2201 - acc: 0.9338 - val_loss: 0.4523 - val_acc: 0.8448\n",
            "Epoch 26/30\n",
            "183/183 [==============================] - 3s 15ms/step - loss: 0.2182 - acc: 0.9345 - val_loss: 0.4719 - val_acc: 0.8383\n",
            "Epoch 27/30\n",
            "183/183 [==============================] - 3s 15ms/step - loss: 0.2088 - acc: 0.9377 - val_loss: 0.4890 - val_acc: 0.8433\n",
            "Epoch 28/30\n",
            "183/183 [==============================] - 3s 15ms/step - loss: 0.1895 - acc: 0.9449 - val_loss: 0.5888 - val_acc: 0.8433\n",
            "Epoch 29/30\n",
            "183/183 [==============================] - 3s 15ms/step - loss: 0.1916 - acc: 0.9443 - val_loss: 0.5261 - val_acc: 0.8340\n",
            "Epoch 30/30\n",
            "183/183 [==============================] - 3s 15ms/step - loss: 0.1832 - acc: 0.9482 - val_loss: 0.4613 - val_acc: 0.8437\n"
          ]
        },
        {
          "output_type": "display_data",
          "data": {
            "text/plain": [
              "<Figure size 432x288 with 1 Axes>"
            ],
            "image/png": "[encoded data removed]"
          },
          "metadata": {
            "needs_background": "light"
          }
        },
        {
          "output_type": "stream",
          "name": "stdout",
          "text": [
            "382/382 [==============================] - 2s 6ms/step - loss: 1.7776 - acc: 0.5030\n",
            "loss= 1.7776073217391968\n",
            "acc= 0.5030283331871033\n"
          ]
        },
        {
          "output_type": "display_data",
          "data": {
            "text/plain": [
              "<Figure size 432x288 with 1 Axes>"
            ],
            "image/png": "[encoded data removed]"
          },
          "metadata": {
            "needs_background": "light"
          }
        }
      ]
    },
    {
      "cell_type": "markdown",
      "source": [
        "# submission 파일 만들기"
      ],
      "metadata": {
        "id": "jRhp6d1EPRXB"
      }
    },
    {
      "cell_type": "code",
      "source": [
        "predicted = model.predict(test_x)\n",
        "print(predicted[:10])\n",
        "predicted = np.argmax(predicted, axis=1)\n",
        "print(predicted[:10])"
      ],
      "metadata": {
        "colab": {
          "base_uri": "https://localhost:8080/"
        },
        "id": "p_03nXBWPS4O",
        "outputId": "692fe088-1767-4d59-cee1-95572fac3b57"
      },
      "execution_count": 35,
      "outputs": [
        {
          "output_type": "stream",
          "name": "stdout",
          "text": [
            "[[0.6524513  0.34754872]\n",
            " [0.01060238 0.98939764]\n",
            " [0.99886143 0.00113854]\n",
            " [0.00647762 0.99352235]\n",
            " [0.04862731 0.9513727 ]\n",
            " [0.02352054 0.9764795 ]\n",
            " [0.8124689  0.18753111]\n",
            " [0.98847616 0.01152381]\n",
            " [0.03068809 0.96931183]\n",
            " [0.98854315 0.01145684]]\n",
            "[0 1 0 1 1 1 0 0 1 0]\n"
          ]
        }
      ]
    },
    {
      "cell_type": "code",
      "source": [
        "test_y_df['state'] = predicted\n",
        "print(test_y_df)"
      ],
      "metadata": {
        "colab": {
          "base_uri": "https://localhost:8080/"
        },
        "id": "MwxqfQxuPXs1",
        "outputId": "7b71fa11-035a-4f6d-97bb-f896cc38a2dd"
      },
      "execution_count": 36,
      "outputs": [
        {
          "output_type": "stream",
          "name": "stdout",
          "text": [
            "       sequence  state\n",
            "0         25968      0\n",
            "1         25969      1\n",
            "2         25970      0\n",
            "3         25971      1\n",
            "4         25972      1\n",
            "...         ...    ...\n",
            "12213     38181      0\n",
            "12214     38182      0\n",
            "12215     38183      1\n",
            "12216     38184      0\n",
            "12217     38185      0\n",
            "\n",
            "[12218 rows x 2 columns]\n"
          ]
        }
      ]
    },
    {
      "cell_type": "code",
      "source": [
        "test_y_df.to_csv(\"submission.csv\", index=False)"
      ],
      "metadata": {
        "id": "LFkoJsk8PwIg"
      },
      "execution_count": 37,
      "outputs": []
    },
    {
      "cell_type": "code",
      "source": [
        "!ls -al"
      ],
      "metadata": {
        "colab": {
          "base_uri": "https://localhost:8080/"
        },
        "id": "X0t6iLJEQBv7",
        "outputId": "14024203-46e9-47e8-c2e8-872dc068cd36"
      },
      "execution_count": 38,
      "outputs": [
        {
          "output_type": "stream",
          "name": "stdout",
          "text": [
            "total 753072\n",
            "drwxr-xr-x 1 root root      4096 Jun 28 07:39 .\n",
            "drwxr-xr-x 1 root root      4096 Jun 28 06:02 ..\n",
            "drwxr-xr-x 4 root root      4096 Jun 15 13:41 .config\n",
            "drwxr-xr-x 1 root root      4096 Jun 15 13:42 sample_data\n",
            "-rw-r--r-- 1 root root     97759 Mar  9 14:07 sample_submission.csv\n",
            "-rw-r--r-- 1 root root     97759 Jun 28 08:03 submission.csv\n",
            "-rw------- 1 root root 179626323 Jun 28 07:53 tabular-playground-series-apr-2022.zip\n",
            "-rw-r--r-- 1 root root 189323249 Mar  9 14:07 test.csv\n",
            "-rw-r--r-- 1 root root 401767146 Mar  9 14:07 train.csv\n",
            "-rw-r--r-- 1 root root    196649 Mar  9 14:08 train_labels.csv\n"
          ]
        }
      ]
    },
    {
      "cell_type": "code",
      "source": [
        "!head submission.csv"
      ],
      "metadata": {
        "colab": {
          "base_uri": "https://localhost:8080/"
        },
        "id": "jYqxuboIQG9o",
        "outputId": "7a113bb7-3203-460c-ab01-6d4f3a849b34"
      },
      "execution_count": 39,
      "outputs": [
        {
          "output_type": "stream",
          "name": "stdout",
          "text": [
            "sequence,state\n",
            "25968,0\n",
            "25969,1\n",
            "25970,0\n",
            "25971,1\n",
            "25972,1\n",
            "25973,1\n",
            "25974,0\n",
            "25975,0\n",
            "25976,1\n"
          ]
        }
      ]
    },
    {
      "cell_type": "code",
      "source": [
        ""
      ],
      "metadata": {
        "id": "6G39FAyIQJ9x"
      },
      "execution_count": null,
      "outputs": []
    }
  ]
}