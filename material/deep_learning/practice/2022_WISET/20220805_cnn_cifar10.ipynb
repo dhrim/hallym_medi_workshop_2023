{
  "nbformat": 4,
  "nbformat_minor": 0,
  "metadata": {
    "colab": {
      "name": "20220805_cnn_cifar10.ipynb",
      "provenance": [],
      "collapsed_sections": []
    },
    "kernelspec": {
      "name": "python3",
      "display_name": "Python 3"
    },
    "accelerator": "GPU"
  },
  "cells": [
    {
      "cell_type": "markdown",
      "metadata": {
        "id": "c503DSvxvOU5"
      },
      "source": [
        "# 이전 CNN 코드"
      ]
    },
    {
      "cell_type": "code",
      "metadata": {
        "id": "pH--ADDvhXQM"
      },
      "source": [
        "import numpy as np\n",
        "import matplotlib.pyplot as plt\n",
        "\n",
        "import tensorflow as tf\n",
        "from tensorflow import keras\n",
        "from tensorflow.keras import optimizers\n",
        "from tensorflow.keras.layers import Dense, Flatten, Conv2D, MaxPooling2D, BatchNormalization, Input, Reshape\n",
        "\n",
        "import time"
      ],
      "execution_count": 1,
      "outputs": []
    },
    {
      "cell_type": "code",
      "metadata": {
        "id": "puN5QRLz2toU",
        "outputId": "e9d041c6-795f-4533-8fe5-518df51f9c52",
        "colab": {
          "base_uri": "https://localhost:8080/"
        }
      },
      "source": [
        "(raw_train_x, raw_train_y), (raw_test_x, raw_test_y) = tf.keras.datasets.mnist.load_data()\n",
        "\n",
        "train_x = raw_train_x/255.\n",
        "test_x = raw_test_x/255.\n",
        "\n",
        "train_y = raw_train_y\n",
        "test_y = raw_test_y"
      ],
      "execution_count": 2,
      "outputs": [
        {
          "output_type": "stream",
          "name": "stdout",
          "text": [
            "Downloading data from https://storage.googleapis.com/tensorflow/tf-keras-datasets/mnist.npz\n",
            "11493376/11490434 [==============================] - 0s 0us/step\n",
            "11501568/11490434 [==============================] - 0s 0us/step\n"
          ]
        }
      ]
    },
    {
      "cell_type": "code",
      "metadata": {
        "id": "cuW2ftNT2trB",
        "colab": {
          "base_uri": "https://localhost:8080/"
        },
        "outputId": "21f5b14a-e3bb-41b9-d91f-1bfee67f8944"
      },
      "source": [
        "model = keras.Sequential()\n",
        "model.add(Input((28,28)))\n",
        "model.add(Reshape((28,28,1)))\n",
        "model.add(Conv2D(32, (3, 3), padding='same'))\n",
        "model.add(MaxPooling2D((2, 2)))\n",
        "model.add(Conv2D(64, (3, 3), padding='same'))\n",
        "model.add(MaxPooling2D((2, 2)))\n",
        "model.add(Flatten())\n",
        "model.add(Dense(10, activation='relu'))\n",
        "model.add(Dense(10, activation='relu'))\n",
        "model.add(Dense(10, activation='softmax'))\n",
        "\n",
        "model.compile(optimizer=\"adam\", loss=\"sparse_categorical_crossentropy\", metrics=[\"accuracy\"])\n",
        "model.summary()\n",
        "\n",
        "\n",
        "model.fit(train_x, train_y, epochs=5, verbose=1, batch_size=128)\n",
        "\n",
        "\n",
        "loss, acc = model.evaluate(test_x, test_y)\n",
        "print(\"loss=\",loss)\n",
        "print(\"acc=\",acc)\n",
        "\n",
        "y_ = model.predict(test_x)\n",
        "predicted = np.argmax(y_, axis=1)\n",
        "\n",
        "print(predicted)\n"
      ],
      "execution_count": 3,
      "outputs": [
        {
          "output_type": "stream",
          "name": "stdout",
          "text": [
            "Model: \"sequential\"\n",
            "_________________________________________________________________\n",
            " Layer (type)                Output Shape              Param #   \n",
            "=================================================================\n",
            " reshape (Reshape)           (None, 28, 28, 1)         0         \n",
            "                                                                 \n",
            " conv2d (Conv2D)             (None, 28, 28, 32)        320       \n",
            "                                                                 \n",
            " max_pooling2d (MaxPooling2D  (None, 14, 14, 32)       0         \n",
            " )                                                               \n",
            "                                                                 \n",
            " conv2d_1 (Conv2D)           (None, 14, 14, 64)        18496     \n",
            "                                                                 \n",
            " max_pooling2d_1 (MaxPooling  (None, 7, 7, 64)         0         \n",
            " 2D)                                                             \n",
            "                                                                 \n",
            " flatten (Flatten)           (None, 3136)              0         \n",
            "                                                                 \n",
            " dense (Dense)               (None, 10)                31370     \n",
            "                                                                 \n",
            " dense_1 (Dense)             (None, 10)                110       \n",
            "                                                                 \n",
            " dense_2 (Dense)             (None, 10)                110       \n",
            "                                                                 \n",
            "=================================================================\n",
            "Total params: 50,406\n",
            "Trainable params: 50,406\n",
            "Non-trainable params: 0\n",
            "_________________________________________________________________\n",
            "Epoch 1/5\n",
            "469/469 [==============================] - 17s 6ms/step - loss: 0.4754 - accuracy: 0.8451\n",
            "Epoch 2/5\n",
            "469/469 [==============================] - 3s 7ms/step - loss: 0.1168 - accuracy: 0.9664\n",
            "Epoch 3/5\n",
            "469/469 [==============================] - 3s 7ms/step - loss: 0.0818 - accuracy: 0.9756\n",
            "Epoch 4/5\n",
            "469/469 [==============================] - 2s 4ms/step - loss: 0.0674 - accuracy: 0.9797\n",
            "Epoch 5/5\n",
            "469/469 [==============================] - 2s 4ms/step - loss: 0.0563 - accuracy: 0.9826\n",
            "313/313 [==============================] - 1s 3ms/step - loss: 0.0576 - accuracy: 0.9818\n",
            "loss= 0.05760008469223976\n",
            "acc= 0.9818000197410583\n",
            "[7 2 1 ... 4 5 6]\n"
          ]
        }
      ]
    },
    {
      "cell_type": "markdown",
      "metadata": {
        "id": "54-uB1LWA-5R"
      },
      "source": [
        "# CIFAR10 적용\n",
        "\n",
        "refered https://www.cs.toronto.edu/~kriz/cifar.html\n"
      ]
    },
    {
      "cell_type": "code",
      "metadata": {
        "id": "zHPDKioauhfZ"
      },
      "source": [
        "import numpy as np\n",
        "import matplotlib.pyplot as plt\n",
        "\n",
        "import tensorflow as tf\n",
        "from tensorflow import keras\n",
        "from tensorflow.keras import optimizers\n",
        "from tensorflow.keras.layers import Dense, Flatten, Conv2D, MaxPooling2D, BatchNormalization, Input, Reshape\n",
        "\n",
        "import time"
      ],
      "execution_count": 4,
      "outputs": []
    },
    {
      "cell_type": "code",
      "metadata": {
        "id": "oPclK8DGA_gw",
        "colab": {
          "base_uri": "https://localhost:8080/"
        },
        "outputId": "36c1f95a-f6df-4e08-8a0d-d5ffa4b59e2a"
      },
      "source": [
        "# (raw_train_x, raw_train_y), (raw_test_x, raw_test_y) = tf.keras.datasets.mnist.load_data()\n",
        "(raw_train_x, raw_train_y), (raw_test_x, raw_test_y) = tf.keras.datasets.cifar10.load_data()\n",
        "\n",
        "print(raw_train_x.shape)\n",
        "print(raw_train_y.shape)\n",
        "print(raw_test_x.shape)\n",
        "print(raw_test_y.shape)\n",
        "\n",
        "\n",
        "train_x = raw_train_x/255.\n",
        "test_x = raw_test_x/255.\n",
        "\n",
        "train_y = raw_train_y\n",
        "test_y = raw_test_y"
      ],
      "execution_count": 5,
      "outputs": [
        {
          "output_type": "stream",
          "name": "stdout",
          "text": [
            "Downloading data from https://www.cs.toronto.edu/~kriz/cifar-10-python.tar.gz\n",
            "170500096/170498071 [==============================] - 6s 0us/step\n",
            "170508288/170498071 [==============================] - 6s 0us/step\n",
            "(50000, 32, 32, 3)\n",
            "(50000, 1)\n",
            "(10000, 32, 32, 3)\n",
            "(10000, 1)\n"
          ]
        }
      ]
    },
    {
      "cell_type": "code",
      "metadata": {
        "id": "SrbJDeptkD3j",
        "colab": {
          "base_uri": "https://localhost:8080/"
        },
        "outputId": "1b612fd1-25df-447f-de6b-57bbf20112af"
      },
      "source": [
        "print(raw_train_x[0])"
      ],
      "execution_count": 6,
      "outputs": [
        {
          "output_type": "stream",
          "name": "stdout",
          "text": [
            "[[[ 59  62  63]\n",
            "  [ 43  46  45]\n",
            "  [ 50  48  43]\n",
            "  ...\n",
            "  [158 132 108]\n",
            "  [152 125 102]\n",
            "  [148 124 103]]\n",
            "\n",
            " [[ 16  20  20]\n",
            "  [  0   0   0]\n",
            "  [ 18   8   0]\n",
            "  ...\n",
            "  [123  88  55]\n",
            "  [119  83  50]\n",
            "  [122  87  57]]\n",
            "\n",
            " [[ 25  24  21]\n",
            "  [ 16   7   0]\n",
            "  [ 49  27   8]\n",
            "  ...\n",
            "  [118  84  50]\n",
            "  [120  84  50]\n",
            "  [109  73  42]]\n",
            "\n",
            " ...\n",
            "\n",
            " [[208 170  96]\n",
            "  [201 153  34]\n",
            "  [198 161  26]\n",
            "  ...\n",
            "  [160 133  70]\n",
            "  [ 56  31   7]\n",
            "  [ 53  34  20]]\n",
            "\n",
            " [[180 139  96]\n",
            "  [173 123  42]\n",
            "  [186 144  30]\n",
            "  ...\n",
            "  [184 148  94]\n",
            "  [ 97  62  34]\n",
            "  [ 83  53  34]]\n",
            "\n",
            " [[177 144 116]\n",
            "  [168 129  94]\n",
            "  [179 142  87]\n",
            "  ...\n",
            "  [216 184 140]\n",
            "  [151 118  84]\n",
            "  [123  92  72]]]\n"
          ]
        }
      ]
    },
    {
      "cell_type": "code",
      "metadata": {
        "id": "lNy4AUQDylpU",
        "colab": {
          "base_uri": "https://localhost:8080/",
          "height": 1000
        },
        "outputId": "bed625e4-4751-4e65-bf6e-0da76c1a94cc"
      },
      "source": [
        "labels = [\"airplane\", \"automobile\", \"bird\", \"cat\", \"deer\", \"dog\", \"frog\", \"horse\", \"ship\", \"truck\"]\n",
        "\n",
        "def show_sample(i):\n",
        "  print(raw_train_y[i][0], labels[raw_train_y[i][0]])\n",
        "  plt.imshow(raw_train_x[i])\n",
        "  plt.show()\n",
        "\n",
        "for i in [2, 10, 12, 14]:\n",
        "  show_sample(i)"
      ],
      "execution_count": 7,
      "outputs": [
        {
          "output_type": "stream",
          "name": "stdout",
          "text": [
            "9 truck\n"
          ]
        },
        {
          "output_type": "display_data",
          "data": {
            "text/plain": [
              "<Figure size 432x288 with 1 Axes>"
            ],
            "image/png": "[encoded data removed]"
          },
          "metadata": {
            "needs_background": "light"
          }
        },
        {
          "output_type": "stream",
          "name": "stdout",
          "text": [
            "4 deer\n"
          ]
        },
        {
          "output_type": "display_data",
          "data": {
            "text/plain": [
              "<Figure size 432x288 with 1 Axes>"
            ],
            "image/png": "[encoded data removed]"
          },
          "metadata": {
            "needs_background": "light"
          }
        },
        {
          "output_type": "stream",
          "name": "stdout",
          "text": [
            "7 horse\n"
          ]
        },
        {
          "output_type": "display_data",
          "data": {
            "text/plain": [
              "<Figure size 432x288 with 1 Axes>"
            ],
            "image/png": "[encoded data removed]"
          },
          "metadata": {
            "needs_background": "light"
          }
        },
        {
          "output_type": "stream",
          "name": "stdout",
          "text": [
            "9 truck\n"
          ]
        },
        {
          "output_type": "display_data",
          "data": {
            "text/plain": [
              "<Figure size 432x288 with 1 Axes>"
            ],
            "image/png": "[encoded data removed]"
          },
          "metadata": {
            "needs_background": "light"
          }
        }
      ]
    },
    {
      "cell_type": "code",
      "metadata": {
        "id": "om_gEsuDA_jp",
        "colab": {
          "base_uri": "https://localhost:8080/"
        },
        "outputId": "90839be7-b029-4b21-896c-833d6610c142"
      },
      "source": [
        "model = keras.Sequential()\n",
        "# model.add(Input((28,28)))\n",
        "# model.add(Reshape((28,28,1)))\n",
        "model.add(Input((32,32,3)))\n",
        "model.add(Conv2D(32, (3, 3), padding='same'))\n",
        "model.add(MaxPooling2D((2, 2)))\n",
        "model.add(Conv2D(64, (3, 3), padding='same'))\n",
        "model.add(MaxPooling2D((2, 2)))\n",
        "model.add(Flatten())\n",
        "model.add(Dense(10, activation='relu'))\n",
        "model.add(Dense(10, activation='relu'))\n",
        "model.add(Dense(10, activation='softmax'))\n",
        "\n",
        "model.compile(optimizer=\"adam\", loss=\"sparse_categorical_crossentropy\", metrics=[\"accuracy\"])\n",
        "model.summary()\n",
        "\n",
        "\n",
        "# model.fit(train_x, train_y, epochs=5, verbose=1, batch_size=128)\n",
        "history = model.fit(train_x, train_y, epochs=50, verbose=1, batch_size=128, validation_split=0.1)\n",
        "\n",
        "\n",
        "loss, acc = model.evaluate(test_x, test_y)\n",
        "print(\"loss=\",loss)\n",
        "print(\"acc=\",acc)\n",
        "\n",
        "y_ = model.predict(test_x)\n",
        "predicted = np.argmax(y_, axis=1)\n",
        "\n",
        "print(predicted)\n"
      ],
      "execution_count": 8,
      "outputs": [
        {
          "output_type": "stream",
          "name": "stdout",
          "text": [
            "Model: \"sequential_1\"\n",
            "_________________________________________________________________\n",
            " Layer (type)                Output Shape              Param #   \n",
            "=================================================================\n",
            " conv2d_2 (Conv2D)           (None, 32, 32, 32)        896       \n",
            "                                                                 \n",
            " max_pooling2d_2 (MaxPooling  (None, 16, 16, 32)       0         \n",
            " 2D)                                                             \n",
            "                                                                 \n",
            " conv2d_3 (Conv2D)           (None, 16, 16, 64)        18496     \n",
            "                                                                 \n",
            " max_pooling2d_3 (MaxPooling  (None, 8, 8, 64)         0         \n",
            " 2D)                                                             \n",
            "                                                                 \n",
            " flatten_1 (Flatten)         (None, 4096)              0         \n",
            "                                                                 \n",
            " dense_3 (Dense)             (None, 10)                40970     \n",
            "                                                                 \n",
            " dense_4 (Dense)             (None, 10)                110       \n",
            "                                                                 \n",
            " dense_5 (Dense)             (None, 10)                110       \n",
            "                                                                 \n",
            "=================================================================\n",
            "Total params: 60,582\n",
            "Trainable params: 60,582\n",
            "Non-trainable params: 0\n",
            "_________________________________________________________________\n",
            "Epoch 1/50\n",
            "352/352 [==============================] - 3s 6ms/step - loss: 1.9546 - accuracy: 0.2669 - val_loss: 1.6995 - val_accuracy: 0.3604\n",
            "Epoch 2/50\n",
            "352/352 [==============================] - 2s 5ms/step - loss: 1.6244 - accuracy: 0.4044 - val_loss: 1.5251 - val_accuracy: 0.4522\n",
            "Epoch 3/50\n",
            "352/352 [==============================] - 2s 5ms/step - loss: 1.4415 - accuracy: 0.4836 - val_loss: 1.3594 - val_accuracy: 0.5170\n",
            "Epoch 4/50\n",
            "352/352 [==============================] - 2s 6ms/step - loss: 1.2902 - accuracy: 0.5443 - val_loss: 1.2285 - val_accuracy: 0.5622\n",
            "Epoch 5/50\n",
            "352/352 [==============================] - 2s 6ms/step - loss: 1.1828 - accuracy: 0.5844 - val_loss: 1.1894 - val_accuracy: 0.5788\n",
            "Epoch 6/50\n",
            "352/352 [==============================] - 2s 5ms/step - loss: 1.1192 - accuracy: 0.6058 - val_loss: 1.1184 - val_accuracy: 0.6062\n",
            "Epoch 7/50\n",
            "352/352 [==============================] - 2s 6ms/step - loss: 1.0580 - accuracy: 0.6311 - val_loss: 1.0931 - val_accuracy: 0.6146\n",
            "Epoch 8/50\n",
            "352/352 [==============================] - 2s 5ms/step - loss: 1.0145 - accuracy: 0.6468 - val_loss: 1.0814 - val_accuracy: 0.6182\n",
            "Epoch 9/50\n",
            "352/352 [==============================] - 2s 5ms/step - loss: 0.9749 - accuracy: 0.6595 - val_loss: 1.0261 - val_accuracy: 0.6424\n",
            "Epoch 10/50\n",
            "352/352 [==============================] - 2s 5ms/step - loss: 0.9427 - accuracy: 0.6718 - val_loss: 1.0047 - val_accuracy: 0.6492\n",
            "Epoch 11/50\n",
            "352/352 [==============================] - 2s 6ms/step - loss: 0.9118 - accuracy: 0.6813 - val_loss: 1.0147 - val_accuracy: 0.6480\n",
            "Epoch 12/50\n",
            "352/352 [==============================] - 2s 5ms/step - loss: 0.8871 - accuracy: 0.6924 - val_loss: 0.9983 - val_accuracy: 0.6562\n",
            "Epoch 13/50\n",
            "352/352 [==============================] - 2s 6ms/step - loss: 0.8620 - accuracy: 0.6992 - val_loss: 1.0227 - val_accuracy: 0.6444\n",
            "Epoch 14/50\n",
            "352/352 [==============================] - 2s 5ms/step - loss: 0.8359 - accuracy: 0.7078 - val_loss: 1.0102 - val_accuracy: 0.6600\n",
            "Epoch 15/50\n",
            "352/352 [==============================] - 2s 5ms/step - loss: 0.8126 - accuracy: 0.7164 - val_loss: 0.9790 - val_accuracy: 0.6652\n",
            "Epoch 16/50\n",
            "352/352 [==============================] - 2s 5ms/step - loss: 0.7901 - accuracy: 0.7239 - val_loss: 0.9927 - val_accuracy: 0.6624\n",
            "Epoch 17/50\n",
            "352/352 [==============================] - 2s 5ms/step - loss: 0.7676 - accuracy: 0.7307 - val_loss: 0.9950 - val_accuracy: 0.6602\n",
            "Epoch 18/50\n",
            "352/352 [==============================] - 2s 6ms/step - loss: 0.7468 - accuracy: 0.7399 - val_loss: 1.0542 - val_accuracy: 0.6372\n",
            "Epoch 19/50\n",
            "352/352 [==============================] - 2s 5ms/step - loss: 0.7281 - accuracy: 0.7457 - val_loss: 1.0106 - val_accuracy: 0.6656\n",
            "Epoch 20/50\n",
            "352/352 [==============================] - 2s 6ms/step - loss: 0.7101 - accuracy: 0.7518 - val_loss: 1.0005 - val_accuracy: 0.6646\n",
            "Epoch 21/50\n",
            "352/352 [==============================] - 2s 5ms/step - loss: 0.6913 - accuracy: 0.7579 - val_loss: 1.0335 - val_accuracy: 0.6490\n",
            "Epoch 22/50\n",
            "352/352 [==============================] - 2s 5ms/step - loss: 0.6784 - accuracy: 0.7622 - val_loss: 1.0045 - val_accuracy: 0.6694\n",
            "Epoch 23/50\n",
            "352/352 [==============================] - 2s 5ms/step - loss: 0.6587 - accuracy: 0.7687 - val_loss: 1.0387 - val_accuracy: 0.6574\n",
            "Epoch 24/50\n",
            "352/352 [==============================] - 2s 5ms/step - loss: 0.6405 - accuracy: 0.7760 - val_loss: 1.0288 - val_accuracy: 0.6652\n",
            "Epoch 25/50\n",
            "352/352 [==============================] - 2s 5ms/step - loss: 0.6251 - accuracy: 0.7819 - val_loss: 1.0712 - val_accuracy: 0.6572\n",
            "Epoch 26/50\n",
            "352/352 [==============================] - 2s 5ms/step - loss: 0.6123 - accuracy: 0.7832 - val_loss: 1.0893 - val_accuracy: 0.6604\n",
            "Epoch 27/50\n",
            "352/352 [==============================] - 2s 6ms/step - loss: 0.5954 - accuracy: 0.7907 - val_loss: 1.0618 - val_accuracy: 0.6608\n",
            "Epoch 28/50\n",
            "352/352 [==============================] - 2s 5ms/step - loss: 0.5838 - accuracy: 0.7936 - val_loss: 1.0861 - val_accuracy: 0.6558\n",
            "Epoch 29/50\n",
            "352/352 [==============================] - 2s 5ms/step - loss: 0.5695 - accuracy: 0.8001 - val_loss: 1.1110 - val_accuracy: 0.6610\n",
            "Epoch 30/50\n",
            "352/352 [==============================] - 2s 5ms/step - loss: 0.5568 - accuracy: 0.8048 - val_loss: 1.1095 - val_accuracy: 0.6608\n",
            "Epoch 31/50\n",
            "352/352 [==============================] - 2s 5ms/step - loss: 0.5450 - accuracy: 0.8075 - val_loss: 1.1190 - val_accuracy: 0.6646\n",
            "Epoch 32/50\n",
            "352/352 [==============================] - 2s 7ms/step - loss: 0.5292 - accuracy: 0.8132 - val_loss: 1.1550 - val_accuracy: 0.6526\n",
            "Epoch 33/50\n",
            "352/352 [==============================] - 2s 5ms/step - loss: 0.5225 - accuracy: 0.8166 - val_loss: 1.1703 - val_accuracy: 0.6570\n",
            "Epoch 34/50\n",
            "352/352 [==============================] - 2s 5ms/step - loss: 0.5096 - accuracy: 0.8193 - val_loss: 1.1791 - val_accuracy: 0.6600\n",
            "Epoch 35/50\n",
            "352/352 [==============================] - 2s 6ms/step - loss: 0.4939 - accuracy: 0.8250 - val_loss: 1.2101 - val_accuracy: 0.6528\n",
            "Epoch 36/50\n",
            "352/352 [==============================] - 3s 7ms/step - loss: 0.4832 - accuracy: 0.8308 - val_loss: 1.2421 - val_accuracy: 0.6518\n",
            "Epoch 37/50\n",
            "352/352 [==============================] - 3s 8ms/step - loss: 0.4737 - accuracy: 0.8328 - val_loss: 1.2529 - val_accuracy: 0.6528\n",
            "Epoch 38/50\n",
            "352/352 [==============================] - 2s 6ms/step - loss: 0.4685 - accuracy: 0.8335 - val_loss: 1.2575 - val_accuracy: 0.6572\n",
            "Epoch 39/50\n",
            "352/352 [==============================] - 2s 7ms/step - loss: 0.4563 - accuracy: 0.8399 - val_loss: 1.3192 - val_accuracy: 0.6480\n",
            "Epoch 40/50\n",
            "352/352 [==============================] - 2s 7ms/step - loss: 0.4405 - accuracy: 0.8456 - val_loss: 1.3446 - val_accuracy: 0.6436\n",
            "Epoch 41/50\n",
            "352/352 [==============================] - 2s 5ms/step - loss: 0.4403 - accuracy: 0.8443 - val_loss: 1.3438 - val_accuracy: 0.6528\n",
            "Epoch 42/50\n",
            "352/352 [==============================] - 2s 7ms/step - loss: 0.4243 - accuracy: 0.8501 - val_loss: 1.4263 - val_accuracy: 0.6330\n",
            "Epoch 43/50\n",
            "352/352 [==============================] - 2s 7ms/step - loss: 0.4130 - accuracy: 0.8545 - val_loss: 1.3995 - val_accuracy: 0.6374\n",
            "Epoch 44/50\n",
            "352/352 [==============================] - 2s 6ms/step - loss: 0.4092 - accuracy: 0.8561 - val_loss: 1.4214 - val_accuracy: 0.6414\n",
            "Epoch 45/50\n",
            "352/352 [==============================] - 2s 5ms/step - loss: 0.4068 - accuracy: 0.8565 - val_loss: 1.4675 - val_accuracy: 0.6338\n",
            "Epoch 46/50\n",
            "352/352 [==============================] - 2s 5ms/step - loss: 0.3925 - accuracy: 0.8599 - val_loss: 1.4687 - val_accuracy: 0.6336\n",
            "Epoch 47/50\n",
            "352/352 [==============================] - 2s 5ms/step - loss: 0.3830 - accuracy: 0.8640 - val_loss: 1.5003 - val_accuracy: 0.6418\n",
            "Epoch 48/50\n",
            "352/352 [==============================] - 2s 5ms/step - loss: 0.3779 - accuracy: 0.8658 - val_loss: 1.5163 - val_accuracy: 0.6324\n",
            "Epoch 49/50\n",
            "352/352 [==============================] - 2s 5ms/step - loss: 0.3669 - accuracy: 0.8698 - val_loss: 1.5431 - val_accuracy: 0.6426\n",
            "Epoch 50/50\n",
            "352/352 [==============================] - 2s 5ms/step - loss: 0.3681 - accuracy: 0.8696 - val_loss: 1.5955 - val_accuracy: 0.6348\n",
            "313/313 [==============================] - 1s 3ms/step - loss: 1.6419 - accuracy: 0.6316\n",
            "loss= 1.641867756843567\n",
            "acc= 0.631600022315979\n",
            "[3 1 9 ... 5 1 7]\n"
          ]
        }
      ]
    },
    {
      "cell_type": "code",
      "source": [
        "plt.plot(history.history[\"loss\"])\n",
        "plt.plot(history.history[\"val_loss\"])\n",
        "plt.show()\n",
        "\n",
        "plt.plot(history.history[\"accuracy\"])\n",
        "plt.plot(history.history[\"val_accuracy\"])\n",
        "plt.show()"
      ],
      "metadata": {
        "id": "JaK80J8mtmlU",
        "outputId": "564f759d-5e3f-4fe0-eb0b-d5d2ed52b04e",
        "colab": {
          "base_uri": "https://localhost:8080/",
          "height": 513
        }
      },
      "execution_count": 9,
      "outputs": [
        {
          "output_type": "display_data",
          "data": {
            "text/plain": [
              "<Figure size 432x288 with 1 Axes>"
            ],
            "image/png": "[encoded data removed]"
          },
          "metadata": {
            "needs_background": "light"
          }
        },
        {
          "output_type": "display_data",
          "data": {
            "text/plain": [
              "<Figure size 432x288 with 1 Axes>"
            ],
            "image/png": "[encoded data removed]"
          },
          "metadata": {
            "needs_background": "light"
          }
        }
      ]
    },
    {
      "cell_type": "code",
      "metadata": {
        "id": "6Oj5QSsQ_EZu",
        "colab": {
          "base_uri": "https://localhost:8080/"
        },
        "outputId": "96f8954a-4e7f-4c6b-d8d3-195bd93fdd00"
      },
      "source": [
        "from tensorflow.keras.layers import Dropout\n",
        "from tensorflow.keras.layers import BatchNormalization\n",
        "from tensorflow.keras.layers import GaussianNoise\n",
        "from tensorflow.keras.regularizers import l1, l2, L1L2\n",
        "\n",
        "\n",
        "model = keras.Sequential()\n",
        "model.add(Input((32,32,3)))\n",
        "# model.add(GaussianNoise(0.1))\n",
        "model.add(Conv2D(32, (3, 3), padding='same'))\n",
        "model.add(BatchNormalization())\n",
        "# model.add(Dropout(0.2))\n",
        "model.add(MaxPooling2D((2, 2)))\n",
        "model.add(BatchNormalization())\n",
        "# model.add(Dropout(0.2))\n",
        "model.add(Conv2D(64, (3, 3), padding='same'))\n",
        "model.add(BatchNormalization())\n",
        "model.add(Dropout(0.2))\n",
        "model.add(MaxPooling2D((2, 2)))\n",
        "model.add(BatchNormalization())\n",
        "# model.add(Dropout(0.2))\n",
        "model.add(Flatten())\n",
        "model.add(Dense(10, activation='relu', kernel_regularizer=l2()))\n",
        "model.add(BatchNormalization())\n",
        "model.add(Dropout(0.2))\n",
        "model.add(Dense(10, activation='relu', kernel_regularizer=l2()))\n",
        "model.add(BatchNormalization())\n",
        "model.add(Dropout(0.2))\n",
        "model.add(Dense(10, activation='softmax'))\n",
        "\n",
        "model.compile(optimizer=\"adam\", loss=\"sparse_categorical_crossentropy\", metrics=[\"accuracy\"])\n",
        "model.summary()\n",
        "\n",
        "\n",
        "# model.fit(train_x, train_y, epochs=5, verbose=1, batch_size=128)\n",
        "treated_history = model.fit(train_x, train_y, epochs=50, verbose=1, batch_size=128, validation_split=0.1)\n",
        "\n",
        "\n",
        "loss, acc = model.evaluate(test_x, test_y)\n",
        "print(\"loss=\",loss)\n",
        "print(\"acc=\",acc)\n",
        "\n",
        "y_ = model.predict(test_x)\n",
        "predicted = np.argmax(y_, axis=1)\n",
        "\n",
        "print(predicted)\n"
      ],
      "execution_count": 14,
      "outputs": [
        {
          "output_type": "stream",
          "name": "stdout",
          "text": [
            "Model: \"sequential_5\"\n",
            "_________________________________________________________________\n",
            " Layer (type)                Output Shape              Param #   \n",
            "=================================================================\n",
            " conv2d_10 (Conv2D)          (None, 32, 32, 32)        896       \n",
            "                                                                 \n",
            " batch_normalization_12 (Bat  (None, 32, 32, 32)       128       \n",
            " chNormalization)                                                \n",
            "                                                                 \n",
            " max_pooling2d_10 (MaxPoolin  (None, 16, 16, 32)       0         \n",
            " g2D)                                                            \n",
            "                                                                 \n",
            " batch_normalization_13 (Bat  (None, 16, 16, 32)       128       \n",
            " chNormalization)                                                \n",
            "                                                                 \n",
            " conv2d_11 (Conv2D)          (None, 16, 16, 64)        18496     \n",
            "                                                                 \n",
            " batch_normalization_14 (Bat  (None, 16, 16, 64)       256       \n",
            " chNormalization)                                                \n",
            "                                                                 \n",
            " dropout_12 (Dropout)        (None, 16, 16, 64)        0         \n",
            "                                                                 \n",
            " max_pooling2d_11 (MaxPoolin  (None, 8, 8, 64)         0         \n",
            " g2D)                                                            \n",
            "                                                                 \n",
            " batch_normalization_15 (Bat  (None, 8, 8, 64)         256       \n",
            " chNormalization)                                                \n",
            "                                                                 \n",
            " flatten_5 (Flatten)         (None, 4096)              0         \n",
            "                                                                 \n",
            " dense_15 (Dense)            (None, 10)                40970     \n",
            "                                                                 \n",
            " batch_normalization_16 (Bat  (None, 10)               40        \n",
            " chNormalization)                                                \n",
            "                                                                 \n",
            " dropout_13 (Dropout)        (None, 10)                0         \n",
            "                                                                 \n",
            " dense_16 (Dense)            (None, 10)                110       \n",
            "                                                                 \n",
            " batch_normalization_17 (Bat  (None, 10)               40        \n",
            " chNormalization)                                                \n",
            "                                                                 \n",
            " dropout_14 (Dropout)        (None, 10)                0         \n",
            "                                                                 \n",
            " dense_17 (Dense)            (None, 10)                110       \n",
            "                                                                 \n",
            "=================================================================\n",
            "Total params: 61,430\n",
            "Trainable params: 61,006\n",
            "Non-trainable params: 424\n",
            "_________________________________________________________________\n",
            "Epoch 1/50\n",
            "352/352 [==============================] - 4s 8ms/step - loss: 2.1401 - accuracy: 0.3070 - val_loss: 2.4443 - val_accuracy: 0.1830\n",
            "Epoch 2/50\n",
            "352/352 [==============================] - 3s 8ms/step - loss: 1.6801 - accuracy: 0.4340 - val_loss: 1.6775 - val_accuracy: 0.4480\n",
            "Epoch 3/50\n",
            "352/352 [==============================] - 3s 8ms/step - loss: 1.5178 - accuracy: 0.4898 - val_loss: 1.6967 - val_accuracy: 0.4446\n",
            "Epoch 4/50\n",
            "352/352 [==============================] - 3s 8ms/step - loss: 1.4392 - accuracy: 0.5200 - val_loss: 1.5335 - val_accuracy: 0.4916\n",
            "Epoch 5/50\n",
            "352/352 [==============================] - 3s 8ms/step - loss: 1.4077 - accuracy: 0.5283 - val_loss: 1.5083 - val_accuracy: 0.5126\n",
            "Epoch 6/50\n",
            "352/352 [==============================] - 3s 8ms/step - loss: 1.3734 - accuracy: 0.5461 - val_loss: 1.8150 - val_accuracy: 0.4004\n",
            "Epoch 7/50\n",
            "352/352 [==============================] - 3s 8ms/step - loss: 1.3512 - accuracy: 0.5518 - val_loss: 1.2633 - val_accuracy: 0.5872\n",
            "Epoch 8/50\n",
            "352/352 [==============================] - 3s 8ms/step - loss: 1.3329 - accuracy: 0.5597 - val_loss: 1.3663 - val_accuracy: 0.5398\n",
            "Epoch 9/50\n",
            "352/352 [==============================] - 3s 7ms/step - loss: 1.3182 - accuracy: 0.5721 - val_loss: 1.3220 - val_accuracy: 0.5760\n",
            "Epoch 10/50\n",
            "352/352 [==============================] - 3s 8ms/step - loss: 1.3112 - accuracy: 0.5754 - val_loss: 1.4165 - val_accuracy: 0.5412\n",
            "Epoch 11/50\n",
            "352/352 [==============================] - 3s 8ms/step - loss: 1.2984 - accuracy: 0.5789 - val_loss: 1.2864 - val_accuracy: 0.5778\n",
            "Epoch 12/50\n",
            "352/352 [==============================] - 3s 8ms/step - loss: 1.2869 - accuracy: 0.5874 - val_loss: 1.3290 - val_accuracy: 0.5624\n",
            "Epoch 13/50\n",
            "352/352 [==============================] - 3s 8ms/step - loss: 1.2793 - accuracy: 0.5867 - val_loss: 1.6360 - val_accuracy: 0.4948\n",
            "Epoch 14/50\n",
            "352/352 [==============================] - 3s 8ms/step - loss: 1.2698 - accuracy: 0.5910 - val_loss: 1.3395 - val_accuracy: 0.5678\n",
            "Epoch 15/50\n",
            "352/352 [==============================] - 3s 8ms/step - loss: 1.2701 - accuracy: 0.5948 - val_loss: 1.2181 - val_accuracy: 0.6220\n",
            "Epoch 16/50\n",
            "352/352 [==============================] - 3s 7ms/step - loss: 1.2532 - accuracy: 0.5976 - val_loss: 1.1519 - val_accuracy: 0.6378\n",
            "Epoch 17/50\n",
            "352/352 [==============================] - 3s 8ms/step - loss: 1.2541 - accuracy: 0.6004 - val_loss: 1.3107 - val_accuracy: 0.5864\n",
            "Epoch 18/50\n",
            "352/352 [==============================] - 3s 8ms/step - loss: 1.2454 - accuracy: 0.6036 - val_loss: 1.2974 - val_accuracy: 0.5794\n",
            "Epoch 19/50\n",
            "352/352 [==============================] - 3s 8ms/step - loss: 1.2405 - accuracy: 0.6038 - val_loss: 1.3832 - val_accuracy: 0.5554\n",
            "Epoch 20/50\n",
            "352/352 [==============================] - 4s 10ms/step - loss: 1.2419 - accuracy: 0.6062 - val_loss: 1.1482 - val_accuracy: 0.6502\n",
            "Epoch 21/50\n",
            "352/352 [==============================] - 3s 8ms/step - loss: 1.2300 - accuracy: 0.6089 - val_loss: 1.3069 - val_accuracy: 0.5884\n",
            "Epoch 22/50\n",
            "352/352 [==============================] - 3s 8ms/step - loss: 1.2296 - accuracy: 0.6123 - val_loss: 1.2030 - val_accuracy: 0.6370\n",
            "Epoch 23/50\n",
            "352/352 [==============================] - 3s 7ms/step - loss: 1.2177 - accuracy: 0.6118 - val_loss: 1.2077 - val_accuracy: 0.6244\n",
            "Epoch 24/50\n",
            "352/352 [==============================] - 3s 8ms/step - loss: 1.2193 - accuracy: 0.6132 - val_loss: 2.2214 - val_accuracy: 0.3938\n",
            "Epoch 25/50\n",
            "352/352 [==============================] - 3s 8ms/step - loss: 1.2180 - accuracy: 0.6136 - val_loss: 1.2015 - val_accuracy: 0.6274\n",
            "Epoch 26/50\n",
            "352/352 [==============================] - 3s 8ms/step - loss: 1.2215 - accuracy: 0.6139 - val_loss: 1.6545 - val_accuracy: 0.5028\n",
            "Epoch 27/50\n",
            "352/352 [==============================] - 3s 8ms/step - loss: 1.2145 - accuracy: 0.6170 - val_loss: 1.4412 - val_accuracy: 0.5676\n",
            "Epoch 28/50\n",
            "352/352 [==============================] - 3s 8ms/step - loss: 1.2046 - accuracy: 0.6209 - val_loss: 1.2280 - val_accuracy: 0.6150\n",
            "Epoch 29/50\n",
            "352/352 [==============================] - 3s 8ms/step - loss: 1.2031 - accuracy: 0.6228 - val_loss: 1.5986 - val_accuracy: 0.5034\n",
            "Epoch 30/50\n",
            "352/352 [==============================] - 3s 8ms/step - loss: 1.1927 - accuracy: 0.6246 - val_loss: 1.1922 - val_accuracy: 0.6408\n",
            "Epoch 31/50\n",
            "352/352 [==============================] - 3s 8ms/step - loss: 1.2016 - accuracy: 0.6220 - val_loss: 1.1373 - val_accuracy: 0.6532\n",
            "Epoch 32/50\n",
            "352/352 [==============================] - 3s 8ms/step - loss: 1.2019 - accuracy: 0.6199 - val_loss: 1.2810 - val_accuracy: 0.5970\n",
            "Epoch 33/50\n",
            "352/352 [==============================] - 3s 8ms/step - loss: 1.2004 - accuracy: 0.6223 - val_loss: 1.3785 - val_accuracy: 0.5744\n",
            "Epoch 34/50\n",
            "352/352 [==============================] - 3s 8ms/step - loss: 1.1977 - accuracy: 0.6203 - val_loss: 1.3621 - val_accuracy: 0.5792\n",
            "Epoch 35/50\n",
            "352/352 [==============================] - 3s 8ms/step - loss: 1.2010 - accuracy: 0.6246 - val_loss: 1.1934 - val_accuracy: 0.6310\n",
            "Epoch 36/50\n",
            "352/352 [==============================] - 3s 8ms/step - loss: 1.1902 - accuracy: 0.6265 - val_loss: 1.2458 - val_accuracy: 0.6236\n",
            "Epoch 37/50\n",
            "352/352 [==============================] - 3s 8ms/step - loss: 1.1830 - accuracy: 0.6278 - val_loss: 1.2007 - val_accuracy: 0.6300\n",
            "Epoch 38/50\n",
            "352/352 [==============================] - 3s 7ms/step - loss: 1.1856 - accuracy: 0.6280 - val_loss: 1.3274 - val_accuracy: 0.6008\n",
            "Epoch 39/50\n",
            "352/352 [==============================] - 3s 8ms/step - loss: 1.1859 - accuracy: 0.6291 - val_loss: 1.2844 - val_accuracy: 0.6042\n",
            "Epoch 40/50\n",
            "352/352 [==============================] - 3s 8ms/step - loss: 1.1829 - accuracy: 0.6290 - val_loss: 1.1232 - val_accuracy: 0.6586\n",
            "Epoch 41/50\n",
            "352/352 [==============================] - 3s 8ms/step - loss: 1.1824 - accuracy: 0.6274 - val_loss: 1.3238 - val_accuracy: 0.5946\n",
            "Epoch 42/50\n",
            "352/352 [==============================] - 3s 8ms/step - loss: 1.1791 - accuracy: 0.6297 - val_loss: 1.2712 - val_accuracy: 0.6066\n",
            "Epoch 43/50\n",
            "352/352 [==============================] - 3s 8ms/step - loss: 1.1759 - accuracy: 0.6347 - val_loss: 1.4560 - val_accuracy: 0.5380\n",
            "Epoch 44/50\n",
            "352/352 [==============================] - 3s 8ms/step - loss: 1.1749 - accuracy: 0.6345 - val_loss: 1.3413 - val_accuracy: 0.5898\n",
            "Epoch 45/50\n",
            "352/352 [==============================] - 3s 7ms/step - loss: 1.1774 - accuracy: 0.6307 - val_loss: 1.5356 - val_accuracy: 0.5128\n",
            "Epoch 46/50\n",
            "352/352 [==============================] - 3s 8ms/step - loss: 1.1766 - accuracy: 0.6313 - val_loss: 1.7183 - val_accuracy: 0.4814\n",
            "Epoch 47/50\n",
            "352/352 [==============================] - 3s 8ms/step - loss: 1.1732 - accuracy: 0.6330 - val_loss: 1.2387 - val_accuracy: 0.6170\n",
            "Epoch 48/50\n",
            "352/352 [==============================] - 3s 8ms/step - loss: 1.1776 - accuracy: 0.6330 - val_loss: 1.3244 - val_accuracy: 0.6068\n",
            "Epoch 49/50\n",
            "352/352 [==============================] - 3s 8ms/step - loss: 1.1706 - accuracy: 0.6329 - val_loss: 1.2555 - val_accuracy: 0.6224\n",
            "Epoch 50/50\n",
            "352/352 [==============================] - 3s 8ms/step - loss: 1.1678 - accuracy: 0.6326 - val_loss: 1.3189 - val_accuracy: 0.5912\n",
            "313/313 [==============================] - 1s 4ms/step - loss: 1.3422 - accuracy: 0.5814\n",
            "loss= 1.3422080278396606\n",
            "acc= 0.5813999772071838\n",
            "[3 8 8 ... 5 4 7]\n"
          ]
        }
      ]
    },
    {
      "cell_type": "code",
      "source": [
        "plt.plot(history.history[\"loss\"])\n",
        "plt.plot(history.history[\"val_loss\"])\n",
        "plt.show()\n",
        "\n",
        "plt.plot(treated_history.history[\"loss\"])\n",
        "plt.plot(treated_history.history[\"val_loss\"])\n",
        "plt.show()\n"
      ],
      "metadata": {
        "colab": {
          "base_uri": "https://localhost:8080/",
          "height": 513
        },
        "id": "U4p812tql7xg",
        "outputId": "f27092bc-fcb6-4179-df1d-d9b1f4e6ed67"
      },
      "execution_count": 15,
      "outputs": [
        {
          "output_type": "display_data",
          "data": {
            "text/plain": [
              "<Figure size 432x288 with 1 Axes>"
            ],
            "image/png": "[encoded data removed]"
          },
          "metadata": {
            "needs_background": "light"
          }
        },
        {
          "output_type": "display_data",
          "data": {
            "text/plain": [
              "<Figure size 432x288 with 1 Axes>"
            ],
            "image/png": "[encoded data removed]"
          },
          "metadata": {
            "needs_background": "light"
          }
        }
      ]
    },
    {
      "cell_type": "code",
      "source": [
        ""
      ],
      "metadata": {
        "id": "kl5JnTRHoYIe"
      },
      "execution_count": null,
      "outputs": []
    }
  ]
}