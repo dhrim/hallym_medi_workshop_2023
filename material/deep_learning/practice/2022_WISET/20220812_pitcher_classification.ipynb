{
  "nbformat": 4,
  "nbformat_minor": 0,
  "metadata": {
    "colab": {
      "name": "20220812_pitcher_classification.ipynb",
      "provenance": []
    },
    "kernelspec": {
      "name": "python3",
      "display_name": "Python 3"
    },
    "language_info": {
      "name": "python"
    },
    "accelerator": "GPU",
    "gpuClass": "standard"
  },
  "cells": [
    {
      "cell_type": "code",
      "execution_count": null,
      "metadata": {
        "id": "DIlVWvF10zvN"
      },
      "outputs": [],
      "source": [
        ""
      ]
    },
    {
      "cell_type": "markdown",
      "source": [
        "# 데이터 가져오기\n",
        "https://www.kaggle.com/code/jiwonkng/tabular-playground-apr-22/data"
      ],
      "metadata": {
        "id": "FXkbM35Z2V4h"
      }
    },
    {
      "cell_type": "code",
      "source": [
        "from google.colab import drive\n",
        "drive.mount('/gdrive')"
      ],
      "metadata": {
        "colab": {
          "base_uri": "https://localhost:8080/"
        },
        "id": "nNQy1x7h2TYc",
        "outputId": "1bb8a782-c4de-4817-bb7f-cb5999f386e8"
      },
      "execution_count": 1,
      "outputs": [
        {
          "output_type": "stream",
          "name": "stdout",
          "text": [
            "Mounted at /gdrive\n"
          ]
        }
      ]
    },
    {
      "cell_type": "code",
      "source": [
        "!cp /gdrive/MyDrive/tmp/train.csv.zip ./\n",
        "!cp /gdrive/MyDrive/tmp/train_labels.csv ./\n",
        "!cp /gdrive/MyDrive/tmp/test.csv.zip ./\n",
        "!cp /gdrive/MyDrive/tmp/sample_submission.csv ./"
      ],
      "metadata": {
        "id": "-pX7dU4-2f3G"
      },
      "execution_count": 2,
      "outputs": []
    },
    {
      "cell_type": "code",
      "source": [
        "!unzip train.csv.zip\n",
        "!unzip test.csv.zip"
      ],
      "metadata": {
        "colab": {
          "base_uri": "https://localhost:8080/"
        },
        "id": "ZTjKz9XW2tTv",
        "outputId": "2575cea0-093d-481a-c03b-908ff7696ca0"
      },
      "execution_count": 3,
      "outputs": [
        {
          "output_type": "stream",
          "name": "stdout",
          "text": [
            "Archive:  train.csv.zip\n",
            "  inflating: train.csv               \n",
            "Archive:  test.csv.zip\n",
            "  inflating: test.csv                \n"
          ]
        }
      ]
    },
    {
      "cell_type": "code",
      "source": [
        "!ls -al *.csv"
      ],
      "metadata": {
        "colab": {
          "base_uri": "https://localhost:8080/"
        },
        "id": "tMYABp4k2xGd",
        "outputId": "b3d3b19a-1e6f-4ad7-864c-eb53ca70985c"
      },
      "execution_count": 4,
      "outputs": [
        {
          "output_type": "stream",
          "name": "stdout",
          "text": [
            "-rw------- 1 root root     97759 Aug 12 08:23 sample_submission.csv\n",
            "-rw-r--r-- 1 root root 189323249 Mar  9 14:07 test.csv\n",
            "-rw-r--r-- 1 root root 401767146 Mar  9 14:07 train.csv\n",
            "-rw------- 1 root root    196649 Aug 12 08:23 train_labels.csv\n"
          ]
        }
      ]
    },
    {
      "cell_type": "markdown",
      "source": [
        "# 데이터 로딩"
      ],
      "metadata": {
        "id": "LVsGERfz21wk"
      }
    },
    {
      "cell_type": "code",
      "source": [
        "import pandas as pd\n",
        "import numpy as np\n",
        "import matplotlib.pyplot as plt\n"
      ],
      "metadata": {
        "id": "fZ1_4twa20Gp"
      },
      "execution_count": 5,
      "outputs": []
    },
    {
      "cell_type": "code",
      "source": [
        "train_x_df = pd.read_csv(\"train.csv\")\n",
        "train_y_df = pd.read_csv(\"train_labels.csv\")\n",
        "test_x_df = pd.read_csv(\"test.csv\")"
      ],
      "metadata": {
        "id": "NlvKA_Qh26H5"
      },
      "execution_count": 6,
      "outputs": []
    },
    {
      "cell_type": "code",
      "source": [
        "train_x_df.head()"
      ],
      "metadata": {
        "colab": {
          "base_uri": "https://localhost:8080/",
          "height": 270
        },
        "id": "qf9U78mT3EzB",
        "outputId": "cc83de51-a5e6-43ee-c0c9-b698784af1dd"
      },
      "execution_count": 7,
      "outputs": [
        {
          "output_type": "execute_result",
          "data": {
            "text/plain": [
              "   sequence  subject  step  sensor_00  sensor_01  sensor_02  sensor_03  \\\n",
              "0         0       47     0  -0.196291   0.112395        1.0   0.329204   \n",
              "1         0       47     1  -0.447450   0.134454        1.0  -0.658407   \n",
              "2         0       47     2   0.326893  -0.694328        1.0   0.330088   \n",
              "3         0       47     3   0.523184   0.751050        1.0   0.976991   \n",
              "4         0       47     4   0.272025   1.074580        1.0  -0.136283   \n",
              "\n",
              "   sensor_04  sensor_05  sensor_06  sensor_07  sensor_08  sensor_09  \\\n",
              "0  -1.004660  -0.131638  -0.127505   0.368702       -0.1  -0.963873   \n",
              "1   0.162495   0.340314  -0.209472  -0.867176        0.2  -0.301301   \n",
              "2   0.473678   1.280479  -0.094718   0.535878        1.4   1.002168   \n",
              "3  -0.563287  -0.720269   0.793260   0.951145       -0.3  -0.995665   \n",
              "4   0.398579   0.044877   0.560109  -0.541985       -0.9   1.055636   \n",
              "\n",
              "   sensor_10  sensor_11  sensor_12  \n",
              "0  -0.985069   0.531893   4.751492  \n",
              "1   0.082733  -0.231481   0.454390  \n",
              "2   0.449221  -0.586420  -4.736147  \n",
              "3  -0.434290   1.344650   0.429241  \n",
              "4   0.812631   0.123457  -0.223359  "
            ],
            "text/html": [
              "\n",
              "  <div id=\"df-1c4b7740-a005-4d4f-823f-9f7bdaf7fc1e\">\n",
              "    <div class=\"colab-df-container\">\n",
              "      <div>\n",
              "<style scoped>\n",
              "    .dataframe tbody tr th:only-of-type {\n",
              "        vertical-align: middle;\n",
              "    }\n",
              "\n",
              "    .dataframe tbody tr th {\n",
              "        vertical-align: top;\n",
              "    }\n",
              "\n",
              "    .dataframe thead th {\n",
              "        text-align: right;\n",
              "    }\n",
              "</style>\n",
              "<table border=\"1\" class=\"dataframe\">\n",
              "  <thead>\n",
              "    <tr style=\"text-align: right;\">\n",
              "      <th></th>\n",
              "      <th>sequence</th>\n",
              "      <th>subject</th>\n",
              "      <th>step</th>\n",
              "      <th>sensor_00</th>\n",
              "      <th>sensor_01</th>\n",
              "      <th>sensor_02</th>\n",
              "      <th>sensor_03</th>\n",
              "      <th>sensor_04</th>\n",
              "      <th>sensor_05</th>\n",
              "      <th>sensor_06</th>\n",
              "      <th>sensor_07</th>\n",
              "      <th>sensor_08</th>\n",
              "      <th>sensor_09</th>\n",
              "      <th>sensor_10</th>\n",
              "      <th>sensor_11</th>\n",
              "      <th>sensor_12</th>\n",
              "    </tr>\n",
              "  </thead>\n",
              "  <tbody>\n",
              "    <tr>\n",
              "      <th>0</th>\n",
              "      <td>0</td>\n",
              "      <td>47</td>\n",
              "      <td>0</td>\n",
              "      <td>-0.196291</td>\n",
              "      <td>0.112395</td>\n",
              "      <td>1.0</td>\n",
              "      <td>0.329204</td>\n",
              "      <td>-1.004660</td>\n",
              "      <td>-0.131638</td>\n",
              "      <td>-0.127505</td>\n",
              "      <td>0.368702</td>\n",
              "      <td>-0.1</td>\n",
              "      <td>-0.963873</td>\n",
              "      <td>-0.985069</td>\n",
              "      <td>0.531893</td>\n",
              "      <td>4.751492</td>\n",
              "    </tr>\n",
              "    <tr>\n",
              "      <th>1</th>\n",
              "      <td>0</td>\n",
              "      <td>47</td>\n",
              "      <td>1</td>\n",
              "      <td>-0.447450</td>\n",
              "      <td>0.134454</td>\n",
              "      <td>1.0</td>\n",
              "      <td>-0.658407</td>\n",
              "      <td>0.162495</td>\n",
              "      <td>0.340314</td>\n",
              "      <td>-0.209472</td>\n",
              "      <td>-0.867176</td>\n",
              "      <td>0.2</td>\n",
              "      <td>-0.301301</td>\n",
              "      <td>0.082733</td>\n",
              "      <td>-0.231481</td>\n",
              "      <td>0.454390</td>\n",
              "    </tr>\n",
              "    <tr>\n",
              "      <th>2</th>\n",
              "      <td>0</td>\n",
              "      <td>47</td>\n",
              "      <td>2</td>\n",
              "      <td>0.326893</td>\n",
              "      <td>-0.694328</td>\n",
              "      <td>1.0</td>\n",
              "      <td>0.330088</td>\n",
              "      <td>0.473678</td>\n",
              "      <td>1.280479</td>\n",
              "      <td>-0.094718</td>\n",
              "      <td>0.535878</td>\n",
              "      <td>1.4</td>\n",
              "      <td>1.002168</td>\n",
              "      <td>0.449221</td>\n",
              "      <td>-0.586420</td>\n",
              "      <td>-4.736147</td>\n",
              "    </tr>\n",
              "    <tr>\n",
              "      <th>3</th>\n",
              "      <td>0</td>\n",
              "      <td>47</td>\n",
              "      <td>3</td>\n",
              "      <td>0.523184</td>\n",
              "      <td>0.751050</td>\n",
              "      <td>1.0</td>\n",
              "      <td>0.976991</td>\n",
              "      <td>-0.563287</td>\n",
              "      <td>-0.720269</td>\n",
              "      <td>0.793260</td>\n",
              "      <td>0.951145</td>\n",
              "      <td>-0.3</td>\n",
              "      <td>-0.995665</td>\n",
              "      <td>-0.434290</td>\n",
              "      <td>1.344650</td>\n",
              "      <td>0.429241</td>\n",
              "    </tr>\n",
              "    <tr>\n",
              "      <th>4</th>\n",
              "      <td>0</td>\n",
              "      <td>47</td>\n",
              "      <td>4</td>\n",
              "      <td>0.272025</td>\n",
              "      <td>1.074580</td>\n",
              "      <td>1.0</td>\n",
              "      <td>-0.136283</td>\n",
              "      <td>0.398579</td>\n",
              "      <td>0.044877</td>\n",
              "      <td>0.560109</td>\n",
              "      <td>-0.541985</td>\n",
              "      <td>-0.9</td>\n",
              "      <td>1.055636</td>\n",
              "      <td>0.812631</td>\n",
              "      <td>0.123457</td>\n",
              "      <td>-0.223359</td>\n",
              "    </tr>\n",
              "  </tbody>\n",
              "</table>\n",
              "</div>\n",
              "      <button class=\"colab-df-convert\" onclick=\"convertToInteractive('df-1c4b7740-a005-4d4f-823f-9f7bdaf7fc1e')\"\n",
              "              title=\"Convert this dataframe to an interactive table.\"\n",
              "              style=\"display:none;\">\n",
              "        \n",
              "  <svg xmlns=\"http://www.w3.org/2000/svg\" height=\"24px\"viewBox=\"0 0 24 24\"\n",
              "       width=\"24px\">\n",
              "    <path d=\"M0 0h24v24H0V0z\" fill=\"none\"/>\n",
              "    <path d=\"M18.56 5.44l.94 2.06.94-2.06 2.06-.94-2.06-.94-.94-2.06-.94 2.06-2.06.94zm-11 1L8.5 8.5l.94-2.06 2.06-.94-2.06-.94L8.5 2.5l-.94 2.06-2.06.94zm10 10l.94 2.06.94-2.06 2.06-.94-2.06-.94-.94-2.06-.94 2.06-2.06.94z\"/><path d=\"M17.41 7.96l-1.37-1.37c-.4-.4-.92-.59-1.43-.59-.52 0-1.04.2-1.43.59L10.3 9.45l-7.72 7.72c-.78.78-.78 2.05 0 2.83L4 21.41c.39.39.9.59 1.41.59.51 0 1.02-.2 1.41-.59l7.78-7.78 2.81-2.81c.8-.78.8-2.07 0-2.86zM5.41 20L4 18.59l7.72-7.72 1.47 1.35L5.41 20z\"/>\n",
              "  </svg>\n",
              "      </button>\n",
              "      \n",
              "  <style>\n",
              "    .colab-df-container {\n",
              "      display:flex;\n",
              "      flex-wrap:wrap;\n",
              "      gap: 12px;\n",
              "    }\n",
              "\n",
              "    .colab-df-convert {\n",
              "      background-color: #E8F0FE;\n",
              "      border: none;\n",
              "      border-radius: 50%;\n",
              "      cursor: pointer;\n",
              "      display: none;\n",
              "      fill: #1967D2;\n",
              "      height: 32px;\n",
              "      padding: 0 0 0 0;\n",
              "      width: 32px;\n",
              "    }\n",
              "\n",
              "    .colab-df-convert:hover {\n",
              "      background-color: #E2EBFA;\n",
              "      box-shadow: 0px 1px 2px rgba(60, 64, 67, 0.3), 0px 1px 3px 1px rgba(60, 64, 67, 0.15);\n",
              "      fill: #174EA6;\n",
              "    }\n",
              "\n",
              "    [theme=dark] .colab-df-convert {\n",
              "      background-color: #3B4455;\n",
              "      fill: #D2E3FC;\n",
              "    }\n",
              "\n",
              "    [theme=dark] .colab-df-convert:hover {\n",
              "      background-color: #434B5C;\n",
              "      box-shadow: 0px 1px 3px 1px rgba(0, 0, 0, 0.15);\n",
              "      filter: drop-shadow(0px 1px 2px rgba(0, 0, 0, 0.3));\n",
              "      fill: #FFFFFF;\n",
              "    }\n",
              "  </style>\n",
              "\n",
              "      <script>\n",
              "        const buttonEl =\n",
              "          document.querySelector('#df-1c4b7740-a005-4d4f-823f-9f7bdaf7fc1e button.colab-df-convert');\n",
              "        buttonEl.style.display =\n",
              "          google.colab.kernel.accessAllowed ? 'block' : 'none';\n",
              "\n",
              "        async function convertToInteractive(key) {\n",
              "          const element = document.querySelector('#df-1c4b7740-a005-4d4f-823f-9f7bdaf7fc1e');\n",
              "          const dataTable =\n",
              "            await google.colab.kernel.invokeFunction('convertToInteractive',\n",
              "                                                     [key], {});\n",
              "          if (!dataTable) return;\n",
              "\n",
              "          const docLinkHtml = 'Like what you see? Visit the ' +\n",
              "            '<a target=\"_blank\" href=https://colab.research.google.com/notebooks/data_table.ipynb>data table notebook</a>'\n",
              "            + ' to learn more about interactive tables.';\n",
              "          element.innerHTML = '';\n",
              "          dataTable['output_type'] = 'display_data';\n",
              "          await google.colab.output.renderOutput(dataTable, element);\n",
              "          const docLink = document.createElement('div');\n",
              "          docLink.innerHTML = docLinkHtml;\n",
              "          element.appendChild(docLink);\n",
              "        }\n",
              "      </script>\n",
              "    </div>\n",
              "  </div>\n",
              "  "
            ]
          },
          "metadata": {},
          "execution_count": 7
        }
      ]
    },
    {
      "cell_type": "code",
      "source": [
        "train_x_df.info()"
      ],
      "metadata": {
        "colab": {
          "base_uri": "https://localhost:8080/"
        },
        "id": "dKLv3-fH3Iop",
        "outputId": "fe9d9dc6-ccda-49e3-88fc-f4b3f57ef291"
      },
      "execution_count": 8,
      "outputs": [
        {
          "output_type": "stream",
          "name": "stdout",
          "text": [
            "<class 'pandas.core.frame.DataFrame'>\n",
            "RangeIndex: 1558080 entries, 0 to 1558079\n",
            "Data columns (total 16 columns):\n",
            " #   Column     Non-Null Count    Dtype  \n",
            "---  ------     --------------    -----  \n",
            " 0   sequence   1558080 non-null  int64  \n",
            " 1   subject    1558080 non-null  int64  \n",
            " 2   step       1558080 non-null  int64  \n",
            " 3   sensor_00  1558080 non-null  float64\n",
            " 4   sensor_01  1558080 non-null  float64\n",
            " 5   sensor_02  1558080 non-null  float64\n",
            " 6   sensor_03  1558080 non-null  float64\n",
            " 7   sensor_04  1558080 non-null  float64\n",
            " 8   sensor_05  1558080 non-null  float64\n",
            " 9   sensor_06  1558080 non-null  float64\n",
            " 10  sensor_07  1558080 non-null  float64\n",
            " 11  sensor_08  1558080 non-null  float64\n",
            " 12  sensor_09  1558080 non-null  float64\n",
            " 13  sensor_10  1558080 non-null  float64\n",
            " 14  sensor_11  1558080 non-null  float64\n",
            " 15  sensor_12  1558080 non-null  float64\n",
            "dtypes: float64(13), int64(3)\n",
            "memory usage: 190.2 MB\n"
          ]
        }
      ]
    },
    {
      "cell_type": "code",
      "source": [
        "print(\"data count =\",1558080/60)"
      ],
      "metadata": {
        "colab": {
          "base_uri": "https://localhost:8080/"
        },
        "id": "6Uwpy8X93wrk",
        "outputId": "a946f9ce-e2fc-41d6-de42-d0415876a740"
      },
      "execution_count": 9,
      "outputs": [
        {
          "output_type": "stream",
          "name": "stdout",
          "text": [
            "data count = 25968.0\n"
          ]
        }
      ]
    },
    {
      "cell_type": "code",
      "source": [
        "train_y_df.head()"
      ],
      "metadata": {
        "colab": {
          "base_uri": "https://localhost:8080/",
          "height": 206
        },
        "id": "kiy_JySA336v",
        "outputId": "764d6faf-7c71-4361-c445-3e40d396eeb7"
      },
      "execution_count": 10,
      "outputs": [
        {
          "output_type": "execute_result",
          "data": {
            "text/plain": [
              "   sequence  state\n",
              "0         0      0\n",
              "1         1      1\n",
              "2         2      1\n",
              "3         3      1\n",
              "4         4      1"
            ],
            "text/html": [
              "\n",
              "  <div id=\"df-7f4c1ff3-a017-4b67-a6df-cca78798d9bf\">\n",
              "    <div class=\"colab-df-container\">\n",
              "      <div>\n",
              "<style scoped>\n",
              "    .dataframe tbody tr th:only-of-type {\n",
              "        vertical-align: middle;\n",
              "    }\n",
              "\n",
              "    .dataframe tbody tr th {\n",
              "        vertical-align: top;\n",
              "    }\n",
              "\n",
              "    .dataframe thead th {\n",
              "        text-align: right;\n",
              "    }\n",
              "</style>\n",
              "<table border=\"1\" class=\"dataframe\">\n",
              "  <thead>\n",
              "    <tr style=\"text-align: right;\">\n",
              "      <th></th>\n",
              "      <th>sequence</th>\n",
              "      <th>state</th>\n",
              "    </tr>\n",
              "  </thead>\n",
              "  <tbody>\n",
              "    <tr>\n",
              "      <th>0</th>\n",
              "      <td>0</td>\n",
              "      <td>0</td>\n",
              "    </tr>\n",
              "    <tr>\n",
              "      <th>1</th>\n",
              "      <td>1</td>\n",
              "      <td>1</td>\n",
              "    </tr>\n",
              "    <tr>\n",
              "      <th>2</th>\n",
              "      <td>2</td>\n",
              "      <td>1</td>\n",
              "    </tr>\n",
              "    <tr>\n",
              "      <th>3</th>\n",
              "      <td>3</td>\n",
              "      <td>1</td>\n",
              "    </tr>\n",
              "    <tr>\n",
              "      <th>4</th>\n",
              "      <td>4</td>\n",
              "      <td>1</td>\n",
              "    </tr>\n",
              "  </tbody>\n",
              "</table>\n",
              "</div>\n",
              "      <button class=\"colab-df-convert\" onclick=\"convertToInteractive('df-7f4c1ff3-a017-4b67-a6df-cca78798d9bf')\"\n",
              "              title=\"Convert this dataframe to an interactive table.\"\n",
              "              style=\"display:none;\">\n",
              "        \n",
              "  <svg xmlns=\"http://www.w3.org/2000/svg\" height=\"24px\"viewBox=\"0 0 24 24\"\n",
              "       width=\"24px\">\n",
              "    <path d=\"M0 0h24v24H0V0z\" fill=\"none\"/>\n",
              "    <path d=\"M18.56 5.44l.94 2.06.94-2.06 2.06-.94-2.06-.94-.94-2.06-.94 2.06-2.06.94zm-11 1L8.5 8.5l.94-2.06 2.06-.94-2.06-.94L8.5 2.5l-.94 2.06-2.06.94zm10 10l.94 2.06.94-2.06 2.06-.94-2.06-.94-.94-2.06-.94 2.06-2.06.94z\"/><path d=\"M17.41 7.96l-1.37-1.37c-.4-.4-.92-.59-1.43-.59-.52 0-1.04.2-1.43.59L10.3 9.45l-7.72 7.72c-.78.78-.78 2.05 0 2.83L4 21.41c.39.39.9.59 1.41.59.51 0 1.02-.2 1.41-.59l7.78-7.78 2.81-2.81c.8-.78.8-2.07 0-2.86zM5.41 20L4 18.59l7.72-7.72 1.47 1.35L5.41 20z\"/>\n",
              "  </svg>\n",
              "      </button>\n",
              "      \n",
              "  <style>\n",
              "    .colab-df-container {\n",
              "      display:flex;\n",
              "      flex-wrap:wrap;\n",
              "      gap: 12px;\n",
              "    }\n",
              "\n",
              "    .colab-df-convert {\n",
              "      background-color: #E8F0FE;\n",
              "      border: none;\n",
              "      border-radius: 50%;\n",
              "      cursor: pointer;\n",
              "      display: none;\n",
              "      fill: #1967D2;\n",
              "      height: 32px;\n",
              "      padding: 0 0 0 0;\n",
              "      width: 32px;\n",
              "    }\n",
              "\n",
              "    .colab-df-convert:hover {\n",
              "      background-color: #E2EBFA;\n",
              "      box-shadow: 0px 1px 2px rgba(60, 64, 67, 0.3), 0px 1px 3px 1px rgba(60, 64, 67, 0.15);\n",
              "      fill: #174EA6;\n",
              "    }\n",
              "\n",
              "    [theme=dark] .colab-df-convert {\n",
              "      background-color: #3B4455;\n",
              "      fill: #D2E3FC;\n",
              "    }\n",
              "\n",
              "    [theme=dark] .colab-df-convert:hover {\n",
              "      background-color: #434B5C;\n",
              "      box-shadow: 0px 1px 3px 1px rgba(0, 0, 0, 0.15);\n",
              "      filter: drop-shadow(0px 1px 2px rgba(0, 0, 0, 0.3));\n",
              "      fill: #FFFFFF;\n",
              "    }\n",
              "  </style>\n",
              "\n",
              "      <script>\n",
              "        const buttonEl =\n",
              "          document.querySelector('#df-7f4c1ff3-a017-4b67-a6df-cca78798d9bf button.colab-df-convert');\n",
              "        buttonEl.style.display =\n",
              "          google.colab.kernel.accessAllowed ? 'block' : 'none';\n",
              "\n",
              "        async function convertToInteractive(key) {\n",
              "          const element = document.querySelector('#df-7f4c1ff3-a017-4b67-a6df-cca78798d9bf');\n",
              "          const dataTable =\n",
              "            await google.colab.kernel.invokeFunction('convertToInteractive',\n",
              "                                                     [key], {});\n",
              "          if (!dataTable) return;\n",
              "\n",
              "          const docLinkHtml = 'Like what you see? Visit the ' +\n",
              "            '<a target=\"_blank\" href=https://colab.research.google.com/notebooks/data_table.ipynb>data table notebook</a>'\n",
              "            + ' to learn more about interactive tables.';\n",
              "          element.innerHTML = '';\n",
              "          dataTable['output_type'] = 'display_data';\n",
              "          await google.colab.output.renderOutput(dataTable, element);\n",
              "          const docLink = document.createElement('div');\n",
              "          docLink.innerHTML = docLinkHtml;\n",
              "          element.appendChild(docLink);\n",
              "        }\n",
              "      </script>\n",
              "    </div>\n",
              "  </div>\n",
              "  "
            ]
          },
          "metadata": {},
          "execution_count": 10
        }
      ]
    },
    {
      "cell_type": "code",
      "source": [
        "train_y_df.info()"
      ],
      "metadata": {
        "colab": {
          "base_uri": "https://localhost:8080/"
        },
        "id": "WBg9EQCA4EVU",
        "outputId": "175c3795-27c6-4ca0-f1de-03e693c17bd6"
      },
      "execution_count": 11,
      "outputs": [
        {
          "output_type": "stream",
          "name": "stdout",
          "text": [
            "<class 'pandas.core.frame.DataFrame'>\n",
            "RangeIndex: 25968 entries, 0 to 25967\n",
            "Data columns (total 2 columns):\n",
            " #   Column    Non-Null Count  Dtype\n",
            "---  ------    --------------  -----\n",
            " 0   sequence  25968 non-null  int64\n",
            " 1   state     25968 non-null  int64\n",
            "dtypes: int64(2)\n",
            "memory usage: 405.9 KB\n"
          ]
        }
      ]
    },
    {
      "cell_type": "markdown",
      "source": [
        "# 이상치 처리"
      ],
      "metadata": {
        "id": "HwTP9sev-nue"
      }
    },
    {
      "cell_type": "code",
      "source": [
        "for feature_name in train_x_df.columns:\n",
        "    if feature_name[:7] != \"sensor_\": continue\n",
        "    print(feature_name)\n",
        "\n",
        "    plt.hist(train_x_df[feature_name], bins=100)\n",
        "    plt.show()\n",
        "\n",
        "    low_limit = train_x_df[feature_name].quantile(q=0.02, interpolation='nearest')\n",
        "    high_limit = train_x_df[feature_name].quantile(q=0.98, interpolation='nearest')\n",
        "    print(low_limit, high_limit)\n",
        "\n",
        "    train_x_df.loc[train_x_df[feature_name]<low_limit, feature_name] = low_limit\n",
        "    train_x_df.loc[train_x_df[feature_name]>high_limit, feature_name] = high_limit\n",
        "    test_x_df.loc[test_x_df[feature_name]<low_limit, feature_name] = low_limit\n",
        "    test_x_df.loc[test_x_df[feature_name]>high_limit, feature_name] = high_limit\n",
        "\n",
        "    plt.hist(train_x_df[feature_name], bins=100)\n",
        "    plt.show()"
      ],
      "metadata": {
        "colab": {
          "base_uri": "https://localhost:8080/",
          "height": 1000
        },
        "id": "qEzBv0-Y_b2O",
        "outputId": "cbf0e802-f0cd-4359-d472-86534dee027e"
      },
      "execution_count": 12,
      "outputs": [
        {
          "output_type": "stream",
          "name": "stdout",
          "text": [
            "sensor_00\n"
          ]
        },
        {
          "output_type": "display_data",
          "data": {
            "text/plain": [
              "<Figure size 432x288 with 1 Axes>"
            ],
            "image/png": "[encoded data removed]"
          },
          "metadata": {
            "needs_background": "light"
          }
        },
        {
          "output_type": "stream",
          "name": "stdout",
          "text": [
            "-3.048686244204019 3.184698608964452\n"
          ]
        },
        {
          "output_type": "display_data",
          "data": {
            "text/plain": [
              "<Figure size 432x288 with 1 Axes>"
            ],
            "image/png": "[encoded data removed]"
          },
          "metadata": {
            "needs_background": "light"
          }
        },
        {
          "output_type": "stream",
          "name": "stdout",
          "text": [
            "sensor_01\n"
          ]
        },
        {
          "output_type": "display_data",
          "data": {
            "text/plain": [
              "<Figure size 432x288 with 1 Axes>"
            ],
            "image/png": "[encoded data removed]"
          },
          "metadata": {
            "needs_background": "light"
          }
        },
        {
          "output_type": "stream",
          "name": "stdout",
          "text": [
            "-3.225840336134454 3.3298319327731094\n"
          ]
        },
        {
          "output_type": "display_data",
          "data": {
            "text/plain": [
              "<Figure size 432x288 with 1 Axes>"
            ],
            "image/png": "[encoded data removed]"
          },
          "metadata": {
            "needs_background": "light"
          }
        },
        {
          "output_type": "stream",
          "name": "stdout",
          "text": [
            "sensor_02\n"
          ]
        },
        {
          "output_type": "display_data",
          "data": {
            "text/plain": [
              "<Figure size 432x288 with 1 Axes>"
            ],
            "image/png": "[encoded data removed]"
          },
          "metadata": {
            "needs_background": "light"
          }
        },
        {
          "output_type": "stream",
          "name": "stdout",
          "text": [
            "-1.9994863893168977 1.0\n"
          ]
        },
        {
          "output_type": "display_data",
          "data": {
            "text/plain": [
              "<Figure size 432x288 with 1 Axes>"
            ],
            "image/png": "[encoded data removed]"
          },
          "metadata": {
            "needs_background": "light"
          }
        },
        {
          "output_type": "stream",
          "name": "stdout",
          "text": [
            "sensor_03\n"
          ]
        },
        {
          "output_type": "display_data",
          "data": {
            "text/plain": [
              "<Figure size 432x288 with 1 Axes>"
            ],
            "image/png": "[encoded data removed]"
          },
          "metadata": {
            "needs_background": "light"
          }
        },
        {
          "output_type": "stream",
          "name": "stdout",
          "text": [
            "-3.046017699115044 3.111504424778761\n"
          ]
        },
        {
          "output_type": "display_data",
          "data": {
            "text/plain": [
              "<Figure size 432x288 with 1 Axes>"
            ],
            "image/png": "[encoded data removed]"
          },
          "metadata": {
            "needs_background": "light"
          }
        },
        {
          "output_type": "stream",
          "name": "stdout",
          "text": [
            "sensor_04\n"
          ]
        },
        {
          "output_type": "display_data",
          "data": {
            "text/plain": [
              "<Figure size 432x288 with 1 Axes>"
            ],
            "image/png": "[encoded data removed]"
          },
          "metadata": {
            "needs_background": "light"
          }
        },
        {
          "output_type": "stream",
          "name": "stdout",
          "text": [
            "-3.8702936042887415 3.7981704276274777\n"
          ]
        },
        {
          "output_type": "display_data",
          "data": {
            "text/plain": [
              "<Figure size 432x288 with 1 Axes>"
            ],
            "image/png": "[encoded data removed]"
          },
          "metadata": {
            "needs_background": "light"
          }
        },
        {
          "output_type": "stream",
          "name": "stdout",
          "text": [
            "sensor_05\n"
          ]
        },
        {
          "output_type": "display_data",
          "data": {
            "text/plain": [
              "<Figure size 432x288 with 1 Axes>"
            ],
            "image/png": "[encoded data removed]"
          },
          "metadata": {
            "needs_background": "light"
          }
        },
        {
          "output_type": "stream",
          "name": "stdout",
          "text": [
            "-3.796559461480928 3.5295437546746444\n"
          ]
        },
        {
          "output_type": "display_data",
          "data": {
            "text/plain": [
              "<Figure size 432x288 with 1 Axes>"
            ],
            "image/png": "[encoded data removed]"
          },
          "metadata": {
            "needs_background": "light"
          }
        },
        {
          "output_type": "stream",
          "name": "stdout",
          "text": [
            "sensor_06\n"
          ]
        },
        {
          "output_type": "display_data",
          "data": {
            "text/plain": [
              "<Figure size 432x288 with 1 Axes>"
            ],
            "image/png": "[encoded data removed]"
          },
          "metadata": {
            "needs_background": "light"
          }
        },
        {
          "output_type": "stream",
          "name": "stdout",
          "text": [
            "-2.9571948998178503 3.009107468123861\n"
          ]
        },
        {
          "output_type": "display_data",
          "data": {
            "text/plain": [
              "<Figure size 432x288 with 1 Axes>"
            ],
            "image/png": "[encoded data removed]"
          },
          "metadata": {
            "needs_background": "light"
          }
        },
        {
          "output_type": "stream",
          "name": "stdout",
          "text": [
            "sensor_07\n"
          ]
        },
        {
          "output_type": "display_data",
          "data": {
            "text/plain": [
              "<Figure size 432x288 with 1 Axes>"
            ],
            "image/png": "[encoded data removed]"
          },
          "metadata": {
            "needs_background": "light"
          }
        },
        {
          "output_type": "stream",
          "name": "stdout",
          "text": [
            "-3.1480916030534347 3.2824427480916025\n"
          ]
        },
        {
          "output_type": "display_data",
          "data": {
            "text/plain": [
              "<Figure size 432x288 with 1 Axes>"
            ],
            "image/png": "[encoded data removed]"
          },
          "metadata": {
            "needs_background": "light"
          }
        },
        {
          "output_type": "stream",
          "name": "stdout",
          "text": [
            "sensor_08\n"
          ]
        },
        {
          "output_type": "display_data",
          "data": {
            "text/plain": [
              "<Figure size 432x288 with 1 Axes>"
            ],
            "image/png": "[encoded data removed]"
          },
          "metadata": {
            "needs_background": "light"
          }
        },
        {
          "output_type": "stream",
          "name": "stdout",
          "text": [
            "-3.8 3.8\n"
          ]
        },
        {
          "output_type": "display_data",
          "data": {
            "text/plain": [
              "<Figure size 432x288 with 1 Axes>"
            ],
            "image/png": "[encoded data removed]"
          },
          "metadata": {
            "needs_background": "light"
          }
        },
        {
          "output_type": "stream",
          "name": "stdout",
          "text": [
            "sensor_09\n"
          ]
        },
        {
          "output_type": "display_data",
          "data": {
            "text/plain": [
              "<Figure size 432x288 with 1 Axes>"
            ],
            "image/png": "[encoded data removed]"
          },
          "metadata": {
            "needs_background": "light"
          }
        },
        {
          "output_type": "stream",
          "name": "stdout",
          "text": [
            "-3.4855491329479764 3.5476878612716765\n"
          ]
        },
        {
          "output_type": "display_data",
          "data": {
            "text/plain": [
              "<Figure size 432x288 with 1 Axes>"
            ],
            "image/png": "[encoded data removed]"
          },
          "metadata": {
            "needs_background": "light"
          }
        },
        {
          "output_type": "stream",
          "name": "stdout",
          "text": [
            "sensor_10\n"
          ]
        },
        {
          "output_type": "display_data",
          "data": {
            "text/plain": [
              "<Figure size 432x288 with 1 Axes>"
            ],
            "image/png": "[encoded data removed]"
          },
          "metadata": {
            "needs_background": "light"
          }
        },
        {
          "output_type": "stream",
          "name": "stdout",
          "text": [
            "-3.875174297002092 3.855682082268185\n"
          ]
        },
        {
          "output_type": "display_data",
          "data": {
            "text/plain": [
              "<Figure size 432x288 with 1 Axes>"
            ],
            "image/png": "[encoded data removed]"
          },
          "metadata": {
            "needs_background": "light"
          }
        },
        {
          "output_type": "stream",
          "name": "stdout",
          "text": [
            "sensor_11\n"
          ]
        },
        {
          "output_type": "display_data",
          "data": {
            "text/plain": [
              "<Figure size 432x288 with 1 Axes>"
            ],
            "image/png": "[encoded data removed]"
          },
          "metadata": {
            "needs_background": "light"
          }
        },
        {
          "output_type": "stream",
          "name": "stdout",
          "text": [
            "-3.342592592592593 3.375514403292181\n"
          ]
        },
        {
          "output_type": "display_data",
          "data": {
            "text/plain": [
              "<Figure size 432x288 with 1 Axes>"
            ],
            "image/png": "[encoded data removed]"
          },
          "metadata": {
            "needs_background": "light"
          }
        },
        {
          "output_type": "stream",
          "name": "stdout",
          "text": [
            "sensor_12\n"
          ]
        },
        {
          "output_type": "display_data",
          "data": {
            "text/plain": [
              "<Figure size 432x288 with 1 Axes>"
            ],
            "image/png": "[encoded data removed]"
          },
          "metadata": {
            "needs_background": "light"
          }
        },
        {
          "output_type": "stream",
          "name": "stdout",
          "text": [
            "-88.6854219948849 88.82566069906223\n"
          ]
        },
        {
          "output_type": "display_data",
          "data": {
            "text/plain": [
              "<Figure size 432x288 with 1 Axes>"
            ],
            "image/png": "[encoded data removed]"
          },
          "metadata": {
            "needs_background": "light"
          }
        }
      ]
    },
    {
      "cell_type": "markdown",
      "source": [
        "# Normalization\n",
        "대부분 센서의 최대값 최소값이 3, -3 정도이다. 따로 normalization 하지 않아도 된다."
      ],
      "metadata": {
        "id": "Zr_wU5_TApcN"
      }
    },
    {
      "cell_type": "code",
      "source": [
        "max = train_x_df.max()\n",
        "min = train_x_df.min()\n",
        "print(max)\n",
        "print(min)\n"
      ],
      "metadata": {
        "id": "YQruQyFQArX7",
        "colab": {
          "base_uri": "https://localhost:8080/"
        },
        "outputId": "bb824d37-1787-466c-d043-b0926575319c"
      },
      "execution_count": 22,
      "outputs": [
        {
          "output_type": "stream",
          "name": "stdout",
          "text": [
            "sequence     25967.000000\n",
            "subject        671.000000\n",
            "step            59.000000\n",
            "sensor_00        3.184699\n",
            "sensor_01        3.329832\n",
            "sensor_02        1.000000\n",
            "sensor_03        3.111504\n",
            "sensor_04        3.798170\n",
            "sensor_05        3.529544\n",
            "sensor_06        3.009107\n",
            "sensor_07        3.282443\n",
            "sensor_08        3.800000\n",
            "sensor_09        3.547688\n",
            "sensor_10        3.855682\n",
            "sensor_11        3.375514\n",
            "sensor_12       88.825661\n",
            "dtype: float64\n",
            "sequence      0.000000\n",
            "subject       0.000000\n",
            "step          0.000000\n",
            "sensor_00    -3.048686\n",
            "sensor_01    -3.225840\n",
            "sensor_02    -1.999486\n",
            "sensor_03    -3.046018\n",
            "sensor_04    -3.870294\n",
            "sensor_05    -3.796559\n",
            "sensor_06    -2.957195\n",
            "sensor_07    -3.148092\n",
            "sensor_08    -3.800000\n",
            "sensor_09    -3.485549\n",
            "sensor_10    -3.875174\n",
            "sensor_11    -3.342593\n",
            "sensor_12   -88.685422\n",
            "dtype: float64\n"
          ]
        }
      ]
    },
    {
      "cell_type": "markdown",
      "source": [
        "# 데이터 분리"
      ],
      "metadata": {
        "id": "MxBpkRGI5mpK"
      }
    },
    {
      "cell_type": "code",
      "source": [
        ""
      ],
      "metadata": {
        "id": "RajGEMQn5mTm"
      },
      "execution_count": 22,
      "outputs": []
    },
    {
      "cell_type": "code",
      "source": [
        "raw_train_x = train_x_df.to_numpy()\n",
        "raw_train_y = train_y_df.to_numpy()\n",
        "print(raw_train_x.shape)\n",
        "print(raw_train_y.shape)"
      ],
      "metadata": {
        "colab": {
          "base_uri": "https://localhost:8080/"
        },
        "id": "---7kO3g4FwD",
        "outputId": "284d0b47-2fd3-4703-d2b0-24fb99552cfe"
      },
      "execution_count": 23,
      "outputs": [
        {
          "output_type": "stream",
          "name": "stdout",
          "text": [
            "(1558080, 16)\n",
            "(25968, 2)\n"
          ]
        }
      ]
    },
    {
      "cell_type": "code",
      "source": [
        "DATA_COUNT = len(raw_train_y)\n",
        "x = raw_train_x[:,3:].reshape((DATA_COUNT, 60, 13))\n",
        "print(x.shape)"
      ],
      "metadata": {
        "colab": {
          "base_uri": "https://localhost:8080/"
        },
        "id": "J1bqJCCr4TKT",
        "outputId": "00758dbe-76f1-4e0f-f3a3-6e2dbfb98253"
      },
      "execution_count": 24,
      "outputs": [
        {
          "output_type": "stream",
          "name": "stdout",
          "text": [
            "(25968, 60, 13)\n"
          ]
        }
      ]
    },
    {
      "cell_type": "code",
      "source": [
        "y = raw_train_y[:,1]\n",
        "print(y.shape)"
      ],
      "metadata": {
        "colab": {
          "base_uri": "https://localhost:8080/"
        },
        "id": "vqKXZZnB4oX6",
        "outputId": "69e07504-81a2-463b-c9ef-644450baa11d"
      },
      "execution_count": 25,
      "outputs": [
        {
          "output_type": "stream",
          "name": "stdout",
          "text": [
            "(25968,)\n"
          ]
        }
      ]
    },
    {
      "cell_type": "code",
      "source": [
        "i = np.arange(len(x))\n",
        "np.random.shuffle(i)\n",
        "x = x[i]\n",
        "y = y[i]"
      ],
      "metadata": {
        "id": "FuBiv2ARLXHM"
      },
      "execution_count": 29,
      "outputs": []
    },
    {
      "cell_type": "code",
      "source": [
        "i = int(len(x)*0.8)\n",
        "train_x, test_x = x[:i], x[i:]\n",
        "train_y, test_y = y[:i], y[i:]"
      ],
      "metadata": {
        "id": "ZWKxJCCt6Gno"
      },
      "execution_count": 30,
      "outputs": []
    },
    {
      "cell_type": "markdown",
      "source": [
        "# 모델 정의와 학습"
      ],
      "metadata": {
        "id": "QwtTVuSf5yZv"
      }
    },
    {
      "cell_type": "code",
      "source": [
        "from tensorflow import keras\n",
        "from tensorflow.keras.layers import Dense, RepeatVector, Flatten, Input\n",
        "from tensorflow.keras.layers import Bidirectional, LSTM, GRU\n",
        "\n",
        "input_shape = train_x.shape[1:]\n",
        "# input_shape = (5,2)\n",
        "\n",
        "model = keras.Sequential()\n",
        "model.add(Input(input_shape))\n",
        "model.add(Bidirectional(LSTM(32)))\n",
        "model.add(Flatten())\n",
        "model.add(Dense(10, activation=\"relu\"))\n",
        "model.add(Dense(2, activation=\"softmax\"))\n",
        "model.compile(loss=\"sparse_categorical_crossentropy\", optimizer=\"adam\", metrics=[\"acc\"])\n",
        "model.summary()"
      ],
      "metadata": {
        "colab": {
          "base_uri": "https://localhost:8080/"
        },
        "id": "1pEhsfFl5zka",
        "outputId": "dad6232a-3c19-414d-8bf5-8857b683aa52"
      },
      "execution_count": 34,
      "outputs": [
        {
          "output_type": "stream",
          "name": "stdout",
          "text": [
            "Model: \"sequential_2\"\n",
            "_________________________________________________________________\n",
            " Layer (type)                Output Shape              Param #   \n",
            "=================================================================\n",
            " bidirectional_2 (Bidirectio  (None, 64)               11776     \n",
            " nal)                                                            \n",
            "                                                                 \n",
            " flatten_2 (Flatten)         (None, 64)                0         \n",
            "                                                                 \n",
            " dense_4 (Dense)             (None, 10)                650       \n",
            "                                                                 \n",
            " dense_5 (Dense)             (None, 2)                 22        \n",
            "                                                                 \n",
            "=================================================================\n",
            "Total params: 12,448\n",
            "Trainable params: 12,448\n",
            "Non-trainable params: 0\n",
            "_________________________________________________________________\n"
          ]
        }
      ]
    },
    {
      "cell_type": "code",
      "source": [
        "history = model.fit(train_x, train_y, epochs=50, verbose=1, validation_split=0.1, batch_size=128)\n",
        "\n",
        "\n",
        "plt.plot(history.history['loss'])\n",
        "plt.plot(history.history['val_loss'])\n",
        "plt.show()"
      ],
      "metadata": {
        "colab": {
          "base_uri": "https://localhost:8080/",
          "height": 1000
        },
        "id": "gkQDJC_251lX",
        "outputId": "bb5959eb-f103-46f1-fd4b-795da757d62d"
      },
      "execution_count": 35,
      "outputs": [
        {
          "output_type": "stream",
          "name": "stdout",
          "text": [
            "Epoch 1/50\n",
            "147/147 [==============================] - 8s 16ms/step - loss: 0.6831 - acc: 0.5591 - val_loss: 0.6800 - val_acc: 0.5669\n",
            "Epoch 2/50\n",
            "147/147 [==============================] - 2s 11ms/step - loss: 0.6646 - acc: 0.5961 - val_loss: 0.6630 - val_acc: 0.5977\n",
            "Epoch 3/50\n",
            "147/147 [==============================] - 2s 11ms/step - loss: 0.6458 - acc: 0.6214 - val_loss: 0.6559 - val_acc: 0.6011\n",
            "Epoch 4/50\n",
            "147/147 [==============================] - 2s 11ms/step - loss: 0.6213 - acc: 0.6516 - val_loss: 0.6310 - val_acc: 0.6256\n",
            "Epoch 5/50\n",
            "147/147 [==============================] - 2s 11ms/step - loss: 0.5864 - acc: 0.6834 - val_loss: 0.6040 - val_acc: 0.6646\n",
            "Epoch 6/50\n",
            "147/147 [==============================] - 2s 11ms/step - loss: 0.5572 - acc: 0.7049 - val_loss: 0.5856 - val_acc: 0.6853\n",
            "Epoch 7/50\n",
            "147/147 [==============================] - 2s 11ms/step - loss: 0.5407 - acc: 0.7210 - val_loss: 0.5734 - val_acc: 0.6862\n",
            "Epoch 8/50\n",
            "147/147 [==============================] - 2s 11ms/step - loss: 0.5238 - acc: 0.7307 - val_loss: 0.5561 - val_acc: 0.7069\n",
            "Epoch 9/50\n",
            "147/147 [==============================] - 2s 12ms/step - loss: 0.5098 - acc: 0.7403 - val_loss: 0.5663 - val_acc: 0.7113\n",
            "Epoch 10/50\n",
            "147/147 [==============================] - 2s 11ms/step - loss: 0.4935 - acc: 0.7547 - val_loss: 0.5470 - val_acc: 0.7093\n",
            "Epoch 11/50\n",
            "147/147 [==============================] - 2s 11ms/step - loss: 0.4815 - acc: 0.7624 - val_loss: 0.5273 - val_acc: 0.7233\n",
            "Epoch 12/50\n",
            "147/147 [==============================] - 2s 11ms/step - loss: 0.4655 - acc: 0.7721 - val_loss: 0.5219 - val_acc: 0.7382\n",
            "Epoch 13/50\n",
            "147/147 [==============================] - 2s 11ms/step - loss: 0.4508 - acc: 0.7834 - val_loss: 0.5247 - val_acc: 0.7329\n",
            "Epoch 14/50\n",
            "147/147 [==============================] - 2s 11ms/step - loss: 0.4436 - acc: 0.7875 - val_loss: 0.5125 - val_acc: 0.7449\n",
            "Epoch 15/50\n",
            "147/147 [==============================] - 2s 11ms/step - loss: 0.4299 - acc: 0.7960 - val_loss: 0.5086 - val_acc: 0.7541\n",
            "Epoch 16/50\n",
            "147/147 [==============================] - 2s 11ms/step - loss: 0.4225 - acc: 0.8003 - val_loss: 0.5063 - val_acc: 0.7546\n",
            "Epoch 17/50\n",
            "147/147 [==============================] - 2s 11ms/step - loss: 0.4109 - acc: 0.8076 - val_loss: 0.5100 - val_acc: 0.7522\n",
            "Epoch 18/50\n",
            "147/147 [==============================] - 2s 11ms/step - loss: 0.4003 - acc: 0.8144 - val_loss: 0.5089 - val_acc: 0.7599\n",
            "Epoch 19/50\n",
            "147/147 [==============================] - 2s 11ms/step - loss: 0.3897 - acc: 0.8250 - val_loss: 0.4929 - val_acc: 0.7806\n",
            "Epoch 20/50\n",
            "147/147 [==============================] - 2s 11ms/step - loss: 0.3772 - acc: 0.8289 - val_loss: 0.5022 - val_acc: 0.7709\n",
            "Epoch 21/50\n",
            "147/147 [==============================] - 2s 12ms/step - loss: 0.3709 - acc: 0.8350 - val_loss: 0.5018 - val_acc: 0.7700\n",
            "Epoch 22/50\n",
            "147/147 [==============================] - 2s 11ms/step - loss: 0.3549 - acc: 0.8452 - val_loss: 0.5068 - val_acc: 0.7680\n",
            "Epoch 23/50\n",
            "147/147 [==============================] - 2s 11ms/step - loss: 0.3509 - acc: 0.8446 - val_loss: 0.5011 - val_acc: 0.7695\n",
            "Epoch 24/50\n",
            "147/147 [==============================] - 2s 11ms/step - loss: 0.3416 - acc: 0.8495 - val_loss: 0.4928 - val_acc: 0.7815\n",
            "Epoch 25/50\n",
            "147/147 [==============================] - 2s 11ms/step - loss: 0.3317 - acc: 0.8532 - val_loss: 0.5066 - val_acc: 0.7849\n",
            "Epoch 26/50\n",
            "147/147 [==============================] - 2s 11ms/step - loss: 0.3243 - acc: 0.8595 - val_loss: 0.5265 - val_acc: 0.7830\n",
            "Epoch 27/50\n",
            "147/147 [==============================] - 2s 11ms/step - loss: 0.3171 - acc: 0.8645 - val_loss: 0.5312 - val_acc: 0.7757\n",
            "Epoch 28/50\n",
            "147/147 [==============================] - 2s 11ms/step - loss: 0.3130 - acc: 0.8662 - val_loss: 0.5220 - val_acc: 0.7642\n",
            "Epoch 29/50\n",
            "147/147 [==============================] - 2s 11ms/step - loss: 0.3063 - acc: 0.8682 - val_loss: 0.5320 - val_acc: 0.7815\n",
            "Epoch 30/50\n",
            "147/147 [==============================] - 2s 11ms/step - loss: 0.2968 - acc: 0.8749 - val_loss: 0.5252 - val_acc: 0.7897\n",
            "Epoch 31/50\n",
            "147/147 [==============================] - 2s 11ms/step - loss: 0.2881 - acc: 0.8765 - val_loss: 0.5292 - val_acc: 0.7825\n",
            "Epoch 32/50\n",
            "147/147 [==============================] - 2s 11ms/step - loss: 0.2807 - acc: 0.8813 - val_loss: 0.5415 - val_acc: 0.7834\n",
            "Epoch 33/50\n",
            "147/147 [==============================] - 2s 12ms/step - loss: 0.2769 - acc: 0.8827 - val_loss: 0.5417 - val_acc: 0.7907\n",
            "Epoch 34/50\n",
            "147/147 [==============================] - 2s 12ms/step - loss: 0.2750 - acc: 0.8850 - val_loss: 0.5725 - val_acc: 0.7782\n",
            "Epoch 35/50\n",
            "147/147 [==============================] - 2s 11ms/step - loss: 0.2673 - acc: 0.8876 - val_loss: 0.5496 - val_acc: 0.7868\n",
            "Epoch 36/50\n",
            "147/147 [==============================] - 2s 11ms/step - loss: 0.2571 - acc: 0.8930 - val_loss: 0.5849 - val_acc: 0.7729\n",
            "Epoch 37/50\n",
            "147/147 [==============================] - 2s 12ms/step - loss: 0.2487 - acc: 0.8975 - val_loss: 0.5879 - val_acc: 0.7859\n",
            "Epoch 38/50\n",
            "147/147 [==============================] - 2s 12ms/step - loss: 0.2461 - acc: 0.8982 - val_loss: 0.5700 - val_acc: 0.7868\n",
            "Epoch 39/50\n",
            "147/147 [==============================] - 2s 12ms/step - loss: 0.2426 - acc: 0.9014 - val_loss: 0.5826 - val_acc: 0.7772\n",
            "Epoch 40/50\n",
            "147/147 [==============================] - 2s 12ms/step - loss: 0.2322 - acc: 0.9047 - val_loss: 0.6178 - val_acc: 0.7839\n",
            "Epoch 41/50\n",
            "147/147 [==============================] - 2s 11ms/step - loss: 0.2488 - acc: 0.8966 - val_loss: 0.5933 - val_acc: 0.7796\n",
            "Epoch 42/50\n",
            "147/147 [==============================] - 2s 11ms/step - loss: 0.2255 - acc: 0.9092 - val_loss: 0.5926 - val_acc: 0.7753\n",
            "Epoch 43/50\n",
            "147/147 [==============================] - 2s 11ms/step - loss: 0.2203 - acc: 0.9119 - val_loss: 0.6097 - val_acc: 0.7772\n",
            "Epoch 44/50\n",
            "147/147 [==============================] - 2s 12ms/step - loss: 0.2090 - acc: 0.9176 - val_loss: 0.6122 - val_acc: 0.7849\n",
            "Epoch 45/50\n",
            "147/147 [==============================] - 2s 12ms/step - loss: 0.2126 - acc: 0.9139 - val_loss: 0.6354 - val_acc: 0.7733\n",
            "Epoch 46/50\n",
            "147/147 [==============================] - 2s 12ms/step - loss: 0.2109 - acc: 0.9148 - val_loss: 0.6385 - val_acc: 0.7733\n",
            "Epoch 47/50\n",
            "147/147 [==============================] - 2s 11ms/step - loss: 0.2004 - acc: 0.9201 - val_loss: 0.6563 - val_acc: 0.7796\n",
            "Epoch 48/50\n",
            "147/147 [==============================] - 2s 12ms/step - loss: 0.1951 - acc: 0.9236 - val_loss: 0.6818 - val_acc: 0.7806\n",
            "Epoch 49/50\n",
            "147/147 [==============================] - 2s 12ms/step - loss: 0.1903 - acc: 0.9258 - val_loss: 0.6634 - val_acc: 0.7810\n",
            "Epoch 50/50\n",
            "147/147 [==============================] - 2s 12ms/step - loss: 0.1886 - acc: 0.9239 - val_loss: 0.6979 - val_acc: 0.7671\n"
          ]
        },
        {
          "output_type": "display_data",
          "data": {
            "text/plain": [
              "<Figure size 432x288 with 1 Axes>"
            ],
            "image/png": "[encoded data removed]"
          },
          "metadata": {
            "needs_background": "light"
          }
        }
      ]
    },
    {
      "cell_type": "code",
      "source": [
        "loss, acc = model.evaluate(test_x, test_y)\n",
        "print(\"loss=\", loss)\n",
        "print(\"acc=\", acc)\n",
        "\n",
        "\n",
        "y_ = model.predict(test_x)\n",
        "predicted = np.argmax(y_, axis=-1)\n",
        "plt.plot(test_y[:30], 'o')\n",
        "plt.plot(predicted[:30], '.')\n",
        "plt.show()"
      ],
      "metadata": {
        "colab": {
          "base_uri": "https://localhost:8080/",
          "height": 319
        },
        "id": "bglblfDh53PJ",
        "outputId": "7ca35f58-143e-403c-bf3d-0bee763fe9d1"
      },
      "execution_count": 36,
      "outputs": [
        {
          "output_type": "stream",
          "name": "stdout",
          "text": [
            "163/163 [==============================] - 1s 5ms/step - loss: 0.7131 - acc: 0.7672\n",
            "loss= 0.7130905389785767\n",
            "acc= 0.7672314047813416\n"
          ]
        },
        {
          "output_type": "display_data",
          "data": {
            "text/plain": [
              "<Figure size 432x288 with 1 Axes>"
            ],
            "image/png": "[encoded data removed]"
          },
          "metadata": {
            "needs_background": "light"
          }
        }
      ]
    },
    {
      "cell_type": "markdown",
      "source": [
        "# submission 데이터 예측"
      ],
      "metadata": {
        "id": "M32Qjkmw6rTy"
      }
    },
    {
      "cell_type": "code",
      "source": [
        "test_df.info()"
      ],
      "metadata": {
        "colab": {
          "base_uri": "https://localhost:8080/"
        },
        "id": "J0ibx7ms69tL",
        "outputId": "b8e58b92-8232-40a3-8f7e-2bdc633e0bef"
      },
      "execution_count": null,
      "outputs": [
        {
          "output_type": "stream",
          "name": "stdout",
          "text": [
            "<class 'pandas.core.frame.DataFrame'>\n",
            "RangeIndex: 733080 entries, 0 to 733079\n",
            "Data columns (total 16 columns):\n",
            " #   Column     Non-Null Count   Dtype  \n",
            "---  ------     --------------   -----  \n",
            " 0   sequence   733080 non-null  int64  \n",
            " 1   subject    733080 non-null  int64  \n",
            " 2   step       733080 non-null  int64  \n",
            " 3   sensor_00  733080 non-null  float64\n",
            " 4   sensor_01  733080 non-null  float64\n",
            " 5   sensor_02  733080 non-null  float64\n",
            " 6   sensor_03  733080 non-null  float64\n",
            " 7   sensor_04  733080 non-null  float64\n",
            " 8   sensor_05  733080 non-null  float64\n",
            " 9   sensor_06  733080 non-null  float64\n",
            " 10  sensor_07  733080 non-null  float64\n",
            " 11  sensor_08  733080 non-null  float64\n",
            " 12  sensor_09  733080 non-null  float64\n",
            " 13  sensor_10  733080 non-null  float64\n",
            " 14  sensor_11  733080 non-null  float64\n",
            " 15  sensor_12  733080 non-null  float64\n",
            "dtypes: float64(13), int64(3)\n",
            "memory usage: 89.5 MB\n"
          ]
        }
      ]
    },
    {
      "cell_type": "code",
      "source": [
        "sample_submission_df = pd.read_csv(\"sample_submission.csv\")\n",
        "sample_submission_df.head()"
      ],
      "metadata": {
        "colab": {
          "base_uri": "https://localhost:8080/",
          "height": 206
        },
        "id": "cKtIzusD7GTm",
        "outputId": "0b50009b-1277-4507-dc85-7442e664930d"
      },
      "execution_count": null,
      "outputs": [
        {
          "output_type": "execute_result",
          "data": {
            "text/plain": [
              "   sequence  state\n",
              "0     25968      0\n",
              "1     25969      0\n",
              "2     25970      0\n",
              "3     25971      0\n",
              "4     25972      0"
            ],
            "text/html": [
              "\n",
              "  <div id=\"df-939757b4-822b-410f-8bf1-6d45888ae07f\">\n",
              "    <div class=\"colab-df-container\">\n",
              "      <div>\n",
              "<style scoped>\n",
              "    .dataframe tbody tr th:only-of-type {\n",
              "        vertical-align: middle;\n",
              "    }\n",
              "\n",
              "    .dataframe tbody tr th {\n",
              "        vertical-align: top;\n",
              "    }\n",
              "\n",
              "    .dataframe thead th {\n",
              "        text-align: right;\n",
              "    }\n",
              "</style>\n",
              "<table border=\"1\" class=\"dataframe\">\n",
              "  <thead>\n",
              "    <tr style=\"text-align: right;\">\n",
              "      <th></th>\n",
              "      <th>sequence</th>\n",
              "      <th>state</th>\n",
              "    </tr>\n",
              "  </thead>\n",
              "  <tbody>\n",
              "    <tr>\n",
              "      <th>0</th>\n",
              "      <td>25968</td>\n",
              "      <td>0</td>\n",
              "    </tr>\n",
              "    <tr>\n",
              "      <th>1</th>\n",
              "      <td>25969</td>\n",
              "      <td>0</td>\n",
              "    </tr>\n",
              "    <tr>\n",
              "      <th>2</th>\n",
              "      <td>25970</td>\n",
              "      <td>0</td>\n",
              "    </tr>\n",
              "    <tr>\n",
              "      <th>3</th>\n",
              "      <td>25971</td>\n",
              "      <td>0</td>\n",
              "    </tr>\n",
              "    <tr>\n",
              "      <th>4</th>\n",
              "      <td>25972</td>\n",
              "      <td>0</td>\n",
              "    </tr>\n",
              "  </tbody>\n",
              "</table>\n",
              "</div>\n",
              "      <button class=\"colab-df-convert\" onclick=\"convertToInteractive('df-939757b4-822b-410f-8bf1-6d45888ae07f')\"\n",
              "              title=\"Convert this dataframe to an interactive table.\"\n",
              "              style=\"display:none;\">\n",
              "        \n",
              "  <svg xmlns=\"http://www.w3.org/2000/svg\" height=\"24px\"viewBox=\"0 0 24 24\"\n",
              "       width=\"24px\">\n",
              "    <path d=\"M0 0h24v24H0V0z\" fill=\"none\"/>\n",
              "    <path d=\"M18.56 5.44l.94 2.06.94-2.06 2.06-.94-2.06-.94-.94-2.06-.94 2.06-2.06.94zm-11 1L8.5 8.5l.94-2.06 2.06-.94-2.06-.94L8.5 2.5l-.94 2.06-2.06.94zm10 10l.94 2.06.94-2.06 2.06-.94-2.06-.94-.94-2.06-.94 2.06-2.06.94z\"/><path d=\"M17.41 7.96l-1.37-1.37c-.4-.4-.92-.59-1.43-.59-.52 0-1.04.2-1.43.59L10.3 9.45l-7.72 7.72c-.78.78-.78 2.05 0 2.83L4 21.41c.39.39.9.59 1.41.59.51 0 1.02-.2 1.41-.59l7.78-7.78 2.81-2.81c.8-.78.8-2.07 0-2.86zM5.41 20L4 18.59l7.72-7.72 1.47 1.35L5.41 20z\"/>\n",
              "  </svg>\n",
              "      </button>\n",
              "      \n",
              "  <style>\n",
              "    .colab-df-container {\n",
              "      display:flex;\n",
              "      flex-wrap:wrap;\n",
              "      gap: 12px;\n",
              "    }\n",
              "\n",
              "    .colab-df-convert {\n",
              "      background-color: #E8F0FE;\n",
              "      border: none;\n",
              "      border-radius: 50%;\n",
              "      cursor: pointer;\n",
              "      display: none;\n",
              "      fill: #1967D2;\n",
              "      height: 32px;\n",
              "      padding: 0 0 0 0;\n",
              "      width: 32px;\n",
              "    }\n",
              "\n",
              "    .colab-df-convert:hover {\n",
              "      background-color: #E2EBFA;\n",
              "      box-shadow: 0px 1px 2px rgba(60, 64, 67, 0.3), 0px 1px 3px 1px rgba(60, 64, 67, 0.15);\n",
              "      fill: #174EA6;\n",
              "    }\n",
              "\n",
              "    [theme=dark] .colab-df-convert {\n",
              "      background-color: #3B4455;\n",
              "      fill: #D2E3FC;\n",
              "    }\n",
              "\n",
              "    [theme=dark] .colab-df-convert:hover {\n",
              "      background-color: #434B5C;\n",
              "      box-shadow: 0px 1px 3px 1px rgba(0, 0, 0, 0.15);\n",
              "      filter: drop-shadow(0px 1px 2px rgba(0, 0, 0, 0.3));\n",
              "      fill: #FFFFFF;\n",
              "    }\n",
              "  </style>\n",
              "\n",
              "      <script>\n",
              "        const buttonEl =\n",
              "          document.querySelector('#df-939757b4-822b-410f-8bf1-6d45888ae07f button.colab-df-convert');\n",
              "        buttonEl.style.display =\n",
              "          google.colab.kernel.accessAllowed ? 'block' : 'none';\n",
              "\n",
              "        async function convertToInteractive(key) {\n",
              "          const element = document.querySelector('#df-939757b4-822b-410f-8bf1-6d45888ae07f');\n",
              "          const dataTable =\n",
              "            await google.colab.kernel.invokeFunction('convertToInteractive',\n",
              "                                                     [key], {});\n",
              "          if (!dataTable) return;\n",
              "\n",
              "          const docLinkHtml = 'Like what you see? Visit the ' +\n",
              "            '<a target=\"_blank\" href=https://colab.research.google.com/notebooks/data_table.ipynb>data table notebook</a>'\n",
              "            + ' to learn more about interactive tables.';\n",
              "          element.innerHTML = '';\n",
              "          dataTable['output_type'] = 'display_data';\n",
              "          await google.colab.output.renderOutput(dataTable, element);\n",
              "          const docLink = document.createElement('div');\n",
              "          docLink.innerHTML = docLinkHtml;\n",
              "          element.appendChild(docLink);\n",
              "        }\n",
              "      </script>\n",
              "    </div>\n",
              "  </div>\n",
              "  "
            ]
          },
          "metadata": {},
          "execution_count": 30
        }
      ]
    },
    {
      "cell_type": "code",
      "source": [
        "sample_submission_df.info()"
      ],
      "metadata": {
        "colab": {
          "base_uri": "https://localhost:8080/"
        },
        "id": "FdRG7bz17Pff",
        "outputId": "5dbc0579-b48c-4f54-ce62-f2c937f88d3d"
      },
      "execution_count": null,
      "outputs": [
        {
          "output_type": "stream",
          "name": "stdout",
          "text": [
            "<class 'pandas.core.frame.DataFrame'>\n",
            "RangeIndex: 12218 entries, 0 to 12217\n",
            "Data columns (total 2 columns):\n",
            " #   Column    Non-Null Count  Dtype\n",
            "---  ------    --------------  -----\n",
            " 0   sequence  12218 non-null  int64\n",
            " 1   state     12218 non-null  int64\n",
            "dtypes: int64(2)\n",
            "memory usage: 191.0 KB\n"
          ]
        }
      ]
    },
    {
      "cell_type": "code",
      "source": [
        "raw_submission_x = test_df.to_numpy()\n",
        "SUBMISSION_DATA_COUNT = int(len(raw_submission)/60)\n",
        "print(\"submission data count =\", SUBMISSION_DATA_COUNT)"
      ],
      "metadata": {
        "colab": {
          "base_uri": "https://localhost:8080/"
        },
        "id": "_H-pYA8V6hj5",
        "outputId": "094dd0cc-bfc3-47a7-922b-4d23bed1ba6d"
      },
      "execution_count": null,
      "outputs": [
        {
          "output_type": "stream",
          "name": "stdout",
          "text": [
            "submission data count = 12218\n"
          ]
        }
      ]
    },
    {
      "cell_type": "code",
      "source": [
        "submission_x = raw_submission_x[:,3:].reshape((SUBMISSION_DATA_COUNT, 60, 13))"
      ],
      "metadata": {
        "id": "6BxI4gLZ65rA"
      },
      "execution_count": null,
      "outputs": []
    },
    {
      "cell_type": "code",
      "source": [
        "print(submission_x.shape)"
      ],
      "metadata": {
        "colab": {
          "base_uri": "https://localhost:8080/"
        },
        "id": "3OLDEUnU7lXg",
        "outputId": "db99b67e-c247-47ff-8923-1c1f1a98e876"
      },
      "execution_count": null,
      "outputs": [
        {
          "output_type": "stream",
          "name": "stdout",
          "text": [
            "(12218, 60, 13)\n"
          ]
        }
      ]
    },
    {
      "cell_type": "markdown",
      "source": [
        "# 모델 예측"
      ],
      "metadata": {
        "id": "cCCrNeGx8Nqy"
      }
    },
    {
      "cell_type": "code",
      "source": [
        "y_ = model.predict(submission_x)\n",
        "predicted = np.argmax(y_, axis=-1)\n",
        "print(predicted.shape)\n",
        "print(predicted[:10])"
      ],
      "metadata": {
        "colab": {
          "base_uri": "https://localhost:8080/"
        },
        "id": "6qh5fxb-7s-A",
        "outputId": "9ab8bab7-ba2f-4ec0-b935-79e79870eb33"
      },
      "execution_count": null,
      "outputs": [
        {
          "output_type": "stream",
          "name": "stdout",
          "text": [
            "(12218,)\n",
            "[1 1 0 0 1 0 1 0 1 0]\n"
          ]
        }
      ]
    },
    {
      "cell_type": "code",
      "source": [
        "sample_submission_df.state = predicted\n",
        "sample_submission_df.head()"
      ],
      "metadata": {
        "colab": {
          "base_uri": "https://localhost:8080/",
          "height": 206
        },
        "id": "XLk8Eyaj74AN",
        "outputId": "2ce6e134-77bc-4104-f922-1fc8199845f2"
      },
      "execution_count": null,
      "outputs": [
        {
          "output_type": "execute_result",
          "data": {
            "text/plain": [
              "   sequence  state\n",
              "0     25968      1\n",
              "1     25969      1\n",
              "2     25970      0\n",
              "3     25971      0\n",
              "4     25972      1"
            ],
            "text/html": [
              "\n",
              "  <div id=\"df-2968ba24-55f7-4fac-aa8d-bd0a7221061b\">\n",
              "    <div class=\"colab-df-container\">\n",
              "      <div>\n",
              "<style scoped>\n",
              "    .dataframe tbody tr th:only-of-type {\n",
              "        vertical-align: middle;\n",
              "    }\n",
              "\n",
              "    .dataframe tbody tr th {\n",
              "        vertical-align: top;\n",
              "    }\n",
              "\n",
              "    .dataframe thead th {\n",
              "        text-align: right;\n",
              "    }\n",
              "</style>\n",
              "<table border=\"1\" class=\"dataframe\">\n",
              "  <thead>\n",
              "    <tr style=\"text-align: right;\">\n",
              "      <th></th>\n",
              "      <th>sequence</th>\n",
              "      <th>state</th>\n",
              "    </tr>\n",
              "  </thead>\n",
              "  <tbody>\n",
              "    <tr>\n",
              "      <th>0</th>\n",
              "      <td>25968</td>\n",
              "      <td>1</td>\n",
              "    </tr>\n",
              "    <tr>\n",
              "      <th>1</th>\n",
              "      <td>25969</td>\n",
              "      <td>1</td>\n",
              "    </tr>\n",
              "    <tr>\n",
              "      <th>2</th>\n",
              "      <td>25970</td>\n",
              "      <td>0</td>\n",
              "    </tr>\n",
              "    <tr>\n",
              "      <th>3</th>\n",
              "      <td>25971</td>\n",
              "      <td>0</td>\n",
              "    </tr>\n",
              "    <tr>\n",
              "      <th>4</th>\n",
              "      <td>25972</td>\n",
              "      <td>1</td>\n",
              "    </tr>\n",
              "  </tbody>\n",
              "</table>\n",
              "</div>\n",
              "      <button class=\"colab-df-convert\" onclick=\"convertToInteractive('df-2968ba24-55f7-4fac-aa8d-bd0a7221061b')\"\n",
              "              title=\"Convert this dataframe to an interactive table.\"\n",
              "              style=\"display:none;\">\n",
              "        \n",
              "  <svg xmlns=\"http://www.w3.org/2000/svg\" height=\"24px\"viewBox=\"0 0 24 24\"\n",
              "       width=\"24px\">\n",
              "    <path d=\"M0 0h24v24H0V0z\" fill=\"none\"/>\n",
              "    <path d=\"M18.56 5.44l.94 2.06.94-2.06 2.06-.94-2.06-.94-.94-2.06-.94 2.06-2.06.94zm-11 1L8.5 8.5l.94-2.06 2.06-.94-2.06-.94L8.5 2.5l-.94 2.06-2.06.94zm10 10l.94 2.06.94-2.06 2.06-.94-2.06-.94-.94-2.06-.94 2.06-2.06.94z\"/><path d=\"M17.41 7.96l-1.37-1.37c-.4-.4-.92-.59-1.43-.59-.52 0-1.04.2-1.43.59L10.3 9.45l-7.72 7.72c-.78.78-.78 2.05 0 2.83L4 21.41c.39.39.9.59 1.41.59.51 0 1.02-.2 1.41-.59l7.78-7.78 2.81-2.81c.8-.78.8-2.07 0-2.86zM5.41 20L4 18.59l7.72-7.72 1.47 1.35L5.41 20z\"/>\n",
              "  </svg>\n",
              "      </button>\n",
              "      \n",
              "  <style>\n",
              "    .colab-df-container {\n",
              "      display:flex;\n",
              "      flex-wrap:wrap;\n",
              "      gap: 12px;\n",
              "    }\n",
              "\n",
              "    .colab-df-convert {\n",
              "      background-color: #E8F0FE;\n",
              "      border: none;\n",
              "      border-radius: 50%;\n",
              "      cursor: pointer;\n",
              "      display: none;\n",
              "      fill: #1967D2;\n",
              "      height: 32px;\n",
              "      padding: 0 0 0 0;\n",
              "      width: 32px;\n",
              "    }\n",
              "\n",
              "    .colab-df-convert:hover {\n",
              "      background-color: #E2EBFA;\n",
              "      box-shadow: 0px 1px 2px rgba(60, 64, 67, 0.3), 0px 1px 3px 1px rgba(60, 64, 67, 0.15);\n",
              "      fill: #174EA6;\n",
              "    }\n",
              "\n",
              "    [theme=dark] .colab-df-convert {\n",
              "      background-color: #3B4455;\n",
              "      fill: #D2E3FC;\n",
              "    }\n",
              "\n",
              "    [theme=dark] .colab-df-convert:hover {\n",
              "      background-color: #434B5C;\n",
              "      box-shadow: 0px 1px 3px 1px rgba(0, 0, 0, 0.15);\n",
              "      filter: drop-shadow(0px 1px 2px rgba(0, 0, 0, 0.3));\n",
              "      fill: #FFFFFF;\n",
              "    }\n",
              "  </style>\n",
              "\n",
              "      <script>\n",
              "        const buttonEl =\n",
              "          document.querySelector('#df-2968ba24-55f7-4fac-aa8d-bd0a7221061b button.colab-df-convert');\n",
              "        buttonEl.style.display =\n",
              "          google.colab.kernel.accessAllowed ? 'block' : 'none';\n",
              "\n",
              "        async function convertToInteractive(key) {\n",
              "          const element = document.querySelector('#df-2968ba24-55f7-4fac-aa8d-bd0a7221061b');\n",
              "          const dataTable =\n",
              "            await google.colab.kernel.invokeFunction('convertToInteractive',\n",
              "                                                     [key], {});\n",
              "          if (!dataTable) return;\n",
              "\n",
              "          const docLinkHtml = 'Like what you see? Visit the ' +\n",
              "            '<a target=\"_blank\" href=https://colab.research.google.com/notebooks/data_table.ipynb>data table notebook</a>'\n",
              "            + ' to learn more about interactive tables.';\n",
              "          element.innerHTML = '';\n",
              "          dataTable['output_type'] = 'display_data';\n",
              "          await google.colab.output.renderOutput(dataTable, element);\n",
              "          const docLink = document.createElement('div');\n",
              "          docLink.innerHTML = docLinkHtml;\n",
              "          element.appendChild(docLink);\n",
              "        }\n",
              "      </script>\n",
              "    </div>\n",
              "  </div>\n",
              "  "
            ]
          },
          "metadata": {},
          "execution_count": 38
        }
      ]
    },
    {
      "cell_type": "markdown",
      "source": [
        "# submission.csv 파일 생성"
      ],
      "metadata": {
        "id": "NWr2uK5C8K41"
      }
    },
    {
      "cell_type": "code",
      "source": [
        "sample_submission_df.to_csv(\"submission.csv\", index=False)"
      ],
      "metadata": {
        "id": "DWRylvO28CJK"
      },
      "execution_count": null,
      "outputs": []
    },
    {
      "cell_type": "code",
      "source": [
        "!head submission.csv"
      ],
      "metadata": {
        "colab": {
          "base_uri": "https://localhost:8080/"
        },
        "id": "7uBD8Wr-8Izv",
        "outputId": "8cdf77be-2792-424e-91fd-867604dc8062"
      },
      "execution_count": null,
      "outputs": [
        {
          "output_type": "stream",
          "name": "stdout",
          "text": [
            "sequence,state\n",
            "25968,1\n",
            "25969,1\n",
            "25970,0\n",
            "25971,0\n",
            "25972,1\n",
            "25973,0\n",
            "25974,1\n",
            "25975,0\n",
            "25976,1\n"
          ]
        }
      ]
    },
    {
      "cell_type": "code",
      "source": [
        ""
      ],
      "metadata": {
        "id": "esXASFPe8QcV"
      },
      "execution_count": null,
      "outputs": []
    }
  ]
}