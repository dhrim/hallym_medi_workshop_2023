{
  "nbformat": 4,
  "nbformat_minor": 0,
  "metadata": {
    "colab": {
      "name": "20220810_predict_commodity_price.ipynb",
      "provenance": []
    },
    "kernelspec": {
      "name": "python3",
      "display_name": "Python 3"
    },
    "language_info": {
      "name": "python"
    },
    "accelerator": "GPU",
    "gpuClass": "standard"
  },
  "cells": [
    {
      "cell_type": "markdown",
      "source": [
        "# 데이터 다운로드"
      ],
      "metadata": {
        "id": "6iaEn1PefgXE"
      }
    },
    {
      "cell_type": "code",
      "execution_count": 1,
      "metadata": {
        "colab": {
          "base_uri": "https://localhost:8080/"
        },
        "id": "QDAP8jxxe4LR",
        "outputId": "8ffd721f-529f-48b7-b1af-40f800488adc"
      },
      "outputs": [
        {
          "output_type": "stream",
          "name": "stdout",
          "text": [
            "--2022-08-10 02:03:21--  https://github.com/dhrim/deep_learning_data/raw/master/commodity.zip\n",
            "Resolving github.com (github.com)... 140.82.113.4\n",
            "Connecting to github.com (github.com)|140.82.113.4|:443... connected.\n",
            "HTTP request sent, awaiting response... 302 Found\n",
            "Location: https://raw.githubusercontent.com/dhrim/deep_learning_data/master/commodity.zip [following]\n",
            "--2022-08-10 02:03:21--  https://raw.githubusercontent.com/dhrim/deep_learning_data/master/commodity.zip\n",
            "Resolving raw.githubusercontent.com (raw.githubusercontent.com)... 185.199.111.133, 185.199.108.133, 185.199.110.133, ...\n",
            "Connecting to raw.githubusercontent.com (raw.githubusercontent.com)|185.199.111.133|:443... connected.\n",
            "HTTP request sent, awaiting response... 200 OK\n",
            "Length: 1835488 (1.8M) [application/zip]\n",
            "Saving to: ‘commodity.zip’\n",
            "\n",
            "commodity.zip       100%[===================>]   1.75M  --.-KB/s    in 0.1s    \n",
            "\n",
            "2022-08-10 02:03:22 (17.6 MB/s) - ‘commodity.zip’ saved [1835488/1835488]\n",
            "\n"
          ]
        }
      ],
      "source": [
        "!wget https://github.com/dhrim/deep_learning_data/raw/master/commodity.zip"
      ]
    },
    {
      "cell_type": "markdown",
      "source": [
        "# 압축 풀기"
      ],
      "metadata": {
        "id": "l1I8Rar7fjg6"
      }
    },
    {
      "cell_type": "code",
      "source": [
        "!unzip commodity.zip"
      ],
      "metadata": {
        "colab": {
          "base_uri": "https://localhost:8080/"
        },
        "id": "lHcdt0OeffWk",
        "outputId": "2229b917-befd-4483-fc78-3cf83841737b"
      },
      "execution_count": 2,
      "outputs": [
        {
          "output_type": "stream",
          "name": "stdout",
          "text": [
            "Archive:  commodity.zip\n",
            "   creating: commodity/\n",
            "  inflating: commodity/Natural Gas.csv  \n",
            "  inflating: commodity/Soybean.csv   \n",
            "  inflating: commodity/Gold.csv      \n",
            "  inflating: commodity/Platinum.csv  \n",
            "  inflating: commodity/Heating Oil.csv  \n",
            "  inflating: commodity/Palladium.csv  \n",
            "  inflating: commodity/Silver.csv    \n",
            "  inflating: commodity/Lumber.csv    \n",
            "  inflating: commodity/Lean Hogs.csv  \n",
            "  inflating: commodity/Soybean Meal.csv  \n",
            "  inflating: commodity/Copper.csv    \n",
            "  inflating: commodity/Live Cattle.csv  \n",
            "  inflating: commodity/Soybean Oil.csv  \n",
            "  inflating: commodity/Brent Crude Oil.csv  \n",
            "  inflating: commodity/Cotton.csv    \n",
            "  inflating: commodity/RBOB Gasoline.csv  \n",
            "  inflating: commodity/Oat.csv       \n",
            "  inflating: commodity/Coffee.csv    \n",
            "  inflating: commodity/Wheat.csv     \n",
            "  inflating: commodity/Sugar.csv     \n",
            "  inflating: commodity/Corn.csv      \n",
            "  inflating: commodity/Crude Oil.csv  \n",
            "  inflating: commodity/Cocoa.csv     \n",
            "  inflating: commodity/Feeder Cattle.csv  \n"
          ]
        }
      ]
    },
    {
      "cell_type": "code",
      "source": [
        "!head commodity/Gold.csv"
      ],
      "metadata": {
        "colab": {
          "base_uri": "https://localhost:8080/"
        },
        "id": "diHUrW18f2qs",
        "outputId": "47a1297c-7bf5-4270-fd15-4e65ad74620d"
      },
      "execution_count": 3,
      "outputs": [
        {
          "output_type": "stream",
          "name": "stdout",
          "text": [
            "Date,Open,High,Low,Close,Adj Close,Volume\n",
            "2000-08-30,273.899994,273.899994,273.899994,273.899994,273.899994,0\n",
            "2000-08-31,274.799988,278.299988,274.799988,278.299988,278.299988,0\n",
            "2000-09-01,277.000000,277.000000,277.000000,277.000000,277.000000,0\n",
            "2000-09-04,null,null,null,null,null,null\n",
            "2000-09-05,275.799988,275.799988,275.799988,275.799988,275.799988,2\n",
            "2000-09-06,274.200012,274.200012,274.200012,274.200012,274.200012,0\n",
            "2000-09-07,274.000000,274.000000,274.000000,274.000000,274.000000,125\n",
            "2000-09-08,273.299988,273.299988,273.299988,273.299988,273.299988,0\n",
            "2000-09-11,273.100006,273.100006,273.100006,273.100006,273.100006,0\n"
          ]
        }
      ]
    },
    {
      "cell_type": "markdown",
      "source": [
        "# 데이터 로딩"
      ],
      "metadata": {
        "id": "c8rDGpcCgdxL"
      }
    },
    {
      "cell_type": "code",
      "source": [
        "import pandas as pd\n",
        "import numpy as np\n",
        "import matplotlib.pyplot as plt"
      ],
      "metadata": {
        "id": "7DOsSln4gSBS"
      },
      "execution_count": 5,
      "outputs": []
    },
    {
      "cell_type": "code",
      "source": [
        "gold_df = pd.read_csv(\"commodity/Gold.csv\")"
      ],
      "metadata": {
        "id": "Ok6wvHhxgi6Q"
      },
      "execution_count": 7,
      "outputs": []
    },
    {
      "cell_type": "code",
      "source": [
        "gold_df"
      ],
      "metadata": {
        "colab": {
          "base_uri": "https://localhost:8080/",
          "height": 424
        },
        "id": "0AE9RzNuhCcR",
        "outputId": "5c6eaf1a-3339-41bf-f00c-05f8976c5b01"
      },
      "execution_count": 8,
      "outputs": [
        {
          "output_type": "execute_result",
          "data": {
            "text/plain": [
              "            Date         Open         High          Low        Close  \\\n",
              "0     2000-08-30   273.899994   273.899994   273.899994   273.899994   \n",
              "1     2000-08-31   274.799988   278.299988   274.799988   278.299988   \n",
              "2     2000-09-01   277.000000   277.000000   277.000000   277.000000   \n",
              "3     2000-09-04          NaN          NaN          NaN          NaN   \n",
              "4     2000-09-05   275.799988   275.799988   275.799988   275.799988   \n",
              "...          ...          ...          ...          ...          ...   \n",
              "5286  2021-06-03  1908.800049  1908.800049  1865.000000  1871.199951   \n",
              "5287  2021-06-04  1869.300049  1895.500000  1854.000000  1889.800049   \n",
              "5288  2021-06-07  1890.500000  1899.699951  1883.199951  1896.800049   \n",
              "5289  2021-06-08  1896.500000  1902.900024  1890.000000  1892.199951   \n",
              "5290  2021-06-09  1894.900024  1897.699951  1889.199951  1893.199951   \n",
              "\n",
              "        Adj Close  Volume  \n",
              "0      273.899994     0.0  \n",
              "1      278.299988     0.0  \n",
              "2      277.000000     0.0  \n",
              "3             NaN     NaN  \n",
              "4      275.799988     2.0  \n",
              "...           ...     ...  \n",
              "5286  1871.199951  1021.0  \n",
              "5287  1889.800049   367.0  \n",
              "5288  1896.800049    87.0  \n",
              "5289  1892.199951   930.0  \n",
              "5290  1893.199951   930.0  \n",
              "\n",
              "[5291 rows x 7 columns]"
            ],
            "text/html": [
              "\n",
              "  <div id=\"df-c42140f2-6430-40b4-899a-4f90e7839a9d\">\n",
              "    <div class=\"colab-df-container\">\n",
              "      <div>\n",
              "<style scoped>\n",
              "    .dataframe tbody tr th:only-of-type {\n",
              "        vertical-align: middle;\n",
              "    }\n",
              "\n",
              "    .dataframe tbody tr th {\n",
              "        vertical-align: top;\n",
              "    }\n",
              "\n",
              "    .dataframe thead th {\n",
              "        text-align: right;\n",
              "    }\n",
              "</style>\n",
              "<table border=\"1\" class=\"dataframe\">\n",
              "  <thead>\n",
              "    <tr style=\"text-align: right;\">\n",
              "      <th></th>\n",
              "      <th>Date</th>\n",
              "      <th>Open</th>\n",
              "      <th>High</th>\n",
              "      <th>Low</th>\n",
              "      <th>Close</th>\n",
              "      <th>Adj Close</th>\n",
              "      <th>Volume</th>\n",
              "    </tr>\n",
              "  </thead>\n",
              "  <tbody>\n",
              "    <tr>\n",
              "      <th>0</th>\n",
              "      <td>2000-08-30</td>\n",
              "      <td>273.899994</td>\n",
              "      <td>273.899994</td>\n",
              "      <td>273.899994</td>\n",
              "      <td>273.899994</td>\n",
              "      <td>273.899994</td>\n",
              "      <td>0.0</td>\n",
              "    </tr>\n",
              "    <tr>\n",
              "      <th>1</th>\n",
              "      <td>2000-08-31</td>\n",
              "      <td>274.799988</td>\n",
              "      <td>278.299988</td>\n",
              "      <td>274.799988</td>\n",
              "      <td>278.299988</td>\n",
              "      <td>278.299988</td>\n",
              "      <td>0.0</td>\n",
              "    </tr>\n",
              "    <tr>\n",
              "      <th>2</th>\n",
              "      <td>2000-09-01</td>\n",
              "      <td>277.000000</td>\n",
              "      <td>277.000000</td>\n",
              "      <td>277.000000</td>\n",
              "      <td>277.000000</td>\n",
              "      <td>277.000000</td>\n",
              "      <td>0.0</td>\n",
              "    </tr>\n",
              "    <tr>\n",
              "      <th>3</th>\n",
              "      <td>2000-09-04</td>\n",
              "      <td>NaN</td>\n",
              "      <td>NaN</td>\n",
              "      <td>NaN</td>\n",
              "      <td>NaN</td>\n",
              "      <td>NaN</td>\n",
              "      <td>NaN</td>\n",
              "    </tr>\n",
              "    <tr>\n",
              "      <th>4</th>\n",
              "      <td>2000-09-05</td>\n",
              "      <td>275.799988</td>\n",
              "      <td>275.799988</td>\n",
              "      <td>275.799988</td>\n",
              "      <td>275.799988</td>\n",
              "      <td>275.799988</td>\n",
              "      <td>2.0</td>\n",
              "    </tr>\n",
              "    <tr>\n",
              "      <th>...</th>\n",
              "      <td>...</td>\n",
              "      <td>...</td>\n",
              "      <td>...</td>\n",
              "      <td>...</td>\n",
              "      <td>...</td>\n",
              "      <td>...</td>\n",
              "      <td>...</td>\n",
              "    </tr>\n",
              "    <tr>\n",
              "      <th>5286</th>\n",
              "      <td>2021-06-03</td>\n",
              "      <td>1908.800049</td>\n",
              "      <td>1908.800049</td>\n",
              "      <td>1865.000000</td>\n",
              "      <td>1871.199951</td>\n",
              "      <td>1871.199951</td>\n",
              "      <td>1021.0</td>\n",
              "    </tr>\n",
              "    <tr>\n",
              "      <th>5287</th>\n",
              "      <td>2021-06-04</td>\n",
              "      <td>1869.300049</td>\n",
              "      <td>1895.500000</td>\n",
              "      <td>1854.000000</td>\n",
              "      <td>1889.800049</td>\n",
              "      <td>1889.800049</td>\n",
              "      <td>367.0</td>\n",
              "    </tr>\n",
              "    <tr>\n",
              "      <th>5288</th>\n",
              "      <td>2021-06-07</td>\n",
              "      <td>1890.500000</td>\n",
              "      <td>1899.699951</td>\n",
              "      <td>1883.199951</td>\n",
              "      <td>1896.800049</td>\n",
              "      <td>1896.800049</td>\n",
              "      <td>87.0</td>\n",
              "    </tr>\n",
              "    <tr>\n",
              "      <th>5289</th>\n",
              "      <td>2021-06-08</td>\n",
              "      <td>1896.500000</td>\n",
              "      <td>1902.900024</td>\n",
              "      <td>1890.000000</td>\n",
              "      <td>1892.199951</td>\n",
              "      <td>1892.199951</td>\n",
              "      <td>930.0</td>\n",
              "    </tr>\n",
              "    <tr>\n",
              "      <th>5290</th>\n",
              "      <td>2021-06-09</td>\n",
              "      <td>1894.900024</td>\n",
              "      <td>1897.699951</td>\n",
              "      <td>1889.199951</td>\n",
              "      <td>1893.199951</td>\n",
              "      <td>1893.199951</td>\n",
              "      <td>930.0</td>\n",
              "    </tr>\n",
              "  </tbody>\n",
              "</table>\n",
              "<p>5291 rows × 7 columns</p>\n",
              "</div>\n",
              "      <button class=\"colab-df-convert\" onclick=\"convertToInteractive('df-c42140f2-6430-40b4-899a-4f90e7839a9d')\"\n",
              "              title=\"Convert this dataframe to an interactive table.\"\n",
              "              style=\"display:none;\">\n",
              "        \n",
              "  <svg xmlns=\"http://www.w3.org/2000/svg\" height=\"24px\"viewBox=\"0 0 24 24\"\n",
              "       width=\"24px\">\n",
              "    <path d=\"M0 0h24v24H0V0z\" fill=\"none\"/>\n",
              "    <path d=\"M18.56 5.44l.94 2.06.94-2.06 2.06-.94-2.06-.94-.94-2.06-.94 2.06-2.06.94zm-11 1L8.5 8.5l.94-2.06 2.06-.94-2.06-.94L8.5 2.5l-.94 2.06-2.06.94zm10 10l.94 2.06.94-2.06 2.06-.94-2.06-.94-.94-2.06-.94 2.06-2.06.94z\"/><path d=\"M17.41 7.96l-1.37-1.37c-.4-.4-.92-.59-1.43-.59-.52 0-1.04.2-1.43.59L10.3 9.45l-7.72 7.72c-.78.78-.78 2.05 0 2.83L4 21.41c.39.39.9.59 1.41.59.51 0 1.02-.2 1.41-.59l7.78-7.78 2.81-2.81c.8-.78.8-2.07 0-2.86zM5.41 20L4 18.59l7.72-7.72 1.47 1.35L5.41 20z\"/>\n",
              "  </svg>\n",
              "      </button>\n",
              "      \n",
              "  <style>\n",
              "    .colab-df-container {\n",
              "      display:flex;\n",
              "      flex-wrap:wrap;\n",
              "      gap: 12px;\n",
              "    }\n",
              "\n",
              "    .colab-df-convert {\n",
              "      background-color: #E8F0FE;\n",
              "      border: none;\n",
              "      border-radius: 50%;\n",
              "      cursor: pointer;\n",
              "      display: none;\n",
              "      fill: #1967D2;\n",
              "      height: 32px;\n",
              "      padding: 0 0 0 0;\n",
              "      width: 32px;\n",
              "    }\n",
              "\n",
              "    .colab-df-convert:hover {\n",
              "      background-color: #E2EBFA;\n",
              "      box-shadow: 0px 1px 2px rgba(60, 64, 67, 0.3), 0px 1px 3px 1px rgba(60, 64, 67, 0.15);\n",
              "      fill: #174EA6;\n",
              "    }\n",
              "\n",
              "    [theme=dark] .colab-df-convert {\n",
              "      background-color: #3B4455;\n",
              "      fill: #D2E3FC;\n",
              "    }\n",
              "\n",
              "    [theme=dark] .colab-df-convert:hover {\n",
              "      background-color: #434B5C;\n",
              "      box-shadow: 0px 1px 3px 1px rgba(0, 0, 0, 0.15);\n",
              "      filter: drop-shadow(0px 1px 2px rgba(0, 0, 0, 0.3));\n",
              "      fill: #FFFFFF;\n",
              "    }\n",
              "  </style>\n",
              "\n",
              "      <script>\n",
              "        const buttonEl =\n",
              "          document.querySelector('#df-c42140f2-6430-40b4-899a-4f90e7839a9d button.colab-df-convert');\n",
              "        buttonEl.style.display =\n",
              "          google.colab.kernel.accessAllowed ? 'block' : 'none';\n",
              "\n",
              "        async function convertToInteractive(key) {\n",
              "          const element = document.querySelector('#df-c42140f2-6430-40b4-899a-4f90e7839a9d');\n",
              "          const dataTable =\n",
              "            await google.colab.kernel.invokeFunction('convertToInteractive',\n",
              "                                                     [key], {});\n",
              "          if (!dataTable) return;\n",
              "\n",
              "          const docLinkHtml = 'Like what you see? Visit the ' +\n",
              "            '<a target=\"_blank\" href=https://colab.research.google.com/notebooks/data_table.ipynb>data table notebook</a>'\n",
              "            + ' to learn more about interactive tables.';\n",
              "          element.innerHTML = '';\n",
              "          dataTable['output_type'] = 'display_data';\n",
              "          await google.colab.output.renderOutput(dataTable, element);\n",
              "          const docLink = document.createElement('div');\n",
              "          docLink.innerHTML = docLinkHtml;\n",
              "          element.appendChild(docLink);\n",
              "        }\n",
              "      </script>\n",
              "    </div>\n",
              "  </div>\n",
              "  "
            ]
          },
          "metadata": {},
          "execution_count": 8
        }
      ]
    },
    {
      "cell_type": "code",
      "source": [
        "gold_df.info()"
      ],
      "metadata": {
        "colab": {
          "base_uri": "https://localhost:8080/"
        },
        "id": "IRzXUFRkhF81",
        "outputId": "7b16c9f3-0238-4d4f-9394-c95e36178c19"
      },
      "execution_count": 9,
      "outputs": [
        {
          "output_type": "stream",
          "name": "stdout",
          "text": [
            "<class 'pandas.core.frame.DataFrame'>\n",
            "RangeIndex: 5291 entries, 0 to 5290\n",
            "Data columns (total 7 columns):\n",
            " #   Column     Non-Null Count  Dtype  \n",
            "---  ------     --------------  -----  \n",
            " 0   Date       5291 non-null   object \n",
            " 1   Open       5179 non-null   float64\n",
            " 2   High       5179 non-null   float64\n",
            " 3   Low        5179 non-null   float64\n",
            " 4   Close      5179 non-null   float64\n",
            " 5   Adj Close  5179 non-null   float64\n",
            " 6   Volume     5179 non-null   float64\n",
            "dtypes: float64(6), object(1)\n",
            "memory usage: 289.5+ KB\n"
          ]
        }
      ]
    },
    {
      "cell_type": "markdown",
      "source": [
        "# 결측치 처리"
      ],
      "metadata": {
        "id": "hrDnZ5uwhyMs"
      }
    },
    {
      "cell_type": "code",
      "source": [
        "gold_df = gold_df.dropna()\n",
        "print(gold_df.info())"
      ],
      "metadata": {
        "colab": {
          "base_uri": "https://localhost:8080/"
        },
        "id": "96C7SxHthzbZ",
        "outputId": "469a5ca7-68eb-4b3a-e051-b846c8f84df2"
      },
      "execution_count": 10,
      "outputs": [
        {
          "output_type": "stream",
          "name": "stdout",
          "text": [
            "<class 'pandas.core.frame.DataFrame'>\n",
            "Int64Index: 5179 entries, 0 to 5290\n",
            "Data columns (total 7 columns):\n",
            " #   Column     Non-Null Count  Dtype  \n",
            "---  ------     --------------  -----  \n",
            " 0   Date       5179 non-null   object \n",
            " 1   Open       5179 non-null   float64\n",
            " 2   High       5179 non-null   float64\n",
            " 3   Low        5179 non-null   float64\n",
            " 4   Close      5179 non-null   float64\n",
            " 5   Adj Close  5179 non-null   float64\n",
            " 6   Volume     5179 non-null   float64\n",
            "dtypes: float64(6), object(1)\n",
            "memory usage: 323.7+ KB\n",
            "None\n"
          ]
        }
      ]
    },
    {
      "cell_type": "markdown",
      "source": [
        "# 사용하지 않는 컬럼 버리기"
      ],
      "metadata": {
        "id": "cQEzvRTIiZ7C"
      }
    },
    {
      "cell_type": "code",
      "source": [
        "gold_df.drop(columns=[\"Date\", \"Adj Close\"], inplace=True)\n",
        "print(gold_df.head())"
      ],
      "metadata": {
        "colab": {
          "base_uri": "https://localhost:8080/"
        },
        "id": "kmf5cvd4iM5j",
        "outputId": "0a2b2979-3406-4d05-8b35-8f52831a1148"
      },
      "execution_count": 11,
      "outputs": [
        {
          "output_type": "stream",
          "name": "stdout",
          "text": [
            "         Open        High         Low       Close  Volume\n",
            "0  273.899994  273.899994  273.899994  273.899994     0.0\n",
            "1  274.799988  278.299988  274.799988  278.299988     0.0\n",
            "2  277.000000  277.000000  277.000000  277.000000     0.0\n",
            "4  275.799988  275.799988  275.799988  275.799988     2.0\n",
            "5  274.200012  274.200012  274.200012  274.200012     0.0\n"
          ]
        },
        {
          "output_type": "stream",
          "name": "stderr",
          "text": [
            "/usr/local/lib/python3.7/dist-packages/pandas/core/frame.py:4913: SettingWithCopyWarning: \n",
            "A value is trying to be set on a copy of a slice from a DataFrame\n",
            "\n",
            "See the caveats in the documentation: https://pandas.pydata.org/pandas-docs/stable/user_guide/indexing.html#returning-a-view-versus-a-copy\n",
            "  errors=errors,\n"
          ]
        }
      ]
    },
    {
      "cell_type": "markdown",
      "source": [
        "# Normalization"
      ],
      "metadata": {
        "id": "toSm4zj9i8Bz"
      }
    },
    {
      "cell_type": "code",
      "source": [
        "gold_df = (gold_df - gold_df.min()) / (gold_df.max() - gold_df.min())\n",
        "print(gold_df.head())"
      ],
      "metadata": {
        "colab": {
          "base_uri": "https://localhost:8080/"
        },
        "id": "Nck0REdAi8-y",
        "outputId": "1296f09a-6776-45df-bb09-bde8b60acad5"
      },
      "execution_count": 12,
      "outputs": [
        {
          "output_type": "stream",
          "name": "stdout",
          "text": [
            "       Open      High       Low     Close    Volume\n",
            "0  0.010556  0.009851  0.010588  0.010465  0.000000\n",
            "1  0.011058  0.012286  0.011092  0.012915  0.000000\n",
            "2  0.012287  0.011567  0.012325  0.012191  0.000000\n",
            "4  0.011617  0.010903  0.011653  0.011523  0.000005\n",
            "5  0.010723  0.010017  0.010756  0.010632  0.000000\n"
          ]
        }
      ]
    },
    {
      "cell_type": "markdown",
      "source": [
        "# 그림 그려 보기"
      ],
      "metadata": {
        "id": "5dbBM4xZjbs4"
      }
    },
    {
      "cell_type": "code",
      "source": [
        "plt.figure(figsize=(16,3))\n",
        "plt.plot(gold_df.Open)\n",
        "plt.show()"
      ],
      "metadata": {
        "colab": {
          "base_uri": "https://localhost:8080/",
          "height": 211
        },
        "id": "-lHU7mF0jc2j",
        "outputId": "6f49a8b3-801c-4a92-d788-e625d4053b09"
      },
      "execution_count": 16,
      "outputs": [
        {
          "output_type": "display_data",
          "data": {
            "text/plain": [
              "<Figure size 1152x216 with 1 Axes>"
            ],
            "image/png": "[encoded data removed]"
          },
          "metadata": {
            "needs_background": "light"
          }
        }
      ]
    },
    {
      "cell_type": "markdown",
      "source": [
        "# numpy로 변환"
      ],
      "metadata": {
        "id": "68Yq9a9pkVDQ"
      }
    },
    {
      "cell_type": "code",
      "source": [
        "raw_data = gold_df.to_numpy()\n",
        "print(raw_data.shape)"
      ],
      "metadata": {
        "colab": {
          "base_uri": "https://localhost:8080/"
        },
        "id": "6aY2V5wUjhEF",
        "outputId": "540110ce-898d-460c-85b8-3b073d91cab7"
      },
      "execution_count": 17,
      "outputs": [
        {
          "output_type": "stream",
          "name": "stdout",
          "text": [
            "(5179, 5)\n"
          ]
        }
      ]
    },
    {
      "cell_type": "markdown",
      "source": [
        "# 샘플링"
      ],
      "metadata": {
        "id": "U96EPTf4kqqJ"
      }
    },
    {
      "cell_type": "code",
      "source": [
        "numbers = raw_data"
      ],
      "metadata": {
        "id": "99i3uhbYlbuY"
      },
      "execution_count": 18,
      "outputs": []
    },
    {
      "cell_type": "code",
      "source": [
        "SEQUENCE_LENGTH = 30\n",
        "OFFSET = 7"
      ],
      "metadata": {
        "id": "GVbMbTQnlDxL"
      },
      "execution_count": 19,
      "outputs": []
    },
    {
      "cell_type": "code",
      "source": [
        "raw_x = []\n",
        "raw_y = []\n",
        "\n",
        "TARGET_COLUMN_INDEX = 3 # Close Price\n",
        "\n",
        "MAX_SAMPLE_COUNT = len(numbers)-(SEQUENCE_LENGTH+OFFSET)+1\n",
        "SAMPLING_COUNT = MAX_SAMPLE_COUNT\n",
        "for j in range(SAMPLING_COUNT):\n",
        "  i = np.random.randint(MAX_SAMPLE_COUNT)\n",
        "  raw_x.append(numbers[i:i+SEQUENCE_LENGTH,:])\n",
        "  raw_y.append([numbers[i+SEQUENCE_LENGTH+OFFSET-1,TARGET_COLUMN_INDEX]])"
      ],
      "metadata": {
        "id": "cliRjCgclEYA"
      },
      "execution_count": 21,
      "outputs": []
    },
    {
      "cell_type": "markdown",
      "source": [
        "# train, test 분리"
      ],
      "metadata": {
        "id": "bSnqY5i0kr_m"
      }
    },
    {
      "cell_type": "code",
      "source": [
        "x = np.array(raw_x)\n",
        "y = np.array(raw_y)\n",
        "print(x.shape)\n",
        "print(y.shape)\n",
        "\n",
        "split_at = int(len(x)*0.8)\n",
        "(train_x, test_x) = x[:split_at], x[split_at:]\n",
        "(train_y, test_y) = y[:split_at], y[split_at:]\n",
        "\n",
        "print(\"Training Data:\")\n",
        "print(train_x.shape)\n",
        "print(train_y.shape)\n",
        "\n",
        "print(\"Test Data:\")\n",
        "print(test_x.shape)\n",
        "print(test_y.shape)\n"
      ],
      "metadata": {
        "colab": {
          "base_uri": "https://localhost:8080/"
        },
        "id": "YjppwqJ7m8Cc",
        "outputId": "6cb2c9d9-d41a-4658-cd49-71e542799b03"
      },
      "execution_count": 22,
      "outputs": [
        {
          "output_type": "stream",
          "name": "stdout",
          "text": [
            "(5143, 30, 5)\n",
            "(5143, 1)\n",
            "Training Data:\n",
            "(4114, 30, 5)\n",
            "(4114, 1)\n",
            "Test Data:\n",
            "(1029, 30, 5)\n",
            "(1029, 1)\n"
          ]
        }
      ]
    },
    {
      "cell_type": "markdown",
      "source": [
        "# 모델 정의"
      ],
      "metadata": {
        "id": "5kx1BbNGkt3T"
      }
    },
    {
      "cell_type": "code",
      "source": [
        "from tensorflow import keras\n",
        "from tensorflow.keras.layers import Dense, RepeatVector, Flatten, Input\n",
        "from tensorflow.keras.layers import Bidirectional, LSTM, GRU\n",
        "\n",
        "input_shape = train_x.shape[1:]\n",
        "# input_shape = (5,2)\n",
        "\n",
        "model = keras.Sequential() \n",
        "model.add(Input(input_shape))\n",
        "model.add(Bidirectional(LSTM(128)))\n",
        "model.add(Flatten())\n",
        "model.add(Dense(10, activation=\"relu\"))\n",
        "model.add(Dense(1))\n",
        "model.compile(loss=\"mse\", optimizer=\"adam\", metrics=[\"mape\"])\n",
        "model.summary()"
      ],
      "metadata": {
        "colab": {
          "base_uri": "https://localhost:8080/"
        },
        "id": "wcRdVGyzn3NB",
        "outputId": "b65261f4-61f6-49fa-8c60-110e3c6e20e3"
      },
      "execution_count": 23,
      "outputs": [
        {
          "output_type": "stream",
          "name": "stdout",
          "text": [
            "Model: \"sequential\"\n",
            "_________________________________________________________________\n",
            " Layer (type)                Output Shape              Param #   \n",
            "=================================================================\n",
            " bidirectional (Bidirectiona  (None, 256)              137216    \n",
            " l)                                                              \n",
            "                                                                 \n",
            " flatten (Flatten)           (None, 256)               0         \n",
            "                                                                 \n",
            " dense (Dense)               (None, 10)                2570      \n",
            "                                                                 \n",
            " dense_1 (Dense)             (None, 1)                 11        \n",
            "                                                                 \n",
            "=================================================================\n",
            "Total params: 139,797\n",
            "Trainable params: 139,797\n",
            "Non-trainable params: 0\n",
            "_________________________________________________________________\n"
          ]
        }
      ]
    },
    {
      "cell_type": "markdown",
      "source": [
        "# 학습"
      ],
      "metadata": {
        "id": "QlYpsgjykvF8"
      }
    },
    {
      "cell_type": "code",
      "source": [
        "history = model.fit(train_x, train_y, epochs=100, verbose=1, validation_split=0.1, batch_size=128)\n",
        "\n",
        "plt.plot(history.history['loss'])\n",
        "plt.plot(history.history['val_loss'])\n",
        "plt.show()"
      ],
      "metadata": {
        "colab": {
          "base_uri": "https://localhost:8080/",
          "height": 1000
        },
        "id": "l8vhnNYRn5KJ",
        "outputId": "39c8b905-85eb-4c20-e0c2-e1bc37ea215a"
      },
      "execution_count": 24,
      "outputs": [
        {
          "output_type": "stream",
          "name": "stdout",
          "text": [
            "Epoch 1/100\n",
            "29/29 [==============================] - 9s 36ms/step - loss: 0.0280 - mape: 71.1819 - val_loss: 0.0015 - val_mape: 13.1324\n",
            "Epoch 2/100\n",
            "29/29 [==============================] - 0s 9ms/step - loss: 7.1818e-04 - mape: 13.2321 - val_loss: 6.1743e-04 - val_mape: 11.6434\n",
            "Epoch 3/100\n",
            "29/29 [==============================] - 0s 9ms/step - loss: 6.4291e-04 - mape: 10.1458 - val_loss: 6.1271e-04 - val_mape: 7.6401\n",
            "Epoch 4/100\n",
            "29/29 [==============================] - 0s 9ms/step - loss: 6.0714e-04 - mape: 8.0033 - val_loss: 5.5974e-04 - val_mape: 7.3461\n",
            "Epoch 5/100\n",
            "29/29 [==============================] - 0s 9ms/step - loss: 5.7420e-04 - mape: 8.3943 - val_loss: 5.4113e-04 - val_mape: 7.7594\n",
            "Epoch 6/100\n",
            "29/29 [==============================] - 0s 9ms/step - loss: 6.0847e-04 - mape: 9.1651 - val_loss: 5.9935e-04 - val_mape: 8.1324\n",
            "Epoch 7/100\n",
            "29/29 [==============================] - 0s 9ms/step - loss: 5.5143e-04 - mape: 9.4879 - val_loss: 4.9661e-04 - val_mape: 7.4142\n",
            "Epoch 8/100\n",
            "29/29 [==============================] - 0s 9ms/step - loss: 5.2856e-04 - mape: 9.0662 - val_loss: 5.6619e-04 - val_mape: 7.5196\n",
            "Epoch 9/100\n",
            "29/29 [==============================] - 0s 9ms/step - loss: 5.0901e-04 - mape: 10.1348 - val_loss: 4.6159e-04 - val_mape: 7.5860\n",
            "Epoch 10/100\n",
            "29/29 [==============================] - 0s 9ms/step - loss: 4.9310e-04 - mape: 9.1417 - val_loss: 5.0141e-04 - val_mape: 7.1274\n",
            "Epoch 11/100\n",
            "29/29 [==============================] - 0s 9ms/step - loss: 5.1178e-04 - mape: 9.7488 - val_loss: 4.3445e-04 - val_mape: 6.7475\n",
            "Epoch 12/100\n",
            "29/29 [==============================] - 0s 9ms/step - loss: 4.7068e-04 - mape: 9.3432 - val_loss: 4.3660e-04 - val_mape: 6.7001\n",
            "Epoch 13/100\n",
            "29/29 [==============================] - 0s 9ms/step - loss: 4.4602e-04 - mape: 8.6426 - val_loss: 4.1305e-04 - val_mape: 7.1652\n",
            "Epoch 14/100\n",
            "29/29 [==============================] - 0s 9ms/step - loss: 4.3521e-04 - mape: 9.1888 - val_loss: 4.0631e-04 - val_mape: 6.4130\n",
            "Epoch 15/100\n",
            "29/29 [==============================] - 0s 9ms/step - loss: 4.4083e-04 - mape: 8.7626 - val_loss: 4.0968e-04 - val_mape: 6.4353\n",
            "Epoch 16/100\n",
            "29/29 [==============================] - 0s 9ms/step - loss: 4.6149e-04 - mape: 9.1825 - val_loss: 4.2361e-04 - val_mape: 7.4215\n",
            "Epoch 17/100\n",
            "29/29 [==============================] - 0s 9ms/step - loss: 4.4846e-04 - mape: 8.8283 - val_loss: 4.5985e-04 - val_mape: 8.1932\n",
            "Epoch 18/100\n",
            "29/29 [==============================] - 0s 9ms/step - loss: 4.2645e-04 - mape: 8.6674 - val_loss: 3.7518e-04 - val_mape: 6.2807\n",
            "Epoch 19/100\n",
            "29/29 [==============================] - 0s 9ms/step - loss: 4.0663e-04 - mape: 8.7544 - val_loss: 3.7668e-04 - val_mape: 6.1843\n",
            "Epoch 20/100\n",
            "29/29 [==============================] - 0s 9ms/step - loss: 4.1341e-04 - mape: 8.3826 - val_loss: 3.9059e-04 - val_mape: 6.3227\n",
            "Epoch 21/100\n",
            "29/29 [==============================] - 0s 9ms/step - loss: 4.0454e-04 - mape: 7.6442 - val_loss: 3.6078e-04 - val_mape: 6.1251\n",
            "Epoch 22/100\n",
            "29/29 [==============================] - 0s 9ms/step - loss: 3.9496e-04 - mape: 8.0149 - val_loss: 3.5766e-04 - val_mape: 6.1613\n",
            "Epoch 23/100\n",
            "29/29 [==============================] - 0s 9ms/step - loss: 4.0443e-04 - mape: 8.4438 - val_loss: 3.6204e-04 - val_mape: 6.1320\n",
            "Epoch 24/100\n",
            "29/29 [==============================] - 0s 9ms/step - loss: 4.3441e-04 - mape: 8.0142 - val_loss: 5.1742e-04 - val_mape: 7.1774\n",
            "Epoch 25/100\n",
            "29/29 [==============================] - 0s 9ms/step - loss: 4.4041e-04 - mape: 7.5033 - val_loss: 3.6422e-04 - val_mape: 6.4929\n",
            "Epoch 26/100\n",
            "29/29 [==============================] - 0s 9ms/step - loss: 4.2114e-04 - mape: 8.3525 - val_loss: 3.6045e-04 - val_mape: 6.3527\n",
            "Epoch 27/100\n",
            "29/29 [==============================] - 0s 9ms/step - loss: 3.8672e-04 - mape: 7.9948 - val_loss: 3.5890e-04 - val_mape: 6.1109\n",
            "Epoch 28/100\n",
            "29/29 [==============================] - 0s 9ms/step - loss: 3.7727e-04 - mape: 7.3229 - val_loss: 3.9774e-04 - val_mape: 6.4155\n",
            "Epoch 29/100\n",
            "29/29 [==============================] - 0s 9ms/step - loss: 3.8416e-04 - mape: 7.2458 - val_loss: 3.6246e-04 - val_mape: 6.0966\n",
            "Epoch 30/100\n",
            "29/29 [==============================] - 0s 9ms/step - loss: 3.8680e-04 - mape: 7.5986 - val_loss: 3.8415e-04 - val_mape: 6.1649\n",
            "Epoch 31/100\n",
            "29/29 [==============================] - 0s 9ms/step - loss: 4.1794e-04 - mape: 7.5095 - val_loss: 3.6314e-04 - val_mape: 6.0778\n",
            "Epoch 32/100\n",
            "29/29 [==============================] - 0s 9ms/step - loss: 4.3031e-04 - mape: 7.6971 - val_loss: 3.4793e-04 - val_mape: 6.1713\n",
            "Epoch 33/100\n",
            "29/29 [==============================] - 0s 9ms/step - loss: 3.8184e-04 - mape: 7.6679 - val_loss: 3.4528e-04 - val_mape: 6.0140\n",
            "Epoch 34/100\n",
            "29/29 [==============================] - 0s 10ms/step - loss: 3.9203e-04 - mape: 7.1818 - val_loss: 3.4341e-04 - val_mape: 6.0267\n",
            "Epoch 35/100\n",
            "29/29 [==============================] - 0s 9ms/step - loss: 3.7072e-04 - mape: 6.7766 - val_loss: 3.4417e-04 - val_mape: 6.2348\n",
            "Epoch 36/100\n",
            "29/29 [==============================] - 0s 9ms/step - loss: 4.2085e-04 - mape: 7.4582 - val_loss: 4.0402e-04 - val_mape: 6.1515\n",
            "Epoch 37/100\n",
            "29/29 [==============================] - 0s 9ms/step - loss: 4.3188e-04 - mape: 8.0825 - val_loss: 3.7294e-04 - val_mape: 6.0690\n",
            "Epoch 38/100\n",
            "29/29 [==============================] - 0s 9ms/step - loss: 3.7697e-04 - mape: 7.4434 - val_loss: 3.4051e-04 - val_mape: 6.0647\n",
            "Epoch 39/100\n",
            "29/29 [==============================] - 0s 9ms/step - loss: 3.9806e-04 - mape: 7.2470 - val_loss: 3.7033e-04 - val_mape: 6.1877\n",
            "Epoch 40/100\n",
            "29/29 [==============================] - 0s 9ms/step - loss: 3.7758e-04 - mape: 7.4052 - val_loss: 4.3839e-04 - val_mape: 6.3451\n",
            "Epoch 41/100\n",
            "29/29 [==============================] - 0s 9ms/step - loss: 4.2840e-04 - mape: 7.8242 - val_loss: 3.7404e-04 - val_mape: 6.2533\n",
            "Epoch 42/100\n",
            "29/29 [==============================] - 0s 9ms/step - loss: 4.0212e-04 - mape: 7.3596 - val_loss: 3.7577e-04 - val_mape: 6.0914\n",
            "Epoch 43/100\n",
            "29/29 [==============================] - 0s 9ms/step - loss: 3.9402e-04 - mape: 7.5489 - val_loss: 3.4189e-04 - val_mape: 6.0742\n",
            "Epoch 44/100\n",
            "29/29 [==============================] - 0s 9ms/step - loss: 3.6258e-04 - mape: 7.3239 - val_loss: 3.4309e-04 - val_mape: 5.9764\n",
            "Epoch 45/100\n",
            "29/29 [==============================] - 0s 9ms/step - loss: 3.6346e-04 - mape: 7.3969 - val_loss: 3.3623e-04 - val_mape: 6.0754\n",
            "Epoch 46/100\n",
            "29/29 [==============================] - 0s 9ms/step - loss: 3.6579e-04 - mape: 7.0740 - val_loss: 3.3611e-04 - val_mape: 5.9184\n",
            "Epoch 47/100\n",
            "29/29 [==============================] - 0s 9ms/step - loss: 3.7090e-04 - mape: 7.2933 - val_loss: 3.6174e-04 - val_mape: 6.1348\n",
            "Epoch 48/100\n",
            "29/29 [==============================] - 0s 9ms/step - loss: 3.9752e-04 - mape: 7.1351 - val_loss: 4.4087e-04 - val_mape: 7.3279\n",
            "Epoch 49/100\n",
            "29/29 [==============================] - 0s 9ms/step - loss: 3.8548e-04 - mape: 7.5485 - val_loss: 3.3476e-04 - val_mape: 5.9183\n",
            "Epoch 50/100\n",
            "29/29 [==============================] - 0s 9ms/step - loss: 3.7190e-04 - mape: 7.2443 - val_loss: 3.3619e-04 - val_mape: 6.1866\n",
            "Epoch 51/100\n",
            "29/29 [==============================] - 0s 9ms/step - loss: 3.5514e-04 - mape: 7.3387 - val_loss: 3.4122e-04 - val_mape: 5.9707\n",
            "Epoch 52/100\n",
            "29/29 [==============================] - 0s 9ms/step - loss: 3.5889e-04 - mape: 6.6677 - val_loss: 3.3720e-04 - val_mape: 5.9261\n",
            "Epoch 53/100\n",
            "29/29 [==============================] - 0s 9ms/step - loss: 3.6321e-04 - mape: 7.0239 - val_loss: 3.3266e-04 - val_mape: 5.9719\n",
            "Epoch 54/100\n",
            "29/29 [==============================] - 0s 9ms/step - loss: 3.7670e-04 - mape: 7.3267 - val_loss: 3.3863e-04 - val_mape: 5.8967\n",
            "Epoch 55/100\n",
            "29/29 [==============================] - 0s 9ms/step - loss: 4.0244e-04 - mape: 7.7864 - val_loss: 3.3157e-04 - val_mape: 5.8858\n",
            "Epoch 56/100\n",
            "29/29 [==============================] - 0s 9ms/step - loss: 3.5640e-04 - mape: 6.9077 - val_loss: 4.6112e-04 - val_mape: 6.5223\n",
            "Epoch 57/100\n",
            "29/29 [==============================] - 0s 9ms/step - loss: 3.7010e-04 - mape: 7.0628 - val_loss: 3.3089e-04 - val_mape: 5.8705\n",
            "Epoch 58/100\n",
            "29/29 [==============================] - 0s 9ms/step - loss: 3.5386e-04 - mape: 6.9024 - val_loss: 4.0795e-04 - val_mape: 6.2935\n",
            "Epoch 59/100\n",
            "29/29 [==============================] - 0s 9ms/step - loss: 3.8283e-04 - mape: 7.3457 - val_loss: 4.9086e-04 - val_mape: 6.8523\n",
            "Epoch 60/100\n",
            "29/29 [==============================] - 0s 9ms/step - loss: 3.7230e-04 - mape: 7.8224 - val_loss: 4.1672e-04 - val_mape: 6.2949\n",
            "Epoch 61/100\n",
            "29/29 [==============================] - 0s 9ms/step - loss: 4.4160e-04 - mape: 7.7434 - val_loss: 3.4319e-04 - val_mape: 6.7347\n",
            "Epoch 62/100\n",
            "29/29 [==============================] - 0s 9ms/step - loss: 3.6558e-04 - mape: 7.2119 - val_loss: 3.2935e-04 - val_mape: 5.9245\n",
            "Epoch 63/100\n",
            "29/29 [==============================] - 0s 9ms/step - loss: 3.5988e-04 - mape: 7.0246 - val_loss: 3.3061e-04 - val_mape: 6.0897\n",
            "Epoch 64/100\n",
            "29/29 [==============================] - 0s 9ms/step - loss: 3.5535e-04 - mape: 7.1872 - val_loss: 3.5966e-04 - val_mape: 6.0575\n",
            "Epoch 65/100\n",
            "29/29 [==============================] - 0s 10ms/step - loss: 3.8172e-04 - mape: 7.7481 - val_loss: 3.5149e-04 - val_mape: 6.0731\n",
            "Epoch 66/100\n",
            "29/29 [==============================] - 0s 9ms/step - loss: 3.7491e-04 - mape: 7.1153 - val_loss: 3.7162e-04 - val_mape: 5.9936\n",
            "Epoch 67/100\n",
            "29/29 [==============================] - 0s 9ms/step - loss: 3.6795e-04 - mape: 7.7066 - val_loss: 3.2837e-04 - val_mape: 5.9099\n",
            "Epoch 68/100\n",
            "29/29 [==============================] - 0s 9ms/step - loss: 3.5660e-04 - mape: 6.9349 - val_loss: 3.2735e-04 - val_mape: 5.8246\n",
            "Epoch 69/100\n",
            "29/29 [==============================] - 0s 9ms/step - loss: 3.6019e-04 - mape: 7.5061 - val_loss: 3.3171e-04 - val_mape: 5.9877\n",
            "Epoch 70/100\n",
            "29/29 [==============================] - 0s 9ms/step - loss: 3.6086e-04 - mape: 7.4052 - val_loss: 3.3355e-04 - val_mape: 6.9812\n",
            "Epoch 71/100\n",
            "29/29 [==============================] - 0s 9ms/step - loss: 3.6642e-04 - mape: 8.0425 - val_loss: 3.2734e-04 - val_mape: 5.8123\n",
            "Epoch 72/100\n",
            "29/29 [==============================] - 0s 9ms/step - loss: 3.9797e-04 - mape: 7.6262 - val_loss: 4.1948e-04 - val_mape: 6.9736\n",
            "Epoch 73/100\n",
            "29/29 [==============================] - 0s 9ms/step - loss: 3.4673e-04 - mape: 6.9322 - val_loss: 3.3730e-04 - val_mape: 6.0507\n",
            "Epoch 74/100\n",
            "29/29 [==============================] - 0s 9ms/step - loss: 3.6150e-04 - mape: 7.5499 - val_loss: 3.3342e-04 - val_mape: 5.9013\n",
            "Epoch 75/100\n",
            "29/29 [==============================] - 0s 9ms/step - loss: 3.6891e-04 - mape: 7.1806 - val_loss: 4.1227e-04 - val_mape: 7.0178\n",
            "Epoch 76/100\n",
            "29/29 [==============================] - 0s 9ms/step - loss: 3.9791e-04 - mape: 7.7562 - val_loss: 3.2490e-04 - val_mape: 5.8582\n",
            "Epoch 77/100\n",
            "29/29 [==============================] - 0s 9ms/step - loss: 3.6222e-04 - mape: 6.7316 - val_loss: 3.4360e-04 - val_mape: 5.8420\n",
            "Epoch 78/100\n",
            "29/29 [==============================] - 0s 9ms/step - loss: 3.4668e-04 - mape: 7.2410 - val_loss: 3.3276e-04 - val_mape: 5.9361\n",
            "Epoch 79/100\n",
            "29/29 [==============================] - 0s 9ms/step - loss: 3.5439e-04 - mape: 6.7881 - val_loss: 3.2486e-04 - val_mape: 6.3199\n",
            "Epoch 80/100\n",
            "29/29 [==============================] - 0s 9ms/step - loss: 3.6505e-04 - mape: 7.4330 - val_loss: 3.3394e-04 - val_mape: 5.9040\n",
            "Epoch 81/100\n",
            "29/29 [==============================] - 0s 9ms/step - loss: 3.7063e-04 - mape: 7.4446 - val_loss: 3.2292e-04 - val_mape: 5.7481\n",
            "Epoch 82/100\n",
            "29/29 [==============================] - 0s 9ms/step - loss: 3.5965e-04 - mape: 7.0728 - val_loss: 3.3179e-04 - val_mape: 6.1598\n",
            "Epoch 83/100\n",
            "29/29 [==============================] - 0s 9ms/step - loss: 3.5194e-04 - mape: 7.3088 - val_loss: 3.3996e-04 - val_mape: 5.8517\n",
            "Epoch 84/100\n",
            "29/29 [==============================] - 0s 9ms/step - loss: 3.4614e-04 - mape: 6.5622 - val_loss: 3.3923e-04 - val_mape: 6.5944\n",
            "Epoch 85/100\n",
            "29/29 [==============================] - 0s 9ms/step - loss: 3.6739e-04 - mape: 7.6373 - val_loss: 3.2305e-04 - val_mape: 5.9117\n",
            "Epoch 86/100\n",
            "29/29 [==============================] - 0s 9ms/step - loss: 3.4393e-04 - mape: 6.9005 - val_loss: 3.7966e-04 - val_mape: 5.9451\n",
            "Epoch 87/100\n",
            "29/29 [==============================] - 0s 9ms/step - loss: 3.4321e-04 - mape: 7.2177 - val_loss: 3.3746e-04 - val_mape: 5.8327\n",
            "Epoch 88/100\n",
            "29/29 [==============================] - 0s 9ms/step - loss: 3.4020e-04 - mape: 7.4732 - val_loss: 3.8662e-04 - val_mape: 6.1401\n",
            "Epoch 89/100\n",
            "29/29 [==============================] - 0s 9ms/step - loss: 3.5482e-04 - mape: 6.6967 - val_loss: 3.4586e-04 - val_mape: 5.8868\n",
            "Epoch 90/100\n",
            "29/29 [==============================] - 0s 9ms/step - loss: 3.4603e-04 - mape: 7.1076 - val_loss: 3.2741e-04 - val_mape: 6.8441\n",
            "Epoch 91/100\n",
            "29/29 [==============================] - 0s 9ms/step - loss: 3.3743e-04 - mape: 7.4243 - val_loss: 3.2639e-04 - val_mape: 5.8562\n",
            "Epoch 92/100\n",
            "29/29 [==============================] - 0s 9ms/step - loss: 3.4247e-04 - mape: 7.2551 - val_loss: 3.2986e-04 - val_mape: 6.2488\n",
            "Epoch 93/100\n",
            "29/29 [==============================] - 0s 9ms/step - loss: 3.4576e-04 - mape: 7.4745 - val_loss: 3.9582e-04 - val_mape: 6.0771\n",
            "Epoch 94/100\n",
            "29/29 [==============================] - 0s 9ms/step - loss: 3.5265e-04 - mape: 7.1206 - val_loss: 3.2112e-04 - val_mape: 6.1975\n",
            "Epoch 95/100\n",
            "29/29 [==============================] - 0s 9ms/step - loss: 3.3646e-04 - mape: 7.7335 - val_loss: 3.2480e-04 - val_mape: 5.7387\n",
            "Epoch 96/100\n",
            "29/29 [==============================] - 0s 9ms/step - loss: 3.4476e-04 - mape: 7.0227 - val_loss: 3.7559e-04 - val_mape: 6.0797\n",
            "Epoch 97/100\n",
            "29/29 [==============================] - 0s 9ms/step - loss: 3.6599e-04 - mape: 6.9329 - val_loss: 3.8610e-04 - val_mape: 6.3524\n",
            "Epoch 98/100\n",
            "29/29 [==============================] - 0s 9ms/step - loss: 3.6862e-04 - mape: 7.3644 - val_loss: 4.3763e-04 - val_mape: 7.0917\n",
            "Epoch 99/100\n",
            "29/29 [==============================] - 0s 9ms/step - loss: 3.9012e-04 - mape: 7.3396 - val_loss: 3.2928e-04 - val_mape: 6.1954\n",
            "Epoch 100/100\n",
            "29/29 [==============================] - 0s 9ms/step - loss: 3.4201e-04 - mape: 7.1575 - val_loss: 3.6321e-04 - val_mape: 6.1780\n"
          ]
        },
        {
          "output_type": "display_data",
          "data": {
            "text/plain": [
              "<Figure size 432x288 with 1 Axes>"
            ],
            "image/png": "[encoded data removed]"
          },
          "metadata": {
            "needs_background": "light"
          }
        }
      ]
    },
    {
      "cell_type": "code",
      "source": [
        "plt.plot(history.history['loss'][10:])\n",
        "plt.plot(history.history['val_loss'][10:])\n",
        "plt.show()"
      ],
      "metadata": {
        "colab": {
          "base_uri": "https://localhost:8080/",
          "height": 267
        },
        "id": "uufjLbgjo3-B",
        "outputId": "11e9fb59-f720-4eac-e02b-81c9d8ff79d9"
      },
      "execution_count": 25,
      "outputs": [
        {
          "output_type": "display_data",
          "data": {
            "text/plain": [
              "<Figure size 432x288 with 1 Axes>"
            ],
            "image/png": "[encoded data removed]"
          },
          "metadata": {
            "needs_background": "light"
          }
        }
      ]
    },
    {
      "cell_type": "markdown",
      "source": [
        "# 결과 보기"
      ],
      "metadata": {
        "id": "dz_9UW7MkwJK"
      }
    },
    {
      "cell_type": "code",
      "source": [
        "loss, mape = model.evaluate(test_x, test_y)\n",
        "print(\"loss=\", loss)\n",
        "print(\"mape=\", mape)\n",
        "\n",
        "y_ = model.predict(test_x)\n",
        "plt.scatter(test_y, y_)\n",
        "plt.show()"
      ],
      "metadata": {
        "colab": {
          "base_uri": "https://localhost:8080/",
          "height": 319
        },
        "id": "on2Pw3CYkrdX",
        "outputId": "23dbebde-0f87-4354-bab7-b8ae21c5e166"
      },
      "execution_count": 26,
      "outputs": [
        {
          "output_type": "stream",
          "name": "stdout",
          "text": [
            "33/33 [==============================] - 0s 4ms/step - loss: 3.7829e-04 - mape: 6.7893\n",
            "loss= 0.0003782909188885242\n",
            "mape= 6.789289474487305\n"
          ]
        },
        {
          "output_type": "display_data",
          "data": {
            "text/plain": [
              "<Figure size 432x288 with 1 Axes>"
            ],
            "image/png": "[encoded data removed]"
          },
          "metadata": {
            "needs_background": "light"
          }
        }
      ]
    },
    {
      "cell_type": "markdown",
      "source": [
        "# 분류"
      ],
      "metadata": {
        "id": "CpusSsHL7V4S"
      }
    },
    {
      "cell_type": "code",
      "source": [
        "raw_x = []\n",
        "raw_y = []\n",
        "\n",
        "MAX_SAMPLE_COUNT = len(numbers)-(SEQUENCE_LENGTH+OFFSET)+1\n",
        "SAMPLING_COUNT = MAX_SAMPLE_COUNT\n",
        "for j in range(SAMPLING_COUNT):\n",
        "  i = np.random.randint(MAX_SAMPLE_COUNT)\n",
        "  raw_x.append(numbers[i:i+SEQUENCE_LENGTH,:])\n",
        "  current_value = numbers[i+SEQUENCE_LENGTH-1,TARGET_COLUMN_INDEX]\n",
        "  next_value = numbers[i+SEQUENCE_LENGTH+OFFSET-1,TARGET_COLUMN_INDEX]\n",
        "  raw_y.append([ int((current_value<next_value)) ])"
      ],
      "metadata": {
        "id": "7Rog-cfW7W1s"
      },
      "execution_count": 32,
      "outputs": []
    },
    {
      "cell_type": "code",
      "source": [
        "x = np.array(raw_x)\n",
        "y = np.array(raw_y)\n",
        "print(x.shape)\n",
        "print(y.shape)\n",
        "\n",
        "split_at = int(len(x)*0.8)\n",
        "(train_x, test_x) = x[:split_at], x[split_at:]\n",
        "(train_y, test_y) = y[:split_at], y[split_at:]\n",
        "\n",
        "print(\"Training Data:\")\n",
        "print(train_x.shape)\n",
        "print(train_y.shape)\n",
        "\n",
        "print(\"Test Data:\")\n",
        "print(test_x.shape)\n",
        "print(test_y.shape)\n"
      ],
      "metadata": {
        "colab": {
          "base_uri": "https://localhost:8080/"
        },
        "id": "TkOjUSZq9EJ3",
        "outputId": "9e21903a-2182-4186-f280-ea1f42f0cca0"
      },
      "execution_count": 33,
      "outputs": [
        {
          "output_type": "stream",
          "name": "stdout",
          "text": [
            "(5143, 30, 5)\n",
            "(5143, 1)\n",
            "Training Data:\n",
            "(4114, 30, 5)\n",
            "(4114, 1)\n",
            "Test Data:\n",
            "(1029, 30, 5)\n",
            "(1029, 1)\n"
          ]
        }
      ]
    },
    {
      "cell_type": "code",
      "source": [
        "# copy from https://gist.github.com/stared/dfb4dfaf6d9a8501cd1cc8b8cb806d2e\n",
        "\n",
        "from IPython.display import clear_output\n",
        "from tensorflow.keras.callbacks import Callback\n",
        "\n",
        "class PlotLosses(Callback):\n",
        "\n",
        "  def on_train_begin(self, logs={}):\n",
        "    self.epochs = []\n",
        "    self.losses = []\n",
        "    self.val_losses = []\n",
        "    self.logs = []\n",
        "    self.fig = plt.figure()\n",
        "\n",
        "\n",
        "  def on_epoch_end(self, epoch, logs={}):\n",
        "\n",
        "    self.epochs.append(epoch)\n",
        "    self.losses.append(logs.get('loss'))\n",
        "    self.val_losses.append(logs.get('val_loss'))\n",
        "\n",
        "    clear_output(wait=True)\n",
        "    plt.plot(self.epochs, self.losses, label=\"loss\")\n",
        "    plt.plot(self.epochs, self.val_losses, label=\"val_loss\")\n",
        "    plt.legend()\n",
        "    plt.show();\n",
        "    print(\"loss = \", self.losses[-1], \", val_loss = \", self.val_losses[-1])"
      ],
      "metadata": {
        "id": "CXhm1VG5CiM1"
      },
      "execution_count": 37,
      "outputs": []
    },
    {
      "cell_type": "code",
      "source": [
        "from tensorflow import keras\n",
        "from tensorflow.keras.layers import Dense, RepeatVector, Flatten, Input\n",
        "from tensorflow.keras.layers import Bidirectional, LSTM, GRU\n",
        "from tensorflow.keras.layers import BatchNormalization\n",
        "\n",
        "input_shape = train_x.shape[1:]\n",
        "# input_shape = (5,2)\n",
        "\n",
        "model = keras.Sequential()\n",
        "model.add(Input(input_shape))\n",
        "model.add(Bidirectional(LSTM(128)))\n",
        "# model.add(BatchNormalization())\n",
        "model.add(Flatten())\n",
        "model.add(Dense(10, activation=\"relu\"))\n",
        "# model.add(BatchNormalization())\n",
        "model.add(Dense(2, activation=\"softmax\"))\n",
        "\n",
        "from tensorflow.keras.optimizers import Adam, RMSprop\n",
        "optimizer = RMSprop(learning_rate=0.001*0.1)\n",
        "model.compile(loss=\"sparse_categorical_crossentropy\", optimizer=optimizer, metrics=[\"acc\"])\n",
        "model.summary()\n",
        "\n",
        "from tensorflow.keras.callbacks import ModelCheckpoint\n",
        "model_check_point = ModelCheckpoint(\n",
        "    'best_model.h5', \n",
        "    monitor='val_loss', \n",
        "    verbose=1, \n",
        "    save_best_only=True)\n",
        "plot_losses = PlotLosses()\n",
        "history = model.fit(train_x, train_y, epochs=300, verbose=1, validation_split=0.1, batch_size=128,\n",
        "                    callbacks=[plot_losses, model_check_point])\n",
        "\n",
        "\n",
        "plt.plot(history.history['loss'])\n",
        "plt.plot(history.history['val_loss'])\n",
        "plt.show()\n",
        "\n",
        "\n",
        "\n",
        "loss, acc = model.evaluate(test_x, test_y)\n",
        "print(\"loss=\", loss)\n",
        "print(\"acc=\", acc)\n",
        "\n",
        "\n",
        "y_ = model.predict(test_x)\n",
        "predicted = np.argmax(y_, axis=-1)\n",
        "plt.plot(test_y[:30], 'o')\n",
        "plt.plot(predicted[:30], '.')\n",
        "plt.show()"
      ],
      "metadata": {
        "colab": {
          "base_uri": "https://localhost:8080/",
          "height": 886
        },
        "id": "-lDCPLv88WaQ",
        "outputId": "12ade13a-16a3-486d-df6d-4a82116f4ab1"
      },
      "execution_count": 44,
      "outputs": [
        {
          "output_type": "display_data",
          "data": {
            "text/plain": [
              "<Figure size 432x288 with 1 Axes>"
            ],
            "image/png": "[encoded data removed]"
          },
          "metadata": {
            "needs_background": "light"
          }
        },
        {
          "output_type": "stream",
          "name": "stdout",
          "text": [
            "loss =  0.6771965622901917 , val_loss =  0.6779326796531677\n",
            "\n",
            "Epoch 300: val_loss did not improve from 0.67281\n",
            "29/29 [==============================] - 1s 26ms/step - loss: 0.6772 - acc: 0.5764 - val_loss: 0.6779 - val_acc: 0.5995\n"
          ]
        },
        {
          "output_type": "display_data",
          "data": {
            "text/plain": [
              "<Figure size 432x288 with 1 Axes>"
            ],
            "image/png": "[encoded data removed]"
          },
          "metadata": {
            "needs_background": "light"
          }
        },
        {
          "output_type": "stream",
          "name": "stdout",
          "text": [
            "33/33 [==============================] - 0s 4ms/step - loss: 0.6850 - acc: 0.5773\n",
            "loss= 0.6849780678749084\n",
            "acc= 0.5772594809532166\n"
          ]
        },
        {
          "output_type": "display_data",
          "data": {
            "text/plain": [
              "<Figure size 432x288 with 1 Axes>"
            ],
            "image/png": "[encoded data removed]"
          },
          "metadata": {
            "needs_background": "light"
          }
        }
      ]
    },
    {
      "cell_type": "code",
      "source": [
        ""
      ],
      "metadata": {
        "id": "--qOUPTq8in_"
      },
      "execution_count": null,
      "outputs": []
    }
  ]
}