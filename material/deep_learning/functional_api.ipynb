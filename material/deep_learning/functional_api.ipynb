{
  "nbformat": 4,
  "nbformat_minor": 0,
  "metadata": {
    "colab": {
      "name": "functional_api.ipynb",
      "provenance": [],
      "collapsed_sections": []
    },
    "kernelspec": {
      "name": "python3",
      "display_name": "Python 3"
    },
    "accelerator": "GPU"
  },
  "cells": [
    {
      "cell_type": "markdown",
      "metadata": {
        "id": "c503DSvxvOU5"
      },
      "source": [
        "# 이전 CNN MNIST\n"
      ]
    },
    {
      "cell_type": "code",
      "metadata": {
        "id": "fYlMkT8axIoi"
      },
      "source": [
        "import numpy as np\n",
        "import matplotlib.pyplot as plt\n",
        "\n",
        "import tensorflow as tf\n",
        "from tensorflow import keras\n",
        "from tensorflow.keras import optimizers\n",
        "from tensorflow.keras.layers import Dense, Flatten, Conv2D, MaxPooling2D, Input\n",
        "\n",
        "import time"
      ],
      "execution_count": 28,
      "outputs": []
    },
    {
      "cell_type": "code",
      "metadata": {
        "id": "puN5QRLz2toU"
      },
      "source": [
        "(raw_train_x, raw_train_y), (raw_test_x, raw_test_y) = tf.keras.datasets.mnist.load_data()\n",
        "\n",
        "train_x = raw_train_x/255\n",
        "test_x = raw_test_x/255\n",
        "\n",
        "train_x = train_x.reshape((60000, 28, 28, 1))\n",
        "test_x = test_x.reshape((10000, 28, 28, 1))\n",
        "\n",
        "train_y = raw_train_y\n",
        "test_y = raw_test_y"
      ],
      "execution_count": 29,
      "outputs": []
    },
    {
      "cell_type": "code",
      "metadata": {
        "id": "kkrsyGy2Ixk2"
      },
      "source": [
        "model = keras.Sequential()\n",
        "model.add(Input((28,28,1)))\n",
        "model.add(Conv2D(32, (3, 3)))\n",
        "model.add(MaxPooling2D((2, 2)))\n",
        "model.add(Conv2D(64, (3, 3)))\n",
        "model.add(MaxPooling2D((2, 2)))\n",
        "model.add(Flatten())\n",
        "model.add(Dense(10, activation='relu'))\n",
        "model.add(Dense(10, activation='relu'))\n",
        "model.add(Dense(10, activation='softmax'))"
      ],
      "execution_count": 30,
      "outputs": []
    },
    {
      "cell_type": "code",
      "metadata": {
        "id": "cuW2ftNT2trB",
        "colab": {
          "base_uri": "https://localhost:8080/"
        },
        "outputId": "263f8e1d-a223-4281-de62-a554147f5434"
      },
      "source": [
        "model.compile(optimizer=\"adam\", loss=\"sparse_categorical_crossentropy\", metrics=[\"accuracy\"])\n",
        "model.summary()\n",
        "\n",
        "\n",
        "model.fit(train_x, train_y, epochs=5, verbose=1, batch_size=128)\n",
        "\n",
        "\n",
        "loss, acc = model.evaluate(test_x, test_y)\n",
        "print(\"loss=\",loss)\n",
        "print(\"acc=\",acc)\n",
        "\n",
        "y_ = model.predict(test_x)\n",
        "predicted = np.argmax(y_, axis=1)\n",
        "\n",
        "print(predicted)\n"
      ],
      "execution_count": 31,
      "outputs": [
        {
          "output_type": "stream",
          "name": "stdout",
          "text": [
            "Model: \"sequential\"\n",
            "_________________________________________________________________\n",
            " Layer (type)                Output Shape              Param #   \n",
            "=================================================================\n",
            " conv2d_6 (Conv2D)           (None, 26, 26, 32)        320       \n",
            "                                                                 \n",
            " max_pooling2d_6 (MaxPooling  (None, 13, 13, 32)       0         \n",
            " 2D)                                                             \n",
            "                                                                 \n",
            " conv2d_7 (Conv2D)           (None, 11, 11, 64)        18496     \n",
            "                                                                 \n",
            " max_pooling2d_7 (MaxPooling  (None, 5, 5, 64)         0         \n",
            " 2D)                                                             \n",
            "                                                                 \n",
            " flatten_3 (Flatten)         (None, 1600)              0         \n",
            "                                                                 \n",
            " dense_15 (Dense)            (None, 10)                16010     \n",
            "                                                                 \n",
            " dense_16 (Dense)            (None, 10)                110       \n",
            "                                                                 \n",
            " dense_17 (Dense)            (None, 10)                110       \n",
            "                                                                 \n",
            "=================================================================\n",
            "Total params: 35,046\n",
            "Trainable params: 35,046\n",
            "Non-trainable params: 0\n",
            "_________________________________________________________________\n",
            "Epoch 1/5\n",
            "469/469 [==============================] - 2s 4ms/step - loss: 0.5685 - accuracy: 0.8154\n",
            "Epoch 2/5\n",
            "469/469 [==============================] - 2s 4ms/step - loss: 0.1575 - accuracy: 0.9522\n",
            "Epoch 3/5\n",
            "469/469 [==============================] - 2s 4ms/step - loss: 0.1120 - accuracy: 0.9664\n",
            "Epoch 4/5\n",
            "469/469 [==============================] - 2s 4ms/step - loss: 0.0895 - accuracy: 0.9733\n",
            "Epoch 5/5\n",
            "469/469 [==============================] - 2s 4ms/step - loss: 0.0767 - accuracy: 0.9768\n",
            "313/313 [==============================] - 1s 3ms/step - loss: 0.0755 - accuracy: 0.9751\n",
            "loss= 0.07550355046987534\n",
            "acc= 0.9750999808311462\n",
            "WARNING:tensorflow:5 out of the last 323 calls to <function Model.make_predict_function.<locals>.predict_function at 0x7f9447d123b0> triggered tf.function retracing. Tracing is expensive and the excessive number of tracings could be due to (1) creating @tf.function repeatedly in a loop, (2) passing tensors with different shapes, (3) passing Python objects instead of tensors. For (1), please define your @tf.function outside of the loop. For (2), @tf.function has experimental_relax_shapes=True option that relaxes argument shapes that can avoid unnecessary retracing. For (3), please refer to https://www.tensorflow.org/guide/function#controlling_retracing and https://www.tensorflow.org/api_docs/python/tf/function for  more details.\n"
          ]
        },
        {
          "output_type": "stream",
          "name": "stderr",
          "text": [
            "WARNING:tensorflow:5 out of the last 323 calls to <function Model.make_predict_function.<locals>.predict_function at 0x7f9447d123b0> triggered tf.function retracing. Tracing is expensive and the excessive number of tracings could be due to (1) creating @tf.function repeatedly in a loop, (2) passing tensors with different shapes, (3) passing Python objects instead of tensors. For (1), please define your @tf.function outside of the loop. For (2), @tf.function has experimental_relax_shapes=True option that relaxes argument shapes that can avoid unnecessary retracing. For (3), please refer to https://www.tensorflow.org/guide/function#controlling_retracing and https://www.tensorflow.org/api_docs/python/tf/function for  more details.\n"
          ]
        },
        {
          "output_type": "stream",
          "name": "stdout",
          "text": [
            "[7 2 1 ... 4 5 6]\n"
          ]
        }
      ]
    },
    {
      "cell_type": "markdown",
      "metadata": {
        "id": "_6yj3_5GI064"
      },
      "source": [
        "# Functional API 타입 CNN MNIST"
      ]
    },
    {
      "cell_type": "code",
      "metadata": {
        "id": "nRkSjvdSkgfc"
      },
      "source": [
        "import numpy as np\n",
        "import matplotlib.pyplot as plt\n",
        "\n",
        "import tensorflow as tf\n",
        "from tensorflow import keras\n",
        "from tensorflow.keras import optimizers\n",
        "from tensorflow.keras.layers import Dense, Flatten, Conv2D, MaxPooling2D, Input\n",
        "\n",
        "import time"
      ],
      "execution_count": 32,
      "outputs": []
    },
    {
      "cell_type": "code",
      "metadata": {
        "id": "H1C6Ev9hI7JD"
      },
      "source": [
        "# model = keras.Sequential()\n",
        "# model.add(Input((28,28,1)))\n",
        "# model.add(Conv2D(32, (3, 3)))\n",
        "# model.add(MaxPooling2D((2, 2)))\n",
        "# model.add(Conv2D(64, (3, 3)))\n",
        "# model.add(MaxPooling2D((2, 2)))\n",
        "# model.add(Flatten())\n",
        "# model.add(Dense(10, activation='relu'))\n",
        "# model.add(Dense(10, activation='relu'))\n",
        "# model.add(Dense(10, activation='softmax'))\n",
        "\n",
        "\n",
        "from tensorflow.keras import Model\n",
        "\n",
        "input = Input((28,28,1))\n",
        "x = Conv2D(32, (3,3))(input)\n",
        "x = MaxPooling2D((2,2))(x)\n",
        "x = Conv2D(32, (3,3))(x)\n",
        "x = MaxPooling2D((2,2))(x)\n",
        "x = Flatten()(x)\n",
        "x = Dense(10, activation='relu')(x)\n",
        "x = Dense(10, activation='relu')(x)\n",
        "output = Dense(10, activation='softmax')(x)\n",
        "\n",
        "model = Model(input, output)"
      ],
      "execution_count": 33,
      "outputs": []
    },
    {
      "cell_type": "code",
      "metadata": {
        "id": "SH90FFocI7GG",
        "colab": {
          "base_uri": "https://localhost:8080/"
        },
        "outputId": "aa66fa63-d70a-41a3-9cc0-fe00f90e7d46"
      },
      "source": [
        "model.compile(optimizer=\"adam\", loss=\"sparse_categorical_crossentropy\", metrics=[\"accuracy\"])\n",
        "model.summary()\n",
        "\n",
        "\n",
        "model.fit(train_x, train_y, epochs=5, verbose=1, batch_size=128)\n",
        "\n",
        "\n",
        "loss, acc = model.evaluate(test_x, test_y)\n",
        "print(\"loss=\",loss)\n",
        "print(\"acc=\",acc)\n",
        "\n",
        "y_ = model.predict(test_x)\n",
        "predicted = np.argmax(y_, axis=1)\n",
        "\n",
        "print(predicted)"
      ],
      "execution_count": 34,
      "outputs": [
        {
          "output_type": "stream",
          "name": "stdout",
          "text": [
            "Model: \"model_4\"\n",
            "_________________________________________________________________\n",
            " Layer (type)                Output Shape              Param #   \n",
            "=================================================================\n",
            " input_7 (InputLayer)        [(None, 28, 28, 1)]       0         \n",
            "                                                                 \n",
            " conv2d_8 (Conv2D)           (None, 26, 26, 32)        320       \n",
            "                                                                 \n",
            " max_pooling2d_8 (MaxPooling  (None, 13, 13, 32)       0         \n",
            " 2D)                                                             \n",
            "                                                                 \n",
            " conv2d_9 (Conv2D)           (None, 11, 11, 32)        9248      \n",
            "                                                                 \n",
            " max_pooling2d_9 (MaxPooling  (None, 5, 5, 32)         0         \n",
            " 2D)                                                             \n",
            "                                                                 \n",
            " flatten_4 (Flatten)         (None, 800)               0         \n",
            "                                                                 \n",
            " dense_18 (Dense)            (None, 10)                8010      \n",
            "                                                                 \n",
            " dense_19 (Dense)            (None, 10)                110       \n",
            "                                                                 \n",
            " dense_20 (Dense)            (None, 10)                110       \n",
            "                                                                 \n",
            "=================================================================\n",
            "Total params: 17,798\n",
            "Trainable params: 17,798\n",
            "Non-trainable params: 0\n",
            "_________________________________________________________________\n",
            "Epoch 1/5\n",
            "469/469 [==============================] - 2s 4ms/step - loss: 0.5494 - accuracy: 0.8320\n",
            "Epoch 2/5\n",
            "469/469 [==============================] - 2s 4ms/step - loss: 0.1472 - accuracy: 0.9566\n",
            "Epoch 3/5\n",
            "469/469 [==============================] - 2s 3ms/step - loss: 0.1038 - accuracy: 0.9698\n",
            "Epoch 4/5\n",
            "469/469 [==============================] - 2s 3ms/step - loss: 0.0835 - accuracy: 0.9753\n",
            "Epoch 5/5\n",
            "469/469 [==============================] - 2s 3ms/step - loss: 0.0726 - accuracy: 0.9785\n",
            "313/313 [==============================] - 1s 3ms/step - loss: 0.0762 - accuracy: 0.9764\n",
            "loss= 0.07622600346803665\n",
            "acc= 0.9764000177383423\n",
            "[7 2 1 ... 4 5 6]\n"
          ]
        }
      ]
    },
    {
      "cell_type": "markdown",
      "metadata": {
        "id": "WRB8AVGJK_Iz"
      },
      "source": [
        "# 다중 입력\n",
        "\n",
        "copy from https://www.pyimagesearch.com/2019/02/04/keras-multiple-inputs-and-mixed-data/\n"
      ]
    },
    {
      "cell_type": "markdown",
      "metadata": {
        "id": "aR8fS0GoE3m_"
      },
      "source": [
        "## 데이터 준비"
      ]
    },
    {
      "cell_type": "code",
      "metadata": {
        "id": "w6UWmnjzI7DS",
        "colab": {
          "base_uri": "https://localhost:8080/"
        },
        "outputId": "2d7517d4-0108-4539-aad8-e1fcec5451ef"
      },
      "source": [
        "!git clone https://github.com/emanhamed/Houses-dataset"
      ],
      "execution_count": 35,
      "outputs": [
        {
          "output_type": "stream",
          "name": "stdout",
          "text": [
            "fatal: destination path 'Houses-dataset' already exists and is not an empty directory.\n"
          ]
        }
      ]
    },
    {
      "cell_type": "markdown",
      "metadata": {
        "id": "tgLmgfnJFJkR"
      },
      "source": [
        "```\n",
        "Houses-dataset/\n",
        "  Houses Dataset/\n",
        "    100_bathroom.jpg\n",
        "    100_bedroom.jpg\n",
        "    ...\n",
        "    HousesInfo.txt\n",
        "```"
      ]
    },
    {
      "cell_type": "code",
      "metadata": {
        "id": "LnppMLOAFgtQ",
        "colab": {
          "base_uri": "https://localhost:8080/"
        },
        "outputId": "a4ec2f6f-78e7-4300-f78e-f2d62cf3d26f"
      },
      "source": [
        "!head 'Houses-dataset/Houses Dataset/HousesInfo.txt'"
      ],
      "execution_count": 36,
      "outputs": [
        {
          "output_type": "stream",
          "name": "stdout",
          "text": [
            "4 4 4053 85255 869500\n",
            "4 3 3343 36372 865200\n",
            "3 4 3923 85266 889000\n",
            "5 5 4022 85262 910000\n",
            "3 4 4116 85266 971226\n",
            "4 5 4581 85266 1249000\n",
            "3 4 2544 85262 799000\n",
            "4 5 5524 85266 1698000\n",
            "3 4 4229 85255 1749000\n",
            "4 5 3550 85262 1500000\n"
          ]
        }
      ]
    },
    {
      "cell_type": "code",
      "metadata": {
        "id": "pmpEfpGogwJb"
      },
      "source": [
        "import matplotlib\n",
        "\n",
        "from tensorflow.keras.optimizers import Adam\n",
        "from tensorflow.keras.preprocessing.image import img_to_array\n",
        "from sklearn.preprocessing import LabelBinarizer\n",
        "from sklearn.model_selection import train_test_split\n",
        "\n",
        "from imutils import paths\n",
        "import matplotlib.pyplot as plt\n",
        "import numpy as np\n",
        "import argparse\n",
        "import random\n",
        "import pickle\n",
        "import cv2\n",
        "import os"
      ],
      "execution_count": 37,
      "outputs": []
    },
    {
      "cell_type": "code",
      "metadata": {
        "id": "FEteIEtNFwvP"
      },
      "source": [
        "# import the necessary packages\n",
        "from sklearn.preprocessing import LabelBinarizer\n",
        "from sklearn.preprocessing import MinMaxScaler\n",
        "import pandas as pd\n",
        "import numpy as np\n",
        "import glob\n",
        "import cv2\n",
        "import os\n",
        "\n",
        "def load_house_attributes(inputPath):\n",
        "\n",
        "\tcols = [\"bedrooms\", \"bathrooms\", \"area\", \"zipcode\", \"price\"]\n",
        "\tdf = pd.read_csv(inputPath, sep=\" \", header=None, names=cols)\n",
        " \n",
        "\t# determine (1) the unique zip codes and (2) the number of data\n",
        "\t# points with each zip code\n",
        "\tzipcodes = df[\"zipcode\"].value_counts().keys().tolist()\n",
        "\tcounts = df[\"zipcode\"].value_counts().tolist()\n",
        " \n",
        "\t# loop over each of the unique zip codes and their corresponding\n",
        "\t# count\n",
        "\tfor (zipcode, count) in zip(zipcodes, counts):\n",
        "\t\t# the zip code counts for our housing dataset is *extremely*\n",
        "\t\t# unbalanced (some only having 1 or 2 houses per zip code)\n",
        "\t\t# so let's sanitize our data by removing any houses with less\n",
        "\t\t# than 25 houses per zip code\n",
        "\t\tif count < 25:\n",
        "\t\t\tidxs = df[df[\"zipcode\"] == zipcode].index\n",
        "\t\t\tdf.drop(idxs, inplace=True)\n",
        "   \n",
        "\t# return the data frame\n",
        "\treturn df\n",
        "\n",
        "def process_house_attributes(df, train, test):\n",
        "\t# initialize the column names of the continuous data\n",
        "\tcontinuous = [\"bedrooms\", \"bathrooms\", \"area\"]\n",
        "\n",
        "\t# performin min-max scaling each continuous feature column to\n",
        "\t# the range [0, 1]\n",
        "\tcs = MinMaxScaler()\n",
        "\ttrainContinuous = cs.fit_transform(train[continuous])\n",
        "\ttestContinuous = cs.transform(test[continuous])\n",
        " \n",
        "\t# one-hot encode the zip code categorical data (by definition of\n",
        "\t# one-hot encoding, all output features are now in the range [0, 1])\n",
        "\tzipBinarizer = LabelBinarizer().fit(df[\"zipcode\"])\n",
        "\ttrainCategorical = zipBinarizer.transform(train[\"zipcode\"])\n",
        "\ttestCategorical = zipBinarizer.transform(test[\"zipcode\"])\n",
        " \n",
        "\t# construct our training and testing data points by concatenating\n",
        "\t# the categorical features with the continuous features\n",
        "\ttrainX = np.hstack([trainCategorical, trainContinuous])\n",
        "\ttestX = np.hstack([testCategorical, testContinuous])\n",
        " \n",
        "\t# return the concatenated training and testing data\n",
        "\treturn (trainX, testX)  "
      ],
      "execution_count": 38,
      "outputs": []
    },
    {
      "cell_type": "code",
      "metadata": {
        "id": "_I8GQV4mFwrk"
      },
      "source": [
        "IMAGE_SIZE = 32*4\n",
        "def load_house_images(df, inputPath):\n",
        "\n",
        "\t# initialize our images array (i.e., the house images themselves)\n",
        "\timages = []\n",
        "\n",
        "\t# loop over the indexes of the houses\n",
        "\tfor i in df.index.values:\n",
        "\t\t# find the four images for the house and sort the file paths,\n",
        "\t\t# ensuring the four are always in the *same order*\n",
        "\t\tbasePath = os.path.sep.join([inputPath, \"{}_*\".format(i + 1)])\n",
        "\t\thousePaths = sorted(list(glob.glob(basePath)))\n",
        "  \n",
        "\t\t# initialize our list of input images along with the output image\n",
        "\t\t# after *combining* the four input images\n",
        "\t\tinputImages = []\n",
        "\t\toutputImage = np.zeros((IMAGE_SIZE*2, IMAGE_SIZE*2, 3), dtype=\"uint8\")\n",
        "  \n",
        "\t\t# loop over the input house paths\n",
        "\t\tfor housePath in housePaths:\n",
        "\t\t\t# load the input image, resize it to be IMAGE_SIZExIMAGE_SIZE, and then\n",
        "\t\t\t# update the list of input images\n",
        "\t\t\timage = cv2.imread(housePath)\n",
        "\t\t\timage = cv2.resize(image, (IMAGE_SIZE, IMAGE_SIZE))\n",
        "\t\t\tinputImages.append(image)\n",
        "   \n",
        "\t\t# tile the four input images in the output image such the first\n",
        "\t\t# image goes in the top-right corner, the second image in the\n",
        "\t\t# top-left corner, the third image in the bottom-right corner,\n",
        "\t\t# and the final image in the bottom-left corner\n",
        "\t\toutputImage[0:IMAGE_SIZE, 0:IMAGE_SIZE] = inputImages[0]\n",
        "\t\toutputImage[0:IMAGE_SIZE, IMAGE_SIZE:IMAGE_SIZE*2] = inputImages[1]\n",
        "\t\toutputImage[IMAGE_SIZE:IMAGE_SIZE*2, 0:IMAGE_SIZE] = inputImages[2]\n",
        "\t\toutputImage[IMAGE_SIZE:IMAGE_SIZE*2, IMAGE_SIZE:IMAGE_SIZE*2] = inputImages[3]\n",
        "\n",
        "\t\t# add the tiled image to our set of images the network will be\n",
        "\t\t# trained on\n",
        "\t\timages.append(outputImage)\n",
        "  \n",
        "\t# return our set of images\n",
        "\treturn np.array(images)  "
      ],
      "execution_count": 39,
      "outputs": []
    },
    {
      "cell_type": "markdown",
      "metadata": {
        "id": "HEJ6Gp0qHVi6"
      },
      "source": [
        "### 값 정보 읽기"
      ]
    },
    {
      "cell_type": "code",
      "metadata": {
        "id": "Ke6Xu-5PGdkr"
      },
      "source": [
        "df = load_house_attributes(\"Houses-dataset/Houses Dataset/HousesInfo.txt\")"
      ],
      "execution_count": 40,
      "outputs": []
    },
    {
      "cell_type": "code",
      "metadata": {
        "id": "ouQ27yABHR2w",
        "colab": {
          "base_uri": "https://localhost:8080/",
          "height": 206
        },
        "outputId": "820796eb-83c7-4cb4-c011-40df1ff94b7a"
      },
      "source": [
        "df.head()"
      ],
      "execution_count": 41,
      "outputs": [
        {
          "output_type": "execute_result",
          "data": {
            "text/plain": [
              "    bedrooms  bathrooms  area  zipcode   price\n",
              "30         5        3.0  2520    93446  789000\n",
              "32         3        2.0  1802    93446  365000\n",
              "39         3        3.0  2146    93446  455000\n",
              "80         4        2.5  2464    91901  599000\n",
              "81         2        2.0  1845    91901  529800"
            ],
            "text/html": [
              "\n",
              "  <div id=\"df-d019d561-926e-4fb6-98fd-da5e0c1326f5\">\n",
              "    <div class=\"colab-df-container\">\n",
              "      <div>\n",
              "<style scoped>\n",
              "    .dataframe tbody tr th:only-of-type {\n",
              "        vertical-align: middle;\n",
              "    }\n",
              "\n",
              "    .dataframe tbody tr th {\n",
              "        vertical-align: top;\n",
              "    }\n",
              "\n",
              "    .dataframe thead th {\n",
              "        text-align: right;\n",
              "    }\n",
              "</style>\n",
              "<table border=\"1\" class=\"dataframe\">\n",
              "  <thead>\n",
              "    <tr style=\"text-align: right;\">\n",
              "      <th></th>\n",
              "      <th>bedrooms</th>\n",
              "      <th>bathrooms</th>\n",
              "      <th>area</th>\n",
              "      <th>zipcode</th>\n",
              "      <th>price</th>\n",
              "    </tr>\n",
              "  </thead>\n",
              "  <tbody>\n",
              "    <tr>\n",
              "      <th>30</th>\n",
              "      <td>5</td>\n",
              "      <td>3.0</td>\n",
              "      <td>2520</td>\n",
              "      <td>93446</td>\n",
              "      <td>789000</td>\n",
              "    </tr>\n",
              "    <tr>\n",
              "      <th>32</th>\n",
              "      <td>3</td>\n",
              "      <td>2.0</td>\n",
              "      <td>1802</td>\n",
              "      <td>93446</td>\n",
              "      <td>365000</td>\n",
              "    </tr>\n",
              "    <tr>\n",
              "      <th>39</th>\n",
              "      <td>3</td>\n",
              "      <td>3.0</td>\n",
              "      <td>2146</td>\n",
              "      <td>93446</td>\n",
              "      <td>455000</td>\n",
              "    </tr>\n",
              "    <tr>\n",
              "      <th>80</th>\n",
              "      <td>4</td>\n",
              "      <td>2.5</td>\n",
              "      <td>2464</td>\n",
              "      <td>91901</td>\n",
              "      <td>599000</td>\n",
              "    </tr>\n",
              "    <tr>\n",
              "      <th>81</th>\n",
              "      <td>2</td>\n",
              "      <td>2.0</td>\n",
              "      <td>1845</td>\n",
              "      <td>91901</td>\n",
              "      <td>529800</td>\n",
              "    </tr>\n",
              "  </tbody>\n",
              "</table>\n",
              "</div>\n",
              "      <button class=\"colab-df-convert\" onclick=\"convertToInteractive('df-d019d561-926e-4fb6-98fd-da5e0c1326f5')\"\n",
              "              title=\"Convert this dataframe to an interactive table.\"\n",
              "              style=\"display:none;\">\n",
              "        \n",
              "  <svg xmlns=\"http://www.w3.org/2000/svg\" height=\"24px\"viewBox=\"0 0 24 24\"\n",
              "       width=\"24px\">\n",
              "    <path d=\"M0 0h24v24H0V0z\" fill=\"none\"/>\n",
              "    <path d=\"M18.56 5.44l.94 2.06.94-2.06 2.06-.94-2.06-.94-.94-2.06-.94 2.06-2.06.94zm-11 1L8.5 8.5l.94-2.06 2.06-.94-2.06-.94L8.5 2.5l-.94 2.06-2.06.94zm10 10l.94 2.06.94-2.06 2.06-.94-2.06-.94-.94-2.06-.94 2.06-2.06.94z\"/><path d=\"M17.41 7.96l-1.37-1.37c-.4-.4-.92-.59-1.43-.59-.52 0-1.04.2-1.43.59L10.3 9.45l-7.72 7.72c-.78.78-.78 2.05 0 2.83L4 21.41c.39.39.9.59 1.41.59.51 0 1.02-.2 1.41-.59l7.78-7.78 2.81-2.81c.8-.78.8-2.07 0-2.86zM5.41 20L4 18.59l7.72-7.72 1.47 1.35L5.41 20z\"/>\n",
              "  </svg>\n",
              "      </button>\n",
              "      \n",
              "  <style>\n",
              "    .colab-df-container {\n",
              "      display:flex;\n",
              "      flex-wrap:wrap;\n",
              "      gap: 12px;\n",
              "    }\n",
              "\n",
              "    .colab-df-convert {\n",
              "      background-color: #E8F0FE;\n",
              "      border: none;\n",
              "      border-radius: 50%;\n",
              "      cursor: pointer;\n",
              "      display: none;\n",
              "      fill: #1967D2;\n",
              "      height: 32px;\n",
              "      padding: 0 0 0 0;\n",
              "      width: 32px;\n",
              "    }\n",
              "\n",
              "    .colab-df-convert:hover {\n",
              "      background-color: #E2EBFA;\n",
              "      box-shadow: 0px 1px 2px rgba(60, 64, 67, 0.3), 0px 1px 3px 1px rgba(60, 64, 67, 0.15);\n",
              "      fill: #174EA6;\n",
              "    }\n",
              "\n",
              "    [theme=dark] .colab-df-convert {\n",
              "      background-color: #3B4455;\n",
              "      fill: #D2E3FC;\n",
              "    }\n",
              "\n",
              "    [theme=dark] .colab-df-convert:hover {\n",
              "      background-color: #434B5C;\n",
              "      box-shadow: 0px 1px 3px 1px rgba(0, 0, 0, 0.15);\n",
              "      filter: drop-shadow(0px 1px 2px rgba(0, 0, 0, 0.3));\n",
              "      fill: #FFFFFF;\n",
              "    }\n",
              "  </style>\n",
              "\n",
              "      <script>\n",
              "        const buttonEl =\n",
              "          document.querySelector('#df-d019d561-926e-4fb6-98fd-da5e0c1326f5 button.colab-df-convert');\n",
              "        buttonEl.style.display =\n",
              "          google.colab.kernel.accessAllowed ? 'block' : 'none';\n",
              "\n",
              "        async function convertToInteractive(key) {\n",
              "          const element = document.querySelector('#df-d019d561-926e-4fb6-98fd-da5e0c1326f5');\n",
              "          const dataTable =\n",
              "            await google.colab.kernel.invokeFunction('convertToInteractive',\n",
              "                                                     [key], {});\n",
              "          if (!dataTable) return;\n",
              "\n",
              "          const docLinkHtml = 'Like what you see? Visit the ' +\n",
              "            '<a target=\"_blank\" href=https://colab.research.google.com/notebooks/data_table.ipynb>data table notebook</a>'\n",
              "            + ' to learn more about interactive tables.';\n",
              "          element.innerHTML = '';\n",
              "          dataTable['output_type'] = 'display_data';\n",
              "          await google.colab.output.renderOutput(dataTable, element);\n",
              "          const docLink = document.createElement('div');\n",
              "          docLink.innerHTML = docLinkHtml;\n",
              "          element.appendChild(docLink);\n",
              "        }\n",
              "      </script>\n",
              "    </div>\n",
              "  </div>\n",
              "  "
            ]
          },
          "metadata": {},
          "execution_count": 41
        }
      ]
    },
    {
      "cell_type": "markdown",
      "metadata": {
        "id": "J-xIyIR1HZiE"
      },
      "source": [
        "### 영상 데이터 읽기"
      ]
    },
    {
      "cell_type": "code",
      "metadata": {
        "id": "FuZ-lxe_Gde4"
      },
      "source": [
        "images = load_house_images(df, \"Houses-dataset/Houses Dataset/\")\n",
        "images = images/255."
      ],
      "execution_count": 42,
      "outputs": []
    },
    {
      "cell_type": "code",
      "metadata": {
        "id": "wZhmpoc8HNfQ",
        "colab": {
          "base_uri": "https://localhost:8080/"
        },
        "outputId": "14799e53-ce4b-4292-ac9a-9770ebb3a5f2"
      },
      "source": [
        "print(images.shape)"
      ],
      "execution_count": 43,
      "outputs": [
        {
          "output_type": "stream",
          "name": "stdout",
          "text": [
            "(362, 256, 256, 3)\n"
          ]
        }
      ]
    },
    {
      "cell_type": "code",
      "source": [
        "plt.imshow(images[0])\n",
        "plt.show()"
      ],
      "metadata": {
        "id": "nvFxkmfXtxvO",
        "outputId": "3c8fd272-3e7f-42a1-a4f6-bc2e003818e6",
        "colab": {
          "base_uri": "https://localhost:8080/",
          "height": 269
        }
      },
      "execution_count": 44,
      "outputs": [
        {
          "output_type": "display_data",
          "data": {
            "text/plain": [
              "<Figure size 432x288 with 1 Axes>"
            ],
            "image/png": "[encoded data removed]"
          },
          "metadata": {
            "needs_background": "light"
          }
        }
      ]
    },
    {
      "cell_type": "code",
      "metadata": {
        "id": "ZW9H5fZuHNbW"
      },
      "source": [
        "(train_attr_x, test_attr_x, train_image_x, test_image_x) = train_test_split(df, images, test_size=0.25, random_state=42)\n",
        "\n",
        "max_price = train_attr_x[\"price\"].max()\n",
        "train_y = train_attr_x[\"price\"] / max_price\n",
        "test_y = test_attr_x[\"price\"] / max_price\n",
        "(train_attr_x, test_attr_x) = process_house_attributes(df, train_attr_x, test_attr_x)"
      ],
      "execution_count": 45,
      "outputs": []
    },
    {
      "cell_type": "code",
      "metadata": {
        "id": "ZoR7qloQHNYn",
        "colab": {
          "base_uri": "https://localhost:8080/"
        },
        "outputId": "38884f6c-f359-44bf-ec06-160383863116"
      },
      "source": [
        "print(\"tainAttrX.shape=\", train_attr_x.shape)\n",
        "print(\"train_image_x.shape=\", train_image_x.shape)\n",
        "print(\"train_y.shape=\", train_y.shape)\n",
        "print(\"test_attr_x.shape=\", test_attr_x.shape)\n",
        "print(\"testImageX.shape=\", test_image_x.shape)\n",
        "print(\"test_y.shape=\", test_y.shape)"
      ],
      "execution_count": 46,
      "outputs": [
        {
          "output_type": "stream",
          "name": "stdout",
          "text": [
            "tainAttrX.shape= (271, 10)\n",
            "train_image_x.shape= (271, 256, 256, 3)\n",
            "train_y.shape= (271,)\n",
            "test_attr_x.shape= (91, 10)\n",
            "testImageX.shape= (91, 256, 256, 3)\n",
            "test_y.shape= (91,)\n"
          ]
        }
      ]
    },
    {
      "cell_type": "code",
      "metadata": {
        "id": "aZclMyzHFwpA"
      },
      "source": [
        "# import the necessary packages\n",
        "from tensorflow.keras import Sequential\n",
        "from tensorflow.keras.layers import BatchNormalization\n",
        "from tensorflow.keras.layers import Conv2D\n",
        "from tensorflow.keras.layers import MaxPooling2D\n",
        "from tensorflow.keras.layers import Activation\n",
        "from tensorflow.keras.layers import Dropout\n",
        "from tensorflow.keras.layers import Dense\n",
        "from tensorflow.keras.layers import Flatten\n",
        "from tensorflow.keras.layers import Input\n",
        "from tensorflow.keras import Model\n",
        "from tensorflow.keras.layers import concatenate"
      ],
      "execution_count": 47,
      "outputs": []
    },
    {
      "cell_type": "markdown",
      "metadata": {
        "id": "kow-UjvTIlO7"
      },
      "source": [
        "## 개별 모델로 학습 실행"
      ]
    },
    {
      "cell_type": "markdown",
      "metadata": {
        "id": "rMiM6S1aJDdi"
      },
      "source": [
        "### 속성 모델"
      ]
    },
    {
      "cell_type": "code",
      "metadata": {
        "id": "a7ABhyiqFwj7"
      },
      "source": [
        "input = Input(train_attr_x[0].shape)\n",
        "x = Dense(10, activation='relu')(input)\n",
        "x = Dense(10, activation='relu')(x)\n",
        "output = Dense(1)(x)\n",
        "\n",
        "attr_model = Model(input, output)"
      ],
      "execution_count": 48,
      "outputs": []
    },
    {
      "cell_type": "code",
      "metadata": {
        "id": "roratdC_JdVs",
        "colab": {
          "base_uri": "https://localhost:8080/"
        },
        "outputId": "55f1cb5c-2571-4403-cd2f-8f697f088369"
      },
      "source": [
        "attr_model.compile(optimizer=\"Adam\", loss=\"mse\")\n",
        "attr_model.summary()\n",
        "\n",
        "attr_model.fit(train_attr_x, train_y, epochs=100, verbose=1, batch_size=128, validation_split=0.1)"
      ],
      "execution_count": 49,
      "outputs": [
        {
          "output_type": "stream",
          "name": "stdout",
          "text": [
            "Model: \"model_5\"\n",
            "_________________________________________________________________\n",
            " Layer (type)                Output Shape              Param #   \n",
            "=================================================================\n",
            " input_8 (InputLayer)        [(None, 10)]              0         \n",
            "                                                                 \n",
            " dense_21 (Dense)            (None, 10)                110       \n",
            "                                                                 \n",
            " dense_22 (Dense)            (None, 10)                110       \n",
            "                                                                 \n",
            " dense_23 (Dense)            (None, 1)                 11        \n",
            "                                                                 \n",
            "=================================================================\n",
            "Total params: 231\n",
            "Trainable params: 231\n",
            "Non-trainable params: 0\n",
            "_________________________________________________________________\n",
            "Epoch 1/100\n",
            "2/2 [==============================] - 0s 126ms/step - loss: 0.0714 - val_loss: 0.0581\n",
            "Epoch 2/100\n",
            "2/2 [==============================] - 0s 24ms/step - loss: 0.0619 - val_loss: 0.0502\n",
            "Epoch 3/100\n",
            "2/2 [==============================] - 0s 24ms/step - loss: 0.0531 - val_loss: 0.0431\n",
            "Epoch 4/100\n",
            "2/2 [==============================] - 0s 24ms/step - loss: 0.0454 - val_loss: 0.0369\n",
            "Epoch 5/100\n",
            "2/2 [==============================] - 0s 27ms/step - loss: 0.0385 - val_loss: 0.0315\n",
            "Epoch 6/100\n",
            "2/2 [==============================] - 0s 23ms/step - loss: 0.0326 - val_loss: 0.0269\n",
            "Epoch 7/100\n",
            "2/2 [==============================] - 0s 24ms/step - loss: 0.0277 - val_loss: 0.0230\n",
            "Epoch 8/100\n",
            "2/2 [==============================] - 0s 24ms/step - loss: 0.0238 - val_loss: 0.0198\n",
            "Epoch 9/100\n",
            "2/2 [==============================] - 0s 23ms/step - loss: 0.0203 - val_loss: 0.0173\n",
            "Epoch 10/100\n",
            "2/2 [==============================] - 0s 26ms/step - loss: 0.0177 - val_loss: 0.0152\n",
            "Epoch 11/100\n",
            "2/2 [==============================] - 0s 23ms/step - loss: 0.0157 - val_loss: 0.0136\n",
            "Epoch 12/100\n",
            "2/2 [==============================] - 0s 23ms/step - loss: 0.0143 - val_loss: 0.0125\n",
            "Epoch 13/100\n",
            "2/2 [==============================] - 0s 27ms/step - loss: 0.0132 - val_loss: 0.0117\n",
            "Epoch 14/100\n",
            "2/2 [==============================] - 0s 30ms/step - loss: 0.0126 - val_loss: 0.0111\n",
            "Epoch 15/100\n",
            "2/2 [==============================] - 0s 23ms/step - loss: 0.0122 - val_loss: 0.0107\n",
            "Epoch 16/100\n",
            "2/2 [==============================] - 0s 23ms/step - loss: 0.0119 - val_loss: 0.0105\n",
            "Epoch 17/100\n",
            "2/2 [==============================] - 0s 23ms/step - loss: 0.0118 - val_loss: 0.0103\n",
            "Epoch 18/100\n",
            "2/2 [==============================] - 0s 27ms/step - loss: 0.0118 - val_loss: 0.0102\n",
            "Epoch 19/100\n",
            "2/2 [==============================] - 0s 41ms/step - loss: 0.0117 - val_loss: 0.0100\n",
            "Epoch 20/100\n",
            "2/2 [==============================] - 0s 48ms/step - loss: 0.0116 - val_loss: 0.0098\n",
            "Epoch 21/100\n",
            "2/2 [==============================] - 0s 23ms/step - loss: 0.0115 - val_loss: 0.0096\n",
            "Epoch 22/100\n",
            "2/2 [==============================] - 0s 24ms/step - loss: 0.0113 - val_loss: 0.0094\n",
            "Epoch 23/100\n",
            "2/2 [==============================] - 0s 22ms/step - loss: 0.0111 - val_loss: 0.0091\n",
            "Epoch 24/100\n",
            "2/2 [==============================] - 0s 25ms/step - loss: 0.0109 - val_loss: 0.0089\n",
            "Epoch 25/100\n",
            "2/2 [==============================] - 0s 22ms/step - loss: 0.0106 - val_loss: 0.0087\n",
            "Epoch 26/100\n",
            "2/2 [==============================] - 0s 24ms/step - loss: 0.0104 - val_loss: 0.0084\n",
            "Epoch 27/100\n",
            "2/2 [==============================] - 0s 23ms/step - loss: 0.0102 - val_loss: 0.0082\n",
            "Epoch 28/100\n",
            "2/2 [==============================] - 0s 23ms/step - loss: 0.0100 - val_loss: 0.0080\n",
            "Epoch 29/100\n",
            "2/2 [==============================] - 0s 23ms/step - loss: 0.0098 - val_loss: 0.0078\n",
            "Epoch 30/100\n",
            "2/2 [==============================] - 0s 24ms/step - loss: 0.0097 - val_loss: 0.0077\n",
            "Epoch 31/100\n",
            "2/2 [==============================] - 0s 30ms/step - loss: 0.0095 - val_loss: 0.0075\n",
            "Epoch 32/100\n",
            "2/2 [==============================] - 0s 22ms/step - loss: 0.0094 - val_loss: 0.0073\n",
            "Epoch 33/100\n",
            "2/2 [==============================] - 0s 24ms/step - loss: 0.0093 - val_loss: 0.0072\n",
            "Epoch 34/100\n",
            "2/2 [==============================] - 0s 22ms/step - loss: 0.0092 - val_loss: 0.0070\n",
            "Epoch 35/100\n",
            "2/2 [==============================] - 0s 22ms/step - loss: 0.0091 - val_loss: 0.0069\n",
            "Epoch 36/100\n",
            "2/2 [==============================] - 0s 22ms/step - loss: 0.0090 - val_loss: 0.0067\n",
            "Epoch 37/100\n",
            "2/2 [==============================] - 0s 41ms/step - loss: 0.0089 - val_loss: 0.0066\n",
            "Epoch 38/100\n",
            "2/2 [==============================] - 0s 25ms/step - loss: 0.0088 - val_loss: 0.0064\n",
            "Epoch 39/100\n",
            "2/2 [==============================] - 0s 22ms/step - loss: 0.0087 - val_loss: 0.0063\n",
            "Epoch 40/100\n",
            "2/2 [==============================] - 0s 24ms/step - loss: 0.0087 - val_loss: 0.0061\n",
            "Epoch 41/100\n",
            "2/2 [==============================] - 0s 28ms/step - loss: 0.0086 - val_loss: 0.0060\n",
            "Epoch 42/100\n",
            "2/2 [==============================] - 0s 22ms/step - loss: 0.0085 - val_loss: 0.0059\n",
            "Epoch 43/100\n",
            "2/2 [==============================] - 0s 23ms/step - loss: 0.0084 - val_loss: 0.0057\n",
            "Epoch 44/100\n",
            "2/2 [==============================] - 0s 26ms/step - loss: 0.0084 - val_loss: 0.0056\n",
            "Epoch 45/100\n",
            "2/2 [==============================] - 0s 24ms/step - loss: 0.0083 - val_loss: 0.0055\n",
            "Epoch 46/100\n",
            "2/2 [==============================] - 0s 24ms/step - loss: 0.0082 - val_loss: 0.0054\n",
            "Epoch 47/100\n",
            "2/2 [==============================] - 0s 23ms/step - loss: 0.0082 - val_loss: 0.0053\n",
            "Epoch 48/100\n",
            "2/2 [==============================] - 0s 23ms/step - loss: 0.0081 - val_loss: 0.0052\n",
            "Epoch 49/100\n",
            "2/2 [==============================] - 0s 22ms/step - loss: 0.0081 - val_loss: 0.0051\n",
            "Epoch 50/100\n",
            "2/2 [==============================] - 0s 23ms/step - loss: 0.0080 - val_loss: 0.0050\n",
            "Epoch 51/100\n",
            "2/2 [==============================] - 0s 24ms/step - loss: 0.0080 - val_loss: 0.0049\n",
            "Epoch 52/100\n",
            "2/2 [==============================] - 0s 23ms/step - loss: 0.0079 - val_loss: 0.0049\n",
            "Epoch 53/100\n",
            "2/2 [==============================] - 0s 26ms/step - loss: 0.0079 - val_loss: 0.0048\n",
            "Epoch 54/100\n",
            "2/2 [==============================] - 0s 24ms/step - loss: 0.0078 - val_loss: 0.0047\n",
            "Epoch 55/100\n",
            "2/2 [==============================] - 0s 24ms/step - loss: 0.0078 - val_loss: 0.0047\n",
            "Epoch 56/100\n",
            "2/2 [==============================] - 0s 23ms/step - loss: 0.0077 - val_loss: 0.0046\n",
            "Epoch 57/100\n",
            "2/2 [==============================] - 0s 24ms/step - loss: 0.0077 - val_loss: 0.0046\n",
            "Epoch 58/100\n",
            "2/2 [==============================] - 0s 26ms/step - loss: 0.0076 - val_loss: 0.0045\n",
            "Epoch 59/100\n",
            "2/2 [==============================] - 0s 24ms/step - loss: 0.0076 - val_loss: 0.0045\n",
            "Epoch 60/100\n",
            "2/2 [==============================] - 0s 33ms/step - loss: 0.0076 - val_loss: 0.0044\n",
            "Epoch 61/100\n",
            "2/2 [==============================] - 0s 23ms/step - loss: 0.0075 - val_loss: 0.0044\n",
            "Epoch 62/100\n",
            "2/2 [==============================] - 0s 45ms/step - loss: 0.0075 - val_loss: 0.0044\n",
            "Epoch 63/100\n",
            "2/2 [==============================] - 0s 33ms/step - loss: 0.0075 - val_loss: 0.0043\n",
            "Epoch 64/100\n",
            "2/2 [==============================] - 0s 25ms/step - loss: 0.0074 - val_loss: 0.0043\n",
            "Epoch 65/100\n",
            "2/2 [==============================] - 0s 25ms/step - loss: 0.0074 - val_loss: 0.0043\n",
            "Epoch 66/100\n",
            "2/2 [==============================] - 0s 25ms/step - loss: 0.0074 - val_loss: 0.0042\n",
            "Epoch 67/100\n",
            "2/2 [==============================] - 0s 25ms/step - loss: 0.0073 - val_loss: 0.0042\n",
            "Epoch 68/100\n",
            "2/2 [==============================] - 0s 25ms/step - loss: 0.0073 - val_loss: 0.0042\n",
            "Epoch 69/100\n",
            "2/2 [==============================] - 0s 25ms/step - loss: 0.0073 - val_loss: 0.0042\n",
            "Epoch 70/100\n",
            "2/2 [==============================] - 0s 24ms/step - loss: 0.0073 - val_loss: 0.0042\n",
            "Epoch 71/100\n",
            "2/2 [==============================] - 0s 31ms/step - loss: 0.0072 - val_loss: 0.0041\n",
            "Epoch 72/100\n",
            "2/2 [==============================] - 0s 24ms/step - loss: 0.0072 - val_loss: 0.0041\n",
            "Epoch 73/100\n",
            "2/2 [==============================] - 0s 25ms/step - loss: 0.0072 - val_loss: 0.0041\n",
            "Epoch 74/100\n",
            "2/2 [==============================] - 0s 24ms/step - loss: 0.0071 - val_loss: 0.0041\n",
            "Epoch 75/100\n",
            "2/2 [==============================] - 0s 23ms/step - loss: 0.0071 - val_loss: 0.0041\n",
            "Epoch 76/100\n",
            "2/2 [==============================] - 0s 25ms/step - loss: 0.0071 - val_loss: 0.0041\n",
            "Epoch 77/100\n",
            "2/2 [==============================] - 0s 28ms/step - loss: 0.0071 - val_loss: 0.0040\n",
            "Epoch 78/100\n",
            "2/2 [==============================] - 0s 25ms/step - loss: 0.0070 - val_loss: 0.0040\n",
            "Epoch 79/100\n",
            "2/2 [==============================] - 0s 24ms/step - loss: 0.0070 - val_loss: 0.0040\n",
            "Epoch 80/100\n",
            "2/2 [==============================] - 0s 43ms/step - loss: 0.0070 - val_loss: 0.0040\n",
            "Epoch 81/100\n",
            "2/2 [==============================] - 0s 25ms/step - loss: 0.0070 - val_loss: 0.0040\n",
            "Epoch 82/100\n",
            "2/2 [==============================] - 0s 27ms/step - loss: 0.0069 - val_loss: 0.0040\n",
            "Epoch 83/100\n",
            "2/2 [==============================] - 0s 25ms/step - loss: 0.0069 - val_loss: 0.0040\n",
            "Epoch 84/100\n",
            "2/2 [==============================] - 0s 24ms/step - loss: 0.0069 - val_loss: 0.0039\n",
            "Epoch 85/100\n",
            "2/2 [==============================] - 0s 24ms/step - loss: 0.0069 - val_loss: 0.0039\n",
            "Epoch 86/100\n",
            "2/2 [==============================] - 0s 23ms/step - loss: 0.0068 - val_loss: 0.0039\n",
            "Epoch 87/100\n",
            "2/2 [==============================] - 0s 42ms/step - loss: 0.0068 - val_loss: 0.0039\n",
            "Epoch 88/100\n",
            "2/2 [==============================] - 0s 23ms/step - loss: 0.0067 - val_loss: 0.0039\n",
            "Epoch 89/100\n",
            "2/2 [==============================] - 0s 24ms/step - loss: 0.0067 - val_loss: 0.0038\n",
            "Epoch 90/100\n",
            "2/2 [==============================] - 0s 28ms/step - loss: 0.0067 - val_loss: 0.0038\n",
            "Epoch 91/100\n",
            "2/2 [==============================] - 0s 23ms/step - loss: 0.0066 - val_loss: 0.0037\n",
            "Epoch 92/100\n",
            "2/2 [==============================] - 0s 24ms/step - loss: 0.0065 - val_loss: 0.0037\n",
            "Epoch 93/100\n",
            "2/2 [==============================] - 0s 29ms/step - loss: 0.0065 - val_loss: 0.0037\n",
            "Epoch 94/100\n",
            "2/2 [==============================] - 0s 24ms/step - loss: 0.0064 - val_loss: 0.0036\n",
            "Epoch 95/100\n",
            "2/2 [==============================] - 0s 25ms/step - loss: 0.0064 - val_loss: 0.0036\n",
            "Epoch 96/100\n",
            "2/2 [==============================] - 0s 28ms/step - loss: 0.0063 - val_loss: 0.0035\n",
            "Epoch 97/100\n",
            "2/2 [==============================] - 0s 52ms/step - loss: 0.0063 - val_loss: 0.0035\n",
            "Epoch 98/100\n",
            "2/2 [==============================] - 0s 26ms/step - loss: 0.0062 - val_loss: 0.0034\n",
            "Epoch 99/100\n",
            "2/2 [==============================] - 0s 25ms/step - loss: 0.0062 - val_loss: 0.0034\n",
            "Epoch 100/100\n",
            "2/2 [==============================] - 0s 25ms/step - loss: 0.0061 - val_loss: 0.0033\n"
          ]
        },
        {
          "output_type": "execute_result",
          "data": {
            "text/plain": [
              "<keras.callbacks.History at 0x7f9447b3e210>"
            ]
          },
          "metadata": {},
          "execution_count": 49
        }
      ]
    },
    {
      "cell_type": "code",
      "metadata": {
        "id": "Hk5WagwnJdTO",
        "colab": {
          "base_uri": "https://localhost:8080/"
        },
        "outputId": "1f269310-daba-48d4-ac96-b3d50bbba450"
      },
      "source": [
        "preds = attr_model.predict(test_attr_x)\n",
        "\n",
        "diff = preds.flatten() - test_y\n",
        "percentDiff = (diff / test_y) * 100\n",
        "absPercentDiff = np.abs(percentDiff)\n",
        "\n",
        "mean = np.mean(absPercentDiff)\n",
        "std = np.std(absPercentDiff)\n",
        "\n",
        "print(\"[INFO] mean: {:.2f}%, std: {:.2f}\".format(mean, std))"
      ],
      "execution_count": 50,
      "outputs": [
        {
          "output_type": "stream",
          "name": "stdout",
          "text": [
            "[INFO] mean: 33.75%, std: 43.40\n"
          ]
        }
      ]
    },
    {
      "cell_type": "code",
      "metadata": {
        "id": "3L6Nr-1ZJdP_"
      },
      "source": [
        ""
      ],
      "execution_count": 50,
      "outputs": []
    },
    {
      "cell_type": "markdown",
      "metadata": {
        "id": "EY4cMiohJFKc"
      },
      "source": [
        "### 영상 모델"
      ]
    },
    {
      "cell_type": "code",
      "metadata": {
        "id": "JEbOBK0ULRlT"
      },
      "source": [
        "input = Input(train_image_x[0].shape)\n",
        "x = Conv2D(32, (3,3), padding='same')(input)\n",
        "x = MaxPooling2D((2,2))(x)\n",
        "x = Conv2D(32, (3,3), padding='same')(x)\n",
        "x = MaxPooling2D((2,2))(x)\n",
        "x = Flatten()(x)\n",
        "x = Dense(64, activation='relu')(x)\n",
        "x = Dense(10, activation='relu')(x)\n",
        "output = Dense(1)(x)\n",
        "\n",
        "image_model = Model(input, output)"
      ],
      "execution_count": 51,
      "outputs": []
    },
    {
      "cell_type": "code",
      "metadata": {
        "id": "jprcg41pLRhL",
        "colab": {
          "base_uri": "https://localhost:8080/"
        },
        "outputId": "5094074c-f0f6-44b2-80bd-6da2c9836e1e"
      },
      "source": [
        "image_model.compile(optimizer=\"Adam\", loss=\"mse\")\n",
        "image_model.summary()\n",
        "\n",
        "image_model.fit(train_image_x, train_y, epochs=100, verbose=1, batch_size=128, validation_split=0.1)"
      ],
      "execution_count": 52,
      "outputs": [
        {
          "output_type": "stream",
          "name": "stdout",
          "text": [
            "Model: \"model_6\"\n",
            "_________________________________________________________________\n",
            " Layer (type)                Output Shape              Param #   \n",
            "=================================================================\n",
            " input_9 (InputLayer)        [(None, 256, 256, 3)]     0         \n",
            "                                                                 \n",
            " conv2d_10 (Conv2D)          (None, 256, 256, 32)      896       \n",
            "                                                                 \n",
            " max_pooling2d_10 (MaxPoolin  (None, 128, 128, 32)     0         \n",
            " g2D)                                                            \n",
            "                                                                 \n",
            " conv2d_11 (Conv2D)          (None, 128, 128, 32)      9248      \n",
            "                                                                 \n",
            " max_pooling2d_11 (MaxPoolin  (None, 64, 64, 32)       0         \n",
            " g2D)                                                            \n",
            "                                                                 \n",
            " flatten_5 (Flatten)         (None, 131072)            0         \n",
            "                                                                 \n",
            " dense_24 (Dense)            (None, 64)                8388672   \n",
            "                                                                 \n",
            " dense_25 (Dense)            (None, 10)                650       \n",
            "                                                                 \n",
            " dense_26 (Dense)            (None, 1)                 11        \n",
            "                                                                 \n",
            "=================================================================\n",
            "Total params: 8,399,477\n",
            "Trainable params: 8,399,477\n",
            "Non-trainable params: 0\n",
            "_________________________________________________________________\n",
            "Epoch 1/100\n",
            "2/2 [==============================] - 1s 224ms/step - loss: 809.4283 - val_loss: 25.7913\n",
            "Epoch 2/100\n",
            "2/2 [==============================] - 0s 123ms/step - loss: 20.1137 - val_loss: 1.6277\n",
            "Epoch 3/100\n",
            "2/2 [==============================] - 0s 111ms/step - loss: 1.7490 - val_loss: 2.5650\n",
            "Epoch 4/100\n",
            "2/2 [==============================] - 0s 118ms/step - loss: 1.5160 - val_loss: 0.4211\n",
            "Epoch 5/100\n",
            "2/2 [==============================] - 0s 108ms/step - loss: 48.7922 - val_loss: 0.8729\n",
            "Epoch 6/100\n",
            "2/2 [==============================] - 0s 112ms/step - loss: 0.9201 - val_loss: 0.8008\n",
            "Epoch 7/100\n",
            "2/2 [==============================] - 0s 107ms/step - loss: 0.7504 - val_loss: 0.2754\n",
            "Epoch 8/100\n",
            "2/2 [==============================] - 0s 111ms/step - loss: 0.1781 - val_loss: 0.0079\n",
            "Epoch 9/100\n",
            "2/2 [==============================] - 0s 114ms/step - loss: 0.0100 - val_loss: 0.0081\n",
            "Epoch 10/100\n",
            "2/2 [==============================] - 0s 105ms/step - loss: 0.0101 - val_loss: 0.0080\n",
            "Epoch 11/100\n",
            "2/2 [==============================] - 0s 109ms/step - loss: 0.0103 - val_loss: 0.0088\n",
            "Epoch 12/100\n",
            "2/2 [==============================] - 0s 113ms/step - loss: 0.0118 - val_loss: 0.0103\n",
            "Epoch 13/100\n",
            "2/2 [==============================] - 0s 107ms/step - loss: 0.0134 - val_loss: 0.0113\n",
            "Epoch 14/100\n",
            "2/2 [==============================] - 0s 110ms/step - loss: 0.0140 - val_loss: 0.0109\n",
            "Epoch 15/100\n",
            "2/2 [==============================] - 0s 104ms/step - loss: 0.0132 - val_loss: 0.0098\n",
            "Epoch 16/100\n",
            "2/2 [==============================] - 0s 106ms/step - loss: 0.0118 - val_loss: 0.0093\n",
            "Epoch 17/100\n",
            "2/2 [==============================] - 0s 110ms/step - loss: 0.0111 - val_loss: 0.0098\n",
            "Epoch 18/100\n",
            "2/2 [==============================] - 0s 113ms/step - loss: 0.0114 - val_loss: 0.0103\n",
            "Epoch 19/100\n",
            "2/2 [==============================] - 0s 106ms/step - loss: 0.0119 - val_loss: 0.0106\n",
            "Epoch 20/100\n",
            "2/2 [==============================] - 0s 104ms/step - loss: 0.0121 - val_loss: 0.0103\n",
            "Epoch 21/100\n",
            "2/2 [==============================] - 0s 105ms/step - loss: 0.0117 - val_loss: 0.0099\n",
            "Epoch 22/100\n",
            "2/2 [==============================] - 0s 105ms/step - loss: 0.0112 - val_loss: 0.0097\n",
            "Epoch 23/100\n",
            "2/2 [==============================] - 0s 113ms/step - loss: 0.0111 - val_loss: 0.0096\n",
            "Epoch 24/100\n",
            "2/2 [==============================] - 0s 110ms/step - loss: 0.0112 - val_loss: 0.0097\n",
            "Epoch 25/100\n",
            "2/2 [==============================] - 0s 111ms/step - loss: 0.0114 - val_loss: 0.0097\n",
            "Epoch 26/100\n",
            "2/2 [==============================] - 0s 111ms/step - loss: 0.0112 - val_loss: 0.0096\n",
            "Epoch 27/100\n",
            "2/2 [==============================] - 0s 113ms/step - loss: 0.0110 - val_loss: 0.0096\n",
            "Epoch 28/100\n",
            "2/2 [==============================] - 0s 108ms/step - loss: 0.0109 - val_loss: 0.0096\n",
            "Epoch 29/100\n",
            "2/2 [==============================] - 0s 108ms/step - loss: 0.0109 - val_loss: 0.0096\n",
            "Epoch 30/100\n",
            "2/2 [==============================] - 0s 109ms/step - loss: 0.0109 - val_loss: 0.0095\n",
            "Epoch 31/100\n",
            "2/2 [==============================] - 0s 106ms/step - loss: 0.0108 - val_loss: 0.0094\n",
            "Epoch 32/100\n",
            "2/2 [==============================] - 0s 112ms/step - loss: 0.0107 - val_loss: 0.0093\n",
            "Epoch 33/100\n",
            "2/2 [==============================] - 0s 108ms/step - loss: 0.0106 - val_loss: 0.0093\n",
            "Epoch 34/100\n",
            "2/2 [==============================] - 0s 108ms/step - loss: 0.0106 - val_loss: 0.0092\n",
            "Epoch 35/100\n",
            "2/2 [==============================] - 0s 109ms/step - loss: 0.0105 - val_loss: 0.0092\n",
            "Epoch 36/100\n",
            "2/2 [==============================] - 0s 104ms/step - loss: 0.0104 - val_loss: 0.0091\n",
            "Epoch 37/100\n",
            "2/2 [==============================] - 0s 107ms/step - loss: 0.0103 - val_loss: 0.0091\n",
            "Epoch 38/100\n",
            "2/2 [==============================] - 0s 109ms/step - loss: 0.0103 - val_loss: 0.0091\n",
            "Epoch 39/100\n",
            "2/2 [==============================] - 0s 113ms/step - loss: 0.0102 - val_loss: 0.0090\n",
            "Epoch 40/100\n",
            "2/2 [==============================] - 0s 108ms/step - loss: 0.0101 - val_loss: 0.0089\n",
            "Epoch 41/100\n",
            "2/2 [==============================] - 0s 113ms/step - loss: 0.0100 - val_loss: 0.0088\n",
            "Epoch 42/100\n",
            "2/2 [==============================] - 0s 113ms/step - loss: 0.0100 - val_loss: 0.0088\n",
            "Epoch 43/100\n",
            "2/2 [==============================] - 0s 107ms/step - loss: 0.0099 - val_loss: 0.0087\n",
            "Epoch 44/100\n",
            "2/2 [==============================] - 0s 108ms/step - loss: 0.0099 - val_loss: 0.0087\n",
            "Epoch 45/100\n",
            "2/2 [==============================] - 0s 106ms/step - loss: 0.0098 - val_loss: 0.0086\n",
            "Epoch 46/100\n",
            "2/2 [==============================] - 0s 106ms/step - loss: 0.0097 - val_loss: 0.0086\n",
            "Epoch 47/100\n",
            "2/2 [==============================] - 0s 110ms/step - loss: 0.0096 - val_loss: 0.0085\n",
            "Epoch 48/100\n",
            "2/2 [==============================] - 0s 113ms/step - loss: 0.0096 - val_loss: 0.0085\n",
            "Epoch 49/100\n",
            "2/2 [==============================] - 0s 124ms/step - loss: 0.0095 - val_loss: 0.0084\n",
            "Epoch 50/100\n",
            "2/2 [==============================] - 0s 132ms/step - loss: 0.0094 - val_loss: 0.0084\n",
            "Epoch 51/100\n",
            "2/2 [==============================] - 0s 137ms/step - loss: 0.0094 - val_loss: 0.0083\n",
            "Epoch 52/100\n",
            "2/2 [==============================] - 0s 120ms/step - loss: 0.0093 - val_loss: 0.0083\n",
            "Epoch 53/100\n",
            "2/2 [==============================] - 0s 132ms/step - loss: 0.0092 - val_loss: 0.0082\n",
            "Epoch 54/100\n",
            "2/2 [==============================] - 0s 123ms/step - loss: 0.0092 - val_loss: 0.0082\n",
            "Epoch 55/100\n",
            "2/2 [==============================] - 0s 121ms/step - loss: 0.0091 - val_loss: 0.0082\n",
            "Epoch 56/100\n",
            "2/2 [==============================] - 0s 111ms/step - loss: 0.0090 - val_loss: 0.0081\n",
            "Epoch 57/100\n",
            "2/2 [==============================] - 0s 108ms/step - loss: 0.0090 - val_loss: 0.0080\n",
            "Epoch 58/100\n",
            "2/2 [==============================] - 0s 109ms/step - loss: 0.0089 - val_loss: 0.0080\n",
            "Epoch 59/100\n",
            "2/2 [==============================] - 0s 115ms/step - loss: 0.0088 - val_loss: 0.0080\n",
            "Epoch 60/100\n",
            "2/2 [==============================] - 0s 106ms/step - loss: 0.0088 - val_loss: 0.0079\n",
            "Epoch 61/100\n",
            "2/2 [==============================] - 0s 107ms/step - loss: 0.0087 - val_loss: 0.0079\n",
            "Epoch 62/100\n",
            "2/2 [==============================] - 0s 109ms/step - loss: 0.0087 - val_loss: 0.0079\n",
            "Epoch 63/100\n",
            "2/2 [==============================] - 0s 111ms/step - loss: 0.0086 - val_loss: 0.0078\n",
            "Epoch 64/100\n",
            "2/2 [==============================] - 0s 110ms/step - loss: 0.0085 - val_loss: 0.0078\n",
            "Epoch 65/100\n",
            "2/2 [==============================] - 0s 109ms/step - loss: 0.0085 - val_loss: 0.0077\n",
            "Epoch 66/100\n",
            "2/2 [==============================] - 0s 110ms/step - loss: 0.0084 - val_loss: 0.0077\n",
            "Epoch 67/100\n",
            "2/2 [==============================] - 0s 108ms/step - loss: 0.0084 - val_loss: 0.0076\n",
            "Epoch 68/100\n",
            "2/2 [==============================] - 0s 113ms/step - loss: 0.0083 - val_loss: 0.0076\n",
            "Epoch 69/100\n",
            "2/2 [==============================] - 0s 109ms/step - loss: 0.0083 - val_loss: 0.0076\n",
            "Epoch 70/100\n",
            "2/2 [==============================] - 0s 108ms/step - loss: 0.0082 - val_loss: 0.0076\n",
            "Epoch 71/100\n",
            "2/2 [==============================] - 0s 112ms/step - loss: 0.0081 - val_loss: 0.0075\n",
            "Epoch 72/100\n",
            "2/2 [==============================] - 0s 100ms/step - loss: 0.0081 - val_loss: 0.0075\n",
            "Epoch 73/100\n",
            "2/2 [==============================] - 0s 107ms/step - loss: 0.0080 - val_loss: 0.0074\n",
            "Epoch 74/100\n",
            "2/2 [==============================] - 0s 109ms/step - loss: 0.0079 - val_loss: 0.0074\n",
            "Epoch 75/100\n",
            "2/2 [==============================] - 0s 112ms/step - loss: 0.0079 - val_loss: 0.0074\n",
            "Epoch 76/100\n",
            "2/2 [==============================] - 0s 108ms/step - loss: 0.0078 - val_loss: 0.0074\n",
            "Epoch 77/100\n",
            "2/2 [==============================] - 0s 117ms/step - loss: 0.0078 - val_loss: 0.0073\n",
            "Epoch 78/100\n",
            "2/2 [==============================] - 0s 110ms/step - loss: 0.0077 - val_loss: 0.0073\n",
            "Epoch 79/100\n",
            "2/2 [==============================] - 0s 106ms/step - loss: 0.0077 - val_loss: 0.0072\n",
            "Epoch 80/100\n",
            "2/2 [==============================] - 0s 113ms/step - loss: 0.0076 - val_loss: 0.0072\n",
            "Epoch 81/100\n",
            "2/2 [==============================] - 0s 109ms/step - loss: 0.0076 - val_loss: 0.0072\n",
            "Epoch 82/100\n",
            "2/2 [==============================] - 0s 108ms/step - loss: 0.0075 - val_loss: 0.0072\n",
            "Epoch 83/100\n",
            "2/2 [==============================] - 0s 108ms/step - loss: 0.0074 - val_loss: 0.0071\n",
            "Epoch 84/100\n",
            "2/2 [==============================] - 0s 108ms/step - loss: 0.0074 - val_loss: 0.0071\n",
            "Epoch 85/100\n",
            "2/2 [==============================] - 0s 106ms/step - loss: 0.0074 - val_loss: 0.0071\n",
            "Epoch 86/100\n",
            "2/2 [==============================] - 0s 108ms/step - loss: 0.0073 - val_loss: 0.0071\n",
            "Epoch 87/100\n",
            "2/2 [==============================] - 0s 112ms/step - loss: 0.0073 - val_loss: 0.0070\n",
            "Epoch 88/100\n",
            "2/2 [==============================] - 0s 107ms/step - loss: 0.0073 - val_loss: 0.0070\n",
            "Epoch 89/100\n",
            "2/2 [==============================] - 0s 111ms/step - loss: 0.0071 - val_loss: 0.0070\n",
            "Epoch 90/100\n",
            "2/2 [==============================] - 0s 109ms/step - loss: 0.0071 - val_loss: 0.0070\n",
            "Epoch 91/100\n",
            "2/2 [==============================] - 0s 109ms/step - loss: 0.0070 - val_loss: 0.0069\n",
            "Epoch 92/100\n",
            "2/2 [==============================] - 0s 111ms/step - loss: 0.0070 - val_loss: 0.0069\n",
            "Epoch 93/100\n",
            "2/2 [==============================] - 0s 116ms/step - loss: 0.0069 - val_loss: 0.0069\n",
            "Epoch 94/100\n",
            "2/2 [==============================] - 0s 107ms/step - loss: 0.0069 - val_loss: 0.0069\n",
            "Epoch 95/100\n",
            "2/2 [==============================] - 0s 111ms/step - loss: 0.0069 - val_loss: 0.0069\n",
            "Epoch 96/100\n",
            "2/2 [==============================] - 0s 117ms/step - loss: 0.0068 - val_loss: 0.0068\n",
            "Epoch 97/100\n",
            "2/2 [==============================] - 0s 111ms/step - loss: 0.0067 - val_loss: 0.0068\n",
            "Epoch 98/100\n",
            "2/2 [==============================] - 0s 116ms/step - loss: 0.0068 - val_loss: 0.0068\n",
            "Epoch 99/100\n",
            "2/2 [==============================] - 0s 109ms/step - loss: 0.0066 - val_loss: 0.0068\n",
            "Epoch 100/100\n",
            "2/2 [==============================] - 0s 96ms/step - loss: 0.0066 - val_loss: 0.0068\n"
          ]
        },
        {
          "output_type": "execute_result",
          "data": {
            "text/plain": [
              "<keras.callbacks.History at 0x7f944789b1d0>"
            ]
          },
          "metadata": {},
          "execution_count": 52
        }
      ]
    },
    {
      "cell_type": "code",
      "metadata": {
        "id": "OROOOvr9LRet",
        "colab": {
          "base_uri": "https://localhost:8080/"
        },
        "outputId": "13de007e-a1da-4f4c-889f-f27aef2c7a52"
      },
      "source": [
        "preds = image_model.predict(test_image_x)\n",
        "\n",
        "diff = preds.flatten() - test_y\n",
        "percentDiff = (diff / test_y) * 100\n",
        "absPercentDiff = np.abs(percentDiff)\n",
        "\n",
        "mean = np.mean(absPercentDiff)\n",
        "std = np.std(absPercentDiff)\n",
        "\n",
        "print(\"[INFO] mean: {:.2f}%, std: {:.2f}\".format(mean, std))"
      ],
      "execution_count": 53,
      "outputs": [
        {
          "output_type": "stream",
          "name": "stdout",
          "text": [
            "[INFO] mean: 128.51%, std: 204.23\n"
          ]
        }
      ]
    },
    {
      "cell_type": "markdown",
      "metadata": {
        "id": "k7DX0yusIn78"
      },
      "source": [
        "## 다중 입력 모델로 학습 실행"
      ]
    },
    {
      "cell_type": "code",
      "metadata": {
        "id": "P7iDDfb-LRb6"
      },
      "source": [
        "# 속성 브랜치\n",
        "attr_input = Input(train_attr_x[0].shape)\n",
        "x = Dense(10, activation='relu')(attr_input)\n",
        "attr_out = Dense(10, activation='relu')(x)\n",
        "\n",
        "# 영상 브랜치\n",
        "image_input = Input(train_image_x[0].shape)\n",
        "x = Conv2D(32, (3,3), padding='same')(image_input)\n",
        "x = MaxPooling2D((2,2))(x)\n",
        "x = Conv2D(32, (3,3), padding='same')(x)\n",
        "x = MaxPooling2D((2,2))(x)\n",
        "x = Flatten()(x)\n",
        "x = Dense(64, activation='relu')(x)\n",
        "image_output = Dense(10, activation='relu')(x)\n",
        "\n",
        "# 2개의 브랜치를 합치고\n",
        "combined_input = concatenate([attr_out, image_output])\n",
        "\n",
        "# 1개의 출력\n",
        "x = Dense(10, activation=\"relu\")(combined_input)\n",
        "output = Dense(1)(x)\n",
        "\n",
        "# 모델 정의\n",
        "combined_model = Model([attr_input, image_input], output)"
      ],
      "execution_count": 55,
      "outputs": []
    },
    {
      "cell_type": "code",
      "metadata": {
        "id": "2fVpru2CLRYu",
        "colab": {
          "base_uri": "https://localhost:8080/"
        },
        "outputId": "aeff12ef-bc9f-469c-a0b9-de779889f7e1"
      },
      "source": [
        "combined_model.compile(optimizer=\"Adam\", loss=\"mse\")\n",
        "combined_model.summary()\n",
        "\n",
        "combined_model.fit([train_attr_x, train_image_x], train_y, epochs=100, verbose=1, batch_size=128, validation_split=0.1)"
      ],
      "execution_count": 56,
      "outputs": [
        {
          "output_type": "stream",
          "name": "stdout",
          "text": [
            "Model: \"model_7\"\n",
            "__________________________________________________________________________________________________\n",
            " Layer (type)                   Output Shape         Param #     Connected to                     \n",
            "==================================================================================================\n",
            " input_11 (InputLayer)          [(None, 256, 256, 3  0           []                               \n",
            "                                )]                                                                \n",
            "                                                                                                  \n",
            " conv2d_12 (Conv2D)             (None, 256, 256, 32  896         ['input_11[0][0]']               \n",
            "                                )                                                                 \n",
            "                                                                                                  \n",
            " max_pooling2d_12 (MaxPooling2D  (None, 128, 128, 32  0          ['conv2d_12[0][0]']              \n",
            " )                              )                                                                 \n",
            "                                                                                                  \n",
            " conv2d_13 (Conv2D)             (None, 128, 128, 32  9248        ['max_pooling2d_12[0][0]']       \n",
            "                                )                                                                 \n",
            "                                                                                                  \n",
            " max_pooling2d_13 (MaxPooling2D  (None, 64, 64, 32)  0           ['conv2d_13[0][0]']              \n",
            " )                                                                                                \n",
            "                                                                                                  \n",
            " input_10 (InputLayer)          [(None, 10)]         0           []                               \n",
            "                                                                                                  \n",
            " flatten_6 (Flatten)            (None, 131072)       0           ['max_pooling2d_13[0][0]']       \n",
            "                                                                                                  \n",
            " dense_27 (Dense)               (None, 10)           110         ['input_10[0][0]']               \n",
            "                                                                                                  \n",
            " dense_29 (Dense)               (None, 64)           8388672     ['flatten_6[0][0]']              \n",
            "                                                                                                  \n",
            " dense_28 (Dense)               (None, 10)           110         ['dense_27[0][0]']               \n",
            "                                                                                                  \n",
            " dense_30 (Dense)               (None, 10)           650         ['dense_29[0][0]']               \n",
            "                                                                                                  \n",
            " concatenate_1 (Concatenate)    (None, 20)           0           ['dense_28[0][0]',               \n",
            "                                                                  'dense_30[0][0]']               \n",
            "                                                                                                  \n",
            " dense_31 (Dense)               (None, 10)           210         ['concatenate_1[0][0]']          \n",
            "                                                                                                  \n",
            " dense_32 (Dense)               (None, 1)            11          ['dense_31[0][0]']               \n",
            "                                                                                                  \n",
            "==================================================================================================\n",
            "Total params: 8,399,907\n",
            "Trainable params: 8,399,907\n",
            "Non-trainable params: 0\n",
            "__________________________________________________________________________________________________\n",
            "Epoch 1/100\n",
            "2/2 [==============================] - 1s 244ms/step - loss: 20.9972 - val_loss: 28.4456\n",
            "Epoch 2/100\n",
            "2/2 [==============================] - 0s 110ms/step - loss: 17.4449 - val_loss: 2.2748\n",
            "Epoch 3/100\n",
            "2/2 [==============================] - 0s 111ms/step - loss: 2.8711 - val_loss: 36.4997\n",
            "Epoch 4/100\n",
            "2/2 [==============================] - 0s 111ms/step - loss: 19.5936 - val_loss: 1.1534\n",
            "Epoch 5/100\n",
            "2/2 [==============================] - 0s 106ms/step - loss: 1.4800 - val_loss: 2.3957\n",
            "Epoch 6/100\n",
            "2/2 [==============================] - 0s 114ms/step - loss: 2.5088 - val_loss: 2.2965\n",
            "Epoch 7/100\n",
            "2/2 [==============================] - 0s 116ms/step - loss: 2.1223 - val_loss: 1.3777\n",
            "Epoch 8/100\n",
            "2/2 [==============================] - 0s 108ms/step - loss: 1.0204 - val_loss: 0.2473\n",
            "Epoch 9/100\n",
            "2/2 [==============================] - 0s 118ms/step - loss: 0.1339 - val_loss: 0.1110\n",
            "Epoch 10/100\n",
            "2/2 [==============================] - 0s 112ms/step - loss: 0.2923 - val_loss: 0.7629\n",
            "Epoch 11/100\n",
            "2/2 [==============================] - 0s 113ms/step - loss: 0.8753 - val_loss: 0.6413\n",
            "Epoch 12/100\n",
            "2/2 [==============================] - 0s 113ms/step - loss: 0.4909 - val_loss: 0.6290\n",
            "Epoch 13/100\n",
            "2/2 [==============================] - 0s 112ms/step - loss: 0.8001 - val_loss: 0.0349\n",
            "Epoch 14/100\n",
            "2/2 [==============================] - 0s 111ms/step - loss: 0.1827 - val_loss: 0.3634\n",
            "Epoch 15/100\n",
            "2/2 [==============================] - 0s 113ms/step - loss: 0.3580 - val_loss: 0.1314\n",
            "Epoch 16/100\n",
            "2/2 [==============================] - 0s 112ms/step - loss: 0.0898 - val_loss: 0.0371\n",
            "Epoch 17/100\n",
            "2/2 [==============================] - 0s 118ms/step - loss: 0.0671 - val_loss: 0.2212\n",
            "Epoch 18/100\n",
            "2/2 [==============================] - 0s 111ms/step - loss: 0.2096 - val_loss: 0.1464\n",
            "Epoch 19/100\n",
            "2/2 [==============================] - 0s 112ms/step - loss: 0.0927 - val_loss: 0.0173\n",
            "Epoch 20/100\n",
            "2/2 [==============================] - 0s 114ms/step - loss: 0.0357 - val_loss: 0.0996\n",
            "Epoch 21/100\n",
            "2/2 [==============================] - 0s 116ms/step - loss: 0.1189 - val_loss: 0.0780\n",
            "Epoch 22/100\n",
            "2/2 [==============================] - 0s 113ms/step - loss: 0.0625 - val_loss: 0.0177\n",
            "Epoch 23/100\n",
            "2/2 [==============================] - 0s 112ms/step - loss: 0.0239 - val_loss: 0.0790\n",
            "Epoch 24/100\n",
            "2/2 [==============================] - 0s 109ms/step - loss: 0.0727 - val_loss: 0.0636\n",
            "Epoch 25/100\n",
            "2/2 [==============================] - 0s 112ms/step - loss: 0.0397 - val_loss: 0.0168\n",
            "Epoch 26/100\n",
            "2/2 [==============================] - 0s 110ms/step - loss: 0.0212 - val_loss: 0.0418\n",
            "Epoch 27/100\n",
            "2/2 [==============================] - 0s 112ms/step - loss: 0.0471 - val_loss: 0.0287\n",
            "Epoch 28/100\n",
            "2/2 [==============================] - 0s 110ms/step - loss: 0.0242 - val_loss: 0.0203\n",
            "Epoch 29/100\n",
            "2/2 [==============================] - 0s 113ms/step - loss: 0.0201 - val_loss: 0.0412\n",
            "Epoch 30/100\n",
            "2/2 [==============================] - 0s 111ms/step - loss: 0.0312 - val_loss: 0.0248\n",
            "Epoch 31/100\n",
            "2/2 [==============================] - 0s 108ms/step - loss: 0.0164 - val_loss: 0.0177\n",
            "Epoch 32/100\n",
            "2/2 [==============================] - 0s 111ms/step - loss: 0.0191 - val_loss: 0.0228\n",
            "Epoch 33/100\n",
            "2/2 [==============================] - 0s 106ms/step - loss: 0.0216 - val_loss: 0.0160\n",
            "Epoch 34/100\n",
            "2/2 [==============================] - 0s 114ms/step - loss: 0.0133 - val_loss: 0.0223\n",
            "Epoch 35/100\n",
            "2/2 [==============================] - 0s 110ms/step - loss: 0.0183 - val_loss: 0.0235\n",
            "Epoch 36/100\n",
            "2/2 [==============================] - 0s 108ms/step - loss: 0.0159 - val_loss: 0.0158\n",
            "Epoch 37/100\n",
            "2/2 [==============================] - 0s 111ms/step - loss: 0.0143 - val_loss: 0.0174\n",
            "Epoch 38/100\n",
            "2/2 [==============================] - 0s 113ms/step - loss: 0.0163 - val_loss: 0.0155\n",
            "Epoch 39/100\n",
            "2/2 [==============================] - 0s 110ms/step - loss: 0.0128 - val_loss: 0.0175\n",
            "Epoch 40/100\n",
            "2/2 [==============================] - 0s 105ms/step - loss: 0.0142 - val_loss: 0.0196\n",
            "Epoch 41/100\n",
            "2/2 [==============================] - 0s 107ms/step - loss: 0.0140 - val_loss: 0.0156\n",
            "Epoch 42/100\n",
            "2/2 [==============================] - 0s 110ms/step - loss: 0.0125 - val_loss: 0.0153\n",
            "Epoch 43/100\n",
            "2/2 [==============================] - 0s 105ms/step - loss: 0.0138 - val_loss: 0.0149\n",
            "Epoch 44/100\n",
            "2/2 [==============================] - 0s 110ms/step - loss: 0.0123 - val_loss: 0.0161\n",
            "Epoch 45/100\n",
            "2/2 [==============================] - 0s 110ms/step - loss: 0.0127 - val_loss: 0.0174\n",
            "Epoch 46/100\n",
            "2/2 [==============================] - 0s 111ms/step - loss: 0.0127 - val_loss: 0.0149\n",
            "Epoch 47/100\n",
            "2/2 [==============================] - 0s 112ms/step - loss: 0.0121 - val_loss: 0.0144\n",
            "Epoch 48/100\n",
            "2/2 [==============================] - 0s 108ms/step - loss: 0.0124 - val_loss: 0.0142\n",
            "Epoch 49/100\n",
            "2/2 [==============================] - 0s 111ms/step - loss: 0.0116 - val_loss: 0.0151\n",
            "Epoch 50/100\n",
            "2/2 [==============================] - 0s 111ms/step - loss: 0.0117 - val_loss: 0.0153\n",
            "Epoch 51/100\n",
            "2/2 [==============================] - 0s 108ms/step - loss: 0.0117 - val_loss: 0.0141\n",
            "Epoch 52/100\n",
            "2/2 [==============================] - 0s 110ms/step - loss: 0.0113 - val_loss: 0.0138\n",
            "Epoch 53/100\n",
            "2/2 [==============================] - 0s 115ms/step - loss: 0.0112 - val_loss: 0.0139\n",
            "Epoch 54/100\n",
            "2/2 [==============================] - 0s 110ms/step - loss: 0.0110 - val_loss: 0.0143\n",
            "Epoch 55/100\n",
            "2/2 [==============================] - 0s 110ms/step - loss: 0.0111 - val_loss: 0.0141\n",
            "Epoch 56/100\n",
            "2/2 [==============================] - 0s 111ms/step - loss: 0.0108 - val_loss: 0.0134\n",
            "Epoch 57/100\n",
            "2/2 [==============================] - 0s 110ms/step - loss: 0.0110 - val_loss: 0.0132\n",
            "Epoch 58/100\n",
            "2/2 [==============================] - 0s 109ms/step - loss: 0.0109 - val_loss: 0.0135\n",
            "Epoch 59/100\n",
            "2/2 [==============================] - 0s 111ms/step - loss: 0.0106 - val_loss: 0.0137\n",
            "Epoch 60/100\n",
            "2/2 [==============================] - 0s 116ms/step - loss: 0.0106 - val_loss: 0.0131\n",
            "Epoch 61/100\n",
            "2/2 [==============================] - 0s 111ms/step - loss: 0.0104 - val_loss: 0.0129\n",
            "Epoch 62/100\n",
            "2/2 [==============================] - 0s 113ms/step - loss: 0.0103 - val_loss: 0.0129\n",
            "Epoch 63/100\n",
            "2/2 [==============================] - 0s 113ms/step - loss: 0.0103 - val_loss: 0.0130\n",
            "Epoch 64/100\n",
            "2/2 [==============================] - 0s 110ms/step - loss: 0.0102 - val_loss: 0.0127\n",
            "Epoch 65/100\n",
            "2/2 [==============================] - 0s 115ms/step - loss: 0.0101 - val_loss: 0.0124\n",
            "Epoch 66/100\n",
            "2/2 [==============================] - 0s 111ms/step - loss: 0.0100 - val_loss: 0.0125\n",
            "Epoch 67/100\n",
            "2/2 [==============================] - 0s 114ms/step - loss: 0.0099 - val_loss: 0.0126\n",
            "Epoch 68/100\n",
            "2/2 [==============================] - 0s 112ms/step - loss: 0.0098 - val_loss: 0.0124\n",
            "Epoch 69/100\n",
            "2/2 [==============================] - 0s 110ms/step - loss: 0.0097 - val_loss: 0.0121\n",
            "Epoch 70/100\n",
            "2/2 [==============================] - 0s 112ms/step - loss: 0.0097 - val_loss: 0.0120\n",
            "Epoch 71/100\n",
            "2/2 [==============================] - 0s 114ms/step - loss: 0.0096 - val_loss: 0.0121\n",
            "Epoch 72/100\n",
            "2/2 [==============================] - 0s 111ms/step - loss: 0.0095 - val_loss: 0.0121\n",
            "Epoch 73/100\n",
            "2/2 [==============================] - 0s 110ms/step - loss: 0.0094 - val_loss: 0.0119\n",
            "Epoch 74/100\n",
            "2/2 [==============================] - 0s 111ms/step - loss: 0.0093 - val_loss: 0.0117\n",
            "Epoch 75/100\n",
            "2/2 [==============================] - 0s 109ms/step - loss: 0.0093 - val_loss: 0.0116\n",
            "Epoch 76/100\n",
            "2/2 [==============================] - 0s 111ms/step - loss: 0.0092 - val_loss: 0.0116\n",
            "Epoch 77/100\n",
            "2/2 [==============================] - 0s 114ms/step - loss: 0.0091 - val_loss: 0.0114\n",
            "Epoch 78/100\n",
            "2/2 [==============================] - 0s 108ms/step - loss: 0.0092 - val_loss: 0.0115\n",
            "Epoch 79/100\n",
            "2/2 [==============================] - 0s 121ms/step - loss: 0.0090 - val_loss: 0.0111\n",
            "Epoch 80/100\n",
            "2/2 [==============================] - 0s 110ms/step - loss: 0.0090 - val_loss: 0.0111\n",
            "Epoch 81/100\n",
            "2/2 [==============================] - 0s 108ms/step - loss: 0.0089 - val_loss: 0.0114\n",
            "Epoch 82/100\n",
            "2/2 [==============================] - 0s 103ms/step - loss: 0.0088 - val_loss: 0.0111\n",
            "Epoch 83/100\n",
            "2/2 [==============================] - 0s 111ms/step - loss: 0.0088 - val_loss: 0.0107\n",
            "Epoch 84/100\n",
            "2/2 [==============================] - 0s 109ms/step - loss: 0.0087 - val_loss: 0.0108\n",
            "Epoch 85/100\n",
            "2/2 [==============================] - 0s 109ms/step - loss: 0.0086 - val_loss: 0.0111\n",
            "Epoch 86/100\n",
            "2/2 [==============================] - 0s 110ms/step - loss: 0.0085 - val_loss: 0.0107\n",
            "Epoch 87/100\n",
            "2/2 [==============================] - 0s 112ms/step - loss: 0.0085 - val_loss: 0.0104\n",
            "Epoch 88/100\n",
            "2/2 [==============================] - 0s 111ms/step - loss: 0.0084 - val_loss: 0.0106\n",
            "Epoch 89/100\n",
            "2/2 [==============================] - 0s 121ms/step - loss: 0.0083 - val_loss: 0.0107\n",
            "Epoch 90/100\n",
            "2/2 [==============================] - 0s 111ms/step - loss: 0.0083 - val_loss: 0.0103\n",
            "Epoch 91/100\n",
            "2/2 [==============================] - 0s 112ms/step - loss: 0.0082 - val_loss: 0.0102\n",
            "Epoch 92/100\n",
            "2/2 [==============================] - 0s 113ms/step - loss: 0.0082 - val_loss: 0.0103\n",
            "Epoch 93/100\n",
            "2/2 [==============================] - 0s 111ms/step - loss: 0.0081 - val_loss: 0.0103\n",
            "Epoch 94/100\n",
            "2/2 [==============================] - 0s 109ms/step - loss: 0.0080 - val_loss: 0.0100\n",
            "Epoch 95/100\n",
            "2/2 [==============================] - 0s 114ms/step - loss: 0.0080 - val_loss: 0.0099\n",
            "Epoch 96/100\n",
            "2/2 [==============================] - 0s 110ms/step - loss: 0.0079 - val_loss: 0.0100\n",
            "Epoch 97/100\n",
            "2/2 [==============================] - 0s 115ms/step - loss: 0.0079 - val_loss: 0.0102\n",
            "Epoch 98/100\n",
            "2/2 [==============================] - 0s 112ms/step - loss: 0.0078 - val_loss: 0.0097\n",
            "Epoch 99/100\n",
            "2/2 [==============================] - 0s 107ms/step - loss: 0.0077 - val_loss: 0.0097\n",
            "Epoch 100/100\n",
            "2/2 [==============================] - 0s 95ms/step - loss: 0.0077 - val_loss: 0.0097\n"
          ]
        },
        {
          "output_type": "execute_result",
          "data": {
            "text/plain": [
              "<keras.callbacks.History at 0x7f944149d410>"
            ]
          },
          "metadata": {},
          "execution_count": 56
        }
      ]
    },
    {
      "cell_type": "code",
      "metadata": {
        "id": "cdJXO5maFwh0",
        "colab": {
          "base_uri": "https://localhost:8080/"
        },
        "outputId": "cb3543e9-d995-477a-fe48-53fa1e95ed66"
      },
      "source": [
        "preds = combined_model.predict([test_attr_x, test_image_x])\n",
        "\n",
        "diff = preds.flatten() - test_y\n",
        "percentDiff = (diff / test_y) * 100\n",
        "absPercentDiff = np.abs(percentDiff)\n",
        "\n",
        "mean = np.mean(absPercentDiff)\n",
        "std = np.std(absPercentDiff)\n",
        "\n",
        "print(\"[INFO] mean: {:.2f}%, std: {:.2f}\".format(mean, std))"
      ],
      "execution_count": 57,
      "outputs": [
        {
          "output_type": "stream",
          "name": "stdout",
          "text": [
            "[INFO] mean: 117.06%, std: 149.54\n"
          ]
        }
      ]
    },
    {
      "cell_type": "code",
      "metadata": {
        "id": "ZAh3boxuFwez",
        "outputId": "27dc4eef-0c87-417d-f703-019dc05b5fe3",
        "colab": {
          "base_uri": "https://localhost:8080/",
          "height": 902
        }
      },
      "source": [
        "import tensorflow as tf\n",
        "tf.keras.utils.plot_model(model=combined_model, rankdir=\"TD\", dpi=72, show_shapes=True)"
      ],
      "execution_count": 58,
      "outputs": [
        {
          "output_type": "execute_result",
          "data": {
            "text/plain": [
              "<IPython.core.display.Image object>"
            ],
            "image/png": "[encoded data removed]"
          },
          "metadata": {},
          "execution_count": 58
        }
      ]
    },
    {
      "cell_type": "markdown",
      "metadata": {
        "id": "ejOg9i5KMU28"
      },
      "source": [
        "# 다중 출력\n",
        "\n",
        "copy from https://www.pyimagesearch.com/2018/06/04/keras-multiple-outputs-and-multiple-losses/"
      ]
    },
    {
      "cell_type": "markdown",
      "metadata": {
        "id": "oLnb63o5ottv"
      },
      "source": [
        "## 데이터 준비"
      ]
    },
    {
      "cell_type": "code",
      "metadata": {
        "id": "FBXMpbDn76uf",
        "colab": {
          "base_uri": "https://localhost:8080/"
        },
        "outputId": "4a9127b7-5523-4974-a803-f362246d5163"
      },
      "source": [
        "!wget https://github.com/dhrim/hallym_medi_workshop_2023/raw/master/material/deep_learning/fashion_dataset.zip"
      ],
      "execution_count": 59,
      "outputs": [
        {
          "output_type": "stream",
          "name": "stdout",
          "text": [
            "--2022-08-09 01:57:18--  https://github.com/dhrim/hallym_medi_workshop_2023/raw/master/material/deep_learning/fashion_dataset.zip\n",
            "Resolving github.com (github.com)... 140.82.121.3\n",
            "Connecting to github.com (github.com)|140.82.121.3|:443... connected.\n",
            "HTTP request sent, awaiting response... 302 Found\n",
            "Location: https://raw.githubusercontent.com/dhrim/hallym_medi_workshop_2023/master/material/deep_learning/fashion_dataset.zip [following]\n",
            "--2022-08-09 01:57:18--  https://raw.githubusercontent.com/dhrim/hallym_medi_workshop_2023/master/material/deep_learning/fashion_dataset.zip\n",
            "Resolving raw.githubusercontent.com (raw.githubusercontent.com)... 185.199.108.133, 185.199.110.133, 185.199.109.133, ...\n",
            "Connecting to raw.githubusercontent.com (raw.githubusercontent.com)|185.199.108.133|:443... connected.\n",
            "HTTP request sent, awaiting response... 200 OK\n",
            "Length: 26991216 (26M) [application/zip]\n",
            "Saving to: ‘fashion_dataset.zip’\n",
            "\n",
            "fashion_dataset.zip 100%[===================>]  25.74M  --.-KB/s    in 0.08s   \n",
            "\n",
            "2022-08-09 01:57:20 (313 MB/s) - ‘fashion_dataset.zip’ saved [26991216/26991216]\n",
            "\n"
          ]
        }
      ]
    },
    {
      "cell_type": "code",
      "metadata": {
        "id": "mFt96FMqvjah",
        "colab": {
          "base_uri": "https://localhost:8080/"
        },
        "outputId": "6f46e3a5-45e8-4190-840e-7cc4fd3a5d6e"
      },
      "source": [
        "!ls -alh"
      ],
      "execution_count": 60,
      "outputs": [
        {
          "output_type": "stream",
          "name": "stdout",
          "text": [
            "total 26M\n",
            "drwxr-xr-x 1 root root 4.0K Aug  9 01:57 .\n",
            "drwxr-xr-x 1 root root 4.0K Aug  9 01:09 ..\n",
            "drwxr-xr-x 4 root root 4.0K Aug  3 20:20 .config\n",
            "-rw-r--r-- 1 root root  26M Aug  9 01:57 fashion_dataset.zip\n",
            "drwxr-xr-x 4 root root 4.0K Aug  9 01:27 Houses-dataset\n",
            "-rw-r--r-- 1 root root  68K Aug  9 01:57 model.png\n",
            "drwxr-xr-x 1 root root 4.0K Aug  3 20:21 sample_data\n"
          ]
        }
      ]
    },
    {
      "cell_type": "code",
      "metadata": {
        "id": "zYCavDIjh5RK",
        "colab": {
          "base_uri": "https://localhost:8080/"
        },
        "outputId": "d32dcfad-df89-4250-8f9c-338c84a92107"
      },
      "source": [
        "!unzip fashion_dataset.zip"
      ],
      "execution_count": 61,
      "outputs": [
        {
          "output_type": "stream",
          "name": "stdout",
          "text": [
            "Archive:  fashion_dataset.zip\n",
            "   creating: fashion_dataset/\n",
            "   creating: fashion_dataset/black_jeans/\n",
            "  inflating: fashion_dataset/black_jeans/00000000.jpg  \n",
            "   creating: __MACOSX/\n",
            "   creating: __MACOSX/fashion_dataset/\n",
            "   creating: __MACOSX/fashion_dataset/black_jeans/\n",
            "  inflating: __MACOSX/fashion_dataset/black_jeans/._00000000.jpg  \n",
            "  inflating: fashion_dataset/black_jeans/00000004.jpg  \n",
            "  inflating: __MACOSX/fashion_dataset/black_jeans/._00000004.jpg  \n",
            "  inflating: fashion_dataset/black_jeans/00000006.jpg  \n",
            "  inflating: __MACOSX/fashion_dataset/black_jeans/._00000006.jpg  \n",
            "  inflating: fashion_dataset/black_jeans/00000007.jpg  \n",
            "  inflating: __MACOSX/fashion_dataset/black_jeans/._00000007.jpg  \n",
            "  inflating: fashion_dataset/black_jeans/00000009.jpg  \n",
            "  inflating: __MACOSX/fashion_dataset/black_jeans/._00000009.jpg  \n",
            "  inflating: fashion_dataset/black_jeans/00000010.jpg  \n",
            "  inflating: __MACOSX/fashion_dataset/black_jeans/._00000010.jpg  \n",
            "  inflating: fashion_dataset/black_jeans/00000011.jpg  \n",
            "  inflating: __MACOSX/fashion_dataset/black_jeans/._00000011.jpg  \n",
            "  inflating: fashion_dataset/black_jeans/00000014.jpg  \n",
            "  inflating: __MACOSX/fashion_dataset/black_jeans/._00000014.jpg  \n",
            "  inflating: fashion_dataset/black_jeans/00000015.jpg  \n",
            "  inflating: __MACOSX/fashion_dataset/black_jeans/._00000015.jpg  \n",
            "  inflating: fashion_dataset/black_jeans/00000016.jpg  \n",
            "  inflating: __MACOSX/fashion_dataset/black_jeans/._00000016.jpg  \n",
            "  inflating: fashion_dataset/black_jeans/00000017.jpg  \n",
            "  inflating: __MACOSX/fashion_dataset/black_jeans/._00000017.jpg  \n",
            "  inflating: fashion_dataset/black_jeans/00000018.jpg  \n",
            "  inflating: __MACOSX/fashion_dataset/black_jeans/._00000018.jpg  \n",
            "  inflating: fashion_dataset/black_jeans/00000019.jpg  \n",
            "  inflating: __MACOSX/fashion_dataset/black_jeans/._00000019.jpg  \n",
            "  inflating: fashion_dataset/black_jeans/00000040.jpg  \n",
            "  inflating: __MACOSX/fashion_dataset/black_jeans/._00000040.jpg  \n",
            "  inflating: fashion_dataset/black_jeans/00000041.jpg  \n",
            "  inflating: __MACOSX/fashion_dataset/black_jeans/._00000041.jpg  \n",
            "  inflating: fashion_dataset/black_jeans/00000047.jpg  \n",
            "  inflating: __MACOSX/fashion_dataset/black_jeans/._00000047.jpg  \n",
            "  inflating: fashion_dataset/black_jeans/00000048.jpg  \n",
            "  inflating: __MACOSX/fashion_dataset/black_jeans/._00000048.jpg  \n",
            "  inflating: fashion_dataset/black_jeans/00000049.jpg  \n",
            "  inflating: __MACOSX/fashion_dataset/black_jeans/._00000049.jpg  \n",
            "  inflating: fashion_dataset/black_jeans/00000051.jpg  \n",
            "  inflating: __MACOSX/fashion_dataset/black_jeans/._00000051.jpg  \n",
            "  inflating: fashion_dataset/black_jeans/00000054.jpg  \n",
            "  inflating: __MACOSX/fashion_dataset/black_jeans/._00000054.jpg  \n",
            "  inflating: fashion_dataset/black_jeans/00000055.jpg  \n",
            "  inflating: __MACOSX/fashion_dataset/black_jeans/._00000055.jpg  \n",
            "  inflating: fashion_dataset/black_jeans/00000056.jpg  \n",
            "  inflating: __MACOSX/fashion_dataset/black_jeans/._00000056.jpg  \n",
            "  inflating: fashion_dataset/black_jeans/00000057.jpg  \n",
            "  inflating: __MACOSX/fashion_dataset/black_jeans/._00000057.jpg  \n",
            "  inflating: fashion_dataset/black_jeans/00000060.jpg  \n",
            "  inflating: __MACOSX/fashion_dataset/black_jeans/._00000060.jpg  \n",
            "  inflating: fashion_dataset/black_jeans/00000061.jpg  \n",
            "  inflating: __MACOSX/fashion_dataset/black_jeans/._00000061.jpg  \n",
            "  inflating: fashion_dataset/black_jeans/00000064.jpg  \n",
            "  inflating: __MACOSX/fashion_dataset/black_jeans/._00000064.jpg  \n",
            "  inflating: fashion_dataset/black_jeans/00000065.jpg  \n",
            "  inflating: __MACOSX/fashion_dataset/black_jeans/._00000065.jpg  \n",
            "  inflating: fashion_dataset/black_jeans/00000066.jpg  \n",
            "  inflating: __MACOSX/fashion_dataset/black_jeans/._00000066.jpg  \n",
            "  inflating: fashion_dataset/black_jeans/00000067.jpg  \n",
            "  inflating: __MACOSX/fashion_dataset/black_jeans/._00000067.jpg  \n",
            "  inflating: fashion_dataset/black_jeans/00000068.jpg  \n",
            "  inflating: __MACOSX/fashion_dataset/black_jeans/._00000068.jpg  \n",
            "  inflating: fashion_dataset/black_jeans/00000071.jpg  \n",
            "  inflating: __MACOSX/fashion_dataset/black_jeans/._00000071.jpg  \n",
            "  inflating: fashion_dataset/black_jeans/00000074.jpg  \n",
            "  inflating: __MACOSX/fashion_dataset/black_jeans/._00000074.jpg  \n",
            "  inflating: fashion_dataset/black_jeans/00000075.jpg  \n",
            "  inflating: __MACOSX/fashion_dataset/black_jeans/._00000075.jpg  \n",
            "  inflating: fashion_dataset/black_jeans/00000076.jpg  \n",
            "  inflating: __MACOSX/fashion_dataset/black_jeans/._00000076.jpg  \n",
            "  inflating: fashion_dataset/black_jeans/00000078.jpg  \n",
            "  inflating: __MACOSX/fashion_dataset/black_jeans/._00000078.jpg  \n",
            "  inflating: fashion_dataset/black_jeans/00000079.png  \n",
            "  inflating: __MACOSX/fashion_dataset/black_jeans/._00000079.png  \n",
            "  inflating: fashion_dataset/black_jeans/00000080.jpg  \n",
            "  inflating: __MACOSX/fashion_dataset/black_jeans/._00000080.jpg  \n",
            "  inflating: fashion_dataset/black_jeans/00000081.jpg  \n",
            "  inflating: __MACOSX/fashion_dataset/black_jeans/._00000081.jpg  \n",
            "  inflating: fashion_dataset/black_jeans/00000084.jpg  \n",
            "  inflating: __MACOSX/fashion_dataset/black_jeans/._00000084.jpg  \n",
            "  inflating: fashion_dataset/black_jeans/00000085.jpg  \n",
            "  inflating: __MACOSX/fashion_dataset/black_jeans/._00000085.jpg  \n",
            "  inflating: fashion_dataset/black_jeans/00000086.jpg  \n",
            "  inflating: __MACOSX/fashion_dataset/black_jeans/._00000086.jpg  \n",
            "  inflating: fashion_dataset/black_jeans/00000088.jpg  \n",
            "  inflating: __MACOSX/fashion_dataset/black_jeans/._00000088.jpg  \n",
            "  inflating: fashion_dataset/black_jeans/00000089.jpg  \n",
            "  inflating: __MACOSX/fashion_dataset/black_jeans/._00000089.jpg  \n",
            "  inflating: fashion_dataset/black_jeans/00000090.jpg  \n",
            "  inflating: __MACOSX/fashion_dataset/black_jeans/._00000090.jpg  \n",
            "  inflating: fashion_dataset/black_jeans/00000094.jpg  \n",
            "  inflating: __MACOSX/fashion_dataset/black_jeans/._00000094.jpg  \n",
            "  inflating: fashion_dataset/black_jeans/00000095.jpg  \n",
            "  inflating: __MACOSX/fashion_dataset/black_jeans/._00000095.jpg  \n",
            "  inflating: fashion_dataset/black_jeans/00000096.jpg  \n",
            "  inflating: __MACOSX/fashion_dataset/black_jeans/._00000096.jpg  \n",
            "  inflating: fashion_dataset/black_jeans/00000097.jpg  \n",
            "  inflating: __MACOSX/fashion_dataset/black_jeans/._00000097.jpg  \n",
            "  inflating: fashion_dataset/black_jeans/00000098.jpg  \n",
            "  inflating: __MACOSX/fashion_dataset/black_jeans/._00000098.jpg  \n",
            "  inflating: fashion_dataset/black_jeans/00000100.jpg  \n",
            "  inflating: __MACOSX/fashion_dataset/black_jeans/._00000100.jpg  \n",
            "  inflating: fashion_dataset/black_jeans/00000101.jpg  \n",
            "  inflating: __MACOSX/fashion_dataset/black_jeans/._00000101.jpg  \n",
            "  inflating: fashion_dataset/black_jeans/00000104.jpg  \n",
            "  inflating: __MACOSX/fashion_dataset/black_jeans/._00000104.jpg  \n",
            "  inflating: fashion_dataset/black_jeans/00000105.jpg  \n",
            "  inflating: __MACOSX/fashion_dataset/black_jeans/._00000105.jpg  \n",
            "  inflating: fashion_dataset/black_jeans/00000107.jpg  \n",
            "  inflating: __MACOSX/fashion_dataset/black_jeans/._00000107.jpg  \n",
            "  inflating: fashion_dataset/black_jeans/00000108.jpg  \n",
            "  inflating: __MACOSX/fashion_dataset/black_jeans/._00000108.jpg  \n",
            "  inflating: fashion_dataset/black_jeans/00000110.jpg  \n",
            "  inflating: __MACOSX/fashion_dataset/black_jeans/._00000110.jpg  \n",
            "  inflating: fashion_dataset/black_jeans/00000111.jpg  \n",
            "  inflating: __MACOSX/fashion_dataset/black_jeans/._00000111.jpg  \n",
            "  inflating: fashion_dataset/black_jeans/00000117.jpg  \n",
            "  inflating: __MACOSX/fashion_dataset/black_jeans/._00000117.jpg  \n",
            "  inflating: fashion_dataset/black_jeans/00000118.jpg  \n",
            "  inflating: __MACOSX/fashion_dataset/black_jeans/._00000118.jpg  \n",
            "  inflating: fashion_dataset/black_jeans/00000140.jpg  \n",
            "  inflating: __MACOSX/fashion_dataset/black_jeans/._00000140.jpg  \n",
            "  inflating: fashion_dataset/black_jeans/00000141.jpg  \n",
            "  inflating: __MACOSX/fashion_dataset/black_jeans/._00000141.jpg  \n",
            "  inflating: fashion_dataset/black_jeans/00000144.jpg  \n",
            "  inflating: __MACOSX/fashion_dataset/black_jeans/._00000144.jpg  \n",
            "  inflating: fashion_dataset/black_jeans/00000145.jpg  \n",
            "  inflating: __MACOSX/fashion_dataset/black_jeans/._00000145.jpg  \n",
            "  inflating: fashion_dataset/black_jeans/00000146.jpg  \n",
            "  inflating: __MACOSX/fashion_dataset/black_jeans/._00000146.jpg  \n",
            "  inflating: fashion_dataset/black_jeans/00000148.jpg  \n",
            "  inflating: __MACOSX/fashion_dataset/black_jeans/._00000148.jpg  \n",
            "  inflating: fashion_dataset/black_jeans/00000149.jpg  \n",
            "  inflating: __MACOSX/fashion_dataset/black_jeans/._00000149.jpg  \n",
            "  inflating: fashion_dataset/black_jeans/00000150.jpg  \n",
            "  inflating: __MACOSX/fashion_dataset/black_jeans/._00000150.jpg  \n",
            "  inflating: fashion_dataset/black_jeans/00000151.jpg  \n",
            "  inflating: __MACOSX/fashion_dataset/black_jeans/._00000151.jpg  \n",
            "  inflating: fashion_dataset/black_jeans/00000155.jpg  \n",
            "  inflating: __MACOSX/fashion_dataset/black_jeans/._00000155.jpg  \n",
            "  inflating: fashion_dataset/black_jeans/00000156.jpg  \n",
            "  inflating: __MACOSX/fashion_dataset/black_jeans/._00000156.jpg  \n",
            "  inflating: fashion_dataset/black_jeans/00000157.jpg  \n",
            "  inflating: __MACOSX/fashion_dataset/black_jeans/._00000157.jpg  \n",
            "  inflating: fashion_dataset/black_jeans/00000159.jpg  \n",
            "  inflating: __MACOSX/fashion_dataset/black_jeans/._00000159.jpg  \n",
            "  inflating: fashion_dataset/black_jeans/00000160.jpg  \n",
            "  inflating: __MACOSX/fashion_dataset/black_jeans/._00000160.jpg  \n",
            "  inflating: fashion_dataset/black_jeans/00000164.JPG  \n",
            "  inflating: __MACOSX/fashion_dataset/black_jeans/._00000164.JPG  \n",
            "  inflating: fashion_dataset/black_jeans/00000166.jpg  \n",
            "  inflating: __MACOSX/fashion_dataset/black_jeans/._00000166.jpg  \n",
            "  inflating: fashion_dataset/black_jeans/00000167.jpg  \n",
            "  inflating: __MACOSX/fashion_dataset/black_jeans/._00000167.jpg  \n",
            "  inflating: fashion_dataset/black_jeans/00000168.jpg  \n",
            "  inflating: __MACOSX/fashion_dataset/black_jeans/._00000168.jpg  \n",
            "  inflating: fashion_dataset/black_jeans/00000169.png  \n",
            "  inflating: __MACOSX/fashion_dataset/black_jeans/._00000169.png  \n",
            "  inflating: fashion_dataset/black_jeans/00000171.jpg  \n",
            "  inflating: __MACOSX/fashion_dataset/black_jeans/._00000171.jpg  \n",
            "  inflating: fashion_dataset/black_jeans/00000176.jpg  \n",
            "  inflating: __MACOSX/fashion_dataset/black_jeans/._00000176.jpg  \n",
            "  inflating: fashion_dataset/black_jeans/00000177.jpg  \n",
            "  inflating: __MACOSX/fashion_dataset/black_jeans/._00000177.jpg  \n",
            "  inflating: fashion_dataset/black_jeans/00000184.jpg  \n",
            "  inflating: __MACOSX/fashion_dataset/black_jeans/._00000184.jpg  \n",
            "  inflating: fashion_dataset/black_jeans/00000185.jpg  \n",
            "  inflating: __MACOSX/fashion_dataset/black_jeans/._00000185.jpg  \n",
            "  inflating: fashion_dataset/black_jeans/00000186.jpg  \n",
            "  inflating: __MACOSX/fashion_dataset/black_jeans/._00000186.jpg  \n",
            "  inflating: fashion_dataset/black_jeans/00000189.jpg  \n",
            "  inflating: __MACOSX/fashion_dataset/black_jeans/._00000189.jpg  \n",
            "  inflating: fashion_dataset/black_jeans/00000190.jpg  \n",
            "  inflating: __MACOSX/fashion_dataset/black_jeans/._00000190.jpg  \n",
            "  inflating: fashion_dataset/black_jeans/00000191.jpg  \n",
            "  inflating: __MACOSX/fashion_dataset/black_jeans/._00000191.jpg  \n",
            "  inflating: fashion_dataset/black_jeans/00000194.jpg  \n",
            "  inflating: __MACOSX/fashion_dataset/black_jeans/._00000194.jpg  \n",
            "  inflating: fashion_dataset/black_jeans/00000195.jpg  \n",
            "  inflating: __MACOSX/fashion_dataset/black_jeans/._00000195.jpg  \n",
            "  inflating: fashion_dataset/black_jeans/00000196.jpg  \n",
            "  inflating: __MACOSX/fashion_dataset/black_jeans/._00000196.jpg  \n",
            "  inflating: fashion_dataset/black_jeans/00000197.jpg  \n",
            "  inflating: __MACOSX/fashion_dataset/black_jeans/._00000197.jpg  \n",
            "  inflating: fashion_dataset/black_jeans/00000198.jpg  \n",
            "  inflating: __MACOSX/fashion_dataset/black_jeans/._00000198.jpg  \n",
            "  inflating: fashion_dataset/black_jeans/00000199.jpg  \n",
            "  inflating: __MACOSX/fashion_dataset/black_jeans/._00000199.jpg  \n",
            "   creating: fashion_dataset/black_shoes/\n",
            "  inflating: fashion_dataset/black_shoes/00000000.jpg  \n",
            "  inflating: fashion_dataset/black_shoes/00000001.jpg  \n",
            "  inflating: fashion_dataset/black_shoes/00000004.jpg  \n",
            "  inflating: fashion_dataset/black_shoes/00000005.jpg  \n",
            "  inflating: fashion_dataset/black_shoes/00000006.jpg  \n",
            "  inflating: fashion_dataset/black_shoes/00000007.jpg  \n",
            "  inflating: fashion_dataset/black_shoes/00000008.jpg  \n",
            "  inflating: fashion_dataset/black_shoes/00000009.jpg  \n",
            "  inflating: fashion_dataset/black_shoes/00000010.jpg  \n",
            "  inflating: fashion_dataset/black_shoes/00000011.jpg  \n",
            "  inflating: fashion_dataset/black_shoes/00000015.jpg  \n",
            "  inflating: fashion_dataset/black_shoes/00000016.jpg  \n",
            "  inflating: fashion_dataset/black_shoes/00000017.jpg  \n",
            "  inflating: fashion_dataset/black_shoes/00000018.jpg  \n",
            "  inflating: fashion_dataset/black_shoes/00000019.jpg  \n",
            "  inflating: fashion_dataset/black_shoes/00000040.jpg  \n",
            "  inflating: fashion_dataset/black_shoes/00000041.jpg  \n",
            "  inflating: fashion_dataset/black_shoes/00000044.jpg  \n",
            "  inflating: fashion_dataset/black_shoes/00000045.jpg  \n",
            "  inflating: fashion_dataset/black_shoes/00000048.jpg  \n",
            "  inflating: fashion_dataset/black_shoes/00000049.jpg  \n",
            "  inflating: fashion_dataset/black_shoes/00000051.jpg  \n",
            "  inflating: fashion_dataset/black_shoes/00000054.jpg  \n",
            "  inflating: fashion_dataset/black_shoes/00000055.jpg  \n",
            "  inflating: fashion_dataset/black_shoes/00000056.jpg  \n",
            "  inflating: fashion_dataset/black_shoes/00000057.jpg  \n",
            "  inflating: fashion_dataset/black_shoes/00000059.jpg  \n",
            "  inflating: fashion_dataset/black_shoes/00000060.jpg  \n",
            "  inflating: fashion_dataset/black_shoes/00000061.jpg  \n",
            "  inflating: fashion_dataset/black_shoes/00000064.jpg  \n",
            "  inflating: fashion_dataset/black_shoes/00000065.jpg  \n",
            "  inflating: fashion_dataset/black_shoes/00000066.jpg  \n",
            "  inflating: fashion_dataset/black_shoes/00000067.png  \n",
            "  inflating: fashion_dataset/black_shoes/00000068.jpg  \n",
            "  inflating: fashion_dataset/black_shoes/00000069.jpg  \n",
            "  inflating: fashion_dataset/black_shoes/00000070.jpg  \n",
            "  inflating: fashion_dataset/black_shoes/00000071.jpg  \n",
            "  inflating: fashion_dataset/black_shoes/00000075.jpg  \n",
            "  inflating: fashion_dataset/black_shoes/00000076.jpg  \n",
            "  inflating: fashion_dataset/black_shoes/00000078.jpg  \n",
            "  inflating: fashion_dataset/black_shoes/00000079.jpg  \n",
            "  inflating: fashion_dataset/black_shoes/00000080.jpg  \n",
            "  inflating: fashion_dataset/black_shoes/00000081.jpg  \n",
            "  inflating: fashion_dataset/black_shoes/00000084.JPG  \n",
            "  inflating: fashion_dataset/black_shoes/00000086.jpg  \n",
            "  inflating: fashion_dataset/black_shoes/00000087.jpg  \n",
            "  inflating: fashion_dataset/black_shoes/00000088.jpg  \n",
            "  inflating: fashion_dataset/black_shoes/00000089.jpg  \n",
            "  inflating: fashion_dataset/black_shoes/00000090.jpg  \n",
            "  inflating: fashion_dataset/black_shoes/00000091.jpg  \n",
            "  inflating: fashion_dataset/black_shoes/00000094.jpg  \n",
            "  inflating: fashion_dataset/black_shoes/00000095.jpg  \n",
            "  inflating: fashion_dataset/black_shoes/00000096.jpg  \n",
            "  inflating: fashion_dataset/black_shoes/00000097.jpg  \n",
            "  inflating: fashion_dataset/black_shoes/00000098.jpg  \n",
            "  inflating: fashion_dataset/black_shoes/00000099.jpg  \n",
            "  inflating: fashion_dataset/black_shoes/00000100.jpg  \n",
            "  inflating: fashion_dataset/black_shoes/00000104.jpg  \n",
            "  inflating: fashion_dataset/black_shoes/00000105.jpg  \n",
            "  inflating: fashion_dataset/black_shoes/00000106.jpg  \n",
            "  inflating: fashion_dataset/black_shoes/00000107.jpg  \n",
            "  inflating: fashion_dataset/black_shoes/00000108.jpg  \n",
            "  inflating: fashion_dataset/black_shoes/00000109.jpg  \n",
            "  inflating: fashion_dataset/black_shoes/00000110.jpg  \n",
            "  inflating: fashion_dataset/black_shoes/00000111.jpg  \n",
            "  inflating: fashion_dataset/black_shoes/00000114.jpg  \n",
            "  inflating: fashion_dataset/black_shoes/00000115.jpg  \n",
            "  inflating: fashion_dataset/black_shoes/00000116.png  \n",
            "  inflating: fashion_dataset/black_shoes/00000117.jpg  \n",
            "  inflating: fashion_dataset/black_shoes/00000118.jpg  \n",
            "  inflating: fashion_dataset/black_shoes/00000119.jpg  \n",
            "  inflating: fashion_dataset/black_shoes/00000140.jpg  \n",
            "  inflating: fashion_dataset/black_shoes/00000141.jpg  \n",
            "  inflating: fashion_dataset/black_shoes/00000144.jpg  \n",
            "  inflating: fashion_dataset/black_shoes/00000145.JPG  \n",
            "  inflating: fashion_dataset/black_shoes/00000146.jpg  \n",
            "  inflating: fashion_dataset/black_shoes/00000147.jpg  \n",
            "  inflating: fashion_dataset/black_shoes/00000148.jpg  \n",
            "  inflating: fashion_dataset/black_shoes/00000149.jpg  \n",
            "  inflating: fashion_dataset/black_shoes/00000150.jpg  \n",
            "  inflating: fashion_dataset/black_shoes/00000151.jpg  \n",
            "  inflating: fashion_dataset/black_shoes/00000154.jpg  \n",
            "  inflating: fashion_dataset/black_shoes/00000156.JPG  \n",
            "  inflating: fashion_dataset/black_shoes/00000157.jpg  \n",
            "  inflating: fashion_dataset/black_shoes/00000158.jpg  \n",
            "  inflating: fashion_dataset/black_shoes/00000159.jpg  \n",
            "  inflating: fashion_dataset/black_shoes/00000160.jpg  \n",
            "  inflating: fashion_dataset/black_shoes/00000161.jpg  \n",
            "  inflating: fashion_dataset/black_shoes/00000165.jpg  \n",
            "  inflating: fashion_dataset/black_shoes/00000166.jpg  \n",
            "  inflating: fashion_dataset/black_shoes/00000168.jpg  \n",
            "  inflating: fashion_dataset/black_shoes/00000169.jpg  \n",
            "  inflating: fashion_dataset/black_shoes/00000170.jpg  \n",
            "  inflating: fashion_dataset/black_shoes/00000171.jpg  \n",
            "  inflating: fashion_dataset/black_shoes/00000174.jpg  \n",
            "  inflating: fashion_dataset/black_shoes/00000175.jpg  \n",
            "  inflating: fashion_dataset/black_shoes/00000176.jpg  \n",
            "  inflating: fashion_dataset/black_shoes/00000177.jpg  \n",
            "  inflating: fashion_dataset/black_shoes/00000179.jpg  \n",
            "  inflating: fashion_dataset/black_shoes/00000180.jpg  \n",
            "  inflating: fashion_dataset/black_shoes/00000181.jpg  \n",
            "  inflating: fashion_dataset/black_shoes/00000185.jpg  \n",
            "  inflating: fashion_dataset/black_shoes/00000186.jpg  \n",
            "  inflating: fashion_dataset/black_shoes/00000187.jpg  \n",
            "  inflating: fashion_dataset/black_shoes/00000188.jpg  \n",
            "  inflating: fashion_dataset/black_shoes/00000189.jpg  \n",
            "  inflating: fashion_dataset/black_shoes/00000190.jpg  \n",
            "  inflating: fashion_dataset/black_shoes/00000191.jpg  \n",
            "  inflating: fashion_dataset/black_shoes/00000194.jpg  \n",
            "  inflating: fashion_dataset/black_shoes/00000195.jpg  \n",
            "  inflating: fashion_dataset/black_shoes/00000196.jpg  \n",
            "  inflating: fashion_dataset/black_shoes/00000198.jpg  \n",
            "  inflating: fashion_dataset/black_shoes/00000199.gif  \n",
            "   creating: fashion_dataset/blue_dress/\n",
            "  inflating: fashion_dataset/blue_dress/00000000.jpg  \n",
            "  inflating: fashion_dataset/blue_dress/00000001.jpg  \n",
            "  inflating: fashion_dataset/blue_dress/00000004.jpg  \n",
            "  inflating: fashion_dataset/blue_dress/00000005.jpg  \n",
            "  inflating: fashion_dataset/blue_dress/00000007.jpg  \n",
            "  inflating: fashion_dataset/blue_dress/00000008.jpg  \n",
            "  inflating: fashion_dataset/blue_dress/00000009.jpg  \n",
            "  inflating: fashion_dataset/blue_dress/00000010.jpg  \n",
            "  inflating: fashion_dataset/blue_dress/00000011.jpg  \n",
            "  inflating: fashion_dataset/blue_dress/00000014.jpg  \n",
            "  inflating: fashion_dataset/blue_dress/00000015.jpg  \n",
            "  inflating: fashion_dataset/blue_dress/00000016.jpg  \n",
            "  inflating: fashion_dataset/blue_dress/00000017.jpg  \n",
            "  inflating: fashion_dataset/blue_dress/00000018.jpg  \n",
            "  inflating: fashion_dataset/blue_dress/00000019.jpg  \n",
            "  inflating: fashion_dataset/blue_dress/00000040.jpg  \n",
            "  inflating: fashion_dataset/blue_dress/00000044.jpg  \n",
            "  inflating: fashion_dataset/blue_dress/00000045.jpg  \n",
            "  inflating: fashion_dataset/blue_dress/00000046.jpg  \n",
            "  inflating: fashion_dataset/blue_dress/00000047.jpg  \n",
            "  inflating: fashion_dataset/blue_dress/00000048.jpg  \n",
            "  inflating: fashion_dataset/blue_dress/00000049.jpg  \n",
            "  inflating: fashion_dataset/blue_dress/00000050.jpg  \n",
            "  inflating: fashion_dataset/blue_dress/00000051.jpg  \n",
            "  inflating: fashion_dataset/blue_dress/00000054.jpg  \n",
            "  inflating: fashion_dataset/blue_dress/00000056.jpg  \n",
            "  inflating: fashion_dataset/blue_dress/00000057.jpg  \n",
            "  inflating: fashion_dataset/blue_dress/00000058.jpg  \n",
            "  inflating: fashion_dataset/blue_dress/00000059.jpg  \n",
            "  inflating: fashion_dataset/blue_dress/00000060.jpg  \n",
            "  inflating: fashion_dataset/blue_dress/00000061.jpg  \n",
            "  inflating: fashion_dataset/blue_dress/00000064.jpg  \n",
            "  inflating: fashion_dataset/blue_dress/00000065.jpg  \n",
            "  inflating: fashion_dataset/blue_dress/00000066.jpg  \n",
            "  inflating: fashion_dataset/blue_dress/00000067.jpg  \n",
            "  inflating: fashion_dataset/blue_dress/00000068.jpg  \n",
            "  inflating: fashion_dataset/blue_dress/00000069.jpg  \n",
            "  inflating: fashion_dataset/blue_dress/00000071.jpg  \n",
            "  inflating: fashion_dataset/blue_dress/00000074.jpg  \n",
            "  inflating: fashion_dataset/blue_dress/00000075.jpg  \n",
            "  inflating: fashion_dataset/blue_dress/00000076.jpg  \n",
            "  inflating: fashion_dataset/blue_dress/00000077.jpg  \n",
            "  inflating: fashion_dataset/blue_dress/00000079.jpg  \n",
            "  inflating: fashion_dataset/blue_dress/00000080.jpg  \n",
            "  inflating: fashion_dataset/blue_dress/00000081.jpg  \n",
            "  inflating: fashion_dataset/blue_dress/00000084.jpg  \n",
            "  inflating: fashion_dataset/blue_dress/00000085.jpg  \n",
            "  inflating: fashion_dataset/blue_dress/00000086.jpg  \n",
            "  inflating: fashion_dataset/blue_dress/00000087.jpg  \n",
            "  inflating: fashion_dataset/blue_dress/00000088.jpg  \n",
            "  inflating: fashion_dataset/blue_dress/00000089.jpg  \n",
            "  inflating: fashion_dataset/blue_dress/00000090.jpg  \n",
            "  inflating: fashion_dataset/blue_dress/00000091.jpg  \n",
            "  inflating: fashion_dataset/blue_dress/00000094.jpg  \n",
            "  inflating: fashion_dataset/blue_dress/00000095.jpg  \n",
            "  inflating: fashion_dataset/blue_dress/00000097.jpg  \n",
            "  inflating: fashion_dataset/blue_dress/00000100.jpg  \n",
            "  inflating: fashion_dataset/blue_dress/00000101.jpg  \n",
            "  inflating: fashion_dataset/blue_dress/00000104.jpg  \n",
            "  inflating: fashion_dataset/blue_dress/00000105.jpg  \n",
            "  inflating: fashion_dataset/blue_dress/00000106.jpg  \n",
            "  inflating: fashion_dataset/blue_dress/00000107.jpg  \n",
            "  inflating: fashion_dataset/blue_dress/00000108.jpg  \n",
            "  inflating: fashion_dataset/blue_dress/00000109.jpg  \n",
            "  inflating: fashion_dataset/blue_dress/00000110.jpg  \n",
            "  inflating: fashion_dataset/blue_dress/00000111.jpg  \n",
            "  inflating: fashion_dataset/blue_dress/00000114.jpg  \n",
            "  inflating: fashion_dataset/blue_dress/00000115.jpg  \n",
            "  inflating: fashion_dataset/blue_dress/00000116.jpg  \n",
            "  inflating: fashion_dataset/blue_dress/00000117.jpg  \n",
            "  inflating: fashion_dataset/blue_dress/00000118.jpg  \n",
            "  inflating: fashion_dataset/blue_dress/00000119.jpg  \n",
            "  inflating: fashion_dataset/blue_dress/00000141.jpg  \n",
            "  inflating: fashion_dataset/blue_dress/00000144.jpg  \n",
            "  inflating: fashion_dataset/blue_dress/00000146.jpg  \n",
            "  inflating: fashion_dataset/blue_dress/00000147.jpg  \n",
            "  inflating: fashion_dataset/blue_dress/00000148.jpg  \n",
            "  inflating: fashion_dataset/blue_dress/00000149.jpg  \n",
            "  inflating: fashion_dataset/blue_dress/00000150.jpg  \n",
            "  inflating: fashion_dataset/blue_dress/00000155.jpg  \n",
            "  inflating: fashion_dataset/blue_dress/00000156.jpg  \n",
            "  inflating: fashion_dataset/blue_dress/00000157.jpg  \n",
            "  inflating: fashion_dataset/blue_dress/00000158.jpg  \n",
            "  inflating: fashion_dataset/blue_dress/00000159.jpg  \n",
            "  inflating: fashion_dataset/blue_dress/00000160.jpg  \n",
            "  inflating: fashion_dataset/blue_dress/00000161.jpg  \n",
            "  inflating: fashion_dataset/blue_dress/00000164.jpg  \n",
            "  inflating: fashion_dataset/blue_dress/00000166.jpg  \n",
            "  inflating: fashion_dataset/blue_dress/00000167.jpg  \n",
            "  inflating: fashion_dataset/blue_dress/00000168.jpg  \n",
            "  inflating: fashion_dataset/blue_dress/00000169.jpg  \n",
            "  inflating: fashion_dataset/blue_dress/00000170.jpg  \n",
            "  inflating: fashion_dataset/blue_dress/00000171.jpg  \n",
            "  inflating: fashion_dataset/blue_dress/00000174.jpg  \n",
            "  inflating: fashion_dataset/blue_dress/00000176.jpg  \n",
            "  inflating: fashion_dataset/blue_dress/00000177.jpg  \n",
            "  inflating: fashion_dataset/blue_dress/00000178.jpg  \n",
            "  inflating: fashion_dataset/blue_dress/00000179.jpg  \n",
            "  inflating: fashion_dataset/blue_dress/00000180.jpg  \n",
            "  inflating: fashion_dataset/blue_dress/00000181.jpg  \n",
            "  inflating: fashion_dataset/blue_dress/00000184.jpg  \n",
            "  inflating: fashion_dataset/blue_dress/00000185.jpg  \n",
            "  inflating: fashion_dataset/blue_dress/00000186.jpg  \n",
            "  inflating: fashion_dataset/blue_dress/00000187.jpg  \n",
            "  inflating: fashion_dataset/blue_dress/00000188.jpg  \n",
            "  inflating: fashion_dataset/blue_dress/00000189.jpg  \n",
            "  inflating: fashion_dataset/blue_dress/00000190.jpg  \n",
            "  inflating: fashion_dataset/blue_dress/00000191.jpg  \n",
            "  inflating: fashion_dataset/blue_dress/00000194.jpg  \n",
            "  inflating: fashion_dataset/blue_dress/00000195.jpg  \n",
            "  inflating: fashion_dataset/blue_dress/00000196.jpg  \n",
            "  inflating: fashion_dataset/blue_dress/00000197.jpg  \n",
            "  inflating: fashion_dataset/blue_dress/00000198.jpg  \n",
            "  inflating: fashion_dataset/blue_dress/00000199.jpg  \n",
            "   creating: fashion_dataset/blue_jeans/\n",
            "  inflating: fashion_dataset/blue_jeans/00000000.jpg  \n",
            "  inflating: fashion_dataset/blue_jeans/00000004.jpg  \n",
            "  inflating: fashion_dataset/blue_jeans/00000005.jpg  \n",
            "  inflating: fashion_dataset/blue_jeans/00000006.jpg  \n",
            "  inflating: fashion_dataset/blue_jeans/00000007.jpg  \n",
            "  inflating: fashion_dataset/blue_jeans/00000009.jpg  \n",
            "  inflating: fashion_dataset/blue_jeans/00000010.jpg  \n",
            "  inflating: fashion_dataset/blue_jeans/00000011.jpg  \n",
            "  inflating: fashion_dataset/blue_jeans/00000014.jpg  \n",
            "  inflating: fashion_dataset/blue_jeans/00000015.jpg  \n",
            "  inflating: fashion_dataset/blue_jeans/00000016.jpg  \n",
            "  inflating: fashion_dataset/blue_jeans/00000017.jpg  \n",
            "  inflating: fashion_dataset/blue_jeans/00000019.jpg  \n",
            "  inflating: fashion_dataset/blue_jeans/00000040.jpg  \n",
            "  inflating: fashion_dataset/blue_jeans/00000041.jpg  \n",
            "  inflating: fashion_dataset/blue_jeans/00000044.jpg  \n",
            "  inflating: fashion_dataset/blue_jeans/00000045.jpg  \n",
            "  inflating: fashion_dataset/blue_jeans/00000046.jpg  \n",
            "  inflating: fashion_dataset/blue_jeans/00000047.jpg  \n",
            "  inflating: fashion_dataset/blue_jeans/00000049.jpg  \n",
            "  inflating: fashion_dataset/blue_jeans/00000050.jpg  \n",
            "  inflating: fashion_dataset/blue_jeans/00000051.jpg  \n",
            "  inflating: fashion_dataset/blue_jeans/00000054.jpg  \n",
            "  inflating: fashion_dataset/blue_jeans/00000055.jpg  \n",
            "  inflating: fashion_dataset/blue_jeans/00000056.jpg  \n",
            "  inflating: fashion_dataset/blue_jeans/00000057.jpg  \n",
            "  inflating: fashion_dataset/blue_jeans/00000058.jpg  \n",
            "  inflating: fashion_dataset/blue_jeans/00000059.jpg  \n",
            "  inflating: fashion_dataset/blue_jeans/00000061.jpg  \n",
            "  inflating: fashion_dataset/blue_jeans/00000064.jpg  \n",
            "  inflating: fashion_dataset/blue_jeans/00000065.jpg  \n",
            "  inflating: fashion_dataset/blue_jeans/00000067.jpg  \n",
            "  inflating: fashion_dataset/blue_jeans/00000069.jpg  \n",
            "  inflating: fashion_dataset/blue_jeans/00000071.jpg  \n",
            "  inflating: fashion_dataset/blue_jeans/00000074.jpg  \n",
            "  inflating: fashion_dataset/blue_jeans/00000077.jpg  \n",
            "  inflating: fashion_dataset/blue_jeans/00000080.jpg  \n",
            "  inflating: fashion_dataset/blue_jeans/00000081.jpg  \n",
            "  inflating: fashion_dataset/blue_jeans/00000084.jpg  \n",
            "  inflating: fashion_dataset/blue_jeans/00000086.jpg  \n",
            "  inflating: fashion_dataset/blue_jeans/00000087.jpg  \n",
            "  inflating: fashion_dataset/blue_jeans/00000088.jpg  \n",
            "  inflating: fashion_dataset/blue_jeans/00000089.jpg  \n",
            "  inflating: fashion_dataset/blue_jeans/00000090.jpg  \n",
            "  inflating: fashion_dataset/blue_jeans/00000091.jpg  \n",
            "  inflating: fashion_dataset/blue_jeans/00000094.jpg  \n",
            "  inflating: fashion_dataset/blue_jeans/00000095.jpg  \n",
            "  inflating: fashion_dataset/blue_jeans/00000096.jpg  \n",
            "  inflating: fashion_dataset/blue_jeans/00000097.jpg  \n",
            "  inflating: fashion_dataset/blue_jeans/00000098.jpg  \n",
            "  inflating: fashion_dataset/blue_jeans/00000099.jpg  \n",
            "  inflating: fashion_dataset/blue_jeans/00000100.jpg  \n",
            "  inflating: fashion_dataset/blue_jeans/00000104.jpg  \n",
            "  inflating: fashion_dataset/blue_jeans/00000105.jpg  \n",
            "  inflating: fashion_dataset/blue_jeans/00000106.jpg  \n",
            "  inflating: fashion_dataset/blue_jeans/00000108.jpg  \n",
            "  inflating: fashion_dataset/blue_jeans/00000109.jpg  \n",
            "  inflating: fashion_dataset/blue_jeans/00000110.jpg  \n",
            "  inflating: fashion_dataset/blue_jeans/00000111.jpg  \n",
            "  inflating: fashion_dataset/blue_jeans/00000117.jpg  \n",
            "  inflating: fashion_dataset/blue_jeans/00000118.jpg  \n",
            "  inflating: fashion_dataset/blue_jeans/00000119.jpg  \n",
            "  inflating: fashion_dataset/blue_jeans/00000140.jpg  \n",
            "  inflating: fashion_dataset/blue_jeans/00000141.jpg  \n",
            "  inflating: fashion_dataset/blue_jeans/00000144.jpg  \n",
            "  inflating: fashion_dataset/blue_jeans/00000146.jpg  \n",
            "  inflating: fashion_dataset/blue_jeans/00000148.jpg  \n",
            "  inflating: fashion_dataset/blue_jeans/00000149.jpg  \n",
            "  inflating: fashion_dataset/blue_jeans/00000150.jpg  \n",
            "  inflating: fashion_dataset/blue_jeans/00000151.jpg  \n",
            "  inflating: fashion_dataset/blue_jeans/00000154.jpg  \n",
            "  inflating: fashion_dataset/blue_jeans/00000155.jpg  \n",
            "  inflating: fashion_dataset/blue_jeans/00000156.jpg  \n",
            "  inflating: fashion_dataset/blue_jeans/00000157.jpg  \n",
            "  inflating: fashion_dataset/blue_jeans/00000158.jpg  \n",
            "  inflating: fashion_dataset/blue_jeans/00000159.jpg  \n",
            "  inflating: fashion_dataset/blue_jeans/00000160.jpg  \n",
            "  inflating: fashion_dataset/blue_jeans/00000161.jpg  \n",
            "  inflating: fashion_dataset/blue_jeans/00000164.jpg  \n",
            "  inflating: fashion_dataset/blue_jeans/00000165.png  \n",
            "  inflating: fashion_dataset/blue_jeans/00000167.jpg  \n",
            "  inflating: fashion_dataset/blue_jeans/00000168.jpg  \n",
            "  inflating: fashion_dataset/blue_jeans/00000169.jpg  \n",
            "  inflating: fashion_dataset/blue_jeans/00000170.jpg  \n",
            "  inflating: fashion_dataset/blue_jeans/00000171.png  \n",
            "  inflating: fashion_dataset/blue_jeans/00000174.jpg  \n",
            "  inflating: fashion_dataset/blue_jeans/00000175.jpg  \n",
            "  inflating: fashion_dataset/blue_jeans/00000177.jpg  \n",
            "  inflating: fashion_dataset/blue_jeans/00000180.jpg  \n",
            "  inflating: fashion_dataset/blue_jeans/00000186.jpg  \n",
            "  inflating: fashion_dataset/blue_jeans/00000187.jpg  \n",
            "  inflating: fashion_dataset/blue_jeans/00000188.jpg  \n",
            "  inflating: fashion_dataset/blue_jeans/00000189.jpg  \n",
            "  inflating: fashion_dataset/blue_jeans/00000190.jpg  \n",
            "  inflating: fashion_dataset/blue_jeans/00000194.jpg  \n",
            "  inflating: fashion_dataset/blue_jeans/00000195.png  \n",
            "  inflating: fashion_dataset/blue_jeans/00000196.jpg  \n",
            "  inflating: fashion_dataset/blue_jeans/00000198.jpg  \n",
            "   creating: fashion_dataset/blue_shirt/\n",
            "  inflating: fashion_dataset/blue_shirt/00000000.jpg  \n",
            "  inflating: fashion_dataset/blue_shirt/00000001.jpg  \n",
            "  inflating: fashion_dataset/blue_shirt/00000004.jpg  \n",
            "  inflating: fashion_dataset/blue_shirt/00000005.jpg  \n",
            "  inflating: fashion_dataset/blue_shirt/00000006.jpg  \n",
            "  inflating: fashion_dataset/blue_shirt/00000007.jpg  \n",
            "  inflating: fashion_dataset/blue_shirt/00000008.jpg  \n",
            "  inflating: fashion_dataset/blue_shirt/00000009.JPG  \n",
            "  inflating: fashion_dataset/blue_shirt/00000010.jpg  \n",
            "  inflating: fashion_dataset/blue_shirt/00000011.jpg  \n",
            "  inflating: fashion_dataset/blue_shirt/00000014.jpg  \n",
            "  inflating: fashion_dataset/blue_shirt/00000015.jpg  \n",
            "  inflating: fashion_dataset/blue_shirt/00000016.jpg  \n",
            "  inflating: fashion_dataset/blue_shirt/00000017.jpg  \n",
            "  inflating: fashion_dataset/blue_shirt/00000018.jpg  \n",
            "  inflating: fashion_dataset/blue_shirt/00000019.jpg  \n",
            "  inflating: fashion_dataset/blue_shirt/00000040.png  \n",
            "  inflating: fashion_dataset/blue_shirt/00000041.jpg  \n",
            "  inflating: fashion_dataset/blue_shirt/00000044.jpg  \n",
            "  inflating: fashion_dataset/blue_shirt/00000045.jpg  \n",
            "  inflating: fashion_dataset/blue_shirt/00000046.jpg  \n",
            "  inflating: fashion_dataset/blue_shirt/00000049.jpg  \n",
            "  inflating: fashion_dataset/blue_shirt/00000050.jpg  \n",
            "  inflating: fashion_dataset/blue_shirt/00000051.jpg  \n",
            "  inflating: fashion_dataset/blue_shirt/00000054.jpg  \n",
            "  inflating: fashion_dataset/blue_shirt/00000055.jpg  \n",
            "  inflating: fashion_dataset/blue_shirt/00000056.png  \n",
            "  inflating: fashion_dataset/blue_shirt/00000057.jpg  \n",
            "  inflating: fashion_dataset/blue_shirt/00000058.jpg  \n",
            "  inflating: fashion_dataset/blue_shirt/00000060.jpg  \n",
            "  inflating: fashion_dataset/blue_shirt/00000061.jpg  \n",
            "  inflating: fashion_dataset/blue_shirt/00000064.jpg  \n",
            "  inflating: fashion_dataset/blue_shirt/00000065.jpg  \n",
            "  inflating: fashion_dataset/blue_shirt/00000067.jpg  \n",
            "  inflating: fashion_dataset/blue_shirt/00000068.jpg  \n",
            "  inflating: fashion_dataset/blue_shirt/00000069.jpg  \n",
            "  inflating: fashion_dataset/blue_shirt/00000070.jpg  \n",
            "  inflating: fashion_dataset/blue_shirt/00000071.jpg  \n",
            "  inflating: fashion_dataset/blue_shirt/00000074.jpg  \n",
            "  inflating: fashion_dataset/blue_shirt/00000075.jpg  \n",
            "  inflating: fashion_dataset/blue_shirt/00000078.jpg  \n",
            "  inflating: fashion_dataset/blue_shirt/00000079.jpg  \n",
            "  inflating: fashion_dataset/blue_shirt/00000080.jpg  \n",
            "  inflating: fashion_dataset/blue_shirt/00000081.jpg  \n",
            "  inflating: fashion_dataset/blue_shirt/00000084.jpg  \n",
            "  inflating: fashion_dataset/blue_shirt/00000085.jpg  \n",
            "  inflating: fashion_dataset/blue_shirt/00000086.jpg  \n",
            "  inflating: fashion_dataset/blue_shirt/00000088.jpg  \n",
            "  inflating: fashion_dataset/blue_shirt/00000089.jpg  \n",
            "  inflating: fashion_dataset/blue_shirt/00000090.jpg  \n",
            "  inflating: fashion_dataset/blue_shirt/00000091.png  \n",
            "  inflating: fashion_dataset/blue_shirt/00000094.jpg  \n",
            "  inflating: fashion_dataset/blue_shirt/00000095.jpg  \n",
            "  inflating: fashion_dataset/blue_shirt/00000096.jpg  \n",
            "  inflating: fashion_dataset/blue_shirt/00000097.jpg  \n",
            "  inflating: fashion_dataset/blue_shirt/00000098.jpg  \n",
            "  inflating: fashion_dataset/blue_shirt/00000099.png  \n",
            "  inflating: fashion_dataset/blue_shirt/00000100.png  \n",
            "  inflating: fashion_dataset/blue_shirt/00000101.jpg  \n",
            "  inflating: fashion_dataset/blue_shirt/00000104.jpg  \n",
            "  inflating: fashion_dataset/blue_shirt/00000105.jpg  \n",
            "  inflating: fashion_dataset/blue_shirt/00000106.png  \n",
            "  inflating: fashion_dataset/blue_shirt/00000107.jpg  \n",
            "  inflating: fashion_dataset/blue_shirt/00000108.jpg  \n",
            "  inflating: fashion_dataset/blue_shirt/00000109.jpg  \n",
            "  inflating: fashion_dataset/blue_shirt/00000110.jpg  \n",
            "  inflating: fashion_dataset/blue_shirt/00000111.jpg  \n",
            "  inflating: fashion_dataset/blue_shirt/00000114.jpg  \n",
            "  inflating: fashion_dataset/blue_shirt/00000115.jpg  \n",
            "  inflating: fashion_dataset/blue_shirt/00000116.jpg  \n",
            "  inflating: fashion_dataset/blue_shirt/00000117.jpg  \n",
            "  inflating: fashion_dataset/blue_shirt/00000118.jpg  \n",
            "  inflating: fashion_dataset/blue_shirt/00000119.jpg  \n",
            "  inflating: fashion_dataset/blue_shirt/00000140.jpg  \n",
            "  inflating: fashion_dataset/blue_shirt/00000141.jpg  \n",
            "  inflating: fashion_dataset/blue_shirt/00000144.JPG  \n",
            "  inflating: fashion_dataset/blue_shirt/00000146.jpg  \n",
            "  inflating: fashion_dataset/blue_shirt/00000147.jpg  \n",
            "  inflating: fashion_dataset/blue_shirt/00000148.jpg  \n",
            "  inflating: fashion_dataset/blue_shirt/00000149.jpg  \n",
            "  inflating: fashion_dataset/blue_shirt/00000151.jpg  \n",
            "  inflating: fashion_dataset/blue_shirt/00000154.jpg  \n",
            "  inflating: fashion_dataset/blue_shirt/00000155.jpg  \n",
            "  inflating: fashion_dataset/blue_shirt/00000156.JPG  \n",
            "  inflating: fashion_dataset/blue_shirt/00000157.jpg  \n",
            "  inflating: fashion_dataset/blue_shirt/00000158.jpg  \n",
            "  inflating: fashion_dataset/blue_shirt/00000159.jpg  \n",
            "  inflating: fashion_dataset/blue_shirt/00000160.jpg  \n",
            "  inflating: fashion_dataset/blue_shirt/00000161.jpg  \n",
            "  inflating: fashion_dataset/blue_shirt/00000164.jpg  \n",
            "  inflating: fashion_dataset/blue_shirt/00000165.jpg  \n",
            "  inflating: fashion_dataset/blue_shirt/00000166.jpg  \n",
            "  inflating: fashion_dataset/blue_shirt/00000167.jpg  \n",
            "  inflating: fashion_dataset/blue_shirt/00000168.jpg  \n",
            "  inflating: fashion_dataset/blue_shirt/00000169.png  \n",
            "  inflating: fashion_dataset/blue_shirt/00000171.jpg  \n",
            "  inflating: fashion_dataset/blue_shirt/00000174.jpg  \n",
            "  inflating: fashion_dataset/blue_shirt/00000175.jpg  \n",
            "  inflating: fashion_dataset/blue_shirt/00000178.jpg  \n",
            "  inflating: fashion_dataset/blue_shirt/00000179.jpg  \n",
            "  inflating: fashion_dataset/blue_shirt/00000180.jpg  \n",
            "  inflating: fashion_dataset/blue_shirt/00000181.png  \n",
            "  inflating: fashion_dataset/blue_shirt/00000184.jpg  \n",
            "  inflating: fashion_dataset/blue_shirt/00000185.jpg  \n",
            "  inflating: fashion_dataset/blue_shirt/00000186.jpg  \n",
            "  inflating: fashion_dataset/blue_shirt/00000187.jpg  \n",
            "  inflating: fashion_dataset/blue_shirt/00000190.jpg  \n",
            "  inflating: fashion_dataset/blue_shirt/00000191.jpg  \n",
            "  inflating: fashion_dataset/blue_shirt/00000194.jpg  \n",
            "  inflating: fashion_dataset/blue_shirt/00000195.jpg  \n",
            "  inflating: fashion_dataset/blue_shirt/00000196.jpg  \n",
            "  inflating: fashion_dataset/blue_shirt/00000197.jpg  \n",
            "  inflating: fashion_dataset/blue_shirt/00000198.jpg  \n",
            "   creating: fashion_dataset/red_dress/\n",
            "  inflating: fashion_dataset/red_dress/00000000.jpg  \n",
            "  inflating: fashion_dataset/red_dress/00000001.jpg  \n",
            "  inflating: fashion_dataset/red_dress/00000004.jpg  \n",
            "  inflating: fashion_dataset/red_dress/00000005.jpg  \n",
            "  inflating: fashion_dataset/red_dress/00000006.jpg  \n",
            "  inflating: fashion_dataset/red_dress/00000007.jpg  \n",
            "  inflating: fashion_dataset/red_dress/00000008.jpg  \n",
            "  inflating: fashion_dataset/red_dress/00000009.JPG  \n",
            "  inflating: fashion_dataset/red_dress/00000010.jpg  \n",
            "  inflating: fashion_dataset/red_dress/00000011.jpg  \n",
            "  inflating: fashion_dataset/red_dress/00000014.jpg  \n",
            "  inflating: fashion_dataset/red_dress/00000015.jpg  \n",
            "  inflating: fashion_dataset/red_dress/00000016.jpg  \n",
            "  inflating: fashion_dataset/red_dress/00000017.jpg  \n",
            "  inflating: fashion_dataset/red_dress/00000018.jpg  \n",
            "  inflating: fashion_dataset/red_dress/00000019.jpg  \n",
            "  inflating: fashion_dataset/red_dress/00000040.jpg  \n",
            "  inflating: fashion_dataset/red_dress/00000041.jpg  \n",
            "  inflating: fashion_dataset/red_dress/00000044.jpg  \n",
            "  inflating: fashion_dataset/red_dress/00000045.jpg  \n",
            "  inflating: fashion_dataset/red_dress/00000046.jpg  \n",
            "  inflating: fashion_dataset/red_dress/00000047.png  \n",
            "  inflating: fashion_dataset/red_dress/00000048.jpg  \n",
            "  inflating: fashion_dataset/red_dress/00000049.png  \n",
            "  inflating: fashion_dataset/red_dress/00000050.jpg  \n",
            "  inflating: fashion_dataset/red_dress/00000051.jpg  \n",
            "  inflating: fashion_dataset/red_dress/00000054.jpg  \n",
            "  inflating: fashion_dataset/red_dress/00000055.jpg  \n",
            "  inflating: fashion_dataset/red_dress/00000056.png  \n",
            "  inflating: fashion_dataset/red_dress/00000057.jpg  \n",
            "  inflating: fashion_dataset/red_dress/00000058.jpg  \n",
            "  inflating: fashion_dataset/red_dress/00000059.jpg  \n",
            "  inflating: fashion_dataset/red_dress/00000060.jpg  \n",
            "  inflating: fashion_dataset/red_dress/00000061.jpg  \n",
            "  inflating: fashion_dataset/red_dress/00000064.jpg  \n",
            "  inflating: fashion_dataset/red_dress/00000065.jpg  \n",
            "  inflating: fashion_dataset/red_dress/00000066.jpg  \n",
            "  inflating: fashion_dataset/red_dress/00000067.jpg  \n",
            "  inflating: fashion_dataset/red_dress/00000069.jpg  \n",
            "  inflating: fashion_dataset/red_dress/00000071.jpg  \n",
            "  inflating: fashion_dataset/red_dress/00000074.jpg  \n",
            "  inflating: fashion_dataset/red_dress/00000075.jpg  \n",
            "  inflating: fashion_dataset/red_dress/00000076.jpg  \n",
            "  inflating: fashion_dataset/red_dress/00000077.jpg  \n",
            "  inflating: fashion_dataset/red_dress/00000078.jpg  \n",
            "  inflating: fashion_dataset/red_dress/00000079.jpg  \n",
            "  inflating: fashion_dataset/red_dress/00000080.JPG  \n",
            "  inflating: fashion_dataset/red_dress/00000081.jpg  \n",
            "  inflating: fashion_dataset/red_dress/00000085.jpg  \n",
            "  inflating: fashion_dataset/red_dress/00000086.jpg  \n",
            "  inflating: fashion_dataset/red_dress/00000087.jpg  \n",
            "  inflating: fashion_dataset/red_dress/00000088.jpg  \n",
            "  inflating: fashion_dataset/red_dress/00000089.jpg  \n",
            "  inflating: fashion_dataset/red_dress/00000090.jpg  \n",
            "  inflating: fashion_dataset/red_dress/00000094.jpg  \n",
            "  inflating: fashion_dataset/red_dress/00000095.jpg  \n",
            "  inflating: fashion_dataset/red_dress/00000096.jpg  \n",
            "  inflating: fashion_dataset/red_dress/00000097.jpg  \n",
            "  inflating: fashion_dataset/red_dress/00000098.jpg  \n",
            "  inflating: fashion_dataset/red_dress/00000099.jpg  \n",
            "  inflating: fashion_dataset/red_dress/00000100.jpg  \n",
            "  inflating: fashion_dataset/red_dress/00000101.jpg  \n",
            "  inflating: fashion_dataset/red_dress/00000104.jpg  \n",
            "  inflating: fashion_dataset/red_dress/00000105.jpg  \n",
            "  inflating: fashion_dataset/red_dress/00000106.jpg  \n",
            "  inflating: fashion_dataset/red_dress/00000107.jpg  \n",
            "  inflating: fashion_dataset/red_dress/00000108.jpg  \n",
            "  inflating: fashion_dataset/red_dress/00000109.jpg  \n",
            "  inflating: fashion_dataset/red_dress/00000110.jpg  \n",
            "  inflating: fashion_dataset/red_dress/00000111.jpg  \n",
            "  inflating: fashion_dataset/red_dress/00000114.jpg  \n",
            "  inflating: fashion_dataset/red_dress/00000115.jpg  \n",
            "  inflating: fashion_dataset/red_dress/00000116.gif  \n",
            "  inflating: fashion_dataset/red_dress/00000117.jpg  \n",
            "  inflating: fashion_dataset/red_dress/00000118.jpg  \n",
            "  inflating: fashion_dataset/red_dress/00000140.jpg  \n",
            "  inflating: fashion_dataset/red_dress/00000141.jpg  \n",
            "  inflating: fashion_dataset/red_dress/00000146.jpg  \n",
            "  inflating: fashion_dataset/red_dress/00000147.jpg  \n",
            "  inflating: fashion_dataset/red_dress/00000148.jpg  \n",
            "  inflating: fashion_dataset/red_dress/00000149.jpg  \n",
            "  inflating: fashion_dataset/red_dress/00000151.jpg  \n",
            "  inflating: fashion_dataset/red_dress/00000154.jpg  \n",
            "  inflating: fashion_dataset/red_dress/00000155.jpg  \n",
            "  inflating: fashion_dataset/red_dress/00000156.jpg  \n",
            "  inflating: fashion_dataset/red_dress/00000158.jpg  \n",
            "  inflating: fashion_dataset/red_dress/00000159.jpg  \n",
            "  inflating: fashion_dataset/red_dress/00000160.jpg  \n",
            "  inflating: fashion_dataset/red_dress/00000161.jpg  \n",
            "  inflating: fashion_dataset/red_dress/00000164.jpg  \n",
            "  inflating: fashion_dataset/red_dress/00000165.jpg  \n",
            "  inflating: fashion_dataset/red_dress/00000166.jpg  \n",
            "  inflating: fashion_dataset/red_dress/00000167.jpg  \n",
            "  inflating: fashion_dataset/red_dress/00000168.jpg  \n",
            "  inflating: fashion_dataset/red_dress/00000169.jpg  \n",
            "  inflating: fashion_dataset/red_dress/00000170.jpg  \n",
            "  inflating: fashion_dataset/red_dress/00000174.jpg  \n",
            "  inflating: fashion_dataset/red_dress/00000175.jpg  \n",
            "  inflating: fashion_dataset/red_dress/00000176.jpg  \n",
            "  inflating: fashion_dataset/red_dress/00000177.jpg  \n",
            "  inflating: fashion_dataset/red_dress/00000178.jpg  \n",
            "  inflating: fashion_dataset/red_dress/00000179.jpg  \n",
            "  inflating: fashion_dataset/red_dress/00000181.jpg  \n",
            "  inflating: fashion_dataset/red_dress/00000184.jpg  \n",
            "  inflating: fashion_dataset/red_dress/00000185.jpg  \n",
            "  inflating: fashion_dataset/red_dress/00000186.jpg  \n",
            "  inflating: fashion_dataset/red_dress/00000187.jpg  \n",
            "  inflating: fashion_dataset/red_dress/00000188.jpg  \n",
            "  inflating: fashion_dataset/red_dress/00000189.jpg  \n",
            "  inflating: fashion_dataset/red_dress/00000190.jpg  \n",
            "  inflating: fashion_dataset/red_dress/00000191.jpg  \n",
            "  inflating: fashion_dataset/red_dress/00000194.jpg  \n",
            "  inflating: fashion_dataset/red_dress/00000195.jpg  \n",
            "  inflating: fashion_dataset/red_dress/00000196.jpg  \n",
            "  inflating: fashion_dataset/red_dress/00000197.jpg  \n",
            "  inflating: fashion_dataset/red_dress/00000198.jpg  \n",
            "  inflating: fashion_dataset/red_dress/00000199.jpg  \n",
            "   creating: fashion_dataset/red_shirt/\n",
            "  inflating: fashion_dataset/red_shirt/00000000.jpg  \n",
            "  inflating: fashion_dataset/red_shirt/00000001.png  \n",
            "  inflating: fashion_dataset/red_shirt/00000004.jpg  \n",
            "  inflating: fashion_dataset/red_shirt/00000005.png  \n",
            "  inflating: fashion_dataset/red_shirt/00000006.png  \n",
            "  inflating: fashion_dataset/red_shirt/00000007.png  \n",
            "  inflating: fashion_dataset/red_shirt/00000008.png  \n",
            "  inflating: fashion_dataset/red_shirt/00000011.jpg  \n",
            "  inflating: fashion_dataset/red_shirt/00000014.jpg  \n",
            "  inflating: fashion_dataset/red_shirt/00000015.jpg  \n",
            "  inflating: fashion_dataset/red_shirt/00000016.jpg  \n",
            "  inflating: fashion_dataset/red_shirt/00000018.jpg  \n",
            "  inflating: fashion_dataset/red_shirt/00000019.png  \n",
            "  inflating: fashion_dataset/red_shirt/00000040.png  \n",
            "  inflating: fashion_dataset/red_shirt/00000041.jpg  \n",
            "  inflating: fashion_dataset/red_shirt/00000044.png  \n",
            "  inflating: fashion_dataset/red_shirt/00000045.jpg  \n",
            "  inflating: fashion_dataset/red_shirt/00000046.jpg  \n",
            "  inflating: fashion_dataset/red_shirt/00000047.jpg  \n",
            "  inflating: fashion_dataset/red_shirt/00000048.jpg  \n",
            "  inflating: fashion_dataset/red_shirt/00000049.jpg  \n",
            "  inflating: fashion_dataset/red_shirt/00000050.jpg  \n",
            "  inflating: fashion_dataset/red_shirt/00000051.jpg  \n",
            "  inflating: fashion_dataset/red_shirt/00000054.jpg  \n",
            "  inflating: fashion_dataset/red_shirt/00000055.jpg  \n",
            "  inflating: fashion_dataset/red_shirt/00000056.jpg  \n",
            "  inflating: fashion_dataset/red_shirt/00000057.jpg  \n",
            "  inflating: fashion_dataset/red_shirt/00000058.png  \n",
            "  inflating: fashion_dataset/red_shirt/00000059.jpg  \n",
            "  inflating: fashion_dataset/red_shirt/00000060.jpg  \n",
            "  inflating: fashion_dataset/red_shirt/00000064.jpg  \n",
            "  inflating: fashion_dataset/red_shirt/00000065.jpg  \n",
            "  inflating: fashion_dataset/red_shirt/00000066.jpg  \n",
            "  inflating: fashion_dataset/red_shirt/00000067.jpg  \n",
            "  inflating: fashion_dataset/red_shirt/00000068.jpg  \n",
            "  inflating: fashion_dataset/red_shirt/00000069.jpg  \n",
            "  inflating: fashion_dataset/red_shirt/00000070.jpg  \n",
            "  inflating: fashion_dataset/red_shirt/00000071.jpg  \n",
            "  inflating: fashion_dataset/red_shirt/00000074.jpg  \n",
            "  inflating: fashion_dataset/red_shirt/00000075.jpg  \n",
            "  inflating: fashion_dataset/red_shirt/00000076.png  \n",
            "  inflating: fashion_dataset/red_shirt/00000077.jpg  \n",
            "  inflating: fashion_dataset/red_shirt/00000078.jpg  \n",
            "  inflating: fashion_dataset/red_shirt/00000079.jpg  \n",
            "  inflating: fashion_dataset/red_shirt/00000080.jpg  \n",
            "  inflating: fashion_dataset/red_shirt/00000081.png  \n",
            "  inflating: fashion_dataset/red_shirt/00000084.jpg  \n",
            "  inflating: fashion_dataset/red_shirt/00000085.jpg  \n",
            "  inflating: fashion_dataset/red_shirt/00000089.jpg  \n",
            "  inflating: fashion_dataset/red_shirt/00000091.jpg  \n",
            "  inflating: fashion_dataset/red_shirt/00000094.jpg  \n",
            "  inflating: fashion_dataset/red_shirt/00000095.jpg  \n",
            "  inflating: fashion_dataset/red_shirt/00000096.jpg  \n",
            "  inflating: fashion_dataset/red_shirt/00000097.jpg  \n",
            "  inflating: fashion_dataset/red_shirt/00000098.jpg  \n",
            "  inflating: fashion_dataset/red_shirt/00000099.jpg  \n",
            "  inflating: fashion_dataset/red_shirt/00000100.jpg  \n",
            "  inflating: fashion_dataset/red_shirt/00000101.jpg  \n",
            "  inflating: fashion_dataset/red_shirt/00000105.jpg  \n",
            "  inflating: fashion_dataset/red_shirt/00000106.jpg  \n",
            "  inflating: fashion_dataset/red_shirt/00000107.jpg  \n",
            "  inflating: fashion_dataset/red_shirt/00000108.jpg  \n",
            "  inflating: fashion_dataset/red_shirt/00000110.jpg  \n",
            "  inflating: fashion_dataset/red_shirt/00000111.jpg  \n",
            "  inflating: fashion_dataset/red_shirt/00000114.jpg  \n",
            "  inflating: fashion_dataset/red_shirt/00000115.jpg  \n",
            "  inflating: fashion_dataset/red_shirt/00000116.jpg  \n",
            "  inflating: fashion_dataset/red_shirt/00000117.jpg  \n",
            "  inflating: fashion_dataset/red_shirt/00000140.jpg  \n",
            "  inflating: fashion_dataset/red_shirt/00000141.jpg  \n",
            "  inflating: fashion_dataset/red_shirt/00000144.jpg  \n",
            "  inflating: fashion_dataset/red_shirt/00000145.jpg  \n",
            "  inflating: fashion_dataset/red_shirt/00000146.jpg  \n",
            "  inflating: fashion_dataset/red_shirt/00000147.jpg  \n",
            "  inflating: fashion_dataset/red_shirt/00000149.jpg  \n",
            "  inflating: fashion_dataset/red_shirt/00000150.jpg  \n",
            "  inflating: fashion_dataset/red_shirt/00000151.jpg  \n",
            "  inflating: fashion_dataset/red_shirt/00000154.jpg  \n",
            "  inflating: fashion_dataset/red_shirt/00000155.jpg  \n",
            "  inflating: fashion_dataset/red_shirt/00000156.jpg  \n",
            "  inflating: fashion_dataset/red_shirt/00000157.jpg  \n",
            "  inflating: fashion_dataset/red_shirt/00000158.jpg  \n",
            "  inflating: fashion_dataset/red_shirt/00000159.jpg  \n",
            "  inflating: fashion_dataset/red_shirt/00000160.jpg  \n",
            "  inflating: fashion_dataset/red_shirt/00000161.jpg  \n",
            "  inflating: fashion_dataset/red_shirt/00000164.jpg  \n",
            "  inflating: fashion_dataset/red_shirt/00000165.jpg  \n",
            "  inflating: fashion_dataset/red_shirt/00000167.jpg  \n",
            "  inflating: fashion_dataset/red_shirt/00000168.jpg  \n",
            "  inflating: fashion_dataset/red_shirt/00000169.jpg  \n",
            "  inflating: fashion_dataset/red_shirt/00000170.jpg  \n",
            "  inflating: fashion_dataset/red_shirt/00000171.jpg  \n",
            "  inflating: fashion_dataset/red_shirt/00000174.jpg  \n",
            "  inflating: fashion_dataset/red_shirt/00000175.jpg  \n",
            "  inflating: fashion_dataset/red_shirt/00000176.jpg  \n",
            "  inflating: fashion_dataset/red_shirt/00000177.jpg  \n",
            "  inflating: fashion_dataset/red_shirt/00000178.jpg  \n",
            "  inflating: fashion_dataset/red_shirt/00000180.jpg  \n",
            "  inflating: fashion_dataset/red_shirt/00000181.jpg  \n",
            "  inflating: fashion_dataset/red_shirt/00000184.jpg  \n",
            "  inflating: fashion_dataset/red_shirt/00000187.jpg  \n",
            "  inflating: fashion_dataset/red_shirt/00000188.jpg  \n",
            "  inflating: fashion_dataset/red_shirt/00000190.jpg  \n",
            "  inflating: fashion_dataset/red_shirt/00000191.jpg  \n",
            "  inflating: fashion_dataset/red_shirt/00000195.jpg  \n",
            "  inflating: fashion_dataset/red_shirt/00000196.jpg  \n",
            "  inflating: fashion_dataset/red_shirt/00000197.jpg  \n",
            "  inflating: fashion_dataset/red_shirt/00000198.jpg  \n",
            "  inflating: fashion_dataset/red_shirt/00000199.jpg  \n"
          ]
        }
      ]
    },
    {
      "cell_type": "markdown",
      "metadata": {
        "id": "c48Y7utfiKHQ"
      },
      "source": [
        "```\n",
        "fashion_dataset/\n",
        "  black_jeans\n",
        "  black_shoes/\n",
        "  blue_dress/\n",
        "  blue_jeans\n",
        "  blue_shirt/\n",
        "  red_dress/\n",
        "  red_shirt/\n",
        "```\n",
        "\n",
        "```\n",
        "category : jeans, shoes, dress, shirt\n",
        "color : black, blue, red\n",
        "```"
      ]
    },
    {
      "cell_type": "code",
      "metadata": {
        "id": "8dodBjvth_d-"
      },
      "source": [
        "import matplotlib\n",
        "\n",
        "from tensorflow.keras.optimizers import Adam\n",
        "from tensorflow.keras.preprocessing.image import img_to_array\n",
        "from sklearn.preprocessing import LabelBinarizer\n",
        "from sklearn.model_selection import train_test_split\n",
        "\n",
        "from imutils import paths\n",
        "import matplotlib.pyplot as plt\n",
        "import numpy as np\n",
        "import argparse\n",
        "import random\n",
        "import pickle\n",
        "import cv2\n",
        "import os"
      ],
      "execution_count": 62,
      "outputs": []
    },
    {
      "cell_type": "code",
      "metadata": {
        "id": "pD_ONY_4jtzK"
      },
      "source": [
        "IMAGE_DIMS = (96, 96, 3)"
      ],
      "execution_count": 63,
      "outputs": []
    },
    {
      "cell_type": "markdown",
      "metadata": {
        "id": "XTw_iOmOizug"
      },
      "source": [
        "### 영상 파일이름 읽기"
      ]
    },
    {
      "cell_type": "code",
      "metadata": {
        "id": "w_f5QIPziT6R",
        "colab": {
          "base_uri": "https://localhost:8080/"
        },
        "outputId": "66c65651-a081-4064-8091-6a44a633b60a"
      },
      "source": [
        "imagePaths = sorted(list(paths.list_images('fashion_dataset')))\n",
        "random.shuffle(imagePaths)\n",
        "print(len(imagePaths))\n",
        "print(imagePaths[:3])"
      ],
      "execution_count": 64,
      "outputs": [
        {
          "output_type": "stream",
          "name": "stdout",
          "text": [
            "755\n",
            "['fashion_dataset/blue_shirt/00000061.jpg', 'fashion_dataset/red_dress/00000179.jpg', 'fashion_dataset/blue_jeans/00000090.jpg']\n"
          ]
        }
      ]
    },
    {
      "cell_type": "markdown",
      "metadata": {
        "id": "4gIJx0rTjdMj"
      },
      "source": [
        "### 영상 읽기, 카테고리와 컬러 읽기"
      ]
    },
    {
      "cell_type": "code",
      "metadata": {
        "id": "0cKf7OqHjXq-"
      },
      "source": [
        "data = []\n",
        "categoryLabels = []\n",
        "colorLabels = []\n",
        "\n",
        "for imagePath in imagePaths:\n",
        "\timage = cv2.imread(imagePath)\n",
        "\timage = cv2.resize(image, (IMAGE_DIMS[1], IMAGE_DIMS[0]))\n",
        "\timage = cv2.cvtColor(image, cv2.COLOR_BGR2RGB)\n",
        "\timage = img_to_array(image)\n",
        "\tdata.append(image)\n",
        "\n",
        "\t(color, cat) = imagePath.split(os.path.sep)[-2].split(\"_\")\n",
        "  # imagePath = 'fashion_dataset/black_shoes/00000048.jpg'\n",
        "  # color = 'black'\n",
        "  # cat = 'shoes'\n",
        "\tcategoryLabels.append(cat)\n",
        "\tcolorLabels.append(color)"
      ],
      "execution_count": 65,
      "outputs": []
    },
    {
      "cell_type": "code",
      "metadata": {
        "id": "IME5dUwqilgV",
        "colab": {
          "base_uri": "https://localhost:8080/"
        },
        "outputId": "c2fd6875-861c-404a-dd90-c9ebaa271fa6"
      },
      "source": [
        "print(categoryLabels[:10])\n",
        "print(colorLabels[:10])"
      ],
      "execution_count": 66,
      "outputs": [
        {
          "output_type": "stream",
          "name": "stdout",
          "text": [
            "['shirt', 'dress', 'jeans', 'shirt', 'shoes', 'dress', 'shirt', 'shoes', 'shirt', 'shirt']\n",
            "['blue', 'red', 'blue', 'blue', 'black', 'red', 'blue', 'black', 'red', 'red']\n"
          ]
        }
      ]
    },
    {
      "cell_type": "code",
      "metadata": {
        "id": "FHIVMXWyjxov",
        "colab": {
          "base_uri": "https://localhost:8080/",
          "height": 601
        },
        "outputId": "10ec163e-9cb8-4ba7-faef-daa84e053202"
      },
      "source": [
        "from IPython.display import Image, display\n",
        "\n",
        "print(len(data), len(categoryLabels), len(colorLabels))\n",
        "print(\"iamgePaths[0]=\", imagePaths[0])\n",
        "display(Image(imagePaths[0]))\n",
        "\n",
        "print(\"data[0]=\", data[0].shape)\n",
        "plt.imshow(data[0]/255)\n",
        "print(\"categoryLabels[0]=\", categoryLabels[0])\n",
        "print(\"colorLabels[0]=\", colorLabels[0])"
      ],
      "execution_count": 67,
      "outputs": [
        {
          "output_type": "stream",
          "name": "stdout",
          "text": [
            "755 755 755\n",
            "iamgePaths[0]= fashion_dataset/blue_shirt/00000061.jpg\n"
          ]
        },
        {
          "output_type": "display_data",
          "data": {
            "text/plain": [
              "<IPython.core.display.Image object>"
            ],
            "image/jpeg": "[encoded data removed]"
          },
          "metadata": {}
        },
        {
          "output_type": "stream",
          "name": "stdout",
          "text": [
            "data[0]= (96, 96, 3)\n",
            "categoryLabels[0]= shirt\n",
            "colorLabels[0]= blue\n"
          ]
        },
        {
          "output_type": "display_data",
          "data": {
            "text/plain": [
              "<Figure size 432x288 with 1 Axes>"
            ],
            "image/png": "[encoded data removed]"
          },
          "metadata": {
            "needs_background": "light"
          }
        }
      ]
    },
    {
      "cell_type": "markdown",
      "metadata": {
        "id": "4CcZd2FUnTAb"
      },
      "source": [
        "### numpy로 변환"
      ]
    },
    {
      "cell_type": "code",
      "metadata": {
        "id": "CFPjrQRCnSSb",
        "colab": {
          "base_uri": "https://localhost:8080/"
        },
        "outputId": "f336907e-b438-463e-e0ef-6c6740570666"
      },
      "source": [
        "data = np.array(data, dtype=\"float\")\n",
        "print(\"[INFO] data matrix: {} images ({:.2f}MB)\".format(len(imagePaths), data.nbytes / (1024 * 1000.0)))\n",
        "\n",
        "# convert the label lists to NumPy arrays prior to binarization\n",
        "categoryLabels = np.array(categoryLabels)\n",
        "colorLabels = np.array(colorLabels)"
      ],
      "execution_count": 68,
      "outputs": [
        {
          "output_type": "stream",
          "name": "stdout",
          "text": [
            "[INFO] data matrix: 755 images (163.08MB)\n"
          ]
        }
      ]
    },
    {
      "cell_type": "markdown",
      "metadata": {
        "id": "wJEmMrAXrmDP"
      },
      "source": [
        "## normalization"
      ]
    },
    {
      "cell_type": "code",
      "metadata": {
        "id": "r8Xeo-Rorjwd"
      },
      "source": [
        "data = data/255."
      ],
      "execution_count": 69,
      "outputs": []
    },
    {
      "cell_type": "markdown",
      "metadata": {
        "id": "3G8ZqLqfnYRy"
      },
      "source": [
        "### 레이블 데이터를 one-hot 인코딩"
      ]
    },
    {
      "cell_type": "code",
      "metadata": {
        "id": "m2KnUkTEieV5",
        "colab": {
          "base_uri": "https://localhost:8080/"
        },
        "outputId": "41f1dc2a-0c73-461c-abe6-45cdc6380f49"
      },
      "source": [
        "print(categoryLabels[:5])\n",
        "categoryLB = LabelBinarizer()\n",
        "categoryLabels = categoryLB.fit_transform(categoryLabels)\n",
        "print(categoryLabels[:5])\n",
        "\n",
        "\n",
        "print(colorLabels[:5])\n",
        "colorLB = LabelBinarizer()\n",
        "colorLabels = colorLB.fit_transform(colorLabels)\n",
        "print(colorLabels[:5])"
      ],
      "execution_count": 70,
      "outputs": [
        {
          "output_type": "stream",
          "name": "stdout",
          "text": [
            "['shirt' 'dress' 'jeans' 'shirt' 'shoes']\n",
            "[[0 0 1 0]\n",
            " [1 0 0 0]\n",
            " [0 1 0 0]\n",
            " [0 0 1 0]\n",
            " [0 0 0 1]]\n",
            "['blue' 'red' 'blue' 'blue' 'black']\n",
            "[[0 1 0]\n",
            " [0 0 1]\n",
            " [0 1 0]\n",
            " [0 1 0]\n",
            " [1 0 0]]\n"
          ]
        }
      ]
    },
    {
      "cell_type": "markdown",
      "metadata": {
        "id": "AXcJIhU1noje"
      },
      "source": [
        "### 데이터 분리"
      ]
    },
    {
      "cell_type": "code",
      "metadata": {
        "id": "H6H1tL3unAOv",
        "colab": {
          "base_uri": "https://localhost:8080/"
        },
        "outputId": "6740d2f6-c9eb-48ff-e9e2-65fc2a0ff36f"
      },
      "source": [
        "(trainX, testX, trainCategoryY, testCategoryY, trainColorY, testColorY) = train_test_split(data, categoryLabels, colorLabels, test_size=0.2, random_state=42)\n",
        "\n",
        "print(trainX.shape)\n",
        "print(trainCategoryY.shape)\n",
        "print(trainColorY.shape)\n",
        "\n",
        "print(testX.shape)\n",
        "print(testCategoryY.shape)\n",
        "print(testColorY.shape)"
      ],
      "execution_count": 71,
      "outputs": [
        {
          "output_type": "stream",
          "name": "stdout",
          "text": [
            "(604, 96, 96, 3)\n",
            "(604, 4)\n",
            "(604, 3)\n",
            "(151, 96, 96, 3)\n",
            "(151, 4)\n",
            "(151, 3)\n"
          ]
        }
      ]
    },
    {
      "cell_type": "code",
      "metadata": {
        "id": "_vHgevIupt6_",
        "colab": {
          "base_uri": "https://localhost:8080/"
        },
        "outputId": "d428568f-dc3a-45f0-8def-0b348df416b2"
      },
      "source": [
        "CATEGORY_COUNT = categoryLabels.shape[-1]\n",
        "COLOR_COUNT = colorLabels.shape[-1]\n",
        "\n",
        "print(CATEGORY_COUNT)\n",
        "print(COLOR_COUNT)"
      ],
      "execution_count": 72,
      "outputs": [
        {
          "output_type": "stream",
          "name": "stdout",
          "text": [
            "4\n",
            "3\n"
          ]
        }
      ]
    },
    {
      "cell_type": "markdown",
      "metadata": {
        "id": "dAcKr4uko_51"
      },
      "source": [
        "## 개별 모델로 학습 실행"
      ]
    },
    {
      "cell_type": "code",
      "metadata": {
        "id": "X3gbBIm7oBMX"
      },
      "source": [
        "import numpy as np\n",
        "import matplotlib.pyplot as plt\n",
        "\n",
        "import tensorflow as tf\n",
        "from tensorflow import keras\n",
        "from tensorflow.keras import optimizers\n",
        "from tensorflow.keras.layers import Dense, Flatten, Conv2D, MaxPooling2D, Input\n",
        "\n",
        "\n",
        "def build_category_model():\n",
        "\n",
        "  model = keras.Sequential()\n",
        "  model.add(Input(IMAGE_DIMS))\n",
        "  model.add(Conv2D(32, (3, 3)))\n",
        "  model.add(MaxPooling2D((2, 2)))\n",
        "  model.add(Conv2D(64, (3, 3)))\n",
        "  model.add(MaxPooling2D((2, 2)))\n",
        "  model.add(Flatten())\n",
        "  model.add(Dense(10, activation='relu'))\n",
        "  model.add(Dense(10, activation='relu'))\n",
        "  model.add(Dense(CATEGORY_COUNT, activation='softmax'))\n",
        "\n",
        "  return model\n",
        "\n",
        "def build_color_model():\n",
        "\n",
        "  model = keras.Sequential()\n",
        "  model.add(Input(IMAGE_DIMS))\n",
        "  model.add(Conv2D(32, (3, 3)))\n",
        "  model.add(MaxPooling2D((2, 2)))\n",
        "  model.add(Conv2D(64, (3, 3)))\n",
        "  model.add(MaxPooling2D((2, 2)))\n",
        "  model.add(Flatten())\n",
        "  model.add(Dense(10, activation='relu'))\n",
        "  model.add(Dense(10, activation='relu'))\n",
        "  model.add(Dense(COLOR_COUNT, activation='softmax'))\n",
        "\n",
        "  return model  "
      ],
      "execution_count": 73,
      "outputs": []
    },
    {
      "cell_type": "code",
      "metadata": {
        "id": "Vh-cWdnw9YIM",
        "colab": {
          "base_uri": "https://localhost:8080/"
        },
        "outputId": "7df175b9-a734-4d18-a313-34e0256bcdfa"
      },
      "source": [
        "print(trainX.shape)\n",
        "print(trainCategoryY.shape)\n",
        "print(CATEGORY_COUNT)"
      ],
      "execution_count": 74,
      "outputs": [
        {
          "output_type": "stream",
          "name": "stdout",
          "text": [
            "(604, 96, 96, 3)\n",
            "(604, 4)\n",
            "4\n"
          ]
        }
      ]
    },
    {
      "cell_type": "markdown",
      "metadata": {
        "id": "DnwbSGt4I5Er"
      },
      "source": [
        "### 카테고리 모델"
      ]
    },
    {
      "cell_type": "code",
      "metadata": {
        "id": "O0CE4sh2pXrm",
        "colab": {
          "base_uri": "https://localhost:8080/"
        },
        "outputId": "094c271a-2423-4b10-839a-e6e9a000da7e"
      },
      "source": [
        "category_model = build_category_model()\n",
        "\n",
        "category_model.compile(optimizer=\"adam\", loss=\"categorical_crossentropy\", metrics=[\"accuracy\"])\n",
        "category_model.summary()\n",
        "\n",
        "\n",
        "category_model.fit(trainX, trainCategoryY, epochs=50, verbose=1, batch_size=128)\n",
        "\n",
        "\n",
        "loss, acc = category_model.evaluate(testX, testCategoryY)\n",
        "print(\"loss=\",loss)\n",
        "print(\"acc=\",acc)\n"
      ],
      "execution_count": 75,
      "outputs": [
        {
          "output_type": "stream",
          "name": "stdout",
          "text": [
            "Model: \"sequential_1\"\n",
            "_________________________________________________________________\n",
            " Layer (type)                Output Shape              Param #   \n",
            "=================================================================\n",
            " conv2d_14 (Conv2D)          (None, 94, 94, 32)        896       \n",
            "                                                                 \n",
            " max_pooling2d_14 (MaxPoolin  (None, 47, 47, 32)       0         \n",
            " g2D)                                                            \n",
            "                                                                 \n",
            " conv2d_15 (Conv2D)          (None, 45, 45, 64)        18496     \n",
            "                                                                 \n",
            " max_pooling2d_15 (MaxPoolin  (None, 22, 22, 64)       0         \n",
            " g2D)                                                            \n",
            "                                                                 \n",
            " flatten_7 (Flatten)         (None, 30976)             0         \n",
            "                                                                 \n",
            " dense_33 (Dense)            (None, 10)                309770    \n",
            "                                                                 \n",
            " dense_34 (Dense)            (None, 10)                110       \n",
            "                                                                 \n",
            " dense_35 (Dense)            (None, 4)                 44        \n",
            "                                                                 \n",
            "=================================================================\n",
            "Total params: 329,316\n",
            "Trainable params: 329,316\n",
            "Non-trainable params: 0\n",
            "_________________________________________________________________\n",
            "Epoch 1/50\n",
            "5/5 [==============================] - 1s 39ms/step - loss: 1.6357 - accuracy: 0.3013\n",
            "Epoch 2/50\n",
            "5/5 [==============================] - 0s 16ms/step - loss: 1.2238 - accuracy: 0.4536\n",
            "Epoch 3/50\n",
            "5/5 [==============================] - 0s 15ms/step - loss: 0.9556 - accuracy: 0.5894\n",
            "Epoch 4/50\n",
            "5/5 [==============================] - 0s 15ms/step - loss: 0.7424 - accuracy: 0.6921\n",
            "Epoch 5/50\n",
            "5/5 [==============================] - 0s 16ms/step - loss: 0.6300 - accuracy: 0.7368\n",
            "Epoch 6/50\n",
            "5/5 [==============================] - 0s 15ms/step - loss: 0.5283 - accuracy: 0.8278\n",
            "Epoch 7/50\n",
            "5/5 [==============================] - 0s 17ms/step - loss: 0.4553 - accuracy: 0.8593\n",
            "Epoch 8/50\n",
            "5/5 [==============================] - 0s 15ms/step - loss: 0.3753 - accuracy: 0.8825\n",
            "Epoch 9/50\n",
            "5/5 [==============================] - 0s 16ms/step - loss: 0.2968 - accuracy: 0.9172\n",
            "Epoch 10/50\n",
            "5/5 [==============================] - 0s 16ms/step - loss: 0.2673 - accuracy: 0.9222\n",
            "Epoch 11/50\n",
            "5/5 [==============================] - 0s 15ms/step - loss: 0.2137 - accuracy: 0.9387\n",
            "Epoch 12/50\n",
            "5/5 [==============================] - 0s 14ms/step - loss: 0.2264 - accuracy: 0.9288\n",
            "Epoch 13/50\n",
            "5/5 [==============================] - 0s 14ms/step - loss: 0.1892 - accuracy: 0.9470\n",
            "Epoch 14/50\n",
            "5/5 [==============================] - 0s 15ms/step - loss: 0.1558 - accuracy: 0.9437\n",
            "Epoch 15/50\n",
            "5/5 [==============================] - 0s 16ms/step - loss: 0.1377 - accuracy: 0.9636\n",
            "Epoch 16/50\n",
            "5/5 [==============================] - 0s 16ms/step - loss: 0.1138 - accuracy: 0.9636\n",
            "Epoch 17/50\n",
            "5/5 [==============================] - 0s 15ms/step - loss: 0.1075 - accuracy: 0.9652\n",
            "Epoch 18/50\n",
            "5/5 [==============================] - 0s 17ms/step - loss: 0.1015 - accuracy: 0.9636\n",
            "Epoch 19/50\n",
            "5/5 [==============================] - 0s 17ms/step - loss: 0.0823 - accuracy: 0.9801\n",
            "Epoch 20/50\n",
            "5/5 [==============================] - 0s 16ms/step - loss: 0.0678 - accuracy: 0.9818\n",
            "Epoch 21/50\n",
            "5/5 [==============================] - 0s 17ms/step - loss: 0.0798 - accuracy: 0.9735\n",
            "Epoch 22/50\n",
            "5/5 [==============================] - 0s 18ms/step - loss: 0.0715 - accuracy: 0.9752\n",
            "Epoch 23/50\n",
            "5/5 [==============================] - 0s 15ms/step - loss: 0.0643 - accuracy: 0.9801\n",
            "Epoch 24/50\n",
            "5/5 [==============================] - 0s 15ms/step - loss: 0.0659 - accuracy: 0.9768\n",
            "Epoch 25/50\n",
            "5/5 [==============================] - 0s 15ms/step - loss: 0.0409 - accuracy: 0.9950\n",
            "Epoch 26/50\n",
            "5/5 [==============================] - 0s 16ms/step - loss: 0.0507 - accuracy: 0.9868\n",
            "Epoch 27/50\n",
            "5/5 [==============================] - 0s 15ms/step - loss: 0.0445 - accuracy: 0.9868\n",
            "Epoch 28/50\n",
            "5/5 [==============================] - 0s 15ms/step - loss: 0.0463 - accuracy: 0.9851\n",
            "Epoch 29/50\n",
            "5/5 [==============================] - 0s 15ms/step - loss: 0.0323 - accuracy: 0.9967\n",
            "Epoch 30/50\n",
            "5/5 [==============================] - 0s 17ms/step - loss: 0.0270 - accuracy: 0.9967\n",
            "Epoch 31/50\n",
            "5/5 [==============================] - 0s 13ms/step - loss: 0.0235 - accuracy: 0.9967\n",
            "Epoch 32/50\n",
            "5/5 [==============================] - 0s 16ms/step - loss: 0.0244 - accuracy: 0.9983\n",
            "Epoch 33/50\n",
            "5/5 [==============================] - 0s 15ms/step - loss: 0.0184 - accuracy: 0.9983\n",
            "Epoch 34/50\n",
            "5/5 [==============================] - 0s 15ms/step - loss: 0.0171 - accuracy: 0.9983\n",
            "Epoch 35/50\n",
            "5/5 [==============================] - 0s 17ms/step - loss: 0.0158 - accuracy: 0.9983\n",
            "Epoch 36/50\n",
            "5/5 [==============================] - 0s 15ms/step - loss: 0.0153 - accuracy: 0.9983\n",
            "Epoch 37/50\n",
            "5/5 [==============================] - 0s 16ms/step - loss: 0.0210 - accuracy: 0.9967\n",
            "Epoch 38/50\n",
            "5/5 [==============================] - 0s 16ms/step - loss: 0.0181 - accuracy: 0.9967\n",
            "Epoch 39/50\n",
            "5/5 [==============================] - 0s 16ms/step - loss: 0.0116 - accuracy: 1.0000\n",
            "Epoch 40/50\n",
            "5/5 [==============================] - 0s 15ms/step - loss: 0.0153 - accuracy: 0.9967\n",
            "Epoch 41/50\n",
            "5/5 [==============================] - 0s 16ms/step - loss: 0.0136 - accuracy: 1.0000\n",
            "Epoch 42/50\n",
            "5/5 [==============================] - 0s 17ms/step - loss: 0.0149 - accuracy: 0.9967\n",
            "Epoch 43/50\n",
            "5/5 [==============================] - 0s 16ms/step - loss: 0.0387 - accuracy: 0.9868\n",
            "Epoch 44/50\n",
            "5/5 [==============================] - 0s 15ms/step - loss: 0.0470 - accuracy: 0.9818\n",
            "Epoch 45/50\n",
            "5/5 [==============================] - 0s 16ms/step - loss: 0.0573 - accuracy: 0.9818\n",
            "Epoch 46/50\n",
            "5/5 [==============================] - 0s 16ms/step - loss: 0.0210 - accuracy: 0.9983\n",
            "Epoch 47/50\n",
            "5/5 [==============================] - 0s 16ms/step - loss: 0.0177 - accuracy: 0.9983\n",
            "Epoch 48/50\n",
            "5/5 [==============================] - 0s 17ms/step - loss: 0.0248 - accuracy: 0.9950\n",
            "Epoch 49/50\n",
            "5/5 [==============================] - 0s 16ms/step - loss: 0.0195 - accuracy: 0.9983\n",
            "Epoch 50/50\n",
            "5/5 [==============================] - 0s 16ms/step - loss: 0.0231 - accuracy: 0.9917\n",
            "5/5 [==============================] - 0s 10ms/step - loss: 0.2917 - accuracy: 0.9470\n",
            "loss= 0.2916771471500397\n",
            "acc= 0.9470198750495911\n"
          ]
        }
      ]
    },
    {
      "cell_type": "markdown",
      "metadata": {
        "id": "g_h8W_oHI_CZ"
      },
      "source": [
        "### 컬러 모델"
      ]
    },
    {
      "cell_type": "code",
      "metadata": {
        "id": "Z-p1AcRT-IMJ",
        "colab": {
          "base_uri": "https://localhost:8080/"
        },
        "outputId": "f7a26df2-7922-47ac-d0ae-5f6aa755f09c"
      },
      "source": [
        "print(trainX.shape)\n",
        "print(trainColorY.shape)\n",
        "print(COLOR_COUNT)"
      ],
      "execution_count": 76,
      "outputs": [
        {
          "output_type": "stream",
          "name": "stdout",
          "text": [
            "(604, 96, 96, 3)\n",
            "(604, 3)\n",
            "3\n"
          ]
        }
      ]
    },
    {
      "cell_type": "code",
      "metadata": {
        "id": "Qgm2tq2I-Sym",
        "colab": {
          "base_uri": "https://localhost:8080/"
        },
        "outputId": "7ebe46f8-e410-4ede-8f54-368023e03e55"
      },
      "source": [
        "color_model = build_color_model()\n",
        "\n",
        "color_model.compile(optimizer=\"adam\", loss=\"categorical_crossentropy\", metrics=[\"accuracy\"])\n",
        "color_model.summary()\n",
        "\n",
        "\n",
        "color_model.fit(trainX, trainColorY, epochs=50, verbose=1, batch_size=128)\n",
        "\n",
        "\n",
        "loss, acc = color_model.evaluate(testX, testColorY)\n",
        "print(\"loss=\",loss)\n",
        "print(\"acc=\",acc)\n"
      ],
      "execution_count": 77,
      "outputs": [
        {
          "output_type": "stream",
          "name": "stdout",
          "text": [
            "Model: \"sequential_2\"\n",
            "_________________________________________________________________\n",
            " Layer (type)                Output Shape              Param #   \n",
            "=================================================================\n",
            " conv2d_16 (Conv2D)          (None, 94, 94, 32)        896       \n",
            "                                                                 \n",
            " max_pooling2d_16 (MaxPoolin  (None, 47, 47, 32)       0         \n",
            " g2D)                                                            \n",
            "                                                                 \n",
            " conv2d_17 (Conv2D)          (None, 45, 45, 64)        18496     \n",
            "                                                                 \n",
            " max_pooling2d_17 (MaxPoolin  (None, 22, 22, 64)       0         \n",
            " g2D)                                                            \n",
            "                                                                 \n",
            " flatten_8 (Flatten)         (None, 30976)             0         \n",
            "                                                                 \n",
            " dense_36 (Dense)            (None, 10)                309770    \n",
            "                                                                 \n",
            " dense_37 (Dense)            (None, 10)                110       \n",
            "                                                                 \n",
            " dense_38 (Dense)            (None, 3)                 33        \n",
            "                                                                 \n",
            "=================================================================\n",
            "Total params: 329,305\n",
            "Trainable params: 329,305\n",
            "Non-trainable params: 0\n",
            "_________________________________________________________________\n",
            "Epoch 1/50\n",
            "5/5 [==============================] - 1s 16ms/step - loss: 1.4585 - accuracy: 0.3874\n",
            "Epoch 2/50\n",
            "5/5 [==============================] - 0s 15ms/step - loss: 0.7526 - accuracy: 0.6076\n",
            "Epoch 3/50\n",
            "5/5 [==============================] - 0s 15ms/step - loss: 0.5734 - accuracy: 0.6556\n",
            "Epoch 4/50\n",
            "5/5 [==============================] - 0s 18ms/step - loss: 0.3560 - accuracy: 0.8328\n",
            "Epoch 5/50\n",
            "5/5 [==============================] - 0s 16ms/step - loss: 0.2771 - accuracy: 0.9619\n",
            "Epoch 6/50\n",
            "5/5 [==============================] - 0s 15ms/step - loss: 0.1897 - accuracy: 0.9603\n",
            "Epoch 7/50\n",
            "5/5 [==============================] - 0s 16ms/step - loss: 0.1403 - accuracy: 0.9553\n",
            "Epoch 8/50\n",
            "5/5 [==============================] - 0s 15ms/step - loss: 0.1174 - accuracy: 0.9619\n",
            "Epoch 9/50\n",
            "5/5 [==============================] - 0s 16ms/step - loss: 0.0907 - accuracy: 0.9785\n",
            "Epoch 10/50\n",
            "5/5 [==============================] - 0s 17ms/step - loss: 0.0803 - accuracy: 0.9752\n",
            "Epoch 11/50\n",
            "5/5 [==============================] - 0s 15ms/step - loss: 0.0677 - accuracy: 0.9818\n",
            "Epoch 12/50\n",
            "5/5 [==============================] - 0s 15ms/step - loss: 0.0582 - accuracy: 0.9834\n",
            "Epoch 13/50\n",
            "5/5 [==============================] - 0s 15ms/step - loss: 0.0492 - accuracy: 0.9851\n",
            "Epoch 14/50\n",
            "5/5 [==============================] - 0s 15ms/step - loss: 0.0385 - accuracy: 0.9901\n",
            "Epoch 15/50\n",
            "5/5 [==============================] - 0s 15ms/step - loss: 0.0366 - accuracy: 0.9917\n",
            "Epoch 16/50\n",
            "5/5 [==============================] - 0s 16ms/step - loss: 0.0331 - accuracy: 0.9884\n",
            "Epoch 17/50\n",
            "5/5 [==============================] - 0s 15ms/step - loss: 0.0289 - accuracy: 0.9901\n",
            "Epoch 18/50\n",
            "5/5 [==============================] - 0s 16ms/step - loss: 0.0253 - accuracy: 0.9934\n",
            "Epoch 19/50\n",
            "5/5 [==============================] - 0s 18ms/step - loss: 0.0185 - accuracy: 0.9950\n",
            "Epoch 20/50\n",
            "5/5 [==============================] - 0s 15ms/step - loss: 0.0134 - accuracy: 1.0000\n",
            "Epoch 21/50\n",
            "5/5 [==============================] - 0s 16ms/step - loss: 0.0147 - accuracy: 0.9950\n",
            "Epoch 22/50\n",
            "5/5 [==============================] - 0s 14ms/step - loss: 0.0126 - accuracy: 1.0000\n",
            "Epoch 23/50\n",
            "5/5 [==============================] - 0s 16ms/step - loss: 0.0078 - accuracy: 1.0000\n",
            "Epoch 24/50\n",
            "5/5 [==============================] - 0s 16ms/step - loss: 0.0073 - accuracy: 1.0000\n",
            "Epoch 25/50\n",
            "5/5 [==============================] - 0s 16ms/step - loss: 0.0071 - accuracy: 1.0000\n",
            "Epoch 26/50\n",
            "5/5 [==============================] - 0s 17ms/step - loss: 0.0056 - accuracy: 1.0000\n",
            "Epoch 27/50\n",
            "5/5 [==============================] - 0s 16ms/step - loss: 0.0046 - accuracy: 1.0000\n",
            "Epoch 28/50\n",
            "5/5 [==============================] - 0s 16ms/step - loss: 0.0036 - accuracy: 1.0000\n",
            "Epoch 29/50\n",
            "5/5 [==============================] - 0s 15ms/step - loss: 0.0034 - accuracy: 1.0000\n",
            "Epoch 30/50\n",
            "5/5 [==============================] - 0s 17ms/step - loss: 0.0028 - accuracy: 1.0000\n",
            "Epoch 31/50\n",
            "5/5 [==============================] - 0s 15ms/step - loss: 0.0029 - accuracy: 1.0000\n",
            "Epoch 32/50\n",
            "5/5 [==============================] - 0s 14ms/step - loss: 0.0025 - accuracy: 1.0000\n",
            "Epoch 33/50\n",
            "5/5 [==============================] - 0s 17ms/step - loss: 0.0024 - accuracy: 1.0000\n",
            "Epoch 34/50\n",
            "5/5 [==============================] - 0s 15ms/step - loss: 0.0022 - accuracy: 1.0000\n",
            "Epoch 35/50\n",
            "5/5 [==============================] - 0s 16ms/step - loss: 0.0021 - accuracy: 1.0000\n",
            "Epoch 36/50\n",
            "5/5 [==============================] - 0s 16ms/step - loss: 0.0019 - accuracy: 1.0000\n",
            "Epoch 37/50\n",
            "5/5 [==============================] - 0s 15ms/step - loss: 0.0019 - accuracy: 1.0000\n",
            "Epoch 38/50\n",
            "5/5 [==============================] - 0s 15ms/step - loss: 0.0018 - accuracy: 1.0000\n",
            "Epoch 39/50\n",
            "5/5 [==============================] - 0s 15ms/step - loss: 0.0017 - accuracy: 1.0000\n",
            "Epoch 40/50\n",
            "5/5 [==============================] - 0s 15ms/step - loss: 0.0016 - accuracy: 1.0000\n",
            "Epoch 41/50\n",
            "5/5 [==============================] - 0s 16ms/step - loss: 0.0015 - accuracy: 1.0000\n",
            "Epoch 42/50\n",
            "5/5 [==============================] - 0s 17ms/step - loss: 0.0015 - accuracy: 1.0000\n",
            "Epoch 43/50\n",
            "5/5 [==============================] - 0s 16ms/step - loss: 0.0014 - accuracy: 1.0000\n",
            "Epoch 44/50\n",
            "5/5 [==============================] - 0s 15ms/step - loss: 0.0014 - accuracy: 1.0000\n",
            "Epoch 45/50\n",
            "5/5 [==============================] - 0s 19ms/step - loss: 0.0013 - accuracy: 1.0000\n",
            "Epoch 46/50\n",
            "5/5 [==============================] - 0s 16ms/step - loss: 0.0012 - accuracy: 1.0000\n",
            "Epoch 47/50\n",
            "5/5 [==============================] - 0s 18ms/step - loss: 0.0012 - accuracy: 1.0000\n",
            "Epoch 48/50\n",
            "5/5 [==============================] - 0s 16ms/step - loss: 0.0012 - accuracy: 1.0000\n",
            "Epoch 49/50\n",
            "5/5 [==============================] - 0s 16ms/step - loss: 0.0011 - accuracy: 1.0000\n",
            "Epoch 50/50\n",
            "5/5 [==============================] - 0s 15ms/step - loss: 0.0011 - accuracy: 1.0000\n",
            "5/5 [==============================] - 0s 6ms/step - loss: 0.0178 - accuracy: 0.9934\n",
            "loss= 0.017849484458565712\n",
            "acc= 0.9933775067329407\n"
          ]
        }
      ]
    },
    {
      "cell_type": "code",
      "metadata": {
        "id": "BlumccIP-YUu"
      },
      "source": [
        ""
      ],
      "execution_count": 77,
      "outputs": []
    },
    {
      "cell_type": "markdown",
      "metadata": {
        "id": "Z1fdpl5c-iW_"
      },
      "source": [
        "## 다중 출력 모델로 학습 실행"
      ]
    },
    {
      "cell_type": "code",
      "metadata": {
        "id": "KOyQbsVo-ke8"
      },
      "source": [
        "import numpy as np\n",
        "import matplotlib.pyplot as plt\n",
        "\n",
        "import tensorflow as tf\n",
        "from tensorflow import keras\n",
        "from tensorflow.keras import optimizers, Model\n",
        "from tensorflow.keras.layers import Dense, Flatten, Conv2D, MaxPooling2D, Input\n",
        "\n",
        "\n",
        "def common_input_branch(input):\n",
        "\n",
        "  x = Conv2D(32, (3, 3))(input)\n",
        "  x = MaxPooling2D((2, 2))(x)\n",
        "  x = Conv2D(64, (3, 3))(x)\n",
        "  x = MaxPooling2D((2, 2))(x)\n",
        "  x = Flatten()(x)\n",
        "\n",
        "  return x\n",
        "\n",
        "\n",
        "def category_branch(x):\n",
        "\n",
        "  x = Dense(10, activation='relu')(x)\n",
        "  x = Dense(10, activation='relu')(x)\n",
        "  x = Dense(CATEGORY_COUNT, activation='softmax', name='category_output')(x)\n",
        "\n",
        "  return x\n",
        "\n",
        "def color_branch(x):\n",
        "\n",
        "  x = Dense(10, activation='relu')(x)\n",
        "  x = Dense(10, activation='relu')(x)\n",
        "  x = Dense(COLOR_COUNT, activation='softmax', name='color_output')(x)\n",
        "\n",
        "  return x"
      ],
      "execution_count": 78,
      "outputs": []
    },
    {
      "cell_type": "code",
      "metadata": {
        "id": "49vnw8ZSAEYN",
        "colab": {
          "base_uri": "https://localhost:8080/"
        },
        "outputId": "6b2a8840-7e44-4062-c8d5-bf31e18ced4e"
      },
      "source": [
        "input = Input(IMAGE_DIMS)\n",
        "\n",
        "common_input = common_input_branch(input)\n",
        "category_output = category_branch(common_input)\n",
        "color_output = color_branch(common_input)\n",
        "\n",
        "multi_output_model = Model(input, [category_output, color_output])\n",
        "\n",
        "multi_output_model.summary()"
      ],
      "execution_count": 79,
      "outputs": [
        {
          "output_type": "stream",
          "name": "stdout",
          "text": [
            "Model: \"model_8\"\n",
            "__________________________________________________________________________________________________\n",
            " Layer (type)                   Output Shape         Param #     Connected to                     \n",
            "==================================================================================================\n",
            " input_14 (InputLayer)          [(None, 96, 96, 3)]  0           []                               \n",
            "                                                                                                  \n",
            " conv2d_18 (Conv2D)             (None, 94, 94, 32)   896         ['input_14[0][0]']               \n",
            "                                                                                                  \n",
            " max_pooling2d_18 (MaxPooling2D  (None, 47, 47, 32)  0           ['conv2d_18[0][0]']              \n",
            " )                                                                                                \n",
            "                                                                                                  \n",
            " conv2d_19 (Conv2D)             (None, 45, 45, 64)   18496       ['max_pooling2d_18[0][0]']       \n",
            "                                                                                                  \n",
            " max_pooling2d_19 (MaxPooling2D  (None, 22, 22, 64)  0           ['conv2d_19[0][0]']              \n",
            " )                                                                                                \n",
            "                                                                                                  \n",
            " flatten_9 (Flatten)            (None, 30976)        0           ['max_pooling2d_19[0][0]']       \n",
            "                                                                                                  \n",
            " dense_39 (Dense)               (None, 10)           309770      ['flatten_9[0][0]']              \n",
            "                                                                                                  \n",
            " dense_41 (Dense)               (None, 10)           309770      ['flatten_9[0][0]']              \n",
            "                                                                                                  \n",
            " dense_40 (Dense)               (None, 10)           110         ['dense_39[0][0]']               \n",
            "                                                                                                  \n",
            " dense_42 (Dense)               (None, 10)           110         ['dense_41[0][0]']               \n",
            "                                                                                                  \n",
            " category_output (Dense)        (None, 4)            44          ['dense_40[0][0]']               \n",
            "                                                                                                  \n",
            " color_output (Dense)           (None, 3)            33          ['dense_42[0][0]']               \n",
            "                                                                                                  \n",
            "==================================================================================================\n",
            "Total params: 639,229\n",
            "Trainable params: 639,229\n",
            "Non-trainable params: 0\n",
            "__________________________________________________________________________________________________\n"
          ]
        }
      ]
    },
    {
      "cell_type": "code",
      "metadata": {
        "id": "SftqPQsKAHCU",
        "colab": {
          "base_uri": "https://localhost:8080/"
        },
        "outputId": "2f67259f-1f5c-460c-d015-cbb49cd25ef6"
      },
      "source": [
        "losses = { \n",
        "    \"category_output\":\"categorical_crossentropy\", \n",
        "    \"color_output\":\"categorical_crossentropy\"\n",
        "}\n",
        "multi_output_model.compile(optimizer=\"adam\", loss=losses, metrics=[\"accuracy\"])\n",
        "\n",
        "multi_output_model.fit(trainX, {\"category_output\":trainCategoryY, \"color_output\":trainColorY}, epochs=50, verbose=1, batch_size=128)"
      ],
      "execution_count": 80,
      "outputs": [
        {
          "output_type": "stream",
          "name": "stdout",
          "text": [
            "Epoch 1/50\n",
            "5/5 [==============================] - 1s 16ms/step - loss: 2.5594 - category_output_loss: 1.4301 - color_output_loss: 1.1293 - category_output_accuracy: 0.3278 - color_output_accuracy: 0.2864\n",
            "Epoch 2/50\n",
            "5/5 [==============================] - 0s 18ms/step - loss: 2.7229 - category_output_loss: 1.4105 - color_output_loss: 1.3124 - category_output_accuracy: 0.4255 - color_output_accuracy: 0.3874\n",
            "Epoch 3/50\n",
            "5/5 [==============================] - 0s 19ms/step - loss: 2.4370 - category_output_loss: 1.3339 - color_output_loss: 1.1030 - category_output_accuracy: 0.3825 - color_output_accuracy: 0.2682\n",
            "Epoch 4/50\n",
            "5/5 [==============================] - 0s 17ms/step - loss: 2.3705 - category_output_loss: 1.2772 - color_output_loss: 1.0933 - category_output_accuracy: 0.4123 - color_output_accuracy: 0.2616\n",
            "Epoch 5/50\n",
            "5/5 [==============================] - 0s 17ms/step - loss: 2.2981 - category_output_loss: 1.2203 - color_output_loss: 1.0779 - category_output_accuracy: 0.3841 - color_output_accuracy: 0.2616\n",
            "Epoch 6/50\n",
            "5/5 [==============================] - 0s 16ms/step - loss: 2.2382 - category_output_loss: 1.1783 - color_output_loss: 1.0598 - category_output_accuracy: 0.4553 - color_output_accuracy: 0.2632\n",
            "Epoch 7/50\n",
            "5/5 [==============================] - 0s 18ms/step - loss: 2.1808 - category_output_loss: 1.1371 - color_output_loss: 1.0436 - category_output_accuracy: 0.5149 - color_output_accuracy: 0.3046\n",
            "Epoch 8/50\n",
            "5/5 [==============================] - 0s 18ms/step - loss: 2.1425 - category_output_loss: 1.1170 - color_output_loss: 1.0255 - category_output_accuracy: 0.5199 - color_output_accuracy: 0.4818\n",
            "Epoch 9/50\n",
            "5/5 [==============================] - 0s 18ms/step - loss: 2.1105 - category_output_loss: 1.0972 - color_output_loss: 1.0133 - category_output_accuracy: 0.5579 - color_output_accuracy: 0.5116\n",
            "Epoch 10/50\n",
            "5/5 [==============================] - 0s 18ms/step - loss: 2.0693 - category_output_loss: 1.0756 - color_output_loss: 0.9937 - category_output_accuracy: 0.5464 - color_output_accuracy: 0.5215\n",
            "Epoch 11/50\n",
            "5/5 [==============================] - 0s 19ms/step - loss: 1.9926 - category_output_loss: 1.0333 - color_output_loss: 0.9593 - category_output_accuracy: 0.5563 - color_output_accuracy: 0.5894\n",
            "Epoch 12/50\n",
            "5/5 [==============================] - 0s 17ms/step - loss: 1.7504 - category_output_loss: 0.9603 - color_output_loss: 0.7901 - category_output_accuracy: 0.5315 - color_output_accuracy: 0.6391\n",
            "Epoch 13/50\n",
            "5/5 [==============================] - 0s 18ms/step - loss: 1.6606 - category_output_loss: 0.9320 - color_output_loss: 0.7286 - category_output_accuracy: 0.5977 - color_output_accuracy: 0.7583\n",
            "Epoch 14/50\n",
            "5/5 [==============================] - 0s 18ms/step - loss: 1.4908 - category_output_loss: 0.8412 - color_output_loss: 0.6496 - category_output_accuracy: 0.5877 - color_output_accuracy: 0.7368\n",
            "Epoch 15/50\n",
            "5/5 [==============================] - 0s 19ms/step - loss: 1.3424 - category_output_loss: 0.7746 - color_output_loss: 0.5678 - category_output_accuracy: 0.5745 - color_output_accuracy: 0.8659\n",
            "Epoch 16/50\n",
            "5/5 [==============================] - 0s 19ms/step - loss: 1.1968 - category_output_loss: 0.7352 - color_output_loss: 0.4616 - category_output_accuracy: 0.5993 - color_output_accuracy: 0.9023\n",
            "Epoch 17/50\n",
            "5/5 [==============================] - 0s 18ms/step - loss: 1.0305 - category_output_loss: 0.6619 - color_output_loss: 0.3686 - category_output_accuracy: 0.6209 - color_output_accuracy: 0.9189\n",
            "Epoch 18/50\n",
            "5/5 [==============================] - 0s 18ms/step - loss: 0.8818 - category_output_loss: 0.6065 - color_output_loss: 0.2753 - category_output_accuracy: 0.6490 - color_output_accuracy: 0.9288\n",
            "Epoch 19/50\n",
            "5/5 [==============================] - 0s 17ms/step - loss: 0.7868 - category_output_loss: 0.5528 - color_output_loss: 0.2340 - category_output_accuracy: 0.6887 - color_output_accuracy: 0.9305\n",
            "Epoch 20/50\n",
            "5/5 [==============================] - 0s 18ms/step - loss: 0.7490 - category_output_loss: 0.5198 - color_output_loss: 0.2293 - category_output_accuracy: 0.7053 - color_output_accuracy: 0.9205\n",
            "Epoch 21/50\n",
            "5/5 [==============================] - 0s 17ms/step - loss: 0.6860 - category_output_loss: 0.4992 - color_output_loss: 0.1868 - category_output_accuracy: 0.7136 - color_output_accuracy: 0.9404\n",
            "Epoch 22/50\n",
            "5/5 [==============================] - 0s 17ms/step - loss: 0.6020 - category_output_loss: 0.4554 - color_output_loss: 0.1466 - category_output_accuracy: 0.7500 - color_output_accuracy: 0.9470\n",
            "Epoch 23/50\n",
            "5/5 [==============================] - 0s 17ms/step - loss: 0.5357 - category_output_loss: 0.4020 - color_output_loss: 0.1337 - category_output_accuracy: 0.8162 - color_output_accuracy: 0.9536\n",
            "Epoch 24/50\n",
            "5/5 [==============================] - 0s 18ms/step - loss: 0.4553 - category_output_loss: 0.3199 - color_output_loss: 0.1355 - category_output_accuracy: 0.8576 - color_output_accuracy: 0.9470\n",
            "Epoch 25/50\n",
            "5/5 [==============================] - 0s 17ms/step - loss: 0.4031 - category_output_loss: 0.2751 - color_output_loss: 0.1279 - category_output_accuracy: 0.8957 - color_output_accuracy: 0.9570\n",
            "Epoch 26/50\n",
            "5/5 [==============================] - 0s 18ms/step - loss: 0.3486 - category_output_loss: 0.2431 - color_output_loss: 0.1055 - category_output_accuracy: 0.9073 - color_output_accuracy: 0.9685\n",
            "Epoch 27/50\n",
            "5/5 [==============================] - 0s 17ms/step - loss: 0.2958 - category_output_loss: 0.1983 - color_output_loss: 0.0975 - category_output_accuracy: 0.9321 - color_output_accuracy: 0.9669\n",
            "Epoch 28/50\n",
            "5/5 [==============================] - 0s 18ms/step - loss: 0.2809 - category_output_loss: 0.1921 - color_output_loss: 0.0888 - category_output_accuracy: 0.9354 - color_output_accuracy: 0.9818\n",
            "Epoch 29/50\n",
            "5/5 [==============================] - 0s 16ms/step - loss: 0.2928 - category_output_loss: 0.1955 - color_output_loss: 0.0973 - category_output_accuracy: 0.9338 - color_output_accuracy: 0.9702\n",
            "Epoch 30/50\n",
            "5/5 [==============================] - 0s 20ms/step - loss: 0.2971 - category_output_loss: 0.1748 - color_output_loss: 0.1222 - category_output_accuracy: 0.9487 - color_output_accuracy: 0.9503\n",
            "Epoch 31/50\n",
            "5/5 [==============================] - 0s 17ms/step - loss: 0.2390 - category_output_loss: 0.1442 - color_output_loss: 0.0948 - category_output_accuracy: 0.9503 - color_output_accuracy: 0.9669\n",
            "Epoch 32/50\n",
            "5/5 [==============================] - 0s 17ms/step - loss: 0.2077 - category_output_loss: 0.1308 - color_output_loss: 0.0769 - category_output_accuracy: 0.9553 - color_output_accuracy: 0.9834\n",
            "Epoch 33/50\n",
            "5/5 [==============================] - 0s 17ms/step - loss: 0.2260 - category_output_loss: 0.1550 - color_output_loss: 0.0710 - category_output_accuracy: 0.9470 - color_output_accuracy: 0.9818\n",
            "Epoch 34/50\n",
            "5/5 [==============================] - 0s 16ms/step - loss: 0.2155 - category_output_loss: 0.1505 - color_output_loss: 0.0649 - category_output_accuracy: 0.9520 - color_output_accuracy: 0.9868\n",
            "Epoch 35/50\n",
            "5/5 [==============================] - 0s 18ms/step - loss: 0.2334 - category_output_loss: 0.1540 - color_output_loss: 0.0794 - category_output_accuracy: 0.9387 - color_output_accuracy: 0.9752\n",
            "Epoch 36/50\n",
            "5/5 [==============================] - 0s 17ms/step - loss: 0.2120 - category_output_loss: 0.1390 - color_output_loss: 0.0730 - category_output_accuracy: 0.9520 - color_output_accuracy: 0.9834\n",
            "Epoch 37/50\n",
            "5/5 [==============================] - 0s 18ms/step - loss: 0.2045 - category_output_loss: 0.1214 - color_output_loss: 0.0831 - category_output_accuracy: 0.9603 - color_output_accuracy: 0.9685\n",
            "Epoch 38/50\n",
            "5/5 [==============================] - 0s 18ms/step - loss: 0.2092 - category_output_loss: 0.1137 - color_output_loss: 0.0954 - category_output_accuracy: 0.9669 - color_output_accuracy: 0.9619\n",
            "Epoch 39/50\n",
            "5/5 [==============================] - 0s 18ms/step - loss: 0.1900 - category_output_loss: 0.1154 - color_output_loss: 0.0746 - category_output_accuracy: 0.9669 - color_output_accuracy: 0.9818\n",
            "Epoch 40/50\n",
            "5/5 [==============================] - 0s 18ms/step - loss: 0.1702 - category_output_loss: 0.1047 - color_output_loss: 0.0654 - category_output_accuracy: 0.9685 - color_output_accuracy: 0.9884\n",
            "Epoch 41/50\n",
            "5/5 [==============================] - 0s 17ms/step - loss: 0.1457 - category_output_loss: 0.0990 - color_output_loss: 0.0467 - category_output_accuracy: 0.9652 - color_output_accuracy: 0.9950\n",
            "Epoch 42/50\n",
            "5/5 [==============================] - 0s 17ms/step - loss: 0.1322 - category_output_loss: 0.0888 - color_output_loss: 0.0435 - category_output_accuracy: 0.9719 - color_output_accuracy: 0.9917\n",
            "Epoch 43/50\n",
            "5/5 [==============================] - 0s 17ms/step - loss: 0.1245 - category_output_loss: 0.0866 - color_output_loss: 0.0379 - category_output_accuracy: 0.9702 - color_output_accuracy: 0.9934\n",
            "Epoch 44/50\n",
            "5/5 [==============================] - 0s 18ms/step - loss: 0.1100 - category_output_loss: 0.0743 - color_output_loss: 0.0357 - category_output_accuracy: 0.9768 - color_output_accuracy: 0.9934\n",
            "Epoch 45/50\n",
            "5/5 [==============================] - 0s 16ms/step - loss: 0.1027 - category_output_loss: 0.0751 - color_output_loss: 0.0276 - category_output_accuracy: 0.9752 - color_output_accuracy: 0.9950\n",
            "Epoch 46/50\n",
            "5/5 [==============================] - 0s 18ms/step - loss: 0.0987 - category_output_loss: 0.0699 - color_output_loss: 0.0288 - category_output_accuracy: 0.9785 - color_output_accuracy: 0.9950\n",
            "Epoch 47/50\n",
            "5/5 [==============================] - 0s 18ms/step - loss: 0.0900 - category_output_loss: 0.0605 - color_output_loss: 0.0295 - category_output_accuracy: 0.9834 - color_output_accuracy: 0.9934\n",
            "Epoch 48/50\n",
            "5/5 [==============================] - 0s 18ms/step - loss: 0.0821 - category_output_loss: 0.0580 - color_output_loss: 0.0241 - category_output_accuracy: 0.9834 - color_output_accuracy: 0.9950\n",
            "Epoch 49/50\n",
            "5/5 [==============================] - 0s 18ms/step - loss: 0.0810 - category_output_loss: 0.0593 - color_output_loss: 0.0216 - category_output_accuracy: 0.9818 - color_output_accuracy: 0.9967\n",
            "Epoch 50/50\n",
            "5/5 [==============================] - 0s 18ms/step - loss: 0.0733 - category_output_loss: 0.0533 - color_output_loss: 0.0200 - category_output_accuracy: 0.9834 - color_output_accuracy: 0.9983\n"
          ]
        },
        {
          "output_type": "execute_result",
          "data": {
            "text/plain": [
              "<keras.callbacks.History at 0x7f9447ee0590>"
            ]
          },
          "metadata": {},
          "execution_count": 80
        }
      ]
    },
    {
      "cell_type": "code",
      "metadata": {
        "id": "NHH3al7zB4uK",
        "colab": {
          "base_uri": "https://localhost:8080/"
        },
        "outputId": "fd191ced-2f28-40ba-c1b2-b23f00814995"
      },
      "source": [
        "loss, category_loss, color_loss, category_acc, color_acc = multi_output_model.evaluate(testX, {\"category_output\":testCategoryY, \"color_output\":testColorY})\n",
        "print(\"loss=\",loss)\n",
        "print(\"categoyr_loss=\", category_loss)\n",
        "print(\"color_loss=\", color_loss)\n",
        "print(\"category_acc=\", category_acc)\n",
        "print(\"color_acc=\", color_acc)"
      ],
      "execution_count": 81,
      "outputs": [
        {
          "output_type": "stream",
          "name": "stdout",
          "text": [
            "5/5 [==============================] - 0s 6ms/step - loss: 0.6876 - category_output_loss: 0.4119 - color_output_loss: 0.2758 - category_output_accuracy: 0.9007 - color_output_accuracy: 0.9205\n",
            "loss= 0.6876477599143982\n",
            "categoyr_loss= 0.4118959903717041\n",
            "color_loss= 0.2757517099380493\n",
            "category_acc= 0.9006622433662415\n",
            "color_acc= 0.9205297827720642\n"
          ]
        }
      ]
    },
    {
      "cell_type": "code",
      "metadata": {
        "id": "nGPuLHteCIso",
        "outputId": "c6fecfe5-d49e-4284-881d-8b4459caef54",
        "colab": {
          "base_uri": "https://localhost:8080/",
          "height": 736
        }
      },
      "source": [
        "import tensorflow as tf\n",
        "tf.keras.utils.plot_model(model=multi_output_model, rankdir=\"TD\", dpi=72, show_shapes=True)"
      ],
      "execution_count": 82,
      "outputs": [
        {
          "output_type": "execute_result",
          "data": {
            "text/plain": [
              "<IPython.core.display.Image object>"
            ],
            "image/png": "[encoded data removed]"
          },
          "metadata": {},
          "execution_count": 82
        }
      ]
    },
    {
      "cell_type": "code",
      "source": [
        ""
      ],
      "metadata": {
        "id": "sam0aSXwUzBA"
      },
      "execution_count": null,
      "outputs": []
    }
  ]
}