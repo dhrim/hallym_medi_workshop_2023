{
  "cells": [
    {
      "cell_type": "markdown",
      "metadata": {
        "id": "Mte4_QlwwrlF"
      },
      "source": [
        "# 모듈 임포팅"
      ]
    },
    {
      "cell_type": "code",
      "execution_count": 1,
      "metadata": {
        "id": "2YegBF6qExut",
        "vscode": {
          "languageId": "python"
        }
      },
      "outputs": [],
      "source": [
        "import numpy as np\n",
        "import pandas as pd\n",
        "import matplotlib.pyplot as plt\n",
        "\n",
        "import tensorflow as tf\n",
        "from tensorflow import keras\n",
        "from tensorflow.keras import optimizers\n",
        "from tensorflow.keras.layers import Dense, Input\n",
        "\n",
        "import time"
      ]
    },
    {
      "cell_type": "markdown",
      "metadata": {
        "id": "jJBqaE5oyaIi"
      },
      "source": [
        "# 데이터 준비\n",
        "\n",
        "1차원 데이터 x와 x**2의 1차원 데이타 y"
      ]
    },
    {
      "cell_type": "code",
      "execution_count": 2,
      "metadata": {
        "colab": {
          "base_uri": "https://localhost:8080/",
          "height": 283
        },
        "id": "zEj2Fb6HMrnt",
        "outputId": "34bdfd7e-cdc0-4669-83ea-409a4a1d28a0",
        "vscode": {
          "languageId": "python"
        }
      },
      "outputs": [
        {
          "output_type": "execute_result",
          "data": {
            "text/plain": [
              "<matplotlib.collections.PathCollection at 0x7ff2c544cd50>"
            ]
          },
          "metadata": {},
          "execution_count": 2
        },
        {
          "output_type": "display_data",
          "data": {
            "text/plain": [
              "<Figure size 432x288 with 1 Axes>"
            ],
            "image/png": "[encoded data removed]"
          },
          "metadata": {
            "needs_background": "light"
          }
        }
      ],
      "source": [
        "import numpy as np\n",
        "\n",
        "x = np.arange(-1,1,0.01)\n",
        "y = x**2\n",
        "\n",
        "plt.scatter(x,y)"
      ]
    },
    {
      "cell_type": "code",
      "execution_count": 3,
      "metadata": {
        "colab": {
          "base_uri": "https://localhost:8080/"
        },
        "id": "PSlhN2bS2pwj",
        "outputId": "ac5fcc27-fc63-4d76-839e-f611be158e49",
        "vscode": {
          "languageId": "python"
        }
      },
      "outputs": [
        {
          "output_type": "stream",
          "name": "stdout",
          "text": [
            "200\n",
            "(200,)\n"
          ]
        }
      ],
      "source": [
        "print(len(x))\n",
        "print(x.shape)\n"
      ]
    },
    {
      "cell_type": "code",
      "execution_count": 4,
      "metadata": {
        "colab": {
          "base_uri": "https://localhost:8080/",
          "height": 265
        },
        "id": "Bd8YIGMLSvJ1",
        "outputId": "c6713d4a-6ff9-420d-de5d-c861d62d2a2d",
        "vscode": {
          "languageId": "python"
        }
      },
      "outputs": [
        {
          "output_type": "display_data",
          "data": {
            "text/plain": [
              "<Figure size 432x288 with 1 Axes>"
            ],
            "image/png": "[encoded data removed]"
          },
          "metadata": {
            "needs_background": "light"
          }
        }
      ],
      "source": [
        "x = np.arange(-1,1,0.01)\n",
        "np.random.shuffle(x)\n",
        "y = x**2\n",
        "\n",
        "split_index = int(x.shape[0]*0.6)\n",
        "\n",
        "train_x, test_x = x[:split_index], x[split_index:]\n",
        "train_y, test_y = y[:split_index], y[split_index:]\n",
        "\n",
        "plt.scatter(train_x,train_y)\n",
        "plt.scatter(test_x,test_y)\n",
        "plt.show()"
      ]
    },
    {
      "cell_type": "markdown",
      "metadata": {
        "id": "31Xxr4IckI9R"
      },
      "source": [
        "# Keras DNN Template\n",
        "\n",
        "본 실습에 사용되는 코든 코드의 템플릿.\n"
      ]
    },
    {
      "cell_type": "code",
      "execution_count": 5,
      "metadata": {
        "colab": {
          "base_uri": "https://localhost:8080/",
          "height": 603
        },
        "id": "Eq_eO6o9kMA1",
        "outputId": "11909294-1d16-4bec-ecd2-3460cf37394c",
        "vscode": {
          "languageId": "python"
        }
      },
      "outputs": [
        {
          "output_type": "stream",
          "name": "stdout",
          "text": [
            "Model: \"sequential\"\n",
            "_________________________________________________________________\n",
            " Layer (type)                Output Shape              Param #   \n",
            "=================================================================\n",
            " dense (Dense)               (None, 10)                20        \n",
            "                                                                 \n",
            " dense_1 (Dense)             (None, 10)                110       \n",
            "                                                                 \n",
            " dense_2 (Dense)             (None, 1)                 11        \n",
            "                                                                 \n",
            "=================================================================\n",
            "Total params: 141\n",
            "Trainable params: 141\n",
            "Non-trainable params: 0\n",
            "_________________________________________________________________\n",
            "elapsed : 12.061974287033081\n",
            "3/3 [==============================] - 0s 4ms/step - loss: 0.0019 - mae: 0.0334\n",
            "loss= 0.0019449228420853615\n",
            "mae= 0.03341851010918617\n"
          ]
        },
        {
          "output_type": "display_data",
          "data": {
            "text/plain": [
              "<Figure size 432x288 with 1 Axes>"
            ],
            "image/png": "[encoded data removed]"
          },
          "metadata": {
            "needs_background": "light"
          }
        }
      ],
      "source": [
        "import numpy as np\n",
        "import matplotlib.pyplot as plt\n",
        "\n",
        "from tensorflow import keras\n",
        "from tensorflow.keras import optimizers\n",
        "from tensorflow.keras.layers import Dense, Input\n",
        "\n",
        "import time\n",
        "\n",
        "\n",
        "# 모델 정의\n",
        "model = keras.Sequential()\n",
        "model.add(Input(1))\n",
        "model.add(Dense(10, activation='tanh'))\n",
        "model.add(Dense(10, activation='tanh'))\n",
        "model.add(Dense(1))\n",
        "\n",
        "\n",
        "# 모델 컴파일\n",
        "model.compile(optimizer=\"SGD\", loss=\"mse\", metrics=[\"mae\"])\n",
        "model.summary()\n",
        "\n",
        "\n",
        "# 학습\n",
        "start_time = time.time()\n",
        "model.fit(train_x, train_y, epochs=1000, verbose=0, batch_size=32)\n",
        "print(\"elapsed : {}\".format(time.time() - start_time))\n",
        "\n",
        "\n",
        "# 평가\n",
        "loss, mae = model.evaluate(test_x, test_y)\n",
        "print(\"loss=\", loss)\n",
        "print(\"mae=\", mae)\n",
        "\n",
        "\n",
        "# 예측\n",
        "y_ = model.predict(test_x)\n",
        "\n",
        "plt.scatter(test_x,test_y)\n",
        "plt.scatter(test_x,y_,color='r')\n",
        "plt.show()"
      ]
    },
    {
      "cell_type": "markdown",
      "metadata": {
        "id": "wt-FJH1rS5dj"
      },
      "source": [
        "# sin 데이터"
      ]
    },
    {
      "cell_type": "code",
      "execution_count": 6,
      "metadata": {
        "id": "2r7u2iPXLphl",
        "vscode": {
          "languageId": "python"
        }
      },
      "outputs": [],
      "source": [
        "import numpy as np\n",
        "import pandas as pd\n",
        "import matplotlib.pyplot as plt\n",
        "\n",
        "import tensorflow as tf\n",
        "from tensorflow import keras\n",
        "from tensorflow.keras import Sequential\n",
        "from tensorflow.keras import optimizers\n",
        "from tensorflow.keras.layers import Dense, Input\n",
        "\n",
        "import time"
      ]
    },
    {
      "cell_type": "code",
      "execution_count": 7,
      "metadata": {
        "id": "VT4QUNhPmIej",
        "vscode": {
          "languageId": "python"
        }
      },
      "outputs": [],
      "source": [
        "def get_sin_data(start=0, end=10, step=0.1):\n",
        "  x = np.arange(start,end,step)\n",
        "  np.random.shuffle(x)\n",
        "  y = np.sin(x)\n",
        "\n",
        "  split_index = int(x.shape[0]*0.6)\n",
        "\n",
        "  train_x, test_x = x[:split_index], x[split_index:]\n",
        "  train_y, test_y = y[:split_index], y[split_index:]\n",
        "\n",
        "  return (train_x, train_y), (test_x, test_y)"
      ]
    },
    {
      "cell_type": "markdown",
      "metadata": {
        "id": "hAK87lLiNmTF"
      },
      "source": [
        "# 학습 추가 진행"
      ]
    },
    {
      "cell_type": "code",
      "execution_count": 8,
      "metadata": {
        "id": "nNYqLd-sO08l",
        "vscode": {
          "languageId": "python"
        }
      },
      "outputs": [],
      "source": [
        "import numpy as np\n",
        "import pandas as pd\n",
        "import matplotlib.pyplot as plt\n",
        "\n",
        "import tensorflow as tf\n",
        "from tensorflow import keras\n",
        "\n",
        "import time\n",
        "\n",
        "from tensorflow.keras import optimizers\n",
        "from tensorflow.keras.layers import Dense"
      ]
    },
    {
      "cell_type": "markdown",
      "metadata": {
        "id": "8Ty3h3ICmF8U"
      },
      "source": [
        "모델은 그대로 두고 데이터만 sin 데이터로 변경한다."
      ]
    },
    {
      "cell_type": "code",
      "execution_count": 9,
      "metadata": {
        "colab": {
          "base_uri": "https://localhost:8080/",
          "height": 513
        },
        "id": "eIkL36cWvoCU",
        "outputId": "0691ffc7-4ae8-4b49-8c68-b1c8c13b3532",
        "vscode": {
          "languageId": "python"
        }
      },
      "outputs": [
        {
          "output_type": "display_data",
          "data": {
            "text/plain": [
              "<Figure size 432x288 with 1 Axes>"
            ],
            "image/png": "[encoded data removed]"
          },
          "metadata": {
            "needs_background": "light"
          }
        },
        {
          "output_type": "display_data",
          "data": {
            "text/plain": [
              "<Figure size 432x288 with 1 Axes>"
            ],
            "image/png": "[encoded data removed]"
          },
          "metadata": {
            "needs_background": "light"
          }
        }
      ],
      "source": [
        "(train_x, train_y), (test_x, test_y) = get_sin_data(start=0, end=10, step=0.1)\n",
        "\n",
        "plt.scatter(train_x,train_y)\n",
        "plt.show()\n",
        "\n",
        "plt.scatter(test_x,test_y,color=\"r\")\n",
        "plt.show()"
      ]
    },
    {
      "cell_type": "code",
      "execution_count": 10,
      "metadata": {
        "colab": {
          "base_uri": "https://localhost:8080/",
          "height": 603
        },
        "id": "9NAK4Jg2mInV",
        "outputId": "4b28707e-6064-4f51-a516-58ffc1004b54",
        "vscode": {
          "languageId": "python"
        }
      },
      "outputs": [
        {
          "output_type": "stream",
          "name": "stdout",
          "text": [
            "Model: \"sequential_1\"\n",
            "_________________________________________________________________\n",
            " Layer (type)                Output Shape              Param #   \n",
            "=================================================================\n",
            " dense_3 (Dense)             (None, 10)                20        \n",
            "                                                                 \n",
            " dense_4 (Dense)             (None, 10)                110       \n",
            "                                                                 \n",
            " dense_5 (Dense)             (None, 1)                 11        \n",
            "                                                                 \n",
            "=================================================================\n",
            "Total params: 141\n",
            "Trainable params: 141\n",
            "Non-trainable params: 0\n",
            "_________________________________________________________________\n",
            "elapsed : 5.6215808391571045\n",
            "2/2 [==============================] - 0s 5ms/step - loss: 0.1376 - mae: 0.3083\n",
            "loss= 0.13756468892097473\n",
            "mae= 0.30832481384277344\n"
          ]
        },
        {
          "output_type": "display_data",
          "data": {
            "text/plain": [
              "<Figure size 432x288 with 1 Axes>"
            ],
            "image/png": "[encoded data removed]"
          },
          "metadata": {
            "needs_background": "light"
          }
        }
      ],
      "source": [
        "model = keras.Sequential()\n",
        "model.add(Input(1))\n",
        "model.add(Dense(10, activation='tanh'))\n",
        "model.add(Dense(10, activation='tanh'))\n",
        "model.add(Dense(1))\n",
        "\n",
        "\n",
        "model.compile(optimizer=\"SGD\", loss=\"mse\", metrics=[\"mae\"])\n",
        "model.summary()\n",
        "\n",
        "\n",
        "start_time = time.time()\n",
        "model.fit(train_x, train_y, epochs=1000, verbose=0, batch_size=32)\n",
        "print(\"elapsed : {}\".format(time.time() - start_time))    \n",
        "\n",
        "\n",
        "loss, mae = model.evaluate(test_x, test_y)\n",
        "print(\"loss=\", loss)\n",
        "print(\"mae=\", mae)\n",
        "\n",
        "\n",
        "y_ = model.predict(test_x)\n",
        "\n",
        "plt.scatter(test_x,test_y)\n",
        "plt.scatter(test_x,y_,color='r')\n",
        "plt.show()"
      ]
    },
    {
      "cell_type": "markdown",
      "metadata": {
        "id": "prz5bv1o2MrY"
      },
      "source": [
        "학습이 충분히 되지 않은 듯 하다."
      ]
    },
    {
      "cell_type": "markdown",
      "metadata": {
        "id": "fgZIrh0-nW8t"
      },
      "source": [
        "## 추가 학습"
      ]
    },
    {
      "cell_type": "code",
      "execution_count": 11,
      "metadata": {
        "id": "FFzO7p3qnlKk",
        "vscode": {
          "languageId": "python"
        }
      },
      "outputs": [],
      "source": [
        "def fit_one_more(model, train_x, train_y, test_x, test_y, batch_size=32):\n",
        "\n",
        "  start_time = time.time()\n",
        "  model.fit(train_x, train_y, epochs=1000, verbose=0, batch_size=batch_size)\n",
        "  print(\"elapsed : {}\".format(time.time() - start_time))    \n",
        "\n",
        "  y_ = model.predict(test_x)\n",
        "\n",
        "  plt.scatter(test_x,test_y)\n",
        "  plt.scatter(test_x,y_,color='r')\n",
        "  plt.show()\n",
        "\n",
        "def fit_n_times(model, train_x, train_y, test_x, test_y, n):\n",
        "  \n",
        "  for i in range(n):\n",
        "    print(\"{} times fitting\".format(i))\n",
        "    fit_one_more(model, train_x, train_y, test_x, test_y)\n"
      ]
    },
    {
      "cell_type": "code",
      "execution_count": 12,
      "metadata": {
        "colab": {
          "base_uri": "https://localhost:8080/",
          "height": 1000
        },
        "id": "cgMhQ2wMn9ct",
        "outputId": "cbb24fbe-82d1-48c2-8ee0-79d8f40726d0",
        "vscode": {
          "languageId": "python"
        }
      },
      "outputs": [
        {
          "output_type": "stream",
          "name": "stdout",
          "text": [
            "0 times fitting\n",
            "elapsed : 5.286835670471191\n"
          ]
        },
        {
          "output_type": "display_data",
          "data": {
            "text/plain": [
              "<Figure size 432x288 with 1 Axes>"
            ],
            "image/png": "[encoded data removed]"
          },
          "metadata": {
            "needs_background": "light"
          }
        },
        {
          "output_type": "stream",
          "name": "stdout",
          "text": [
            "1 times fitting\n",
            "elapsed : 5.447316408157349\n"
          ]
        },
        {
          "output_type": "display_data",
          "data": {
            "text/plain": [
              "<Figure size 432x288 with 1 Axes>"
            ],
            "image/png": "[encoded data removed]"
          },
          "metadata": {
            "needs_background": "light"
          }
        },
        {
          "output_type": "stream",
          "name": "stdout",
          "text": [
            "2 times fitting\n",
            "elapsed : 5.381613731384277\n"
          ]
        },
        {
          "output_type": "display_data",
          "data": {
            "text/plain": [
              "<Figure size 432x288 with 1 Axes>"
            ],
            "image/png": "[encoded data removed]"
          },
          "metadata": {
            "needs_background": "light"
          }
        },
        {
          "output_type": "stream",
          "name": "stdout",
          "text": [
            "3 times fitting\n",
            "elapsed : 6.158535957336426\n"
          ]
        },
        {
          "output_type": "display_data",
          "data": {
            "text/plain": [
              "<Figure size 432x288 with 1 Axes>"
            ],
            "image/png": "[encoded data removed]"
          },
          "metadata": {
            "needs_background": "light"
          }
        },
        {
          "output_type": "stream",
          "name": "stdout",
          "text": [
            "4 times fitting\n",
            "elapsed : 5.798123836517334\n"
          ]
        },
        {
          "output_type": "display_data",
          "data": {
            "text/plain": [
              "<Figure size 432x288 with 1 Axes>"
            ],
            "image/png": "[encoded data removed]"
          },
          "metadata": {
            "needs_background": "light"
          }
        },
        {
          "output_type": "stream",
          "name": "stdout",
          "text": [
            "5 times fitting\n",
            "elapsed : 5.4535887241363525\n"
          ]
        },
        {
          "output_type": "display_data",
          "data": {
            "text/plain": [
              "<Figure size 432x288 with 1 Axes>"
            ],
            "image/png": "[encoded data removed]"
          },
          "metadata": {
            "needs_background": "light"
          }
        },
        {
          "output_type": "stream",
          "name": "stdout",
          "text": [
            "6 times fitting\n",
            "elapsed : 5.38580846786499\n"
          ]
        },
        {
          "output_type": "display_data",
          "data": {
            "text/plain": [
              "<Figure size 432x288 with 1 Axes>"
            ],
            "image/png": "[encoded data removed]"
          },
          "metadata": {
            "needs_background": "light"
          }
        },
        {
          "output_type": "stream",
          "name": "stdout",
          "text": [
            "7 times fitting\n",
            "elapsed : 5.333056211471558\n"
          ]
        },
        {
          "output_type": "display_data",
          "data": {
            "text/plain": [
              "<Figure size 432x288 with 1 Axes>"
            ],
            "image/png": "[encoded data removed]"
          },
          "metadata": {
            "needs_background": "light"
          }
        },
        {
          "output_type": "stream",
          "name": "stdout",
          "text": [
            "8 times fitting\n",
            "elapsed : 5.336186170578003\n"
          ]
        },
        {
          "output_type": "display_data",
          "data": {
            "text/plain": [
              "<Figure size 432x288 with 1 Axes>"
            ],
            "image/png": "[encoded data removed]"
          },
          "metadata": {
            "needs_background": "light"
          }
        },
        {
          "output_type": "stream",
          "name": "stdout",
          "text": [
            "9 times fitting\n",
            "elapsed : 5.303916931152344\n"
          ]
        },
        {
          "output_type": "display_data",
          "data": {
            "text/plain": [
              "<Figure size 432x288 with 1 Axes>"
            ],
            "image/png": "[encoded data removed]"
          },
          "metadata": {
            "needs_background": "light"
          }
        }
      ],
      "source": [
        "fit_n_times(model, train_x, train_y, test_x, test_y, 10)"
      ]
    },
    {
      "cell_type": "markdown",
      "metadata": {
        "id": "udoykOBX2SVg"
      },
      "source": [
        "학습이 더 진행되면서 거의 완벽하게 학습된 것을 볼 수 있다."
      ]
    },
    {
      "cell_type": "markdown",
      "metadata": {
        "id": "Txmz0VqaqcMm"
      },
      "source": [
        "# model.fit()의 batch_size\n",
        "\n",
        "batch_size는 GPU와 관련된 옵션이다.\n",
        "\n",
        "한번에 GPU에 보내는 데이터의 수이다.  \n",
        "\n",
        "<br>\n",
        "\n",
        "batch_size가 1일 경우 1개를 보내고, 1개의 결과를 받고, 1번 웨이트를 업데이트 한다.\n",
        "\n",
        "batch_size가 10일 경우 10개를 보내고, 10개의 결과를 한 번에 받고, 1번 웨이트를 업데이트 한다.\n",
        "\n",
        "<br>\n",
        "\n",
        "GPU는 보통 수천개의 코어를 가지고 있다. 동시에 꽤 많은 연산을 처리할 수 있다. 그런데 데이터가 적으면 대부분은 사용하지 못하고 일부만 연산에 사용된다. \n",
        "\n",
        "복수의 데이터를 한번에 보내어 한번에 연산을 할수 있고, 그 결과를 반환할 수 있다. 이런 방법으로 연산 시간을 줄일 수 있다.\n",
        "\n",
        "<br>\n",
        "\n",
        "하지만, 복수의 데이터를 한번에 보내는 경우 한번에 보낸 결과가 한번에 오고 1번 업데이트 되면서 업데이트 되는 사항이 뭉개지는 단점이 있다.\n"
      ]
    },
    {
      "cell_type": "code",
      "execution_count": 13,
      "metadata": {
        "id": "RF6qxEfLriZy",
        "vscode": {
          "languageId": "python"
        }
      },
      "outputs": [],
      "source": [
        "def build_model():\n",
        "\n",
        "  model = keras.Sequential()\n",
        "  model.add(Input(1))\n",
        "  model.add(Dense(10, activation='tanh'))\n",
        "  model.add(Dense(10, activation='tanh'))\n",
        "  model.add(Dense(1))\n",
        "\n",
        "  model.compile(optimizer=\"SGD\", loss=\"mse\", metrics=[\"mae\"])\n",
        "\n",
        "  return model\n",
        "\n",
        "def fit_with_batch_sizes(train_x, train_y, test_x, test_y, batch_sizes):\n",
        "\n",
        "  for batch_size in batch_sizes:\n",
        "    model = build_model()\n",
        "    print(\"batch_size={}\".format(batch_size))\n",
        "    fit_one_more(model, train_x, train_y, test_x, test_y, batch_size)"
      ]
    },
    {
      "cell_type": "code",
      "execution_count": 14,
      "metadata": {
        "id": "TtN9WexdvEaz",
        "vscode": {
          "languageId": "python"
        }
      },
      "outputs": [],
      "source": [
        "(train_x, train_y), (test_x, test_y) = get_sin_data(start=0, end=10, step=0.1)"
      ]
    },
    {
      "cell_type": "markdown",
      "metadata": {
        "id": "ONkh2C1GuRsg"
      },
      "source": [
        "## batch_size 적용 : [1,2,5,10,20,50,100,200,500]"
      ]
    },
    {
      "cell_type": "code",
      "execution_count": 15,
      "metadata": {
        "colab": {
          "base_uri": "https://localhost:8080/",
          "height": 1000
        },
        "id": "SbW3bysfrTcS",
        "outputId": "ae3004fc-55ed-4ae5-e49f-4e48d9bedaae",
        "vscode": {
          "languageId": "python"
        }
      },
      "outputs": [
        {
          "output_type": "stream",
          "name": "stdout",
          "text": [
            "batch_size=1\n",
            "elapsed : 80.92807698249817\n"
          ]
        },
        {
          "output_type": "display_data",
          "data": {
            "text/plain": [
              "<Figure size 432x288 with 1 Axes>"
            ],
            "image/png": "[encoded data removed]"
          },
          "metadata": {
            "needs_background": "light"
          }
        },
        {
          "output_type": "stream",
          "name": "stdout",
          "text": [
            "batch_size=2\n",
            "elapsed : 41.56144642829895\n"
          ]
        },
        {
          "output_type": "display_data",
          "data": {
            "text/plain": [
              "<Figure size 432x288 with 1 Axes>"
            ],
            "image/png": "[encoded data removed]"
          },
          "metadata": {
            "needs_background": "light"
          }
        },
        {
          "output_type": "stream",
          "name": "stdout",
          "text": [
            "batch_size=5\n",
            "elapsed : 18.42921471595764\n"
          ]
        },
        {
          "output_type": "display_data",
          "data": {
            "text/plain": [
              "<Figure size 432x288 with 1 Axes>"
            ],
            "image/png": "[encoded data removed]"
          },
          "metadata": {
            "needs_background": "light"
          }
        },
        {
          "output_type": "stream",
          "name": "stdout",
          "text": [
            "batch_size=10\n",
            "elapsed : 10.154126405715942\n",
            "WARNING:tensorflow:5 out of the last 29 calls to <function Model.make_predict_function.<locals>.predict_function at 0x7ff21519c7a0> triggered tf.function retracing. Tracing is expensive and the excessive number of tracings could be due to (1) creating @tf.function repeatedly in a loop, (2) passing tensors with different shapes, (3) passing Python objects instead of tensors. For (1), please define your @tf.function outside of the loop. For (2), @tf.function has experimental_relax_shapes=True option that relaxes argument shapes that can avoid unnecessary retracing. For (3), please refer to https://www.tensorflow.org/guide/function#controlling_retracing and https://www.tensorflow.org/api_docs/python/tf/function for  more details.\n"
          ]
        },
        {
          "output_type": "display_data",
          "data": {
            "text/plain": [
              "<Figure size 432x288 with 1 Axes>"
            ],
            "image/png": "[encoded data removed]"
          },
          "metadata": {
            "needs_background": "light"
          }
        },
        {
          "output_type": "stream",
          "name": "stdout",
          "text": [
            "batch_size=20\n",
            "elapsed : 6.2208452224731445\n",
            "WARNING:tensorflow:6 out of the last 31 calls to <function Model.make_predict_function.<locals>.predict_function at 0x7ff215156dd0> triggered tf.function retracing. Tracing is expensive and the excessive number of tracings could be due to (1) creating @tf.function repeatedly in a loop, (2) passing tensors with different shapes, (3) passing Python objects instead of tensors. For (1), please define your @tf.function outside of the loop. For (2), @tf.function has experimental_relax_shapes=True option that relaxes argument shapes that can avoid unnecessary retracing. For (3), please refer to https://www.tensorflow.org/guide/function#controlling_retracing and https://www.tensorflow.org/api_docs/python/tf/function for  more details.\n"
          ]
        },
        {
          "output_type": "display_data",
          "data": {
            "text/plain": [
              "<Figure size 432x288 with 1 Axes>"
            ],
            "image/png": "[encoded data removed]"
          },
          "metadata": {
            "needs_background": "light"
          }
        },
        {
          "output_type": "stream",
          "name": "stdout",
          "text": [
            "batch_size=50\n",
            "elapsed : 5.644723892211914\n"
          ]
        },
        {
          "output_type": "display_data",
          "data": {
            "text/plain": [
              "<Figure size 432x288 with 1 Axes>"
            ],
            "image/png": "[encoded data removed]"
          },
          "metadata": {
            "needs_background": "light"
          }
        },
        {
          "output_type": "stream",
          "name": "stdout",
          "text": [
            "batch_size=100\n",
            "elapsed : 3.850524425506592\n"
          ]
        },
        {
          "output_type": "display_data",
          "data": {
            "text/plain": [
              "<Figure size 432x288 with 1 Axes>"
            ],
            "image/png": "[encoded data removed]"
          },
          "metadata": {
            "needs_background": "light"
          }
        },
        {
          "output_type": "stream",
          "name": "stdout",
          "text": [
            "batch_size=200\n",
            "elapsed : 3.839661121368408\n"
          ]
        },
        {
          "output_type": "display_data",
          "data": {
            "text/plain": [
              "<Figure size 432x288 with 1 Axes>"
            ],
            "image/png": "[encoded data removed]"
          },
          "metadata": {
            "needs_background": "light"
          }
        },
        {
          "output_type": "stream",
          "name": "stdout",
          "text": [
            "batch_size=500\n",
            "elapsed : 3.907672882080078\n"
          ]
        },
        {
          "output_type": "display_data",
          "data": {
            "text/plain": [
              "<Figure size 432x288 with 1 Axes>"
            ],
            "image/png": "[encoded data removed]"
          },
          "metadata": {
            "needs_background": "light"
          }
        }
      ],
      "source": [
        "fit_with_batch_sizes(train_x, train_y, test_x, test_y, batch_sizes=[1,2,5,10,20,50,100,200,500])"
      ]
    },
    {
      "cell_type": "markdown",
      "metadata": {
        "id": "SXHdl5Ie3dUd"
      },
      "source": [
        "맨 앞의 결과가 batch_size 1인 경우이다. 100개의 데이터를 매번 1개 씩 보냈고, 매번 업데이트 했다. \n",
        "\n",
        "batch_size를 키우면, 시간은 줄어들지만 학습이 빠르게 진행되지 않는다."
      ]
    },
    {
      "cell_type": "markdown",
      "metadata": {
        "id": "r3YdUyA9xnZo"
      },
      "source": [
        "# loss 보기\n"
      ]
    },
    {
      "cell_type": "markdown",
      "metadata": {
        "id": "gaLsARjT1a17"
      },
      "source": [
        "## model.fit()의 validation_split\n",
        "\n",
        "따로 validation 데이터를 주지 않고, test 데이터로 준 것의 일부를 validation에 사용.\n",
        "\n",
        "validation에 사용된 데이터는 학습에 사용되지 않는다.\n"
      ]
    },
    {
      "cell_type": "code",
      "execution_count": 16,
      "metadata": {
        "colab": {
          "base_uri": "https://localhost:8080/"
        },
        "id": "Sjr-j0WYo7-j",
        "outputId": "7bf59892-c2b9-40ba-ac6d-c6857ded7504",
        "vscode": {
          "languageId": "python"
        }
      },
      "outputs": [
        {
          "output_type": "stream",
          "name": "stdout",
          "text": [
            "Model: \"sequential_11\"\n",
            "_________________________________________________________________\n",
            " Layer (type)                Output Shape              Param #   \n",
            "=================================================================\n",
            " dense_33 (Dense)            (None, 10)                20        \n",
            "                                                                 \n",
            " dense_34 (Dense)            (None, 10)                110       \n",
            "                                                                 \n",
            " dense_35 (Dense)            (None, 1)                 11        \n",
            "                                                                 \n",
            "=================================================================\n",
            "Total params: 141\n",
            "Trainable params: 141\n",
            "Non-trainable params: 0\n",
            "_________________________________________________________________\n",
            "elapsed : 28.563746452331543\n"
          ]
        }
      ],
      "source": [
        "(train_x, train_y), (test_x, test_y) = get_sin_data(start=0, end=10, step=0.1)\n",
        "\n",
        "model = keras.Sequential()\n",
        "model.add(Input(1))\n",
        "model.add(Dense(10, activation='tanh'))\n",
        "model.add(Dense(10, activation='tanh'))\n",
        "model.add(Dense(1))\n",
        "\n",
        "\n",
        "model.compile(optimizer=\"SGD\", loss=\"mse\", metrics=[\"mae\"])\n",
        "model.summary()\n",
        "\n",
        "\n",
        "start_time = time.time()\n",
        "# history = model.fit(train_x, train_y, epochs=1000, verbose=0, batch_size=32)\n",
        "history = model.fit(train_x, train_y, epochs=1000, verbose=0, batch_size=32, validation_split=0.1)\n",
        "print(\"elapsed : {}\".format(time.time() - start_time))    "
      ]
    },
    {
      "cell_type": "code",
      "execution_count": null,
      "metadata": {
        "id": "LbPF6kuJo77k",
        "vscode": {
          "languageId": "python"
        }
      },
      "outputs": [],
      "source": [
        "plt.plot(history.history['loss'], label='loss')\n",
        "plt.plot(history.history['val_loss'], label='val_loss')\n",
        "plt.legend()"
      ]
    },
    {
      "cell_type": "markdown",
      "metadata": {
        "id": "n_X9nenlnNHH"
      },
      "source": [
        "# 모델 저장과 로딩"
      ]
    },
    {
      "cell_type": "code",
      "execution_count": 18,
      "metadata": {
        "colab": {
          "base_uri": "https://localhost:8080/",
          "height": 603
        },
        "id": "nSamA7Cj7I36",
        "outputId": "c46a92cb-f758-41de-9281-cf82f803a74d",
        "vscode": {
          "languageId": "python"
        }
      },
      "outputs": [
        {
          "output_type": "stream",
          "name": "stdout",
          "text": [
            "Model: \"sequential_12\"\n",
            "_________________________________________________________________\n",
            " Layer (type)                Output Shape              Param #   \n",
            "=================================================================\n",
            " dense_36 (Dense)            (None, 10)                20        \n",
            "                                                                 \n",
            " dense_37 (Dense)            (None, 10)                110       \n",
            "                                                                 \n",
            " dense_38 (Dense)            (None, 1)                 11        \n",
            "                                                                 \n",
            "=================================================================\n",
            "Total params: 141\n",
            "Trainable params: 141\n",
            "Non-trainable params: 0\n",
            "_________________________________________________________________\n",
            "elapsed : 5.714529037475586\n",
            "2/2 [==============================] - 0s 5ms/step - loss: 0.2218 - mae: 0.3863\n",
            "loss= 0.22177192568778992\n",
            "mae= 0.38632702827453613\n"
          ]
        },
        {
          "output_type": "display_data",
          "data": {
            "text/plain": [
              "<Figure size 432x288 with 1 Axes>"
            ],
            "image/png": "[encoded data removed]"
          },
          "metadata": {
            "needs_background": "light"
          }
        }
      ],
      "source": [
        "(train_x, train_y), (test_x, test_y) = get_sin_data(start=0, end=10, step=0.1)\n",
        "\n",
        "model = keras.Sequential()\n",
        "model.add(Input(1))\n",
        "model.add(Dense(10, activation='tanh'))\n",
        "model.add(Dense(10, activation='tanh'))\n",
        "model.add(Dense(1))\n",
        "\n",
        "\n",
        "model.compile(optimizer=\"SGD\", loss=\"mse\", metrics=[\"mae\"])\n",
        "model.summary()\n",
        "\n",
        "\n",
        "start_time = time.time()\n",
        "model.fit(train_x, train_y, epochs=1000, verbose=0, batch_size=32)\n",
        "print(\"elapsed : {}\".format(time.time() - start_time))    \n",
        "\n",
        "\n",
        "loss, mae = model.evaluate(test_x, test_y)\n",
        "print(\"loss=\", loss)\n",
        "print(\"mae=\", mae)\n",
        "\n",
        "\n",
        "y_ = model.predict(test_x)\n",
        "\n",
        "plt.scatter(test_x,test_y)\n",
        "plt.scatter(test_x,y_,color='r')\n",
        "plt.show()"
      ]
    },
    {
      "cell_type": "markdown",
      "metadata": {
        "id": "HAR05QD6WNBJ"
      },
      "source": [
        "## 모델 저장"
      ]
    },
    {
      "cell_type": "code",
      "execution_count": 19,
      "metadata": {
        "colab": {
          "base_uri": "https://localhost:8080/"
        },
        "id": "EWmB-uBxWQwh",
        "outputId": "c40f3838-561b-4471-b185-c07053484522",
        "vscode": {
          "languageId": "python"
        }
      },
      "outputs": [
        {
          "output_type": "stream",
          "name": "stdout",
          "text": [
            "total 40\n",
            "drwxr-xr-x 1 root root  4096 Jul 23 03:42 .\n",
            "drwxr-xr-x 1 root root  4096 Jul 23 03:36 ..\n",
            "drwxr-xr-x 4 root root  4096 Jul 13 13:42 .config\n",
            "-rw-r--r-- 1 root root 20736 Jul 23 03:42 my_model.h5\n",
            "drwxr-xr-x 1 root root  4096 Jul 13 13:43 sample_data\n"
          ]
        }
      ],
      "source": [
        "model.save('my_model.h5')\n",
        "\n",
        "!ls -al"
      ]
    },
    {
      "cell_type": "markdown",
      "metadata": {
        "id": "a02YvE4vWQIP"
      },
      "source": [
        "모델 로딩"
      ]
    },
    {
      "cell_type": "code",
      "execution_count": 20,
      "metadata": {
        "colab": {
          "base_uri": "https://localhost:8080/",
          "height": 265
        },
        "id": "KuU4MnkSnKEd",
        "outputId": "936bfa98-d1a0-495e-cb56-7ac717d26950",
        "vscode": {
          "languageId": "python"
        }
      },
      "outputs": [
        {
          "output_type": "display_data",
          "data": {
            "text/plain": [
              "<Figure size 432x288 with 1 Axes>"
            ],
            "image/png": "[encoded data removed]"
          },
          "metadata": {
            "needs_background": "light"
          }
        }
      ],
      "source": [
        "new_model = keras.models.load_model('my_model.h5')\n",
        "\n",
        "y_ = new_model.predict(test_x)\n",
        "\n",
        "plt.scatter(test_x,test_y)\n",
        "plt.scatter(test_x,y_,color='r')\n",
        "plt.show()"
      ]
    },
    {
      "cell_type": "markdown",
      "metadata": {
        "id": "ji9Ies6oNX-j"
      },
      "source": [
        "# 노이즈"
      ]
    },
    {
      "cell_type": "code",
      "execution_count": 21,
      "metadata": {
        "id": "7x-Qm3p9KXMk",
        "vscode": {
          "languageId": "python"
        }
      },
      "outputs": [],
      "source": [
        "import numpy as np\n",
        "import pandas as pd\n",
        "import matplotlib.pyplot as plt\n",
        "\n",
        "import tensorflow as tf\n",
        "from tensorflow import keras\n",
        "from tensorflow.keras import Sequential\n",
        "from tensorflow.keras import optimizers\n",
        "from tensorflow.keras.layers import Dense, Input\n",
        "\n",
        "import time"
      ]
    },
    {
      "cell_type": "code",
      "execution_count": 22,
      "metadata": {
        "id": "eFlwjOZZdHt3",
        "vscode": {
          "languageId": "python"
        }
      },
      "outputs": [],
      "source": [
        "def train_sin_with_noise(noise_size):\n",
        "\n",
        "  # x = np.arange(0,10,0.1)\n",
        "  x = np.arange(0,10,0.001)\n",
        "  np.random.shuffle(x)\n",
        "  y = np.sin(x)\n",
        "\n",
        "  noiseless_y = np.copy(y) # ADD\n",
        "  y = y + np.random.rand(y.shape[0])*noise_size - noise_size/2.0 # ADD\n",
        "\n",
        "  split_index = int(x.shape[0]*0.6)\n",
        "\n",
        "  train_x, test_x = x[:split_index], x[split_index:]\n",
        "  train_y, test_y = y[:split_index], y[split_index:]\n",
        "  test_noiseless_y = noiseless_y[split_index:] # ADD\n",
        "\n",
        "  model = keras.Sequential()\n",
        "  model.add(Input(1))\n",
        "  model.add(Dense(10, activation='tanh'))\n",
        "  model.add(Dense(10, activation='tanh'))\n",
        "  model.add(Dense(1))\n",
        "\n",
        "\n",
        "  model.compile(optimizer=\"SGD\", loss=\"mse\", metrics=[\"mae\"])\n",
        "  model.summary()\n",
        "\n",
        "\n",
        "  start_time = time.time()\n",
        "  model.fit(train_x, train_y, epochs=1000, verbose=0, batch_size=100)\n",
        "  print(\"elapsed : {}\".format(time.time() - start_time))    \n",
        "\n",
        "\n",
        "  loss, mae = model.evaluate(test_x, test_y)\n",
        "  print(\"loss=\", loss)\n",
        "  print(\"mae=\", mae)\n",
        "\n",
        "\n",
        "  y_ = model.predict(test_x)\n",
        "\n",
        "  # plt.scatter(test_x,test_y)\n",
        "  plt.scatter(test_x,test_y, s=1)\n",
        "  plt.scatter(test_x,y_, s=1)\n",
        "  plt.show()"
      ]
    },
    {
      "cell_type": "markdown",
      "metadata": {
        "id": "UriJKkZjPNAj"
      },
      "source": [
        "## 노이즈 없을 때"
      ]
    },
    {
      "cell_type": "code",
      "execution_count": 23,
      "metadata": {
        "colab": {
          "base_uri": "https://localhost:8080/",
          "height": 623
        },
        "id": "vcVMFHhYdhGp",
        "outputId": "56687fe7-0a55-41cb-c497-9784c3d44435",
        "vscode": {
          "languageId": "python"
        }
      },
      "outputs": [
        {
          "output_type": "stream",
          "name": "stdout",
          "text": [
            "Model: \"sequential_13\"\n",
            "_________________________________________________________________\n",
            " Layer (type)                Output Shape              Param #   \n",
            "=================================================================\n",
            " dense_39 (Dense)            (None, 10)                20        \n",
            "                                                                 \n",
            " dense_40 (Dense)            (None, 10)                110       \n",
            "                                                                 \n",
            " dense_41 (Dense)            (None, 1)                 11        \n",
            "                                                                 \n",
            "=================================================================\n",
            "Total params: 141\n",
            "Trainable params: 141\n",
            "Non-trainable params: 0\n",
            "_________________________________________________________________\n",
            "elapsed : 83.16644072532654\n",
            "125/125 [==============================] - 0s 2ms/step - loss: 1.1624e-04 - mae: 0.0089\n",
            "loss= 0.00011624060425674543\n",
            "mae= 0.008870871737599373\n"
          ]
        },
        {
          "output_type": "display_data",
          "data": {
            "text/plain": [
              "<Figure size 432x288 with 1 Axes>"
            ],
            "image/png": "[encoded data removed]"
          },
          "metadata": {
            "needs_background": "light"
          }
        }
      ],
      "source": [
        "train_sin_with_noise(0.0)"
      ]
    },
    {
      "cell_type": "markdown",
      "metadata": {
        "id": "6osJFq4ffMK3"
      },
      "source": [
        "## 노이즈 크기 0.1"
      ]
    },
    {
      "cell_type": "code",
      "execution_count": null,
      "metadata": {
        "id": "hmBgbDHddhBr",
        "vscode": {
          "languageId": "python"
        }
      },
      "outputs": [],
      "source": [
        "train_sin_with_noise(0.1)"
      ]
    },
    {
      "cell_type": "markdown",
      "metadata": {
        "id": "3jyLkGVKfPej"
      },
      "source": [
        "## 노이즈 크기 0.5"
      ]
    },
    {
      "cell_type": "code",
      "execution_count": null,
      "metadata": {
        "id": "gqh_FEl6dg7a",
        "vscode": {
          "languageId": "python"
        }
      },
      "outputs": [],
      "source": [
        "train_sin_with_noise(0.5)"
      ]
    },
    {
      "cell_type": "markdown",
      "metadata": {
        "id": "-0H3-BcbfRZb"
      },
      "source": [
        "## 노이즈 크기 1.0"
      ]
    },
    {
      "cell_type": "code",
      "execution_count": null,
      "metadata": {
        "id": "QicEEDuAdgvR",
        "vscode": {
          "languageId": "python"
        }
      },
      "outputs": [],
      "source": [
        "train_sin_with_noise(1.0)"
      ]
    },
    {
      "cell_type": "markdown",
      "metadata": {
        "id": "IDdGyRrwfT3t"
      },
      "source": [
        "## 노이즈 크기 10.0"
      ]
    },
    {
      "cell_type": "code",
      "execution_count": null,
      "metadata": {
        "id": "PAFpJWgQdmRd",
        "vscode": {
          "languageId": "python"
        }
      },
      "outputs": [],
      "source": [
        "train_sin_with_noise(10.0)"
      ]
    },
    {
      "cell_type": "markdown",
      "metadata": {
        "id": "VNphOsV3fpI1"
      },
      "source": [
        "## 노이즈 피쳐\n",
        "노이즈 입력을 하나 더 준다."
      ]
    },
    {
      "cell_type": "code",
      "execution_count": null,
      "metadata": {
        "id": "Vz0k4yYIf3gw",
        "vscode": {
          "languageId": "python"
        }
      },
      "outputs": [],
      "source": [
        "# x = np.arange(0,10,0.001)\n",
        "x = np.zeros((10000,2))\n",
        "x[:,0] = np.arange(0,10,0.001) # ADD\n",
        "x[:,1] = np.random.rand(x.shape[0]) # ADD\n",
        "np.random.shuffle(x)\n",
        "\n",
        "# y = np.sin(x)\n",
        "y = np.sin(x[:,0])\n",
        "\n",
        "split_index = int(x.shape[0]*0.6)\n",
        "\n",
        "train_x, test_x = x[:split_index], x[split_index:]\n",
        "train_y, test_y = y[:split_index], y[split_index:]\n",
        "\n",
        "model = keras.Sequential()\n",
        "model.add(Input(2))\n",
        "model.add(Dense(10, activation='tanh'))\n",
        "model.add(Dense(10, activation='tanh'))\n",
        "model.add(Dense(1))\n",
        "\n",
        "\n",
        "model.compile(optimizer=\"SGD\", loss=\"mse\", metrics=[\"mae\"])\n",
        "model.summary()\n",
        "\n",
        "\n",
        "start_time = time.time()\n",
        "# model.fit(train_x, train_y, epochs=1000, verbose=0, batch_size=32)\n",
        "model.fit(train_x, train_y, epochs=100, verbose=1, batch_size=32)\n",
        "print(\"elapsed : {}\".format(time.time() - start_time))    \n",
        "\n",
        "\n",
        "loss, mae = model.evaluate(test_x, test_y)\n",
        "print(\"loss=\", loss)\n",
        "print(\"mae=\", mae)\n",
        "\n",
        "\n",
        "y_ = model.predict(test_x)\n",
        "\n",
        "plt.scatter(test_x[:,0],test_y)\n",
        "plt.scatter(test_x[:,0],y_,color='r')\n",
        "plt.show()"
      ]
    },
    {
      "cell_type": "markdown",
      "metadata": {
        "id": "TGzydp_LnXXx"
      },
      "source": [
        "# 학습 되지 않는 랜덤 함수\n",
        "\n",
        "랜덤 한수의 경우 x와 y의 간에 관계가 없다.\n",
        "\n",
        "입출력 간에 관계가 없는 함수로 학습되지 않는다."
      ]
    },
    {
      "cell_type": "code",
      "execution_count": null,
      "metadata": {
        "id": "VEKDmSCaJ3d5",
        "vscode": {
          "languageId": "python"
        }
      },
      "outputs": [],
      "source": [
        "import numpy as np\n",
        "import pandas as pd\n",
        "import matplotlib.pyplot as plt\n",
        "\n",
        "import tensorflow as tf\n",
        "from tensorflow import keras\n",
        "from tensorflow.keras import Sequential\n",
        "from tensorflow.keras import optimizers\n",
        "from tensorflow.keras.layers import Dense, Input\n",
        "\n",
        "import time"
      ]
    },
    {
      "cell_type": "code",
      "execution_count": null,
      "metadata": {
        "id": "A46ugxpNnak9",
        "vscode": {
          "languageId": "python"
        }
      },
      "outputs": [],
      "source": [
        "x = np.arange(0,10,0.1)\n",
        "np.random.shuffle(x)\n",
        "# y = np.sin(x)\n",
        "y = np.random.random_sample(x.shape[0])\n",
        "\n",
        "split_index = int(x.shape[0]*0.6)\n",
        "print(split_index)\n",
        "\n",
        "train_x, test_x = x[:split_index], x[split_index:]\n",
        "train_y, test_y = y[:split_index], y[split_index:]\n",
        "\n",
        "\n",
        "plt.scatter(train_x, train_y)\n",
        "plt.scatter(test_x, test_y, color=\"r\")"
      ]
    },
    {
      "cell_type": "code",
      "execution_count": 31,
      "metadata": {
        "colab": {
          "base_uri": "https://localhost:8080/",
          "height": 603
        },
        "id": "Dt6KXq7fjHwZ",
        "outputId": "8f000082-f8c9-41d2-c877-0a578a6fc328",
        "vscode": {
          "languageId": "python"
        }
      },
      "outputs": [
        {
          "output_type": "stream",
          "name": "stdout",
          "text": [
            "Model: \"sequential_19\"\n",
            "_________________________________________________________________\n",
            " Layer (type)                Output Shape              Param #   \n",
            "=================================================================\n",
            " dense_57 (Dense)            (None, 10)                20        \n",
            "                                                                 \n",
            " dense_58 (Dense)            (None, 10)                110       \n",
            "                                                                 \n",
            " dense_59 (Dense)            (None, 1)                 11        \n",
            "                                                                 \n",
            "=================================================================\n",
            "Total params: 141\n",
            "Trainable params: 141\n",
            "Non-trainable params: 0\n",
            "_________________________________________________________________\n",
            "elapsed : 5.653587818145752\n",
            "2/2 [==============================] - 0s 5ms/step - loss: 0.0922 - mae: 0.2496\n",
            "loss= 0.09224684536457062\n",
            "mae= 0.24957427382469177\n"
          ]
        },
        {
          "output_type": "display_data",
          "data": {
            "text/plain": [
              "<Figure size 432x288 with 1 Axes>"
            ],
            "image/png": "[encoded data removed]"
          },
          "metadata": {
            "needs_background": "light"
          }
        }
      ],
      "source": [
        "# 모델 정의\n",
        "model = keras.Sequential()\n",
        "model.add(Input(1))\n",
        "model.add(Dense(10, activation='tanh'))\n",
        "model.add(Dense(10, activation='tanh'))\n",
        "model.add(Dense(1))\n",
        "\n",
        "\n",
        "# 모델 컴파일\n",
        "model.compile(optimizer=\"SGD\", loss=\"mse\", metrics=[\"mae\"])\n",
        "model.summary()\n",
        "\n",
        "\n",
        "# 학습\n",
        "start_time = time.time()\n",
        "model.fit(train_x, train_y, epochs=1000, verbose=0, batch_size=32)\n",
        "print(\"elapsed : {}\".format(time.time() - start_time))\n",
        "\n",
        "\n",
        "# 평가\n",
        "loss, mae = model.evaluate(test_x, test_y)\n",
        "print(\"loss=\", loss)\n",
        "print(\"mae=\", mae)\n",
        "\n",
        "\n",
        "# 예측\n",
        "y_ = model.predict(test_x)\n",
        "\n",
        "plt.scatter(test_x,test_y)\n",
        "plt.scatter(test_x,y_,color='r')\n",
        "plt.show()"
      ]
    },
    {
      "cell_type": "markdown",
      "metadata": {
        "id": "mzj9JvpYV_f1"
      },
      "source": [
        "# 다양한 입출력"
      ]
    },
    {
      "cell_type": "code",
      "execution_count": null,
      "metadata": {
        "id": "ZjHjArBGIrE5",
        "vscode": {
          "languageId": "python"
        }
      },
      "outputs": [],
      "source": [
        "import numpy as np\n",
        "import pandas as pd\n",
        "import matplotlib.pyplot as plt\n",
        "\n",
        "import tensorflow as tf\n",
        "from tensorflow import keras\n",
        "from tensorflow.keras import optimizers\n",
        "from tensorflow.keras.layers import Dense, Input\n",
        "\n",
        "import time"
      ]
    },
    {
      "cell_type": "markdown",
      "metadata": {
        "id": "vDlw_B29412O"
      },
      "source": [
        "## 2개의 입력, 1개의 출력\n",
        "\n",
        "x1 + x2 -> y의 함수를 학습\n",
        "\n",
        "x1과 x2는 0~1의 범위를 갖는다.\n"
      ]
    },
    {
      "cell_type": "code",
      "execution_count": null,
      "metadata": {
        "id": "dxI99iGz4-CT",
        "vscode": {
          "languageId": "python"
        }
      },
      "outputs": [],
      "source": [
        "x = np.ones((100,2))\n",
        "x[:,0] = np.random.rand(100)\n",
        "x[:,1] = np.random.rand(100)\n",
        "y = np.sum(x, axis=1)\n",
        "\n",
        "\n",
        "s = int(x.shape[0]*0.6)\n",
        "train_x, test_x = x[:s], x[s:]\n",
        "train_y, test_y = y[:s], y[s:]\n",
        "\n",
        "\n",
        "model = keras.Sequential()\n",
        "# model.add(Input(1))\n",
        "model.add(Input(2))\n",
        "model.add(Dense(10, activation='tanh'))\n",
        "model.add(Dense(10, activation='tanh'))\n",
        "model.add(Dense(1))\n",
        "\n",
        "model.compile(optimizer=\"SGD\", loss=\"mse\", metrics=[\"mae\"])\n",
        "model.summary()\n",
        "\n",
        "start = time.time()\n",
        "model.fit(train_x, train_y, epochs=1000*5, verbose=0, batch_size=32)\n",
        "print(\"elapsed :\", (time.time() - start))\n",
        "\n",
        "loss, mae = model.evaluate(test_x, test_y)\n",
        "print(\"loss=\", loss)\n",
        "print(\"mae=\", mae)\n",
        "              \n",
        "y_ = model.predict(test_x)\n",
        "\n",
        "plt.plot(test_y, 'o')\n",
        "plt.plot(y_, '.')\n",
        "plt.show()"
      ]
    },
    {
      "cell_type": "markdown",
      "metadata": {
        "id": "IIxLKZWs4NDz"
      },
      "source": [
        "## 1개의 입력, 2개의 출력\n",
        "\n",
        "다음과 같이 y는 2개의 값을 갖고, y1 = x*2, y2=x/2인 함수를 학습\n",
        "\n",
        "```\n",
        "y1 = x*2.0\n",
        "y2 = x/2.0\n",
        "```\n"
      ]
    },
    {
      "cell_type": "code",
      "execution_count": null,
      "metadata": {
        "id": "Bovsxj6f5-Bz",
        "vscode": {
          "languageId": "python"
        }
      },
      "outputs": [],
      "source": [
        "x = np.random.rand(100)\n",
        "y = np.zeros((100,2))\n",
        "y[:,0] = x*2.0\n",
        "y[:,1] = x/2.0\n",
        "\n",
        "\n",
        "s = int(x.shape[0]*0.6)\n",
        "train_x, test_x = x[:s], x[s:]\n",
        "train_y, test_y = y[:s], y[s:]\n",
        "\n",
        "\n",
        "from tensorflow.keras import optimizers\n",
        "from tensorflow.keras.layers import Dense\n",
        "\n",
        "model = keras.Sequential()\n",
        "model.add(Input(1))\n",
        "model.add(Dense(10, activation='tanh'))\n",
        "model.add(Dense(10, activation='tanh'))\n",
        "# model.add(Dense(1))\n",
        "model.add(Dense(2))\n",
        "\n",
        "model.compile(optimizer=\"SGD\", loss=\"mse\", metrics=[\"mae\"])\n",
        "model.summary()\n",
        "\n",
        "start = time.time()\n",
        "model.fit(train_x, train_y, epochs=1000, verbose=0, batch_size=32)\n",
        "print(\"elapsed :\", (time.time() - start))\n",
        "\n",
        "loss, mae = model.evaluate(test_x, test_y)\n",
        "print(\"loss=\", loss)\n",
        "print(\"mae=\", mae)\n",
        "              \n",
        "y_ = model.predict(test_x)\n",
        "\n",
        "plt.plot(test_y[:,0], 'o')\n",
        "plt.plot(y_[:,0], '.')\n",
        "plt.show()\n",
        "\n",
        "plt.plot(test_y[:,1], 'o')\n",
        "plt.plot(y_[:,1], '.')\n",
        "plt.show()\n"
      ]
    },
    {
      "cell_type": "markdown",
      "metadata": {
        "id": "sHtOQg8wPI-1"
      },
      "source": [
        "## 2개의 입력, 2개의 출력\n",
        "\n",
        "x1 + x2 -> z, \n",
        "\n",
        "y1 = z*2, y2=z/2인 함수를 학습\n",
        "\n",
        "x1과 x2는 0~1의 범위를 갖는다."
      ]
    },
    {
      "cell_type": "code",
      "execution_count": null,
      "metadata": {
        "id": "zlXRZPTzPHZq",
        "vscode": {
          "languageId": "python"
        }
      },
      "outputs": [],
      "source": [
        "x = np.ones((100,2))\n",
        "x[:,0] = np.random.rand(100)\n",
        "x[:,1] = np.random.rand(100)\n",
        "\n",
        "z = np.sum(x, axis=1)\n",
        "\n",
        "y = np.zeros((100,2))\n",
        "y[:,0] = z*2.0\n",
        "y[:,1] = z/2.0\n",
        "\n",
        "\n",
        "s = int(x.shape[0]*0.6)\n",
        "train_x, test_x = x[:s], x[s:]\n",
        "train_y, test_y = y[:s], y[s:]\n",
        "\n",
        "\n",
        "from tensorflow.keras import optimizers\n",
        "from tensorflow.keras.layers import Dense\n",
        "\n",
        "model = keras.Sequential()\n",
        "# model.add(Input(1))\n",
        "model.add(Input(2))\n",
        "model.add(Dense(10, activation='tanh'))\n",
        "model.add(Dense(10, activation='tanh'))\n",
        "# model.add(Dense(1))\n",
        "model.add(Dense(2))\n",
        "\n",
        "model.compile(optimizer=\"SGD\", loss=\"mse\", metrics=[\"mae\"])\n",
        "model.summary()\n",
        "\n",
        "start = time.time()\n",
        "model.fit(train_x, train_y, epochs=1000, verbose=0, batch_size=32)\n",
        "print(\"elapsed :\", (time.time() - start))\n",
        "\n",
        "loss, mae = model.evaluate(test_x, test_y)\n",
        "print(\"loss=\", loss)\n",
        "print(\"mae=\", mae)\n",
        "              \n",
        "y_ = model.predict(test_x)\n",
        "\n",
        "plt.plot(test_y[:,0], 'o')\n",
        "plt.plot(y_[:,0], '.')\n",
        "plt.show()\n",
        "\n",
        "plt.plot(test_y[:,1], 'o')\n",
        "plt.plot(y_[:,1], '.')\n",
        "plt.show()\n",
        "\n"
      ]
    },
    {
      "cell_type": "code",
      "execution_count": 35,
      "metadata": {
        "id": "8kNkm5O6AflR",
        "vscode": {
          "languageId": "python"
        }
      },
      "outputs": [],
      "source": [
        ""
      ]
    }
  ],
  "metadata": {
    "colab": {
      "collapsed_sections": [],
      "name": " dnn_in_keras_minimum.ipynb",
      "provenance": [],
      "toc_visible": true
    },
    "kernelspec": {
      "display_name": "Python 3",
      "name": "python3"
    },
    "accelerator": "GPU",
    "gpuClass": "standard"
  },
  "nbformat": 4,
  "nbformat_minor": 0
}