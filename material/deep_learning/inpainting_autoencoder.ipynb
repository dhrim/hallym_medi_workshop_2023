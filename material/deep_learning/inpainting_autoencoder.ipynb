{
  "nbformat": 4,
  "nbformat_minor": 0,
  "metadata": {
    "colab": {
      "name": "inpainting_autoencoder.ipynb",
      "provenance": []
    },
    "kernelspec": {
      "name": "python3",
      "display_name": "Python 3"
    },
    "accelerator": "GPU"
  },
  "cells": [
    {
      "cell_type": "markdown",
      "metadata": {
        "id": "jLKCaOxfGQg3"
      },
      "source": [
        "copy from https://blog.naver.com/ckdgus1433/221443838135"
      ]
    },
    {
      "cell_type": "markdown",
      "metadata": {
        "id": "3gUCJI7zK6V0"
      },
      "source": [
        "# 모듈 임포팅"
      ]
    },
    {
      "cell_type": "code",
      "metadata": {
        "id": "Y3ayalJEK4Me"
      },
      "source": [
        "import matplotlib.pyplot as plt\n",
        "import numpy as np\n",
        "from tensorflow.keras.datasets import mnist\n",
        "from tensorflow.keras.layers import Dense\n",
        "from tensorflow.keras import Sequential"
      ],
      "execution_count": 1,
      "outputs": []
    },
    {
      "cell_type": "markdown",
      "metadata": {
        "id": "-8b8fVWQK9JD"
      },
      "source": [
        "# 데이터 로딩"
      ]
    },
    {
      "cell_type": "code",
      "metadata": {
        "id": "D0QMMukcK56L",
        "colab": {
          "base_uri": "https://localhost:8080/"
        },
        "outputId": "0ce1ebf2-d47a-45ea-b790-530d2d424727"
      },
      "source": [
        "# MNIST 로딩 (라벨은 필요없기 때문에 버림)\n",
        "(train_x, _), (test_x, _) = mnist.load_data()"
      ],
      "execution_count": 2,
      "outputs": [
        {
          "output_type": "stream",
          "name": "stdout",
          "text": [
            "Downloading data from https://storage.googleapis.com/tensorflow/tf-keras-datasets/mnist.npz\n",
            "11493376/11490434 [==============================] - 0s 0us/step\n",
            "11501568/11490434 [==============================] - 0s 0us/step\n"
          ]
        }
      ]
    },
    {
      "cell_type": "markdown",
      "metadata": {
        "id": "OOAbPf_ZK_6b"
      },
      "source": [
        "# Normalization"
      ]
    },
    {
      "cell_type": "code",
      "metadata": {
        "id": "WWimdhYPLBTj"
      },
      "source": [
        "# 데이터 정규화\n",
        "train_x = train_x.astype('float32') / 255.\n",
        "test_x = test_x.astype('float32') / 255."
      ],
      "execution_count": 3,
      "outputs": []
    },
    {
      "cell_type": "markdown",
      "metadata": {
        "id": "COdPgRsoLBjD"
      },
      "source": [
        "# Flattening"
      ]
    },
    {
      "cell_type": "code",
      "metadata": {
        "id": "wjDc3mmbLB-D"
      },
      "source": [
        "train_x = np.reshape(train_x, (len(train_x), 784))\n",
        "test_x = np.reshape(test_x, (len(test_x), 784))"
      ],
      "execution_count": 4,
      "outputs": []
    },
    {
      "cell_type": "markdown",
      "metadata": {
        "id": "zNfjHZQSLN-s"
      },
      "source": [
        "# 랜덤 삭제"
      ]
    },
    {
      "cell_type": "code",
      "metadata": {
        "id": "tvOfQ4hMLLo7"
      },
      "source": [
        "# 원본데이터를 랜덤하게 지움\n",
        "noisy_train_x = train_x * np.random.randint(2, size=train_x.shape) \n",
        "noisy_test_x = test_x * np.random.randint(2, size=test_x.shape) \n"
      ],
      "execution_count": 5,
      "outputs": []
    },
    {
      "cell_type": "markdown",
      "metadata": {
        "id": "6na4p0mnLj8j"
      },
      "source": [
        "# 랜덤 삭제된 영상 보기"
      ]
    },
    {
      "cell_type": "code",
      "metadata": {
        "id": "y--Ep7aULL17",
        "colab": {
          "base_uri": "https://localhost:8080/",
          "height": 129
        },
        "outputId": "2765a89d-e949-4dd4-a546-2d5c53e85867"
      },
      "source": [
        "# 랜덤 삭제된 데이터 확인\n",
        "n = 10\n",
        "plt.figure(figsize=(20, 2))\n",
        "for i in range(1,n):\n",
        "    ax = plt.subplot(1, n, i)\n",
        "    plt.imshow(noisy_train_x[i].reshape(28, 28))\n",
        "    plt.gray()\n",
        "    ax.get_xaxis().set_visible(False)\n",
        "    ax.get_yaxis().set_visible(False)\n",
        "plt.show()"
      ],
      "execution_count": 6,
      "outputs": [
        {
          "output_type": "display_data",
          "data": {
            "text/plain": [
              "<Figure size 1440x144 with 9 Axes>"
            ],
            "image/png": "[encoded data removed]"
          },
          "metadata": {
            "needs_background": "light"
          }
        }
      ]
    },
    {
      "cell_type": "markdown",
      "metadata": {
        "id": "i01JyXUqL7yF"
      },
      "source": [
        "# 모델 정의와 학습 실행"
      ]
    },
    {
      "cell_type": "code",
      "metadata": {
        "id": "bvY_c15CLL48",
        "colab": {
          "base_uri": "https://localhost:8080/"
        },
        "outputId": "eef51840-f051-46c4-b71b-a7735b7fe2f6"
      },
      "source": [
        "# 모형 구성\n",
        "model = Sequential()\n",
        "model.add(Dense(128, activation='relu', input_dim=784))\n",
        "model.add(Dense(64, activation='relu'))\n",
        "model.add(Dense(32, activation='relu'))\n",
        "model.add(Dense(64, activation='relu'))\n",
        "model.add(Dense(128, activation='relu'))\n",
        "model.add(Dense(784, activation='sigmoid'))\n",
        "model.compile(optimizer='adam', loss='binary_crossentropy')\n",
        "\n",
        "\n",
        "# 모형 학습\n",
        "model.fit(noisy_train_x, train_x, epochs=100, batch_size=256, validation_split=0.1, shuffle=True)"
      ],
      "execution_count": 7,
      "outputs": [
        {
          "output_type": "stream",
          "name": "stdout",
          "text": [
            "Epoch 1/100\n",
            "211/211 [==============================] - 5s 6ms/step - loss: 0.2764 - val_loss: 0.1923\n",
            "Epoch 2/100\n",
            "211/211 [==============================] - 1s 5ms/step - loss: 0.1741 - val_loss: 0.1605\n",
            "Epoch 3/100\n",
            "211/211 [==============================] - 1s 5ms/step - loss: 0.1531 - val_loss: 0.1473\n",
            "Epoch 4/100\n",
            "211/211 [==============================] - 1s 6ms/step - loss: 0.1434 - val_loss: 0.1403\n",
            "Epoch 5/100\n",
            "211/211 [==============================] - 2s 8ms/step - loss: 0.1372 - val_loss: 0.1350\n",
            "Epoch 6/100\n",
            "211/211 [==============================] - 1s 5ms/step - loss: 0.1332 - val_loss: 0.1318\n",
            "Epoch 7/100\n",
            "211/211 [==============================] - 1s 5ms/step - loss: 0.1299 - val_loss: 0.1292\n",
            "Epoch 8/100\n",
            "211/211 [==============================] - 1s 6ms/step - loss: 0.1272 - val_loss: 0.1267\n",
            "Epoch 9/100\n",
            "211/211 [==============================] - 1s 5ms/step - loss: 0.1247 - val_loss: 0.1248\n",
            "Epoch 10/100\n",
            "211/211 [==============================] - 1s 6ms/step - loss: 0.1226 - val_loss: 0.1231\n",
            "Epoch 11/100\n",
            "211/211 [==============================] - 1s 5ms/step - loss: 0.1207 - val_loss: 0.1211\n",
            "Epoch 12/100\n",
            "211/211 [==============================] - 1s 5ms/step - loss: 0.1190 - val_loss: 0.1200\n",
            "Epoch 13/100\n",
            "211/211 [==============================] - 1s 5ms/step - loss: 0.1176 - val_loss: 0.1185\n",
            "Epoch 14/100\n",
            "211/211 [==============================] - 1s 5ms/step - loss: 0.1163 - val_loss: 0.1177\n",
            "Epoch 15/100\n",
            "211/211 [==============================] - 1s 5ms/step - loss: 0.1152 - val_loss: 0.1168\n",
            "Epoch 16/100\n",
            "211/211 [==============================] - 1s 5ms/step - loss: 0.1141 - val_loss: 0.1159\n",
            "Epoch 17/100\n",
            "211/211 [==============================] - 1s 5ms/step - loss: 0.1132 - val_loss: 0.1150\n",
            "Epoch 18/100\n",
            "211/211 [==============================] - 1s 5ms/step - loss: 0.1124 - val_loss: 0.1145\n",
            "Epoch 19/100\n",
            "211/211 [==============================] - 1s 5ms/step - loss: 0.1117 - val_loss: 0.1140\n",
            "Epoch 20/100\n",
            "211/211 [==============================] - 1s 5ms/step - loss: 0.1110 - val_loss: 0.1132\n",
            "Epoch 21/100\n",
            "211/211 [==============================] - 1s 5ms/step - loss: 0.1103 - val_loss: 0.1127\n",
            "Epoch 22/100\n",
            "211/211 [==============================] - 1s 5ms/step - loss: 0.1098 - val_loss: 0.1122\n",
            "Epoch 23/100\n",
            "211/211 [==============================] - 1s 5ms/step - loss: 0.1092 - val_loss: 0.1116\n",
            "Epoch 24/100\n",
            "211/211 [==============================] - 1s 5ms/step - loss: 0.1086 - val_loss: 0.1113\n",
            "Epoch 25/100\n",
            "211/211 [==============================] - 1s 5ms/step - loss: 0.1081 - val_loss: 0.1107\n",
            "Epoch 26/100\n",
            "211/211 [==============================] - 1s 5ms/step - loss: 0.1076 - val_loss: 0.1105\n",
            "Epoch 27/100\n",
            "211/211 [==============================] - 1s 5ms/step - loss: 0.1072 - val_loss: 0.1098\n",
            "Epoch 28/100\n",
            "211/211 [==============================] - 1s 5ms/step - loss: 0.1068 - val_loss: 0.1098\n",
            "Epoch 29/100\n",
            "211/211 [==============================] - 1s 5ms/step - loss: 0.1064 - val_loss: 0.1094\n",
            "Epoch 30/100\n",
            "211/211 [==============================] - 1s 5ms/step - loss: 0.1061 - val_loss: 0.1090\n",
            "Epoch 31/100\n",
            "211/211 [==============================] - 1s 5ms/step - loss: 0.1058 - val_loss: 0.1087\n",
            "Epoch 32/100\n",
            "211/211 [==============================] - 1s 7ms/step - loss: 0.1054 - val_loss: 0.1088\n",
            "Epoch 33/100\n",
            "211/211 [==============================] - 1s 6ms/step - loss: 0.1051 - val_loss: 0.1082\n",
            "Epoch 34/100\n",
            "211/211 [==============================] - 1s 5ms/step - loss: 0.1049 - val_loss: 0.1085\n",
            "Epoch 35/100\n",
            "211/211 [==============================] - 1s 5ms/step - loss: 0.1046 - val_loss: 0.1079\n",
            "Epoch 36/100\n",
            "211/211 [==============================] - 1s 5ms/step - loss: 0.1044 - val_loss: 0.1076\n",
            "Epoch 37/100\n",
            "211/211 [==============================] - 1s 5ms/step - loss: 0.1041 - val_loss: 0.1075\n",
            "Epoch 38/100\n",
            "211/211 [==============================] - 1s 5ms/step - loss: 0.1039 - val_loss: 0.1073\n",
            "Epoch 39/100\n",
            "211/211 [==============================] - 1s 5ms/step - loss: 0.1036 - val_loss: 0.1072\n",
            "Epoch 40/100\n",
            "211/211 [==============================] - 1s 5ms/step - loss: 0.1035 - val_loss: 0.1070\n",
            "Epoch 41/100\n",
            "211/211 [==============================] - 1s 5ms/step - loss: 0.1032 - val_loss: 0.1069\n",
            "Epoch 42/100\n",
            "211/211 [==============================] - 1s 5ms/step - loss: 0.1031 - val_loss: 0.1067\n",
            "Epoch 43/100\n",
            "211/211 [==============================] - 1s 5ms/step - loss: 0.1028 - val_loss: 0.1067\n",
            "Epoch 44/100\n",
            "211/211 [==============================] - 1s 5ms/step - loss: 0.1027 - val_loss: 0.1063\n",
            "Epoch 45/100\n",
            "211/211 [==============================] - 1s 5ms/step - loss: 0.1025 - val_loss: 0.1061\n",
            "Epoch 46/100\n",
            "211/211 [==============================] - 1s 5ms/step - loss: 0.1023 - val_loss: 0.1064\n",
            "Epoch 47/100\n",
            "211/211 [==============================] - 1s 6ms/step - loss: 0.1022 - val_loss: 0.1062\n",
            "Epoch 48/100\n",
            "211/211 [==============================] - 1s 5ms/step - loss: 0.1021 - val_loss: 0.1058\n",
            "Epoch 49/100\n",
            "211/211 [==============================] - 1s 5ms/step - loss: 0.1020 - val_loss: 0.1058\n",
            "Epoch 50/100\n",
            "211/211 [==============================] - 1s 5ms/step - loss: 0.1018 - val_loss: 0.1057\n",
            "Epoch 51/100\n",
            "211/211 [==============================] - 1s 5ms/step - loss: 0.1017 - val_loss: 0.1057\n",
            "Epoch 52/100\n",
            "211/211 [==============================] - 1s 5ms/step - loss: 0.1015 - val_loss: 0.1056\n",
            "Epoch 53/100\n",
            "211/211 [==============================] - 1s 5ms/step - loss: 0.1014 - val_loss: 0.1053\n",
            "Epoch 54/100\n",
            "211/211 [==============================] - 1s 5ms/step - loss: 0.1013 - val_loss: 0.1052\n",
            "Epoch 55/100\n",
            "211/211 [==============================] - 1s 5ms/step - loss: 0.1012 - val_loss: 0.1050\n",
            "Epoch 56/100\n",
            "211/211 [==============================] - 1s 5ms/step - loss: 0.1010 - val_loss: 0.1050\n",
            "Epoch 57/100\n",
            "211/211 [==============================] - 1s 5ms/step - loss: 0.1009 - val_loss: 0.1050\n",
            "Epoch 58/100\n",
            "211/211 [==============================] - 1s 5ms/step - loss: 0.1008 - val_loss: 0.1049\n",
            "Epoch 59/100\n",
            "211/211 [==============================] - 1s 5ms/step - loss: 0.1007 - val_loss: 0.1048\n",
            "Epoch 60/100\n",
            "211/211 [==============================] - 1s 5ms/step - loss: 0.1006 - val_loss: 0.1045\n",
            "Epoch 61/100\n",
            "211/211 [==============================] - 1s 5ms/step - loss: 0.1006 - val_loss: 0.1048\n",
            "Epoch 62/100\n",
            "211/211 [==============================] - 1s 5ms/step - loss: 0.1005 - val_loss: 0.1044\n",
            "Epoch 63/100\n",
            "211/211 [==============================] - 1s 5ms/step - loss: 0.1004 - val_loss: 0.1046\n",
            "Epoch 64/100\n",
            "211/211 [==============================] - 1s 5ms/step - loss: 0.1003 - val_loss: 0.1044\n",
            "Epoch 65/100\n",
            "211/211 [==============================] - 1s 5ms/step - loss: 0.1002 - val_loss: 0.1043\n",
            "Epoch 66/100\n",
            "211/211 [==============================] - 1s 5ms/step - loss: 0.1001 - val_loss: 0.1044\n",
            "Epoch 67/100\n",
            "211/211 [==============================] - 1s 5ms/step - loss: 0.1000 - val_loss: 0.1043\n",
            "Epoch 68/100\n",
            "211/211 [==============================] - 1s 5ms/step - loss: 0.0999 - val_loss: 0.1042\n",
            "Epoch 69/100\n",
            "211/211 [==============================] - 1s 5ms/step - loss: 0.0999 - val_loss: 0.1043\n",
            "Epoch 70/100\n",
            "211/211 [==============================] - 1s 6ms/step - loss: 0.0997 - val_loss: 0.1041\n",
            "Epoch 71/100\n",
            "211/211 [==============================] - 1s 6ms/step - loss: 0.0996 - val_loss: 0.1041\n",
            "Epoch 72/100\n",
            "211/211 [==============================] - 1s 5ms/step - loss: 0.0996 - val_loss: 0.1043\n",
            "Epoch 73/100\n",
            "211/211 [==============================] - 1s 5ms/step - loss: 0.0995 - val_loss: 0.1038\n",
            "Epoch 74/100\n",
            "211/211 [==============================] - 1s 5ms/step - loss: 0.0995 - val_loss: 0.1038\n",
            "Epoch 75/100\n",
            "211/211 [==============================] - 1s 5ms/step - loss: 0.0994 - val_loss: 0.1036\n",
            "Epoch 76/100\n",
            "211/211 [==============================] - 1s 5ms/step - loss: 0.0993 - val_loss: 0.1039\n",
            "Epoch 77/100\n",
            "211/211 [==============================] - 1s 5ms/step - loss: 0.0993 - val_loss: 0.1035\n",
            "Epoch 78/100\n",
            "211/211 [==============================] - 1s 5ms/step - loss: 0.0992 - val_loss: 0.1036\n",
            "Epoch 79/100\n",
            "211/211 [==============================] - 1s 5ms/step - loss: 0.0992 - val_loss: 0.1034\n",
            "Epoch 80/100\n",
            "211/211 [==============================] - 1s 5ms/step - loss: 0.0991 - val_loss: 0.1034\n",
            "Epoch 81/100\n",
            "211/211 [==============================] - 1s 5ms/step - loss: 0.0990 - val_loss: 0.1034\n",
            "Epoch 82/100\n",
            "211/211 [==============================] - 1s 5ms/step - loss: 0.0990 - val_loss: 0.1035\n",
            "Epoch 83/100\n",
            "211/211 [==============================] - 1s 5ms/step - loss: 0.0989 - val_loss: 0.1034\n",
            "Epoch 84/100\n",
            "211/211 [==============================] - 1s 5ms/step - loss: 0.0989 - val_loss: 0.1036\n",
            "Epoch 85/100\n",
            "211/211 [==============================] - 1s 5ms/step - loss: 0.0988 - val_loss: 0.1033\n",
            "Epoch 86/100\n",
            "211/211 [==============================] - 1s 5ms/step - loss: 0.0987 - val_loss: 0.1030\n",
            "Epoch 87/100\n",
            "211/211 [==============================] - 1s 5ms/step - loss: 0.0986 - val_loss: 0.1030\n",
            "Epoch 88/100\n",
            "211/211 [==============================] - 1s 5ms/step - loss: 0.0985 - val_loss: 0.1031\n",
            "Epoch 89/100\n",
            "211/211 [==============================] - 1s 5ms/step - loss: 0.0985 - val_loss: 0.1032\n",
            "Epoch 90/100\n",
            "211/211 [==============================] - 1s 5ms/step - loss: 0.0985 - val_loss: 0.1033\n",
            "Epoch 91/100\n",
            "211/211 [==============================] - 1s 5ms/step - loss: 0.0985 - val_loss: 0.1031\n",
            "Epoch 92/100\n",
            "211/211 [==============================] - 1s 5ms/step - loss: 0.0984 - val_loss: 0.1029\n",
            "Epoch 93/100\n",
            "211/211 [==============================] - 1s 5ms/step - loss: 0.0983 - val_loss: 0.1029\n",
            "Epoch 94/100\n",
            "211/211 [==============================] - 1s 5ms/step - loss: 0.0982 - val_loss: 0.1031\n",
            "Epoch 95/100\n",
            "211/211 [==============================] - 1s 5ms/step - loss: 0.0983 - val_loss: 0.1029\n",
            "Epoch 96/100\n",
            "211/211 [==============================] - 2s 8ms/step - loss: 0.0982 - val_loss: 0.1027\n",
            "Epoch 97/100\n",
            "211/211 [==============================] - 1s 7ms/step - loss: 0.0981 - val_loss: 0.1030\n",
            "Epoch 98/100\n",
            "211/211 [==============================] - 1s 5ms/step - loss: 0.0981 - val_loss: 0.1028\n",
            "Epoch 99/100\n",
            "211/211 [==============================] - 1s 5ms/step - loss: 0.0980 - val_loss: 0.1026\n",
            "Epoch 100/100\n",
            "211/211 [==============================] - 1s 5ms/step - loss: 0.0980 - val_loss: 0.1029\n"
          ]
        },
        {
          "output_type": "execute_result",
          "data": {
            "text/plain": [
              "<keras.callbacks.History at 0x7f4b9050b750>"
            ]
          },
          "metadata": {},
          "execution_count": 7
        }
      ]
    },
    {
      "cell_type": "markdown",
      "metadata": {
        "id": "eP3_P6rDMCFa"
      },
      "source": [
        "# 결과 확인"
      ]
    },
    {
      "cell_type": "code",
      "metadata": {
        "id": "2y4hQ-VfFxF4",
        "colab": {
          "base_uri": "https://localhost:8080/",
          "height": 359
        },
        "outputId": "8cc4982e-8b0a-4461-bdf3-80c7c8cc67b4"
      },
      "source": [
        "decoded_imgs = model.predict(noisy_test_x)\n",
        "\n",
        "n = 10\n",
        "plt.figure(figsize=(20, 6))\n",
        "for i in range(1,n):\n",
        "    # 원본 표시\n",
        "    ax = plt.subplot(3, n, i)\n",
        "    plt.imshow(test_x[i].reshape(28, 28))\n",
        "    plt.gray()\n",
        "    ax.get_xaxis().set_visible(False)\n",
        "    ax.get_yaxis().set_visible(False)\n",
        "\n",
        "    # 랜덤 제거된 것\n",
        "    ax = plt.subplot(3, n, i + n)\n",
        "    plt.imshow(noisy_test_x[i].reshape(28, 28))\n",
        "    plt.gray()\n",
        "    ax.get_xaxis().set_visible(False)\n",
        "    ax.get_yaxis().set_visible(False)\n",
        "\n",
        "    # 복구된 것\n",
        "    ax = plt.subplot(3, n, i + 2*n)\n",
        "    plt.imshow(decoded_imgs[i].reshape(28, 28))\n",
        "    plt.gray()\n",
        "    ax.get_xaxis().set_visible(False)\n",
        "    ax.get_yaxis().set_visible(False)\n",
        "    \n",
        "plt.show()"
      ],
      "execution_count": 8,
      "outputs": [
        {
          "output_type": "display_data",
          "data": {
            "text/plain": [
              "<Figure size 1440x432 with 27 Axes>"
            ],
            "image/png": "[encoded data removed]"
          },
          "metadata": {
            "needs_background": "light"
          }
        }
      ]
    },
    {
      "cell_type": "code",
      "metadata": {
        "id": "fTqVK4F6F1S2"
      },
      "source": [
        ""
      ],
      "execution_count": 8,
      "outputs": []
    }
  ]
}